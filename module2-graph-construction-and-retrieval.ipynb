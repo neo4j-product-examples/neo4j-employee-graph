{
 "cells": [
  {
   "metadata": {},
   "cell_type": "markdown",
   "source": [
    "# Graph Construction & Retrieval\n",
    "This notebook demonstrates how constructing a simple starter knowledge graph from documents can help with agent retrieval tools and improve responses.\n",
    "\n",
    "We can think through What type of data model we want given our use case questions:\n",
    "![](img/data-model-concept.png)\n",
    "\n",
    "We can flesh that out a bit and target the below schema. This has a natural-language like data model that will properly connect across things and concepts and help surface important relationships for our agent.\n",
    "\n",
    "![](img/graph-data-model.png)\n",
    "\n",
    "document extraction is actually accomplished in [extract-resumes-to-people.py](extract-resumes-to-people.py) which stages structured people with skills and accomplishments in the [extracted-people-data.json](extracted-people-data.json) file. This is done for convenience for the workshop to avoid throttling OpenAI requests.\n",
    "\n"
   ],
   "id": "43b56cfd7a337542"
  },
  {
   "metadata": {
    "collapsed": true,
    "ExecuteTime": {
     "end_time": "2025-06-05T16:57:58.571620Z",
     "start_time": "2025-06-05T16:57:58.562808Z"
    }
   },
   "cell_type": "code",
   "source": [
    "#get env setup\n",
    "import getpass\n",
    "import os\n",
    "from dotenv import load_dotenv\n",
    "\n",
    "#get env setup\n",
    "load_dotenv('nb.env', override=True)\n",
    "\n",
    "if not os.environ.get('NEO4J_URI'):\n",
    "    os.environ['NEO4J_URI'] = getpass.getpass('NEO4J_URI:\\n')\n",
    "if not os.environ.get('NEO4J_USERNAME'):\n",
    "    os.environ['NEO4J_USERNAME'] = getpass.getpass('NEO4J_USERNAME:\\n')\n",
    "if not os.environ.get('NEO4J_PASSWORD'):\n",
    "    os.environ['NEO4J_PASSWORD'] = getpass.getpass('NEO4J_PASSWORD:\\n')\n",
    "\n",
    "NEO4J_URI = os.getenv('NEO4J_URI')\n",
    "NEO4J_USERNAME = os.getenv('NEO4J_USERNAME')\n",
    "NEO4J_PASSWORD = os.getenv('NEO4J_PASSWORD')"
   ],
   "id": "initial_id",
   "outputs": [],
   "execution_count": 1
  },
  {
   "metadata": {},
   "cell_type": "markdown",
   "source": "## Graph Construction",
   "id": "7a10ff6c36e683bd"
  },
  {
   "metadata": {
    "ExecuteTime": {
     "end_time": "2025-06-05T16:57:58.755843Z",
     "start_time": "2025-06-05T16:57:58.683543Z"
    }
   },
   "cell_type": "code",
   "source": [
    "import json\n",
    "from person import Person, SkillName\n",
    "\n",
    "#read json models back\n",
    "with open('extracted-people-data.json', 'r') as file:\n",
    "    people_json = json.load(file)\n",
    "people = [Person(**person) for person in people_json]\n",
    "people[0]"
   ],
   "id": "f360aba478ca3c03",
   "outputs": [
    {
     "data": {
      "text/plain": [
       "Person(id='MhzMrjwz', name='Robert Johnson', email='robert.johnson@email.com', current_title='Security Engineer', department=<Department.ENGINEERING: 'Engineering'>, level=<Level.SENIOR: 'Senior'>, hire_date=None, skills=[HasSkill(skill=Skill(name=<SkillName.PYTHON: 'Python'>), proficiency=4, years_experience=4, context='Programming for security automation and scripting', is_primary=False), HasSkill(skill=Skill(name=<SkillName.AWS: 'AWS'>), proficiency=3, years_experience=3, context='Cloud security architecture and compliance', is_primary=False)], accomplishments=[Accomplishment(type=<AccomplishmentType.BUILT: 'BUILT'>, thing=Thing(name='security_monitoring_system_MhzMrjwz', type=<WorkType.SYSTEM: 'SYSTEM'>, domain=<Domain.SECURITY: 'SECURITY'>), impact_description='Detected and prevented 95% of attempted cyber attacks', year=2022, role='Senior Security Engineer', duration=None, team_size=None, context='CyberDefense Corp'), Accomplishment(type=<AccomplishmentType.BUILT: 'BUILT'>, thing=Thing(name='zero_trust_authentication_system_MhzMrjwz', type=<WorkType.SYSTEM: 'SYSTEM'>, domain=<Domain.SECURITY: 'SECURITY'>), impact_description='Implemented for 10,000+ employees using modern identity protocols', year=2022, role='Senior Security Engineer', duration=None, team_size=None, context='CyberDefense Corp'), Accomplishment(type=<AccomplishmentType.BUILT: 'BUILT'>, thing=Thing(name='secure_cloud_infrastructure_MhzMrjwz', type=<WorkType.SYSTEM: 'SYSTEM'>, domain=<Domain.CLOUD: 'CLOUD'>), impact_description='Met SOC2 and HIPAA compliance requirements', year=2022, role='Senior Security Engineer', duration=None, team_size=None, context='CyberDefense Corp'), Accomplishment(type=<AccomplishmentType.LED: 'LED'>, thing=Thing(name='penetration_testing_team_MhzMrjwz', type=<WorkType.TEAM: 'TEAM'>, domain=<Domain.SECURITY: 'SECURITY'>), impact_description='Identified vulnerabilities across 200+ production systems', year=2021, role='Security Engineer', duration=None, team_size=None, context='Financial Services Inc'), Accomplishment(type=<AccomplishmentType.SHIPPED: 'SHIPPED'>, thing=Thing(name='automated_incident_response_platform_MhzMrjwz', type=<WorkType.PRODUCT: 'PRODUCT'>, domain=<Domain.SECURITY: 'SECURITY'>), impact_description='Reduced security breach response time by 70%', year=2021, role='Security Engineer', duration=None, team_size=None, context='Financial Services Inc'), Accomplishment(type=<AccomplishmentType.PUBLISHED: 'PUBLISHED'>, thing=Thing(name='security_research_APT_MhzMrjwz', type=<WorkType.RESEARCH: 'RESEARCH'>, domain=<Domain.SECURITY: 'SECURITY'>), impact_description='Presented at DefCon conference', year=2021, role='Security Engineer', duration=None, team_size=None, context='Financial Services Inc'), Accomplishment(type=<AccomplishmentType.WON: 'WON'>, thing=Thing(name='security_excellence_award_MhzMrjwz', type=<WorkType.AWARD: 'AWARD'>, domain=<Domain.SECURITY: 'SECURITY'>), impact_description='Outstanding contribution to organizational security posture', year=2020, role='Junior Security Analyst', duration=None, team_size=None, context='Government Contractor')], years_experience=5, previous_companies=['CyberDefense Corp', 'Financial Services Inc', 'Government Contractor'], location='Washington, DC')"
      ]
     },
     "execution_count": 2,
     "metadata": {},
     "output_type": "execute_result"
    }
   ],
   "execution_count": 2
  },
  {
   "metadata": {
    "ExecuteTime": {
     "end_time": "2025-06-05T16:57:59.703731Z",
     "start_time": "2025-06-05T16:57:58.759133Z"
    }
   },
   "cell_type": "code",
   "source": [
    "from neo4j import GraphDatabase\n",
    "\n",
    "# load into People nodes in Neo4j\n",
    "\n",
    "#instantiate driver\n",
    "driver = GraphDatabase.driver(NEO4J_URI, auth=(NEO4J_USERNAME, NEO4J_PASSWORD))\n",
    "\n",
    "#test neo4j connection\n",
    "driver.execute_query(\"MATCH(n) RETURN count(n)\")"
   ],
   "id": "773c1aedaa7ff88e",
   "outputs": [
    {
     "data": {
      "text/plain": [
       "EagerResult(records=[<Record count(n)=30>], summary=<neo4j._work.summary.ResultSummary object at 0x1054cebd0>, keys=['count(n)'])"
      ]
     },
     "execution_count": 3,
     "metadata": {},
     "output_type": "execute_result"
    }
   ],
   "execution_count": 3
  },
  {
   "metadata": {
    "ExecuteTime": {
     "end_time": "2025-06-05T16:58:00.260035Z",
     "start_time": "2025-06-05T16:57:59.712116Z"
    }
   },
   "cell_type": "code",
   "source": [
    "from neo4j import RoutingControl\n",
    "\n",
    "#create uniqueness constraint if not exists\n",
    "driver.execute_query(\n",
    "    'CREATE CONSTRAINT IF NOT EXISTS FOR (n:Person) REQUIRE (n.id) IS NODE KEY',\n",
    "    #database_=DATABASE,\n",
    "    routing_=RoutingControl.WRITE\n",
    ")\n",
    "\n",
    "driver.execute_query(\n",
    "    'CREATE CONSTRAINT IF NOT EXISTS FOR (n:Skill) REQUIRE (n.name) IS NODE KEY',\n",
    "    #database_=DATABASE,\n",
    "    routing_=RoutingControl.WRITE\n",
    ")\n",
    "\n",
    "driver.execute_query(\n",
    "    'CREATE CONSTRAINT IF NOT EXISTS FOR (n:Thing) REQUIRE (n.name) IS NODE KEY',\n",
    "    #database_=DATABASE,\n",
    "    routing_=RoutingControl.WRITE\n",
    ")\n",
    "\n",
    "driver.execute_query(\n",
    "    'CREATE CONSTRAINT IF NOT EXISTS FOR (n:Domain) REQUIRE (n.name) IS NODE KEY',\n",
    "    #database_=DATABASE,\n",
    "    routing_=RoutingControl.WRITE\n",
    ")\n",
    "\n",
    "driver.execute_query(\n",
    "    'CREATE CONSTRAINT IF NOT EXISTS FOR (n:WorkType) REQUIRE (n.name) IS NODE KEY',\n",
    "    #database_=DATABASE,\n",
    "    routing_=RoutingControl.WRITE\n",
    ")\n"
   ],
   "id": "7c0e8ac29b5c21fb",
   "outputs": [
    {
     "data": {
      "text/plain": [
       "EagerResult(records=[], summary=<neo4j._work.summary.ResultSummary object at 0x1239bc350>, keys=[])"
      ]
     },
     "execution_count": 4,
     "metadata": {},
     "output_type": "execute_result"
    }
   ],
   "execution_count": 4
  },
  {
   "metadata": {
    "ExecuteTime": {
     "end_time": "2025-06-05T16:58:00.720683Z",
     "start_time": "2025-06-05T16:58:00.268355Z"
    }
   },
   "cell_type": "code",
   "source": [
    "# merge people\n",
    "def chunks(xs, n=10):\n",
    "    n = max(1, n)\n",
    "    return [xs[i:i + n] for i in range(0, len(xs), n)]\n",
    "\n",
    "for chunk in chunks(people_json):\n",
    "    records = driver.execute_query(\n",
    "        \"\"\"\n",
    "        UNWIND $records AS rec\n",
    "        MERGE(person:Person {id:rec.id})\n",
    "        SET person.name = rec.name,\n",
    "            person.email = rec.email,\n",
    "            person.current_title = rec.current_title,\n",
    "            person.department = rec.department,\n",
    "            person.level = rec.level,\n",
    "            person.years_experience = rec.years_experience,\n",
    "            person.location = rec.location\n",
    "        RETURN count(rec) AS records_upserted\n",
    "        \"\"\",\n",
    "        #database_=DATABASE,\n",
    "        routing_=RoutingControl.WRITE,\n",
    "        result_transformer_= lambda r: r.data(),\n",
    "        records = chunk\n",
    "    )\n",
    "    print(records)"
   ],
   "id": "2f43dbae0fc7ee13",
   "outputs": [
    {
     "name": "stdout",
     "output_type": "stream",
     "text": [
      "[{'records_upserted': 10}]\n",
      "[{'records_upserted': 10}]\n",
      "[{'records_upserted': 10}]\n"
     ]
    }
   ],
   "execution_count": 5
  },
  {
   "metadata": {
    "ExecuteTime": {
     "end_time": "2025-06-05T16:58:00.729150Z",
     "start_time": "2025-06-05T16:58:00.726477Z"
    }
   },
   "cell_type": "code",
   "source": [
    "# merge accomplishments\n",
    "skills = []\n",
    "accomplishments = []\n",
    "for person in people_json:\n",
    "\n",
    "    # extend skills list\n",
    "    tmp_skills = person['skills'].copy()\n",
    "    for skill in tmp_skills:\n",
    "        skill['personId'] = person['id']\n",
    "    skills.extend(tmp_skills)\n",
    "\n",
    "    # extend accomplishments list\n",
    "    tmp_accomplishments = person['accomplishments'].copy()\n",
    "    for accomplishment in tmp_accomplishments:\n",
    "        accomplishment['personId'] = person['id']\n",
    "    accomplishments.extend(tmp_accomplishments)\n",
    "\n"
   ],
   "id": "87cf463963380cd0",
   "outputs": [],
   "execution_count": 6
  },
  {
   "metadata": {
    "ExecuteTime": {
     "end_time": "2025-06-05T16:58:00.743055Z",
     "start_time": "2025-06-05T16:58:00.740295Z"
    }
   },
   "cell_type": "code",
   "source": "skills[:3]",
   "id": "414c35c1b4026f0e",
   "outputs": [
    {
     "data": {
      "text/plain": [
       "[{'skill': {'name': 'Python'},\n",
       "  'proficiency': 4,\n",
       "  'years_experience': 4,\n",
       "  'context': 'Programming for security automation and scripting',\n",
       "  'is_primary': False,\n",
       "  'personId': 'MhzMrjwz'},\n",
       " {'skill': {'name': 'AWS'},\n",
       "  'proficiency': 3,\n",
       "  'years_experience': 3,\n",
       "  'context': 'Cloud security architecture and compliance',\n",
       "  'is_primary': False,\n",
       "  'personId': 'MhzMrjwz'},\n",
       " {'skill': {'name': 'Swift'},\n",
       "  'proficiency': 2,\n",
       "  'years_experience': 1,\n",
       "  'context': 'Used for developing banking mobile app and iOS applications during internship and bootcamp.',\n",
       "  'is_primary': True,\n",
       "  'personId': '5BiANRmk'}]"
      ]
     },
     "execution_count": 7,
     "metadata": {},
     "output_type": "execute_result"
    }
   ],
   "execution_count": 7
  },
  {
   "metadata": {
    "ExecuteTime": {
     "end_time": "2025-06-05T16:58:00.750055Z",
     "start_time": "2025-06-05T16:58:00.747369Z"
    }
   },
   "cell_type": "code",
   "source": "accomplishments[:2]",
   "id": "4819f23970f775ad",
   "outputs": [
    {
     "data": {
      "text/plain": [
       "[{'type': 'BUILT',\n",
       "  'thing': {'name': 'security_monitoring_system_MhzMrjwz',\n",
       "   'type': 'SYSTEM',\n",
       "   'domain': 'SECURITY'},\n",
       "  'impact_description': 'Detected and prevented 95% of attempted cyber attacks',\n",
       "  'year': 2022,\n",
       "  'role': 'Senior Security Engineer',\n",
       "  'duration': None,\n",
       "  'team_size': None,\n",
       "  'context': 'CyberDefense Corp',\n",
       "  'personId': 'MhzMrjwz'},\n",
       " {'type': 'BUILT',\n",
       "  'thing': {'name': 'zero_trust_authentication_system_MhzMrjwz',\n",
       "   'type': 'SYSTEM',\n",
       "   'domain': 'SECURITY'},\n",
       "  'impact_description': 'Implemented for 10,000+ employees using modern identity protocols',\n",
       "  'year': 2022,\n",
       "  'role': 'Senior Security Engineer',\n",
       "  'duration': None,\n",
       "  'team_size': None,\n",
       "  'context': 'CyberDefense Corp',\n",
       "  'personId': 'MhzMrjwz'}]"
      ]
     },
     "execution_count": 8,
     "metadata": {},
     "output_type": "execute_result"
    }
   ],
   "execution_count": 8
  },
  {
   "metadata": {
    "ExecuteTime": {
     "end_time": "2025-06-05T16:58:02.834800Z",
     "start_time": "2025-06-05T16:58:00.768813Z"
    }
   },
   "cell_type": "code",
   "source": [
    "for chunk in chunks(skills):\n",
    "    records = driver.execute_query(\n",
    "        \"\"\"\n",
    "        UNWIND $records AS rec\n",
    "        MATCH(person:Person {id:rec.personId})\n",
    "        MERGE(skill:Skill {name:rec.skill.name})\n",
    "        MERGE(person)-[r:KNOWS]->(skill)\n",
    "        SET r.proficiency = rec.proficiency,\n",
    "            r.years_experience = rec.years_experience,\n",
    "            r.context  = rec.context,\n",
    "            r.is_primary = rec.is_primary\n",
    "        RETURN count(rec) AS records_upserted\n",
    "        \"\"\",\n",
    "        #database_=DATABASE,\n",
    "        routing_=RoutingControl.WRITE,\n",
    "        result_transformer_= lambda r: r.data(),\n",
    "        records = chunk\n",
    "    )\n",
    "    print(records)"
   ],
   "id": "57ced8db1a6dc4ed",
   "outputs": [
    {
     "name": "stdout",
     "output_type": "stream",
     "text": [
      "[{'records_upserted': 10}]\n",
      "[{'records_upserted': 10}]\n",
      "[{'records_upserted': 10}]\n",
      "[{'records_upserted': 10}]\n",
      "[{'records_upserted': 10}]\n",
      "[{'records_upserted': 10}]\n",
      "[{'records_upserted': 10}]\n",
      "[{'records_upserted': 10}]\n",
      "[{'records_upserted': 10}]\n",
      "[{'records_upserted': 10}]\n",
      "[{'records_upserted': 10}]\n",
      "[{'records_upserted': 10}]\n",
      "[{'records_upserted': 10}]\n",
      "[{'records_upserted': 10}]\n",
      "[{'records_upserted': 10}]\n",
      "[{'records_upserted': 10}]\n",
      "[{'records_upserted': 10}]\n",
      "[{'records_upserted': 10}]\n",
      "[{'records_upserted': 10}]\n",
      "[{'records_upserted': 10}]\n",
      "[{'records_upserted': 10}]\n",
      "[{'records_upserted': 10}]\n",
      "[{'records_upserted': 2}]\n"
     ]
    }
   ],
   "execution_count": 9
  },
  {
   "metadata": {
    "ExecuteTime": {
     "end_time": "2025-06-05T16:58:05.428671Z",
     "start_time": "2025-06-05T16:58:02.839801Z"
    }
   },
   "cell_type": "code",
   "source": [
    "for chunk in chunks(accomplishments):\n",
    "    records = driver.execute_query(\n",
    "        \"\"\"\n",
    "        UNWIND $records AS rec\n",
    "\n",
    "        //match people\n",
    "        MATCH(person:Person {id:rec.personId})\n",
    "\n",
    "        //merge accomplishments\n",
    "        MERGE(thing:Thing {name:rec.thing.name})\n",
    "        MERGE(person)-[r:$(rec.type)]->(thing)\n",
    "        SET r.impact_description = rec.impact_description,\n",
    "            r.year = rec.year,\n",
    "            r.role  = rec.role,\n",
    "            r.duration = rec.duration,\n",
    "            r.team_size = rec.team_size,\n",
    "            r.context  = rec.context\n",
    "\n",
    "        //merge domain and work type\n",
    "        MERGE(Domain:Domain {name:rec.thing.domain})\n",
    "        MERGE(thing)-[:IN]->(Domain)\n",
    "        MERGE(WorkType:WorkType {name:rec.thing.type})\n",
    "        MERGE(thing)-[:OF]->(WorkType)\n",
    "\n",
    "        RETURN count(rec) AS records_upserted\n",
    "        \"\"\",\n",
    "        #database_=DATABASE,\n",
    "        routing_=RoutingControl.WRITE,\n",
    "        result_transformer_= lambda r: r.data(),\n",
    "        records = chunk\n",
    "    )\n",
    "    print(records)"
   ],
   "id": "a838137ec8ddc5a1",
   "outputs": [
    {
     "name": "stdout",
     "output_type": "stream",
     "text": [
      "[{'records_upserted': 10}]\n",
      "[{'records_upserted': 10}]\n",
      "[{'records_upserted': 10}]\n",
      "[{'records_upserted': 10}]\n",
      "[{'records_upserted': 10}]\n",
      "[{'records_upserted': 10}]\n",
      "[{'records_upserted': 10}]\n",
      "[{'records_upserted': 10}]\n",
      "[{'records_upserted': 10}]\n",
      "[{'records_upserted': 10}]\n",
      "[{'records_upserted': 10}]\n",
      "[{'records_upserted': 10}]\n",
      "[{'records_upserted': 10}]\n",
      "[{'records_upserted': 10}]\n",
      "[{'records_upserted': 10}]\n",
      "[{'records_upserted': 10}]\n",
      "[{'records_upserted': 10}]\n",
      "[{'records_upserted': 10}]\n",
      "[{'records_upserted': 10}]\n",
      "[{'records_upserted': 10}]\n",
      "[{'records_upserted': 10}]\n",
      "[{'records_upserted': 10}]\n",
      "[{'records_upserted': 10}]\n",
      "[{'records_upserted': 10}]\n",
      "[{'records_upserted': 1}]\n"
     ]
    }
   ],
   "execution_count": 10
  },
  {
   "metadata": {},
   "cell_type": "markdown",
   "source": [
    "### Result\n",
    "\n",
    "![](img/graph-sample-after-ner.png)"
   ],
   "id": "918e69361b9588a7"
  },
  {
   "metadata": {},
   "cell_type": "markdown",
   "source": "## Agent With Text Cypher Retrieval Via MCP",
   "id": "f714001d9f9215ec"
  },
  {
   "metadata": {
    "ExecuteTime": {
     "end_time": "2025-06-05T16:58:09.673842Z",
     "start_time": "2025-06-05T16:58:05.442950Z"
    }
   },
   "cell_type": "code",
   "source": [
    "from AgentRunner import AgentRunner\n",
    "# build adk agent with neo4j mcp\n",
    "from person import Domain, WorkType, SkillName\n",
    "from google.adk.models.lite_llm import LiteLlm\n",
    "from google.adk.agents import Agent\n",
    "from google.adk.tools.mcp_tool.mcp_toolset import MCPToolset, StdioServerParameters\n",
    "\n",
    "database_agent = Agent(\n",
    "    name=\"graph_database_agent\",\n",
    "    # model=\"gemini-2.0-flash-exp\",\n",
    "    model=LiteLlm(model=\"openai/gpt-4.1\"),\n",
    "    # model=LiteLlm(model=\"anthropic/claude-sonnet-4-20250514\"),\n",
    "    description=\"\"\"\n",
    "    Agent to access knowledge graph stored in graph database\n",
    "    \"\"\",\n",
    "    instruction=f\"\"\"\n",
    "    You are a human resources assistant who helps with skills analysis, talent search, and team formation at Cyberdyne Systems.\n",
    "\n",
    "    You can access the knowledge (in a graph database) on Cyberdyne System employees based on their resume and profiles directly. ALWAYS get the schema first with `get_schema` and keep it in memory. Only use node labels, relationship types, and property names, and patterns in that schema to generate valid Cypher queries using the `read_neo4j_cypher` tool with proper parameter syntax ($parameter). If you get errors or empty results check the schema and try again at least up to 3 times.\n",
    "\n",
    "    For domain knowledge, use these standard values:\n",
    "    - Domains: {[i.value for i in Domain]}\n",
    "    - Work Types: {[i.value for i in WorkType]}\n",
    "    - Skills: {[i.value for i in SkillName]}\n",
    "\n",
    "    Also never return embedding properties in Cypher queries. This will result in delays and errors.\n",
    "\n",
    "    When responding to the user:\n",
    "    - if your response includes people, include there names and IDs. Never just there Ids.\n",
    "    - You must explain your retrieval logic and where the data came from. You must say exactly how relevance, similarity, etc. was inferred during search.\n",
    "\n",
    "    Use information from previous queries when possible instead of asking the user again.\n",
    "    \"\"\",\n",
    "    tools=[MCPToolset(\n",
    "        connection_params=StdioServerParameters(\n",
    "            command='uvx',\n",
    "            args=[\n",
    "                \"mcp-neo4j-cypher\",\n",
    "            ],\n",
    "            env={ k: os.environ[k] for k in [\"NEO4J_URI\",\"NEO4J_USERNAME\",\"NEO4J_PASSWORD\"] }\n",
    "        ),\n",
    "        tool_filter=['get_neo4j_schema','read_neo4j_cypher']\n",
    "    )]\n",
    ")\n",
    "\n",
    "db_agent_runner = AgentRunner(app_name='db_agent', user_id='Mr. Ed', agent=database_agent)\n",
    "await db_agent_runner.start_session()"
   ],
   "id": "827e35ccd8fac8c9",
   "outputs": [
    {
     "name": "stdout",
     "output_type": "stream",
     "text": [
      "Session started successfully with ID: 7f58e263-8b3e-4142-8428-d4e7ea40b7ee\n"
     ]
    },
    {
     "data": {
      "text/plain": [
       "True"
      ]
     },
     "execution_count": 11,
     "metadata": {},
     "output_type": "execute_result"
    }
   ],
   "execution_count": 11
  },
  {
   "metadata": {},
   "cell_type": "markdown",
   "source": "### How many Python developers",
   "id": "83db7d6f387bc1a6"
  },
  {
   "metadata": {
    "ExecuteTime": {
     "end_time": "2025-06-05T16:58:21.819890Z",
     "start_time": "2025-06-05T16:58:09.686550Z"
    }
   },
   "cell_type": "code",
   "source": "res = await db_agent_runner.run(\"How many Python developers do I have?\")",
   "id": "bf49438b1f97fc04",
   "outputs": [
    {
     "name": "stdout",
     "output_type": "stream",
     "text": [
      "None id='call_lsQ8WF1Dm79JVfRDPBwfbLw9' args={} name='get_neo4j_schema' None\n",
      "None None will_continue=None scheduling=None id='call_lsQ8WF1Dm79JVfRDPBwfbLw9' name='get_neo4j_schema' response={'result': CallToolResult(meta=None, content=[TextContent(type='text', text='[{\"label\": \"Person\", \"attributes\": {\"id\": \"STRING indexed\", \"current_title\": \"STRING\", \"text\": \"STRING\", \"level\": \"STRING\", \"location\": \"STRING\", \"email\": \"STRING\", \"department\": \"STRING\", \"name\": \"STRING\", \"years_experience\": \"INTEGER\", \"embedding\": \"LIST\"}, \"relationships\": {\"BUILT\": \"Thing\", \"WON\": \"Thing\", \"SHIPPED\": \"Thing\", \"KNOWS\": \"Skill\", \"PUBLISHED\": \"Thing\", \"OPTIMIZED\": \"Thing\", \"LED\": \"Thing\", \"MANAGED\": \"Thing\"}}, {\"label\": \"Skill\", \"attributes\": {\"name\": \"STRING indexed\"}, \"relationships\": {}}, {\"label\": \"Thing\", \"attributes\": {\"name\": \"STRING indexed\"}, \"relationships\": {\"IN\": \"Domain\", \"OF\": \"WorkType\"}}, {\"label\": \"Domain\", \"attributes\": {\"name\": \"STRING indexed\"}, \"relationships\": {}}, {\"label\": \"WorkType\", \"attributes\": {\"name\": \"STRING indexed\"}, \"relationships\": {}}]', annotations=None)], isError=False)}\n",
      "None id='call_bDtXicNa0CylMAOnEKKwosRI' args={'query': 'MATCH (p:Person)-[:KNOWS]->(s:Skill {name: \"Python\"}) RETURN count(p) AS python_developers_count'} name='read_neo4j_cypher' None\n",
      "None None will_continue=None scheduling=None id='call_bDtXicNa0CylMAOnEKKwosRI' name='read_neo4j_cypher' response={'result': CallToolResult(meta=None, content=[TextContent(type='text', text='[{\"python_developers_count\": 28}]', annotations=None)], isError=False)}\n",
      "There are 28 Python developers at Cyberdyne Systems.\n",
      "\n",
      "Retrieval logic: I queried employees who have a direct relationship (KNOWS) to the skill \"Python\" in the company's knowledge graph. This means these individuals have Python explicitly listed in their skills, ensuring relevance and accuracy from their profile data. None None\n"
     ]
    }
   ],
   "execution_count": 12
  },
  {
   "metadata": {
    "ExecuteTime": {
     "end_time": "2025-06-05T16:58:21.831250Z",
     "start_time": "2025-06-05T16:58:21.827519Z"
    }
   },
   "cell_type": "code",
   "source": [
    "from IPython.core.display import Markdown\n",
    "\n",
    "display(Markdown(res))"
   ],
   "id": "97616cef139c3ad5",
   "outputs": [
    {
     "data": {
      "text/plain": [
       "<IPython.core.display.Markdown object>"
      ],
      "text/markdown": "There are 28 Python developers at Cyberdyne Systems.\n\nRetrieval logic: I queried employees who have a direct relationship (KNOWS) to the skill \"Python\" in the company's knowledge graph. This means these individuals have Python explicitly listed in their skills, ensuring relevance and accuracy from their profile data."
     },
     "metadata": {},
     "output_type": "display_data"
    }
   ],
   "execution_count": 13
  },
  {
   "metadata": {},
   "cell_type": "markdown",
   "source": "### Who is most similar to Lucas Martinez",
   "id": "c9c8fad892513960"
  },
  {
   "metadata": {
    "ExecuteTime": {
     "end_time": "2025-06-05T16:58:28.780424Z",
     "start_time": "2025-06-05T16:58:21.839551Z"
    }
   },
   "cell_type": "code",
   "source": "res = await db_agent_runner.run(\"Who is most similar to Lucas Martinez and why?\")",
   "id": "9d1e700b2e12b28d",
   "outputs": [
    {
     "name": "stdout",
     "output_type": "stream",
     "text": [
      "None id='call_9Brk00YRccBVAVIJnnjI1QDR' args={'query': 'MATCH (p:Person {name: \"Lucas Martinez\"})-[:KNOWS]->(s:Skill)\\nWITH p, collect(s.name) as lucas_skills\\nMATCH (other:Person)-[:KNOWS]->(otherSkill:Skill)\\nWHERE other.name <> \"Lucas Martinez\"\\nWITH other, lucas_skills, collect(otherSkill.name) as other_skills\\nWITH other, apoc.coll.intersection(lucas_skills, other_skills) as shared_skills, lucas_skills, other_skills\\nWITH other, size(shared_skills) as num_shared, size(lucas_skills) as lucas_count, size(other_skills) as other_count, shared_skills\\nORDER BY num_shared DESC, other.name ASC\\nRETURN other.name AS similar_person_name, other.id AS similar_person_id, num_shared, lucas_count, other_count, shared_skills LIMIT 1'} name='read_neo4j_cypher' None\n",
      "None None will_continue=None scheduling=None id='call_9Brk00YRccBVAVIJnnjI1QDR' name='read_neo4j_cypher' response={'result': CallToolResult(meta=None, content=[TextContent(type='text', text='[{\"similar_person_name\": \"Sarah Chen\", \"similar_person_id\": \"xRPBlhk9\", \"num_shared\": 6, \"lucas_count\": 11, \"other_count\": 9, \"shared_skills\": [\"Python\", \"Natural Language Processing\", \"Docker\", \"Machine Learning\", \"AWS\", \"Computer Vision\"]}]', annotations=None)], isError=False)}\n",
      "The most similar person to Lucas Martinez is Sarah Chen (ID: xRPBlhk9).\n",
      "\n",
      "Reasoning and explanation:\n",
      "- I searched for people in the knowledge graph who are not Lucas Martinez and compared their skill sets.\n",
      "- I calculated similarity based on the number of overlapping skills (using set intersection).\n",
      "- Sarah Chen has the highest number of shared skills with Lucas Martinez—6 in total: Python, Natural Language Processing, Docker, Machine Learning, AWS, and Computer Vision.\n",
      "- Lucas has 11 skills, Sarah has 9, and they overlap on 6, making the overlap significant.\n",
      "\n",
      "This inference is directly from the database by finding whose skills most closely match Lucas's, measuring similarity by the count of shared skills. None None\n"
     ]
    }
   ],
   "execution_count": 14
  },
  {
   "metadata": {
    "ExecuteTime": {
     "end_time": "2025-06-05T16:58:28.789824Z",
     "start_time": "2025-06-05T16:58:28.787428Z"
    }
   },
   "cell_type": "code",
   "source": "display(Markdown(res))",
   "id": "c36e1527566b3e34",
   "outputs": [
    {
     "data": {
      "text/plain": [
       "<IPython.core.display.Markdown object>"
      ],
      "text/markdown": "The most similar person to Lucas Martinez is Sarah Chen (ID: xRPBlhk9).\n\nReasoning and explanation:\n- I searched for people in the knowledge graph who are not Lucas Martinez and compared their skill sets.\n- I calculated similarity based on the number of overlapping skills (using set intersection).\n- Sarah Chen has the highest number of shared skills with Lucas Martinez—6 in total: Python, Natural Language Processing, Docker, Machine Learning, AWS, and Computer Vision.\n- Lucas has 11 skills, Sarah has 9, and they overlap on 6, making the overlap significant.\n\nThis inference is directly from the database by finding whose skills most closely match Lucas's, measuring similarity by the count of shared skills."
     },
     "metadata": {},
     "output_type": "display_data"
    }
   ],
   "execution_count": 15
  },
  {
   "metadata": {},
   "cell_type": "markdown",
   "source": "### Summarize my technical talent and skills distribution",
   "id": "a514ee1a4245dbe4"
  },
  {
   "metadata": {
    "ExecuteTime": {
     "end_time": "2025-06-05T16:58:28.805740Z",
     "start_time": "2025-06-05T16:58:28.802364Z"
    }
   },
   "cell_type": "code",
   "source": "await db_agent_runner.restart_session()",
   "id": "ab0fe0d72028e5e7",
   "outputs": [
    {
     "name": "stdout",
     "output_type": "stream",
     "text": [
      "Session 7f58e263-8b3e-4142-8428-d4e7ea40b7ee ended successfully\n",
      "Session started successfully with ID: 408e68a0-0af4-4062-b719-3429e34616ff\n"
     ]
    }
   ],
   "execution_count": 16
  },
  {
   "metadata": {
    "ExecuteTime": {
     "end_time": "2025-06-05T16:58:36.067752Z",
     "start_time": "2025-06-05T16:58:28.825715Z"
    }
   },
   "cell_type": "code",
   "source": "res = await db_agent_runner.run(\"Summarize my technical talent and skills distribution?\")",
   "id": "16540bc7fc9f90da",
   "outputs": [
    {
     "name": "stdout",
     "output_type": "stream",
     "text": [
      "None id='call_jHxuxwo0d8gyzqfIwO2X7nYV' args={} name='get_neo4j_schema' None\n",
      "None None will_continue=None scheduling=None id='call_jHxuxwo0d8gyzqfIwO2X7nYV' name='get_neo4j_schema' response={'result': CallToolResult(meta=None, content=[TextContent(type='text', text='[{\"label\": \"Person\", \"attributes\": {\"id\": \"STRING indexed\", \"current_title\": \"STRING\", \"text\": \"STRING\", \"level\": \"STRING\", \"location\": \"STRING\", \"email\": \"STRING\", \"department\": \"STRING\", \"name\": \"STRING\", \"years_experience\": \"INTEGER\", \"embedding\": \"LIST\"}, \"relationships\": {\"BUILT\": \"Thing\", \"WON\": \"Thing\", \"SHIPPED\": \"Thing\", \"KNOWS\": \"Skill\", \"PUBLISHED\": \"Thing\", \"OPTIMIZED\": \"Thing\", \"LED\": \"Thing\", \"MANAGED\": \"Thing\"}}, {\"label\": \"Skill\", \"attributes\": {\"name\": \"STRING indexed\"}, \"relationships\": {}}, {\"label\": \"Thing\", \"attributes\": {\"name\": \"STRING indexed\"}, \"relationships\": {\"IN\": \"Domain\", \"OF\": \"WorkType\"}}, {\"label\": \"Domain\", \"attributes\": {\"name\": \"STRING indexed\"}, \"relationships\": {}}, {\"label\": \"WorkType\", \"attributes\": {\"name\": \"STRING indexed\"}, \"relationships\": {}}]', annotations=None)], isError=False)}\n",
      "None id='call_ZwSOoxYZFJhUeTu7jyx4wh8X' args={'query': 'MATCH (p:Person)-[:KNOWS]->(s:Skill) RETURN s.name as skill, count(p) as person_count ORDER BY person_count DESC'} name='read_neo4j_cypher' None\n",
      "None None will_continue=None scheduling=None id='call_ZwSOoxYZFJhUeTu7jyx4wh8X' name='read_neo4j_cypher' response={'result': CallToolResult(meta=None, content=[TextContent(type='text', text='[{\"skill\": \"Python\", \"person_count\": 28}, {\"skill\": \"SQL\", \"person_count\": 16}, {\"skill\": \"AWS\", \"person_count\": 15}, {\"skill\": \"Team Management\", \"person_count\": 14}, {\"skill\": \"Machine Learning\", \"person_count\": 11}, {\"skill\": \"Project Management\", \"person_count\": 11}, {\"skill\": \"Docker\", \"person_count\": 10}, {\"skill\": \"Kubernetes\", \"person_count\": 9}, {\"skill\": \"Data Engineering\", \"person_count\": 8}, {\"skill\": \"Computer Vision\", \"person_count\": 7}, {\"skill\": \"Deep Learning\", \"person_count\": 6}, {\"skill\": \"Natural Language Processing\", \"person_count\": 6}, {\"skill\": \"TensorFlow\", \"person_count\": 6}, {\"skill\": \"Data Analysis\", \"person_count\": 6}, {\"skill\": \"Java\", \"person_count\": 6}, {\"skill\": \"JavaScript\", \"person_count\": 6}, {\"skill\": \"Leadership\", \"person_count\": 6}, {\"skill\": \"PyTorch\", \"person_count\": 5}, {\"skill\": \"React\", \"person_count\": 5}, {\"skill\": \"Statistics\", \"person_count\": 4}, {\"skill\": \"Google Cloud Platform\", \"person_count\": 4}, {\"skill\": \"Go\", \"person_count\": 4}, {\"skill\": \"Business Intelligence\", \"person_count\": 3}, {\"skill\": \"Product Strategy\", \"person_count\": 3}, {\"skill\": \"R Programming Language\", \"person_count\": 2}, {\"skill\": \"Product Management\", \"person_count\": 2}, {\"skill\": \"Swift\", \"person_count\": 2}, {\"skill\": \"Kotlin\", \"person_count\": 2}, {\"skill\": \"Cloud Architecture\", \"person_count\": 2}, {\"skill\": \"Node.js\", \"person_count\": 2}, {\"skill\": \"Data Science\", \"person_count\": 1}, {\"skill\": \"Scikit-learn\", \"person_count\": 1}, {\"skill\": \"Scala\", \"person_count\": 1}, {\"skill\": \"Azure\", \"person_count\": 1}, {\"skill\": \"TypeScript\", \"person_count\": 1}, {\"skill\": \"Django\", \"person_count\": 1}, {\"skill\": \"Flask\", \"person_count\": 1}]', annotations=None)], isError=False)}\n",
      "Summary of Technical Talent and Skills Distribution\n",
      "\n",
      "I analyzed the skills distribution among all technical employees at Cyberdyne Systems by counting the number of people who \"KNOW\" each skill. This was found in the knowledge graph, which directly connects Person nodes with their respective Skill nodes.\n",
      "\n",
      "Main findings:\n",
      "- The most common skills are programming languages and cloud infrastructure: Python (28 people), SQL (16), AWS (15).\n",
      "- Leadership and collaborative skills are also highly present: Team Management (14), Project Management (11), Leadership (6).\n",
      "- Data and AI skills are well-represented: Machine Learning (11), Data Engineering (8), Computer Vision (7), Deep Learning (6), Natural Language Processing (6), TensorFlow (6).\n",
      "- DevOps skills like Docker (10) and Kubernetes (9) are common, indicating readiness for modern deployment practices.\n",
      "- Frontend and backend technologies such as Java (6), JavaScript (6), React (5), Go (4), and Node.js (2) show full-stack capabilities.\n",
      "\n",
      "The data came from direct relationship counts in the graph database, reflecting how many employees have indicated each skill in their profiles. This provides a high-quality, accurate measure of talent concentration in each technical area, based on explicit skill declarations.\n",
      "\n",
      "If you'd like a breakdown by department, level, or experience range, let me know! None None\n"
     ]
    }
   ],
   "execution_count": 17
  },
  {
   "metadata": {
    "ExecuteTime": {
     "end_time": "2025-06-05T16:58:36.076259Z",
     "start_time": "2025-06-05T16:58:36.073521Z"
    }
   },
   "cell_type": "code",
   "source": "display(Markdown(res))",
   "id": "4f38a21a2baea3c4",
   "outputs": [
    {
     "data": {
      "text/plain": [
       "<IPython.core.display.Markdown object>"
      ],
      "text/markdown": "Summary of Technical Talent and Skills Distribution\n\nI analyzed the skills distribution among all technical employees at Cyberdyne Systems by counting the number of people who \"KNOW\" each skill. This was found in the knowledge graph, which directly connects Person nodes with their respective Skill nodes.\n\nMain findings:\n- The most common skills are programming languages and cloud infrastructure: Python (28 people), SQL (16), AWS (15).\n- Leadership and collaborative skills are also highly present: Team Management (14), Project Management (11), Leadership (6).\n- Data and AI skills are well-represented: Machine Learning (11), Data Engineering (8), Computer Vision (7), Deep Learning (6), Natural Language Processing (6), TensorFlow (6).\n- DevOps skills like Docker (10) and Kubernetes (9) are common, indicating readiness for modern deployment practices.\n- Frontend and backend technologies such as Java (6), JavaScript (6), React (5), Go (4), and Node.js (2) show full-stack capabilities.\n\nThe data came from direct relationship counts in the graph database, reflecting how many employees have indicated each skill in their profiles. This provides a high-quality, accurate measure of talent concentration in each technical area, based on explicit skill declarations.\n\nIf you'd like a breakdown by department, level, or experience range, let me know!"
     },
     "metadata": {},
     "output_type": "display_data"
    }
   ],
   "execution_count": 18
  },
  {
   "metadata": {
    "ExecuteTime": {
     "end_time": "2025-06-05T16:58:36.101487Z",
     "start_time": "2025-06-05T16:58:36.097101Z"
    }
   },
   "cell_type": "code",
   "source": "await db_agent_runner.end_session()",
   "id": "965c539ceb5ac4d7",
   "outputs": [
    {
     "name": "stdout",
     "output_type": "stream",
     "text": [
      "Session 408e68a0-0af4-4062-b719-3429e34616ff ended successfully\n"
     ]
    },
    {
     "data": {
      "text/plain": [
       "True"
      ]
     },
     "execution_count": 19,
     "metadata": {},
     "output_type": "execute_result"
    }
   ],
   "execution_count": 19
  },
  {
   "metadata": {},
   "cell_type": "markdown",
   "source": "## Adding Expert Tools",
   "id": "89643f5a6264b477"
  },
  {
   "metadata": {},
   "cell_type": "markdown",
   "source": [
    "### Tool - Finding Similar People\n",
    "![](img/similarity-score-via-graph-traversal.png)"
   ],
   "id": "fc040224c33820fe"
  },
  {
   "metadata": {
    "ExecuteTime": {
     "end_time": "2025-06-05T16:58:36.332703Z",
     "start_time": "2025-06-05T16:58:36.118681Z"
    }
   },
   "cell_type": "code",
   "outputs": [
    {
     "data": {
      "text/plain": [
       "[{'score': 77, 'person_id': 'eOIAxtcB'},\n",
       " {'score': 54, 'person_id': '3ffr8dYb'},\n",
       " {'score': 37, 'person_id': '8wvf1psS'},\n",
       " {'score': 31, 'person_id': 'LUUCJ14S'},\n",
       " {'score': 31, 'person_id': 'Q1ZkhCBu'}]"
      ]
     },
     "execution_count": 20,
     "metadata": {},
     "output_type": "execute_result"
    }
   ],
   "execution_count": 20,
   "source": [
    "def find_similar_people(person_id: str):\n",
    "    \"\"\"\n",
    "    This function will return potential similar people to the provided person based on common skill and types and domains of accomplishments.  You can use this as a starting point to find similarities scores. But should use follow up tools and queries to collect more info.\n",
    "    :param person_id: the id of the person to search for similarities for\n",
    "    :return: a list of person ids for similar candidates order by score which is the count of common skill and types and domains of accomplishments.\n",
    "    \"\"\"\n",
    "    res = driver.execute_query(\n",
    "        '''\n",
    "        MATCH p=(p1:Person {id:$personId})--()\n",
    "                 ((:!Person)--() ){0,3}\n",
    "                 (p2:Person)\n",
    "        RETURN count(*) AS score, p2.id AS person_id\n",
    "        ORDER BY score DESC LIMIT $limit\n",
    "         ''',\n",
    "        personId=person_id,\n",
    "        limit=5, #just hard code for now\n",
    "        result_transformer_= lambda r: r.data())\n",
    "\n",
    "    return res\n",
    "\n",
    "\n",
    "find_similar_people(\"3ffr8dYb\")"
   ],
   "id": "5039ddb7e5c07e8b"
  },
  {
   "metadata": {},
   "cell_type": "markdown",
   "source": [
    "### Tool - Find Similarities Between Two People\n",
    "\n",
    "![](img/similarity-between-people.png)"
   ],
   "id": "56122bf2cb47ee4a"
  },
  {
   "metadata": {
    "ExecuteTime": {
     "end_time": "2025-06-05T16:58:36.618405Z",
     "start_time": "2025-06-05T16:58:36.339184Z"
    }
   },
   "cell_type": "code",
   "source": [
    "def find_similarities_between_people(person1_id: str, person2_id: str):\n",
    "    \"\"\"\n",
    "    This function will return potential similarities between people in the form of skill and accomplishment paths.  You can use this as a starting point to find similarities and query the graph further using the various name fields and person ids.\n",
    "    :param person1_id: the id of the first person to compare\n",
    "    :param person2_id: the id of the second person to compare\n",
    "    :return: a list of paths between the two people, each path is a compact ascii string representation.  It should reflect the patterns in the graph schema\n",
    "    \"\"\"\n",
    "    res = driver.execute_query(\n",
    "        '''\n",
    "        MATCH p=(p1:Person {id:$person1_id})--()\n",
    "                 ((:!Person)--() ){0,3}\n",
    "                 (p2:Person{id:$person2_id})\n",
    "        WITH p, nodes(p) as path_nodes, relationships(p) as path_rels, p1, p2\n",
    "        RETURN\n",
    "          \"(\" + labels(path_nodes[0])[0] + \" {name: \\\\\"\" + path_nodes[0].name + \"\\\\\" id: \\\\\"\" + path_nodes[0].id + \"\\\\\"})\" +\n",
    "          reduce(chain = \"\", i IN range(0, size(path_rels)-1) |\n",
    "            chain +\n",
    "            \"-[\" + type(path_rels[i]) + \"]-\" +\n",
    "            \"(\" + labels(path_nodes[i+1])[0] + \" {name: \\\\\"\" + path_nodes[i+1].name +\n",
    "            CASE WHEN \"Person\" IN labels(path_nodes[i+1])\n",
    "                 THEN \"\\\\\" id: \\\\\"\" + path_nodes[i+1].id +\"\\\\\"\"\n",
    "                 ELSE \"\\\\\"\" END + \"})\"\n",
    "          ) as paths ORDER BY p1.id, p2.id\n",
    "         ''',\n",
    "        person1_id=person1_id,\n",
    "        person2_id=person2_id,\n",
    "        result_transformer_= lambda r: r.values())\n",
    "\n",
    "    return res\n",
    "\n",
    "\n",
    "find_similarities_between_people(\"3ffr8dYb\", \"5RGDw14z\")\n"
   ],
   "id": "f37573a79af2003",
   "outputs": [
    {
     "data": {
      "text/plain": [
       "[['(Person {name: \"Kai Wong\" id: \"3ffr8dYb\"})-[KNOWS]-(Skill {name: \"Python\"})-[KNOWS]-(Person {name: \"Benjamin Clark\" id: \"5RGDw14z\"})'],\n",
       " ['(Person {name: \"Kai Wong\" id: \"3ffr8dYb\"})-[KNOWS]-(Skill {name: \"Java\"})-[KNOWS]-(Person {name: \"Benjamin Clark\" id: \"5RGDw14z\"})'],\n",
       " ['(Person {name: \"Kai Wong\" id: \"3ffr8dYb\"})-[KNOWS]-(Skill {name: \"Data Engineering\"})-[KNOWS]-(Person {name: \"Benjamin Clark\" id: \"5RGDw14z\"})'],\n",
       " ['(Person {name: \"Kai Wong\" id: \"3ffr8dYb\"})-[KNOWS]-(Skill {name: \"Team Management\"})-[KNOWS]-(Person {name: \"Benjamin Clark\" id: \"5RGDw14z\"})'],\n",
       " ['(Person {name: \"Kai Wong\" id: \"3ffr8dYb\"})-[OPTIMIZED]-(Thing {name: \"trading_db_systems_3ffr8dYb\"})-[OF]-(WorkType {name: \"SYSTEM\"})-[OF]-(Thing {name: \"disaster_recovery_system_5RGDw14z\"})-[BUILT]-(Person {name: \"Benjamin Clark\" id: \"5RGDw14z\"})'],\n",
       " ['(Person {name: \"Kai Wong\" id: \"3ffr8dYb\"})-[BUILT]-(Thing {name: \"db_monitoring_system_3ffr8dYb\"})-[OF]-(WorkType {name: \"SYSTEM\"})-[OF]-(Thing {name: \"disaster_recovery_system_5RGDw14z\"})-[BUILT]-(Person {name: \"Benjamin Clark\" id: \"5RGDw14z\"})'],\n",
       " ['(Person {name: \"Kai Wong\" id: \"3ffr8dYb\"})-[BUILT]-(Thing {name: \"db_backup_recovery_system_3ffr8dYb\"})-[OF]-(WorkType {name: \"SYSTEM\"})-[OF]-(Thing {name: \"disaster_recovery_system_5RGDw14z\"})-[BUILT]-(Person {name: \"Benjamin Clark\" id: \"5RGDw14z\"})'],\n",
       " ['(Person {name: \"Kai Wong\" id: \"3ffr8dYb\"})-[BUILT]-(Thing {name: \"query_optimization_framework_3ffr8dYb\"})-[OF]-(WorkType {name: \"SYSTEM\"})-[OF]-(Thing {name: \"disaster_recovery_system_5RGDw14z\"})-[BUILT]-(Person {name: \"Benjamin Clark\" id: \"5RGDw14z\"})'],\n",
       " ['(Person {name: \"Kai Wong\" id: \"3ffr8dYb\"})-[LED]-(Thing {name: \"db_engineering_team_3ffr8dYb\"})-[OF]-(WorkType {name: \"TEAM\"})-[OF]-(Thing {name: \"cloud_engineering_team_5RGDw14z\"})-[LED]-(Person {name: \"Benjamin Clark\" id: \"5RGDw14z\"})'],\n",
       " ['(Person {name: \"Kai Wong\" id: \"3ffr8dYb\"})-[BUILT]-(Thing {name: \"db_sharding_strategy_3ffr8dYb\"})-[OF]-(WorkType {name: \"PROCESS\"})-[OF]-(Thing {name: \"cloud_migration_strategies_5RGDw14z\"})-[OPTIMIZED]-(Person {name: \"Benjamin Clark\" id: \"5RGDw14z\"})'],\n",
       " ['(Person {name: \"Kai Wong\" id: \"3ffr8dYb\"})-[OPTIMIZED]-(Thing {name: \"trading_db_systems_3ffr8dYb\"})-[OF]-(WorkType {name: \"SYSTEM\"})-[OF]-(Thing {name: \"on_premises_data_center_5RGDw14z\"})-[MANAGED]-(Person {name: \"Benjamin Clark\" id: \"5RGDw14z\"})'],\n",
       " ['(Person {name: \"Kai Wong\" id: \"3ffr8dYb\"})-[BUILT]-(Thing {name: \"db_monitoring_system_3ffr8dYb\"})-[OF]-(WorkType {name: \"SYSTEM\"})-[OF]-(Thing {name: \"on_premises_data_center_5RGDw14z\"})-[MANAGED]-(Person {name: \"Benjamin Clark\" id: \"5RGDw14z\"})'],\n",
       " ['(Person {name: \"Kai Wong\" id: \"3ffr8dYb\"})-[BUILT]-(Thing {name: \"db_backup_recovery_system_3ffr8dYb\"})-[OF]-(WorkType {name: \"SYSTEM\"})-[OF]-(Thing {name: \"on_premises_data_center_5RGDw14z\"})-[MANAGED]-(Person {name: \"Benjamin Clark\" id: \"5RGDw14z\"})'],\n",
       " ['(Person {name: \"Kai Wong\" id: \"3ffr8dYb\"})-[BUILT]-(Thing {name: \"query_optimization_framework_3ffr8dYb\"})-[OF]-(WorkType {name: \"SYSTEM\"})-[OF]-(Thing {name: \"on_premises_data_center_5RGDw14z\"})-[MANAGED]-(Person {name: \"Benjamin Clark\" id: \"5RGDw14z\"})'],\n",
       " ['(Person {name: \"Kai Wong\" id: \"3ffr8dYb\"})-[OPTIMIZED]-(Thing {name: \"trading_db_systems_3ffr8dYb\"})-[OF]-(WorkType {name: \"SYSTEM\"})-[OF]-(Thing {name: \"serverless_computing_platforms_5RGDw14z\"})-[BUILT]-(Person {name: \"Benjamin Clark\" id: \"5RGDw14z\"})'],\n",
       " ['(Person {name: \"Kai Wong\" id: \"3ffr8dYb\"})-[BUILT]-(Thing {name: \"db_monitoring_system_3ffr8dYb\"})-[OF]-(WorkType {name: \"SYSTEM\"})-[OF]-(Thing {name: \"serverless_computing_platforms_5RGDw14z\"})-[BUILT]-(Person {name: \"Benjamin Clark\" id: \"5RGDw14z\"})'],\n",
       " ['(Person {name: \"Kai Wong\" id: \"3ffr8dYb\"})-[BUILT]-(Thing {name: \"db_backup_recovery_system_3ffr8dYb\"})-[OF]-(WorkType {name: \"SYSTEM\"})-[OF]-(Thing {name: \"serverless_computing_platforms_5RGDw14z\"})-[BUILT]-(Person {name: \"Benjamin Clark\" id: \"5RGDw14z\"})'],\n",
       " ['(Person {name: \"Kai Wong\" id: \"3ffr8dYb\"})-[BUILT]-(Thing {name: \"query_optimization_framework_3ffr8dYb\"})-[OF]-(WorkType {name: \"SYSTEM\"})-[OF]-(Thing {name: \"serverless_computing_platforms_5RGDw14z\"})-[BUILT]-(Person {name: \"Benjamin Clark\" id: \"5RGDw14z\"})'],\n",
       " ['(Person {name: \"Kai Wong\" id: \"3ffr8dYb\"})-[OPTIMIZED]-(Thing {name: \"trading_db_systems_3ffr8dYb\"})-[OF]-(WorkType {name: \"SYSTEM\"})-[OF]-(Thing {name: \"scalable_cloud_infrastructure_5RGDw14z\"})-[BUILT]-(Person {name: \"Benjamin Clark\" id: \"5RGDw14z\"})'],\n",
       " ['(Person {name: \"Kai Wong\" id: \"3ffr8dYb\"})-[BUILT]-(Thing {name: \"db_monitoring_system_3ffr8dYb\"})-[OF]-(WorkType {name: \"SYSTEM\"})-[OF]-(Thing {name: \"scalable_cloud_infrastructure_5RGDw14z\"})-[BUILT]-(Person {name: \"Benjamin Clark\" id: \"5RGDw14z\"})'],\n",
       " ['(Person {name: \"Kai Wong\" id: \"3ffr8dYb\"})-[BUILT]-(Thing {name: \"db_backup_recovery_system_3ffr8dYb\"})-[OF]-(WorkType {name: \"SYSTEM\"})-[OF]-(Thing {name: \"scalable_cloud_infrastructure_5RGDw14z\"})-[BUILT]-(Person {name: \"Benjamin Clark\" id: \"5RGDw14z\"})'],\n",
       " ['(Person {name: \"Kai Wong\" id: \"3ffr8dYb\"})-[BUILT]-(Thing {name: \"query_optimization_framework_3ffr8dYb\"})-[OF]-(WorkType {name: \"SYSTEM\"})-[OF]-(Thing {name: \"scalable_cloud_infrastructure_5RGDw14z\"})-[BUILT]-(Person {name: \"Benjamin Clark\" id: \"5RGDw14z\"})']]"
      ]
     },
     "execution_count": 21,
     "metadata": {},
     "output_type": "execute_result"
    }
   ],
   "execution_count": 21
  },
  {
   "metadata": {
    "ExecuteTime": {
     "end_time": "2025-06-05T16:58:36.722053Z",
     "start_time": "2025-06-05T16:58:36.629891Z"
    }
   },
   "cell_type": "code",
   "source": [
    "def get_person_resume(person_id: str):\n",
    "    \"\"\"\n",
    "    Gets the full resume of a person\n",
    "    :param person_id: the id of the person\n",
    "    :return: resume text and person name\n",
    "    \"\"\"\n",
    "    res = driver.execute_query(\n",
    "        '''\n",
    "        MATCH (n:Person {id: $personId})\n",
    "        RETURN n.text as resume, n.name AS name\n",
    "         ''',\n",
    "        personId=person_id,\n",
    "        result_transformer_= lambda r: r.data())\n",
    "\n",
    "    return res\n",
    "\n",
    "get_person_resume(\"3ffr8dYb\")"
   ],
   "id": "a2fdb8c5a384b0cb",
   "outputs": [
    {
     "data": {
      "text/plain": [
       "[{'resume': 'Kai Wong\\nDatabase Performance Engineer\\nEmail: kai.wong@email.com\\nLocation: Hong Kong\\nExperience: 7 years\\nProfessional Summary\\nDatabase performance specialist with 7 years experience optimizing high-scale database systems.\\nExpert in SQL optimization, distributed databases, and Python automation.\\nProfessional Experience\\nSenior Database Performance Engineer | Financial Trading Platform | 2021 - Present\\n- Optimized trading database systems handling 1M+ transactions per second using advanced SQL\\ntechniques\\n- Built database monitoring system using Python detecting performance issues before customer impact\\n- Led database engineering team of 5 optimizing distributed PostgreSQL clusters\\nDatabase Engineer | E-commerce Platform | 2019 - 2021\\n- Implemented database sharding strategy supporting 100x user growth using PostgreSQL and Python\\n- Developed automated database backup and recovery system achieving 99.99% data durability\\n- Built query optimization framework reducing average response time by 80%\\nJunior Database Administrator | SaaS Company | 2018 - 2019\\n- Maintained MySQL databases supporting multi-tenant application architecture\\n- Developed database performance monitoring scripts using Python and SQL\\nDatabase Intern | Consulting Firm | 2017 - 2018\\n- Assisted with database migration projects and performance tuning\\n- Learned database administration fundamentals and SQL optimization techniques\\nTechnical Skills\\n- Databases: 7 years SQL, 5 years PostgreSQL, 4 years MySQL, 2 years MongoDB\\n- Programming: 5 years Python, 3 years Java, 6 years Linux\\n- Performance: 6 years Database Optimization, 4 years Distributed Systems\\n- Leadership: 2 years Team Management\\nCertifications\\n- PostgreSQL Certified Professional\\n- MySQL Database Administrator Certification\\n- Oracle Performance Tuning Specialist\\nEducation\\nM.S. Computer Science | Hong Kong University of Science and Technology | 2017\\nB.S. Information Systems | Chinese University of Hong Kong | 2015\\n',\n",
       "  'name': 'Kai Wong'}]"
      ]
     },
     "execution_count": 22,
     "metadata": {},
     "output_type": "execute_result"
    }
   ],
   "execution_count": 22
  },
  {
   "metadata": {
    "ExecuteTime": {
     "end_time": "2025-06-05T16:58:36.825629Z",
     "start_time": "2025-06-05T16:58:36.730913Z"
    }
   },
   "cell_type": "code",
   "source": [
    "def get_person_name(person_id: str):\n",
    "    \"\"\"\n",
    "    Gets a person name given their id\n",
    "    :param person_id: the unique id of the person\n",
    "    :return: person name\n",
    "    \"\"\"\n",
    "    res = driver.execute_query(\n",
    "        '''\n",
    "        MATCH (n:Person {id: $personId})\n",
    "        RETURN n.name\n",
    "         ''',\n",
    "        personId=person_id,\n",
    "        result_transformer_= lambda r: r.values())\n",
    "\n",
    "    return res\n",
    "\n",
    "get_person_name(\"3ffr8dYb\")"
   ],
   "id": "3b312c89825ba7b0",
   "outputs": [
    {
     "data": {
      "text/plain": [
       "[['Kai Wong']]"
      ]
     },
     "execution_count": 23,
     "metadata": {},
     "output_type": "execute_result"
    }
   ],
   "execution_count": 23
  },
  {
   "metadata": {
    "ExecuteTime": {
     "end_time": "2025-06-05T16:58:36.929794Z",
     "start_time": "2025-06-05T16:58:36.836540Z"
    }
   },
   "cell_type": "code",
   "source": [
    "def get_person_ids_from_name(person_name: str):\n",
    "    \"\"\"\n",
    "    Gets all the unique people ids who have the provided name\n",
    "    :param person_name: the name to look up person ids with\n",
    "    :return: person ids that can be used for other tools and queries.  Note that names aren't guaranteed to be unique so you may get more than one person.\n",
    "    \"\"\"\n",
    "    res = driver.execute_query(\n",
    "        '''\n",
    "        MATCH (n:Person {name: $personName})\n",
    "        RETURN n.id\n",
    "         ''',\n",
    "        personName=person_name,\n",
    "        result_transformer_= lambda r: r.values())\n",
    "\n",
    "    return res\n",
    "\n",
    "get_person_ids_from_name(\"Kai Wong\")"
   ],
   "id": "7624ac8e89eb5a3f",
   "outputs": [
    {
     "data": {
      "text/plain": [
       "[['3ffr8dYb']]"
      ]
     },
     "execution_count": 24,
     "metadata": {},
     "output_type": "execute_result"
    }
   ],
   "execution_count": 24
  },
  {
   "metadata": {
    "ExecuteTime": {
     "end_time": "2025-06-05T16:58:36.943505Z",
     "start_time": "2025-06-05T16:58:36.938908Z"
    }
   },
   "cell_type": "code",
   "source": [
    "talent_agent = Agent(\n",
    "    name=\"talent_agent\",\n",
    "    # model=\"gemini-2.0-flash-exp\",\n",
    "    model=LiteLlm(model=\"openai/gpt-4.1\"),\n",
    "    # model=LiteLlm(model=\"anthropic/claude-sonnet-4-20250514\"),\n",
    "    description=\"\"\"\n",
    "    Knowledge assistant for skills analysis, search, and team formation\n",
    "    \"\"\",\n",
    "    instruction=f\"\"\"\n",
    "    You are a human resources assistant who helps with skills analysis, talent search, and team formation at Cyberdyne Systems.\n",
    "\n",
    "    Your tools retrieve data from internal knowledge on Cyberdyne System employees based on their resume and profiles.\n",
    "\n",
    "    Try to prioritize expert tools (those other than `read_neo4j_cypher`) as appropriate since they have expert approved logic for access data. Though you may need to directly access data afterwards to pull more details.\n",
    "\n",
    "\n",
    "    When you need more flexible logic for aggregations, follow-up or anything else, you can access the knowledge (in a graph database) directly. ALWAYS get the schema first with `get_schema` and keep it in memory. Only use node labels, relationship types, and property names, and patterns in that schema to generate valid Cypher queries using the `read_neo4j_cypher` tool with proper parameter syntax ($parameter). If you get errors or empty results check the schema and try again at least up to 3 times.\n",
    "\n",
    "    For domain knowledge, use these standard values:\n",
    "    - Domains: {[i.value for i in Domain]}\n",
    "    - Work Types: {[i.value for i in WorkType]}\n",
    "    - Skills: {[i.value for i in SkillName]}\n",
    "\n",
    "    Also never return embedding properties in Cypher queries. This will result in delays and errors.\n",
    "\n",
    "    When responding to the user:\n",
    "    - if your response includes people, include there names and IDs. Never just there Ids.\n",
    "    - You must explain your retrieval logic and where the data came from. You must say exactly how relevance, similarity, etc. was inferred during search\n",
    "\n",
    "    Use information from previous queries when possible instead of asking the user again.\n",
    "    \"\"\",\n",
    "    tools=[find_similar_people,\n",
    "           find_similarities_between_people,\n",
    "           get_person_name,\n",
    "           get_person_resume,\n",
    "           get_person_ids_from_name,\n",
    "           MCPToolset(\n",
    "        connection_params=StdioServerParameters(\n",
    "            command='uvx',\n",
    "            args=[\n",
    "                \"mcp-neo4j-cypher\",\n",
    "            ],\n",
    "            env={ k: os.environ[k] for k in [\"NEO4J_URI\",\"NEO4J_USERNAME\",\"NEO4J_PASSWORD\"] }\n",
    "        ),\n",
    "        tool_filter=['get_neo4j_schema','read_neo4j_cypher']\n",
    "    )]\n",
    ")\n",
    "\n",
    "talent_agent_runner = AgentRunner(app_name='talent_agent', user_id='Mr. Ed', agent=talent_agent)\n",
    "await talent_agent_runner.start_session()"
   ],
   "id": "68e9d7d252e0eb03",
   "outputs": [
    {
     "name": "stdout",
     "output_type": "stream",
     "text": [
      "Session started successfully with ID: fbfd1558-1534-4b48-a57a-3ddc2f82ba85\n"
     ]
    },
    {
     "data": {
      "text/plain": [
       "True"
      ]
     },
     "execution_count": 25,
     "metadata": {},
     "output_type": "execute_result"
    }
   ],
   "execution_count": 25
  },
  {
   "metadata": {},
   "cell_type": "markdown",
   "source": "### How many Python developers",
   "id": "1106a7523107122c"
  },
  {
   "metadata": {
    "ExecuteTime": {
     "end_time": "2025-06-05T16:58:49.763961Z",
     "start_time": "2025-06-05T16:58:36.953699Z"
    }
   },
   "cell_type": "code",
   "source": "res = await talent_agent_runner.run(\"How many Python developers do I have?\")",
   "id": "417620e83d561236",
   "outputs": [
    {
     "name": "stdout",
     "output_type": "stream",
     "text": [
      "None id='call_p5gWePtmlr2uIhS8lLlK3TiC' args={} name='get_neo4j_schema' None\n",
      "None None will_continue=None scheduling=None id='call_p5gWePtmlr2uIhS8lLlK3TiC' name='get_neo4j_schema' response={'result': CallToolResult(meta=None, content=[TextContent(type='text', text='[{\"label\": \"Person\", \"attributes\": {\"id\": \"STRING indexed\", \"current_title\": \"STRING\", \"text\": \"STRING\", \"level\": \"STRING\", \"location\": \"STRING\", \"email\": \"STRING\", \"department\": \"STRING\", \"name\": \"STRING\", \"years_experience\": \"INTEGER\", \"embedding\": \"LIST\"}, \"relationships\": {\"BUILT\": \"Thing\", \"WON\": \"Thing\", \"SHIPPED\": \"Thing\", \"KNOWS\": \"Skill\", \"PUBLISHED\": \"Thing\", \"OPTIMIZED\": \"Thing\", \"LED\": \"Thing\", \"MANAGED\": \"Thing\"}}, {\"label\": \"Skill\", \"attributes\": {\"name\": \"STRING indexed\"}, \"relationships\": {}}, {\"label\": \"Thing\", \"attributes\": {\"name\": \"STRING indexed\"}, \"relationships\": {\"IN\": \"Domain\", \"OF\": \"WorkType\"}}, {\"label\": \"Domain\", \"attributes\": {\"name\": \"STRING indexed\"}, \"relationships\": {}}, {\"label\": \"WorkType\", \"attributes\": {\"name\": \"STRING indexed\"}, \"relationships\": {}}]', annotations=None)], isError=False)}\n",
      "None id='call_F29QjQVEidInYPead10RFKVw' args={'query': 'MATCH (p:Person)-[:KNOWS]->(s:Skill {name: \"Python\"}) RETURN count(DISTINCT p) AS python_developers_count'} name='read_neo4j_cypher' None\n",
      "None None will_continue=None scheduling=None id='call_F29QjQVEidInYPead10RFKVw' name='read_neo4j_cypher' response={'result': CallToolResult(meta=None, content=[TextContent(type='text', text='[{\"python_developers_count\": 28}]', annotations=None)], isError=False)}\n",
      "There are 28 Python developers at Cyberdyne Systems.\n",
      "\n",
      "Retrieval logic:\n",
      "- I queried the internal graph database for all people (Person nodes) with a relationship (KNOWS) to the Python skill (Skill node with name \"Python\"). \n",
      "- Counting these distinct people returns the number of Python developers.\n",
      "- Data is based on explicit skill relationships in employee profiles. None None\n"
     ]
    }
   ],
   "execution_count": 26
  },
  {
   "metadata": {
    "ExecuteTime": {
     "end_time": "2025-06-05T16:58:49.776110Z",
     "start_time": "2025-06-05T16:58:49.772915Z"
    }
   },
   "cell_type": "code",
   "source": "display(Markdown(res))",
   "id": "bd198fccc64d80a2",
   "outputs": [
    {
     "data": {
      "text/plain": [
       "<IPython.core.display.Markdown object>"
      ],
      "text/markdown": "There are 28 Python developers at Cyberdyne Systems.\n\nRetrieval logic:\n- I queried the internal graph database for all people (Person nodes) with a relationship (KNOWS) to the Python skill (Skill node with name \"Python\"). \n- Counting these distinct people returns the number of Python developers.\n- Data is based on explicit skill relationships in employee profiles."
     },
     "metadata": {},
     "output_type": "display_data"
    }
   ],
   "execution_count": 27
  },
  {
   "metadata": {},
   "cell_type": "markdown",
   "source": "### Who is most similar to Lucas Martinez",
   "id": "2211bbdf4c8188a8"
  },
  {
   "metadata": {
    "ExecuteTime": {
     "end_time": "2025-06-05T16:58:56.881591Z",
     "start_time": "2025-06-05T16:58:49.795913Z"
    }
   },
   "cell_type": "code",
   "source": "res = await talent_agent_runner.run(\"Who is most similar to Lucas Martinez and why?\")",
   "id": "21835db9a9ec31d2",
   "outputs": [
    {
     "name": "stdout",
     "output_type": "stream",
     "text": [
      "None id='call_mqN1jYk0jHT8uZJt3myX2w9j' args={'person_name': 'Lucas Martinez'} name='get_person_ids_from_name' None\n",
      "None None will_continue=None scheduling=None id='call_mqN1jYk0jHT8uZJt3myX2w9j' name='get_person_ids_from_name' response={'result': [['HowfM0O2']]}\n",
      "None id='call_w2VwSGukUnoS5sTzfSop0eAs' args={'person_id': 'HowfM0O2'} name='find_similar_people' None\n",
      "None None will_continue=None scheduling=None id='call_w2VwSGukUnoS5sTzfSop0eAs' name='find_similar_people' response={'result': [{'score': 72, 'person_id': 'LUUCJ14S'}, {'score': 66, 'person_id': 'MpQCrNqA'}, {'score': 61, 'person_id': '8hvI9MCT'}, {'score': 58, 'person_id': 'Yvhy6A21'}, {'score': 55, 'person_id': 'Y7Dbiku6'}]}\n",
      "None id='call_7zurgIGneu397v87dgi6C0Eo' args={'person_id': 'LUUCJ14S'} name='get_person_name' None\n",
      "None id='call_vrG4TVKna6ave79BaCfEKMyN' args={'person1_id': 'HowfM0O2', 'person2_id': 'LUUCJ14S'} name='find_similarities_between_people' None\n",
      "None None will_continue=None scheduling=None id='call_7zurgIGneu397v87dgi6C0Eo' name='get_person_name' response={'result': [['Elena Popov']]}\n",
      "None None will_continue=None scheduling=None id='call_vrG4TVKna6ave79BaCfEKMyN' name='find_similarities_between_people' response={'result': [['(Person {name: \"Lucas Martinez\" id: \"HowfM0O2\"})-[KNOWS]-(Skill {name: \"Python\"})-[KNOWS]-(Person {name: \"Elena Popov\" id: \"LUUCJ14S\"})'], ['(Person {name: \"Lucas Martinez\" id: \"HowfM0O2\"})-[KNOWS]-(Skill {name: \"AWS\"})-[KNOWS]-(Person {name: \"Elena Popov\" id: \"LUUCJ14S\"})'], ['(Person {name: \"Lucas Martinez\" id: \"HowfM0O2\"})-[KNOWS]-(Skill {name: \"Machine Learning\"})-[KNOWS]-(Person {name: \"Elena Popov\" id: \"LUUCJ14S\"})'], ['(Person {name: \"Lucas Martinez\" id: \"HowfM0O2\"})-[KNOWS]-(Skill {name: \"Computer Vision\"})-[KNOWS]-(Person {name: \"Elena Popov\" id: \"LUUCJ14S\"})'], ['(Person {name: \"Lucas Martinez\" id: \"HowfM0O2\"})-[BUILT]-(Thing {name: \"personalized_learning_platform_HowfM0O2\"})-[IN]-(Domain {name: \"AI\"})-[IN]-(Thing {name: \"reinforcement_learning_robot_navigation_LUUCJ14S\"})-[BUILT]-(Person {name: \"Elena Popov\" id: \"LUUCJ14S\"})'], ['(Person {name: \"Lucas Martinez\" id: \"HowfM0O2\"})-[BUILT]-(Thing {name: \"ai_tutoring_system_HowfM0O2\"})-[IN]-(Domain {name: \"AI\"})-[IN]-(Thing {name: \"reinforcement_learning_robot_navigation_LUUCJ14S\"})-[BUILT]-(Person {name: \"Elena Popov\" id: \"LUUCJ14S\"})'], ['(Person {name: \"Lucas Martinez\" id: \"HowfM0O2\"})-[SHIPPED]-(Thing {name: \"adaptive_learning_algorithm_HowfM0O2\"})-[IN]-(Domain {name: \"AI\"})-[IN]-(Thing {name: \"reinforcement_learning_robot_navigation_LUUCJ14S\"})-[BUILT]-(Person {name: \"Elena Popov\" id: \"LUUCJ14S\"})'], ['(Person {name: \"Lucas Martinez\" id: \"HowfM0O2\"})-[BUILT]-(Thing {name: \"medical_image_analysis_webapp_HowfM0O2\"})-[IN]-(Domain {name: \"AI\"})-[IN]-(Thing {name: \"reinforcement_learning_robot_navigation_LUUCJ14S\"})-[BUILT]-(Person {name: \"Elena Popov\" id: \"LUUCJ14S\"})'], ['(Person {name: \"Lucas Martinez\" id: \"HowfM0O2\"})-[BUILT]-(Thing {name: \"rest_apis_ml_models_HowfM0O2\"})-[IN]-(Domain {name: \"AI\"})-[IN]-(Thing {name: \"reinforcement_learning_robot_navigation_LUUCJ14S\"})-[BUILT]-(Person {name: \"Elena Popov\" id: \"LUUCJ14S\"})'], ['(Person {name: \"Lucas Martinez\" id: \"HowfM0O2\"})-[BUILT]-(Thing {name: \"personalized_learning_platform_HowfM0O2\"})-[OF]-(WorkType {name: \"PRODUCT\"})-[OF]-(Thing {name: \"ab_testing_framework_ml_evaluation_LUUCJ14S\"})-[SHIPPED]-(Person {name: \"Elena Popov\" id: \"LUUCJ14S\"})'], ['(Person {name: \"Lucas Martinez\" id: \"HowfM0O2\"})-[BUILT]-(Thing {name: \"medical_image_analysis_webapp_HowfM0O2\"})-[OF]-(WorkType {name: \"PRODUCT\"})-[OF]-(Thing {name: \"ab_testing_framework_ml_evaluation_LUUCJ14S\"})-[SHIPPED]-(Person {name: \"Elena Popov\" id: \"LUUCJ14S\"})'], ['(Person {name: \"Lucas Martinez\" id: \"HowfM0O2\"})-[BUILT]-(Thing {name: \"web_apps_django_react_HowfM0O2\"})-[OF]-(WorkType {name: \"PRODUCT\"})-[OF]-(Thing {name: \"ab_testing_framework_ml_evaluation_LUUCJ14S\"})-[SHIPPED]-(Person {name: \"Elena Popov\" id: \"LUUCJ14S\"})'], ['(Person {name: \"Lucas Martinez\" id: \"HowfM0O2\"})-[BUILT]-(Thing {name: \"data_viz_dashboards_ml_HowfM0O2\"})-[OF]-(WorkType {name: \"PRODUCT\"})-[OF]-(Thing {name: \"ab_testing_framework_ml_evaluation_LUUCJ14S\"})-[SHIPPED]-(Person {name: \"Elena Popov\" id: \"LUUCJ14S\"})'], ['(Person {name: \"Lucas Martinez\" id: \"HowfM0O2\"})-[BUILT]-(Thing {name: \"personalized_learning_platform_HowfM0O2\"})-[IN]-(Domain {name: \"AI\"})-[IN]-(Thing {name: \"deep_learning_optimization_research_LUUCJ14S\"})-[PUBLISHED]-(Person {name: \"Elena Popov\" id: \"LUUCJ14S\"})'], ['(Person {name: \"Lucas Martinez\" id: \"HowfM0O2\"})-[BUILT]-(Thing {name: \"ai_tutoring_system_HowfM0O2\"})-[IN]-(Domain {name: \"AI\"})-[IN]-(Thing {name: \"deep_learning_optimization_research_LUUCJ14S\"})-[PUBLISHED]-(Person {name: \"Elena Popov\" id: \"LUUCJ14S\"})'], ['(Person {name: \"Lucas Martinez\" id: \"HowfM0O2\"})-[SHIPPED]-(Thing {name: \"adaptive_learning_algorithm_HowfM0O2\"})-[IN]-(Domain {name: \"AI\"})-[IN]-(Thing {name: \"deep_learning_optimization_research_LUUCJ14S\"})-[PUBLISHED]-(Person {name: \"Elena Popov\" id: \"LUUCJ14S\"})'], ['(Person {name: \"Lucas Martinez\" id: \"HowfM0O2\"})-[BUILT]-(Thing {name: \"medical_image_analysis_webapp_HowfM0O2\"})-[IN]-(Domain {name: \"AI\"})-[IN]-(Thing {name: \"deep_learning_optimization_research_LUUCJ14S\"})-[PUBLISHED]-(Person {name: \"Elena Popov\" id: \"LUUCJ14S\"})'], ['(Person {name: \"Lucas Martinez\" id: \"HowfM0O2\"})-[BUILT]-(Thing {name: \"rest_apis_ml_models_HowfM0O2\"})-[IN]-(Domain {name: \"AI\"})-[IN]-(Thing {name: \"deep_learning_optimization_research_LUUCJ14S\"})-[PUBLISHED]-(Person {name: \"Elena Popov\" id: \"LUUCJ14S\"})'], ['(Person {name: \"Lucas Martinez\" id: \"HowfM0O2\"})-[BUILT]-(Thing {name: \"personalized_learning_platform_HowfM0O2\"})-[IN]-(Domain {name: \"AI\"})-[IN]-(Thing {name: \"ab_testing_framework_ml_evaluation_LUUCJ14S\"})-[SHIPPED]-(Person {name: \"Elena Popov\" id: \"LUUCJ14S\"})'], ['(Person {name: \"Lucas Martinez\" id: \"HowfM0O2\"})-[BUILT]-(Thing {name: \"ai_tutoring_system_HowfM0O2\"})-[IN]-(Domain {name: \"AI\"})-[IN]-(Thing {name: \"ab_testing_framework_ml_evaluation_LUUCJ14S\"})-[SHIPPED]-(Person {name: \"Elena Popov\" id: \"LUUCJ14S\"})'], ['(Person {name: \"Lucas Martinez\" id: \"HowfM0O2\"})-[SHIPPED]-(Thing {name: \"adaptive_learning_algorithm_HowfM0O2\"})-[IN]-(Domain {name: \"AI\"})-[IN]-(Thing {name: \"ab_testing_framework_ml_evaluation_LUUCJ14S\"})-[SHIPPED]-(Person {name: \"Elena Popov\" id: \"LUUCJ14S\"})'], ['(Person {name: \"Lucas Martinez\" id: \"HowfM0O2\"})-[BUILT]-(Thing {name: \"medical_image_analysis_webapp_HowfM0O2\"})-[IN]-(Domain {name: \"AI\"})-[IN]-(Thing {name: \"ab_testing_framework_ml_evaluation_LUUCJ14S\"})-[SHIPPED]-(Person {name: \"Elena Popov\" id: \"LUUCJ14S\"})'], ['(Person {name: \"Lucas Martinez\" id: \"HowfM0O2\"})-[BUILT]-(Thing {name: \"rest_apis_ml_models_HowfM0O2\"})-[IN]-(Domain {name: \"AI\"})-[IN]-(Thing {name: \"ab_testing_framework_ml_evaluation_LUUCJ14S\"})-[SHIPPED]-(Person {name: \"Elena Popov\" id: \"LUUCJ14S\"})'], ['(Person {name: \"Lucas Martinez\" id: \"HowfM0O2\"})-[BUILT]-(Thing {name: \"ai_tutoring_system_HowfM0O2\"})-[OF]-(WorkType {name: \"SYSTEM\"})-[OF]-(Thing {name: \"ml_prototypes_research_lab_LUUCJ14S\"})-[BUILT]-(Person {name: \"Elena Popov\" id: \"LUUCJ14S\"})'], ['(Person {name: \"Lucas Martinez\" id: \"HowfM0O2\"})-[BUILT]-(Thing {name: \"rest_apis_ml_models_HowfM0O2\"})-[OF]-(WorkType {name: \"SYSTEM\"})-[OF]-(Thing {name: \"ml_prototypes_research_lab_LUUCJ14S\"})-[BUILT]-(Person {name: \"Elena Popov\" id: \"LUUCJ14S\"})'], ['(Person {name: \"Lucas Martinez\" id: \"HowfM0O2\"})-[BUILT]-(Thing {name: \"personalized_learning_platform_HowfM0O2\"})-[IN]-(Domain {name: \"AI\"})-[IN]-(Thing {name: \"ml_engineering_team_industrial_automation_LUUCJ14S\"})-[LED]-(Person {name: \"Elena Popov\" id: \"LUUCJ14S\"})'], ['(Person {name: \"Lucas Martinez\" id: \"HowfM0O2\"})-[BUILT]-(Thing {name: \"ai_tutoring_system_HowfM0O2\"})-[IN]-(Domain {name: \"AI\"})-[IN]-(Thing {name: \"ml_engineering_team_industrial_automation_LUUCJ14S\"})-[LED]-(Person {name: \"Elena Popov\" id: \"LUUCJ14S\"})'], ['(Person {name: \"Lucas Martinez\" id: \"HowfM0O2\"})-[SHIPPED]-(Thing {name: \"adaptive_learning_algorithm_HowfM0O2\"})-[IN]-(Domain {name: \"AI\"})-[IN]-(Thing {name: \"ml_engineering_team_industrial_automation_LUUCJ14S\"})-[LED]-(Person {name: \"Elena Popov\" id: \"LUUCJ14S\"})'], ['(Person {name: \"Lucas Martinez\" id: \"HowfM0O2\"})-[BUILT]-(Thing {name: \"medical_image_analysis_webapp_HowfM0O2\"})-[IN]-(Domain {name: \"AI\"})-[IN]-(Thing {name: \"ml_engineering_team_industrial_automation_LUUCJ14S\"})-[LED]-(Person {name: \"Elena Popov\" id: \"LUUCJ14S\"})'], ['(Person {name: \"Lucas Martinez\" id: \"HowfM0O2\"})-[BUILT]-(Thing {name: \"rest_apis_ml_models_HowfM0O2\"})-[IN]-(Domain {name: \"AI\"})-[IN]-(Thing {name: \"ml_engineering_team_industrial_automation_LUUCJ14S\"})-[LED]-(Person {name: \"Elena Popov\" id: \"LUUCJ14S\"})'], ['(Person {name: \"Lucas Martinez\" id: \"HowfM0O2\"})-[BUILT]-(Thing {name: \"personalized_learning_platform_HowfM0O2\"})-[IN]-(Domain {name: \"AI\"})-[IN]-(Thing {name: \"ml_prototypes_research_lab_LUUCJ14S\"})-[BUILT]-(Person {name: \"Elena Popov\" id: \"LUUCJ14S\"})'], ['(Person {name: \"Lucas Martinez\" id: \"HowfM0O2\"})-[BUILT]-(Thing {name: \"ai_tutoring_system_HowfM0O2\"})-[IN]-(Domain {name: \"AI\"})-[IN]-(Thing {name: \"ml_prototypes_research_lab_LUUCJ14S\"})-[BUILT]-(Person {name: \"Elena Popov\" id: \"LUUCJ14S\"})'], ['(Person {name: \"Lucas Martinez\" id: \"HowfM0O2\"})-[SHIPPED]-(Thing {name: \"adaptive_learning_algorithm_HowfM0O2\"})-[IN]-(Domain {name: \"AI\"})-[IN]-(Thing {name: \"ml_prototypes_research_lab_LUUCJ14S\"})-[BUILT]-(Person {name: \"Elena Popov\" id: \"LUUCJ14S\"})'], ['(Person {name: \"Lucas Martinez\" id: \"HowfM0O2\"})-[BUILT]-(Thing {name: \"medical_image_analysis_webapp_HowfM0O2\"})-[IN]-(Domain {name: \"AI\"})-[IN]-(Thing {name: \"ml_prototypes_research_lab_LUUCJ14S\"})-[BUILT]-(Person {name: \"Elena Popov\" id: \"LUUCJ14S\"})'], ['(Person {name: \"Lucas Martinez\" id: \"HowfM0O2\"})-[BUILT]-(Thing {name: \"rest_apis_ml_models_HowfM0O2\"})-[IN]-(Domain {name: \"AI\"})-[IN]-(Thing {name: \"ml_prototypes_research_lab_LUUCJ14S\"})-[BUILT]-(Person {name: \"Elena Popov\" id: \"LUUCJ14S\"})'], ['(Person {name: \"Lucas Martinez\" id: \"HowfM0O2\"})-[BUILT]-(Thing {name: \"ai_tutoring_system_HowfM0O2\"})-[OF]-(WorkType {name: \"SYSTEM\"})-[OF]-(Thing {name: \"predictive_analytics_marketing_campaign_LUUCJ14S\"})-[BUILT]-(Person {name: \"Elena Popov\" id: \"LUUCJ14S\"})'], ['(Person {name: \"Lucas Martinez\" id: \"HowfM0O2\"})-[BUILT]-(Thing {name: \"rest_apis_ml_models_HowfM0O2\"})-[OF]-(WorkType {name: \"SYSTEM\"})-[OF]-(Thing {name: \"predictive_analytics_marketing_campaign_LUUCJ14S\"})-[BUILT]-(Person {name: \"Elena Popov\" id: \"LUUCJ14S\"})'], ['(Person {name: \"Lucas Martinez\" id: \"HowfM0O2\"})-[BUILT]-(Thing {name: \"ai_tutoring_system_HowfM0O2\"})-[OF]-(WorkType {name: \"SYSTEM\"})-[OF]-(Thing {name: \"customer_segmentation_models_marketing_LUUCJ14S\"})-[BUILT]-(Person {name: \"Elena Popov\" id: \"LUUCJ14S\"})'], ['(Person {name: \"Lucas Martinez\" id: \"HowfM0O2\"})-[BUILT]-(Thing {name: \"rest_apis_ml_models_HowfM0O2\"})-[OF]-(WorkType {name: \"SYSTEM\"})-[OF]-(Thing {name: \"customer_segmentation_models_marketing_LUUCJ14S\"})-[BUILT]-(Person {name: \"Elena Popov\" id: \"LUUCJ14S\"})'], ['(Person {name: \"Lucas Martinez\" id: \"HowfM0O2\"})-[BUILT]-(Thing {name: \"personalized_learning_platform_HowfM0O2\"})-[IN]-(Domain {name: \"AI\"})-[IN]-(Thing {name: \"predictive_analytics_marketing_campaign_LUUCJ14S\"})-[BUILT]-(Person {name: \"Elena Popov\" id: \"LUUCJ14S\"})'], ['(Person {name: \"Lucas Martinez\" id: \"HowfM0O2\"})-[BUILT]-(Thing {name: \"ai_tutoring_system_HowfM0O2\"})-[IN]-(Domain {name: \"AI\"})-[IN]-(Thing {name: \"predictive_analytics_marketing_campaign_LUUCJ14S\"})-[BUILT]-(Person {name: \"Elena Popov\" id: \"LUUCJ14S\"})'], ['(Person {name: \"Lucas Martinez\" id: \"HowfM0O2\"})-[SHIPPED]-(Thing {name: \"adaptive_learning_algorithm_HowfM0O2\"})-[IN]-(Domain {name: \"AI\"})-[IN]-(Thing {name: \"predictive_analytics_marketing_campaign_LUUCJ14S\"})-[BUILT]-(Person {name: \"Elena Popov\" id: \"LUUCJ14S\"})'], ['(Person {name: \"Lucas Martinez\" id: \"HowfM0O2\"})-[BUILT]-(Thing {name: \"medical_image_analysis_webapp_HowfM0O2\"})-[IN]-(Domain {name: \"AI\"})-[IN]-(Thing {name: \"predictive_analytics_marketing_campaign_LUUCJ14S\"})-[BUILT]-(Person {name: \"Elena Popov\" id: \"LUUCJ14S\"})'], ['(Person {name: \"Lucas Martinez\" id: \"HowfM0O2\"})-[BUILT]-(Thing {name: \"rest_apis_ml_models_HowfM0O2\"})-[IN]-(Domain {name: \"AI\"})-[IN]-(Thing {name: \"predictive_analytics_marketing_campaign_LUUCJ14S\"})-[BUILT]-(Person {name: \"Elena Popov\" id: \"LUUCJ14S\"})'], ['(Person {name: \"Lucas Martinez\" id: \"HowfM0O2\"})-[BUILT]-(Thing {name: \"personalized_learning_platform_HowfM0O2\"})-[IN]-(Domain {name: \"AI\"})-[IN]-(Thing {name: \"customer_segmentation_models_marketing_LUUCJ14S\"})-[BUILT]-(Person {name: \"Elena Popov\" id: \"LUUCJ14S\"})'], ['(Person {name: \"Lucas Martinez\" id: \"HowfM0O2\"})-[BUILT]-(Thing {name: \"ai_tutoring_system_HowfM0O2\"})-[IN]-(Domain {name: \"AI\"})-[IN]-(Thing {name: \"customer_segmentation_models_marketing_LUUCJ14S\"})-[BUILT]-(Person {name: \"Elena Popov\" id: \"LUUCJ14S\"})'], ['(Person {name: \"Lucas Martinez\" id: \"HowfM0O2\"})-[SHIPPED]-(Thing {name: \"adaptive_learning_algorithm_HowfM0O2\"})-[IN]-(Domain {name: \"AI\"})-[IN]-(Thing {name: \"customer_segmentation_models_marketing_LUUCJ14S\"})-[BUILT]-(Person {name: \"Elena Popov\" id: \"LUUCJ14S\"})'], ['(Person {name: \"Lucas Martinez\" id: \"HowfM0O2\"})-[BUILT]-(Thing {name: \"medical_image_analysis_webapp_HowfM0O2\"})-[IN]-(Domain {name: \"AI\"})-[IN]-(Thing {name: \"customer_segmentation_models_marketing_LUUCJ14S\"})-[BUILT]-(Person {name: \"Elena Popov\" id: \"LUUCJ14S\"})'], ['(Person {name: \"Lucas Martinez\" id: \"HowfM0O2\"})-[BUILT]-(Thing {name: \"rest_apis_ml_models_HowfM0O2\"})-[IN]-(Domain {name: \"AI\"})-[IN]-(Thing {name: \"customer_segmentation_models_marketing_LUUCJ14S\"})-[BUILT]-(Person {name: \"Elena Popov\" id: \"LUUCJ14S\"})'], ['(Person {name: \"Lucas Martinez\" id: \"HowfM0O2\"})-[BUILT]-(Thing {name: \"personalized_learning_platform_HowfM0O2\"})-[IN]-(Domain {name: \"AI\"})-[IN]-(Thing {name: \"real_time_inference_infrastructure_LUUCJ14S\"})-[BUILT]-(Person {name: \"Elena Popov\" id: \"LUUCJ14S\"})'], ['(Person {name: \"Lucas Martinez\" id: \"HowfM0O2\"})-[BUILT]-(Thing {name: \"ai_tutoring_system_HowfM0O2\"})-[IN]-(Domain {name: \"AI\"})-[IN]-(Thing {name: \"real_time_inference_infrastructure_LUUCJ14S\"})-[BUILT]-(Person {name: \"Elena Popov\" id: \"LUUCJ14S\"})'], ['(Person {name: \"Lucas Martinez\" id: \"HowfM0O2\"})-[SHIPPED]-(Thing {name: \"adaptive_learning_algorithm_HowfM0O2\"})-[IN]-(Domain {name: \"AI\"})-[IN]-(Thing {name: \"real_time_inference_infrastructure_LUUCJ14S\"})-[BUILT]-(Person {name: \"Elena Popov\" id: \"LUUCJ14S\"})'], ['(Person {name: \"Lucas Martinez\" id: \"HowfM0O2\"})-[BUILT]-(Thing {name: \"medical_image_analysis_webapp_HowfM0O2\"})-[IN]-(Domain {name: \"AI\"})-[IN]-(Thing {name: \"real_time_inference_infrastructure_LUUCJ14S\"})-[BUILT]-(Person {name: \"Elena Popov\" id: \"LUUCJ14S\"})'], ['(Person {name: \"Lucas Martinez\" id: \"HowfM0O2\"})-[BUILT]-(Thing {name: \"rest_apis_ml_models_HowfM0O2\"})-[IN]-(Domain {name: \"AI\"})-[IN]-(Thing {name: \"real_time_inference_infrastructure_LUUCJ14S\"})-[BUILT]-(Person {name: \"Elena Popov\" id: \"LUUCJ14S\"})'], ['(Person {name: \"Lucas Martinez\" id: \"HowfM0O2\"})-[BUILT]-(Thing {name: \"ai_tutoring_system_HowfM0O2\"})-[OF]-(WorkType {name: \"SYSTEM\"})-[OF]-(Thing {name: \"real_time_inference_infrastructure_LUUCJ14S\"})-[BUILT]-(Person {name: \"Elena Popov\" id: \"LUUCJ14S\"})'], ['(Person {name: \"Lucas Martinez\" id: \"HowfM0O2\"})-[BUILT]-(Thing {name: \"rest_apis_ml_models_HowfM0O2\"})-[OF]-(WorkType {name: \"SYSTEM\"})-[OF]-(Thing {name: \"real_time_inference_infrastructure_LUUCJ14S\"})-[BUILT]-(Person {name: \"Elena Popov\" id: \"LUUCJ14S\"})'], ['(Person {name: \"Lucas Martinez\" id: \"HowfM0O2\"})-[BUILT]-(Thing {name: \"ai_tutoring_system_HowfM0O2\"})-[OF]-(WorkType {name: \"SYSTEM\"})-[OF]-(Thing {name: \"personalization_ai_system_recommendation_LUUCJ14S\"})-[BUILT]-(Person {name: \"Elena Popov\" id: \"LUUCJ14S\"})'], ['(Person {name: \"Lucas Martinez\" id: \"HowfM0O2\"})-[BUILT]-(Thing {name: \"rest_apis_ml_models_HowfM0O2\"})-[OF]-(WorkType {name: \"SYSTEM\"})-[OF]-(Thing {name: \"personalization_ai_system_recommendation_LUUCJ14S\"})-[BUILT]-(Person {name: \"Elena Popov\" id: \"LUUCJ14S\"})'], ['(Person {name: \"Lucas Martinez\" id: \"HowfM0O2\"})-[BUILT]-(Thing {name: \"personalized_learning_platform_HowfM0O2\"})-[IN]-(Domain {name: \"AI\"})-[IN]-(Thing {name: \"personalization_ai_system_recommendation_LUUCJ14S\"})-[BUILT]-(Person {name: \"Elena Popov\" id: \"LUUCJ14S\"})'], ['(Person {name: \"Lucas Martinez\" id: \"HowfM0O2\"})-[BUILT]-(Thing {name: \"ai_tutoring_system_HowfM0O2\"})-[IN]-(Domain {name: \"AI\"})-[IN]-(Thing {name: \"personalization_ai_system_recommendation_LUUCJ14S\"})-[BUILT]-(Person {name: \"Elena Popov\" id: \"LUUCJ14S\"})'], ['(Person {name: \"Lucas Martinez\" id: \"HowfM0O2\"})-[SHIPPED]-(Thing {name: \"adaptive_learning_algorithm_HowfM0O2\"})-[IN]-(Domain {name: \"AI\"})-[IN]-(Thing {name: \"personalization_ai_system_recommendation_LUUCJ14S\"})-[BUILT]-(Person {name: \"Elena Popov\" id: \"LUUCJ14S\"})'], ['(Person {name: \"Lucas Martinez\" id: \"HowfM0O2\"})-[BUILT]-(Thing {name: \"medical_image_analysis_webapp_HowfM0O2\"})-[IN]-(Domain {name: \"AI\"})-[IN]-(Thing {name: \"personalization_ai_system_recommendation_LUUCJ14S\"})-[BUILT]-(Person {name: \"Elena Popov\" id: \"LUUCJ14S\"})'], ['(Person {name: \"Lucas Martinez\" id: \"HowfM0O2\"})-[BUILT]-(Thing {name: \"rest_apis_ml_models_HowfM0O2\"})-[IN]-(Domain {name: \"AI\"})-[IN]-(Thing {name: \"personalization_ai_system_recommendation_LUUCJ14S\"})-[BUILT]-(Person {name: \"Elena Popov\" id: \"LUUCJ14S\"})'], ['(Person {name: \"Lucas Martinez\" id: \"HowfM0O2\"})-[BUILT]-(Thing {name: \"personalized_learning_platform_HowfM0O2\"})-[IN]-(Domain {name: \"AI\"})-[IN]-(Thing {name: \"computer_vision_pipeline_object_detection_LUUCJ14S\"})-[BUILT]-(Person {name: \"Elena Popov\" id: \"LUUCJ14S\"})'], ['(Person {name: \"Lucas Martinez\" id: \"HowfM0O2\"})-[BUILT]-(Thing {name: \"ai_tutoring_system_HowfM0O2\"})-[IN]-(Domain {name: \"AI\"})-[IN]-(Thing {name: \"computer_vision_pipeline_object_detection_LUUCJ14S\"})-[BUILT]-(Person {name: \"Elena Popov\" id: \"LUUCJ14S\"})'], ['(Person {name: \"Lucas Martinez\" id: \"HowfM0O2\"})-[SHIPPED]-(Thing {name: \"adaptive_learning_algorithm_HowfM0O2\"})-[IN]-(Domain {name: \"AI\"})-[IN]-(Thing {name: \"computer_vision_pipeline_object_detection_LUUCJ14S\"})-[BUILT]-(Person {name: \"Elena Popov\" id: \"LUUCJ14S\"})'], ['(Person {name: \"Lucas Martinez\" id: \"HowfM0O2\"})-[BUILT]-(Thing {name: \"medical_image_analysis_webapp_HowfM0O2\"})-[IN]-(Domain {name: \"AI\"})-[IN]-(Thing {name: \"computer_vision_pipeline_object_detection_LUUCJ14S\"})-[BUILT]-(Person {name: \"Elena Popov\" id: \"LUUCJ14S\"})'], ['(Person {name: \"Lucas Martinez\" id: \"HowfM0O2\"})-[BUILT]-(Thing {name: \"rest_apis_ml_models_HowfM0O2\"})-[IN]-(Domain {name: \"AI\"})-[IN]-(Thing {name: \"computer_vision_pipeline_object_detection_LUUCJ14S\"})-[BUILT]-(Person {name: \"Elena Popov\" id: \"LUUCJ14S\"})'], ['(Person {name: \"Lucas Martinez\" id: \"HowfM0O2\"})-[BUILT]-(Thing {name: \"ai_tutoring_system_HowfM0O2\"})-[OF]-(WorkType {name: \"SYSTEM\"})-[OF]-(Thing {name: \"computer_vision_pipeline_object_detection_LUUCJ14S\"})-[BUILT]-(Person {name: \"Elena Popov\" id: \"LUUCJ14S\"})'], ['(Person {name: \"Lucas Martinez\" id: \"HowfM0O2\"})-[BUILT]-(Thing {name: \"rest_apis_ml_models_HowfM0O2\"})-[OF]-(WorkType {name: \"SYSTEM\"})-[OF]-(Thing {name: \"computer_vision_pipeline_object_detection_LUUCJ14S\"})-[BUILT]-(Person {name: \"Elena Popov\" id: \"LUUCJ14S\"})'], ['(Person {name: \"Lucas Martinez\" id: \"HowfM0O2\"})-[BUILT]-(Thing {name: \"ai_tutoring_system_HowfM0O2\"})-[OF]-(WorkType {name: \"SYSTEM\"})-[OF]-(Thing {name: \"reinforcement_learning_robot_navigation_LUUCJ14S\"})-[BUILT]-(Person {name: \"Elena Popov\" id: \"LUUCJ14S\"})'], ['(Person {name: \"Lucas Martinez\" id: \"HowfM0O2\"})-[BUILT]-(Thing {name: \"rest_apis_ml_models_HowfM0O2\"})-[OF]-(WorkType {name: \"SYSTEM\"})-[OF]-(Thing {name: \"reinforcement_learning_robot_navigation_LUUCJ14S\"})-[BUILT]-(Person {name: \"Elena Popov\" id: \"LUUCJ14S\"})']]}\n",
      "The person most similar to Lucas Martinez is Elena Popov (ID: LUUCJ14S).\n",
      "\n",
      "Reason for similarity:\n",
      "- Both Lucas Martinez and Elena Popov know several key skills: Python, AWS, Machine Learning, and Computer Vision.\n",
      "- They have accomplishments in highly aligned domains, especially AI.\n",
      "- Both have built, shipped, or published products and systems in the AI domain, such as personalized learning platforms, medical image analysis webapps, adaptive algorithms, and reinforcement learning and computer vision projects.\n",
      "- Their project types are similar, involving PRODUCT and SYSTEM work types, and even research and published work.\n",
      "\n",
      "How this was determined:\n",
      "- I used an expert similarity tool that ranks people based on counts of common skills, accomplishment domains, and work types.\n",
      "- Elena Popov had the highest similarity score to Lucas Martinez.\n",
      "- I further confirmed this similarity by inspecting direct relationship paths, showing strong overlaps in skills and the nature of their projects within AI and Machine Learning.\n",
      "\n",
      "All inference is based on the skills and accomplishment relationships mapped in the internal knowledge graph. None None\n"
     ]
    }
   ],
   "execution_count": 28
  },
  {
   "metadata": {
    "ExecuteTime": {
     "end_time": "2025-06-05T16:58:56.889526Z",
     "start_time": "2025-06-05T16:58:56.886882Z"
    }
   },
   "cell_type": "code",
   "source": "display(Markdown(res))",
   "id": "dc6c7c0c5169cda1",
   "outputs": [
    {
     "data": {
      "text/plain": [
       "<IPython.core.display.Markdown object>"
      ],
      "text/markdown": "The person most similar to Lucas Martinez is Elena Popov (ID: LUUCJ14S).\n\nReason for similarity:\n- Both Lucas Martinez and Elena Popov know several key skills: Python, AWS, Machine Learning, and Computer Vision.\n- They have accomplishments in highly aligned domains, especially AI.\n- Both have built, shipped, or published products and systems in the AI domain, such as personalized learning platforms, medical image analysis webapps, adaptive algorithms, and reinforcement learning and computer vision projects.\n- Their project types are similar, involving PRODUCT and SYSTEM work types, and even research and published work.\n\nHow this was determined:\n- I used an expert similarity tool that ranks people based on counts of common skills, accomplishment domains, and work types.\n- Elena Popov had the highest similarity score to Lucas Martinez.\n- I further confirmed this similarity by inspecting direct relationship paths, showing strong overlaps in skills and the nature of their projects within AI and Machine Learning.\n\nAll inference is based on the skills and accomplishment relationships mapped in the internal knowledge graph."
     },
     "metadata": {},
     "output_type": "display_data"
    }
   ],
   "execution_count": 29
  },
  {
   "metadata": {},
   "cell_type": "markdown",
   "source": "### Summarize my technical talent and skills distribution",
   "id": "be9a547512deeaa0"
  },
  {
   "metadata": {
    "ExecuteTime": {
     "end_time": "2025-06-05T16:58:56.907767Z",
     "start_time": "2025-06-05T16:58:56.904919Z"
    }
   },
   "cell_type": "code",
   "source": "await talent_agent_runner.restart_session()",
   "id": "eb3b8e3b6c50d317",
   "outputs": [
    {
     "name": "stdout",
     "output_type": "stream",
     "text": [
      "Session fbfd1558-1534-4b48-a57a-3ddc2f82ba85 ended successfully\n",
      "Session started successfully with ID: b352afb9-6998-4cd1-b5f1-abe409dc87ed\n"
     ]
    }
   ],
   "execution_count": 30
  },
  {
   "metadata": {
    "ExecuteTime": {
     "end_time": "2025-06-05T16:59:13.277275Z",
     "start_time": "2025-06-05T16:58:56.914844Z"
    }
   },
   "cell_type": "code",
   "source": "res = await talent_agent_runner.run(\"Summarize Cyberdyne's technical talent and skills distribution\")",
   "id": "5eb79ff0701e227",
   "outputs": [
    {
     "name": "stdout",
     "output_type": "stream",
     "text": [
      "None id='call_sWYE2hPDLWhljPvkRT9HJgdM' args={} name='get_neo4j_schema' None\n",
      "None None will_continue=None scheduling=None id='call_sWYE2hPDLWhljPvkRT9HJgdM' name='get_neo4j_schema' response={'result': CallToolResult(meta=None, content=[TextContent(type='text', text='[{\"label\": \"Person\", \"attributes\": {\"id\": \"STRING indexed\", \"current_title\": \"STRING\", \"text\": \"STRING\", \"level\": \"STRING\", \"location\": \"STRING\", \"email\": \"STRING\", \"department\": \"STRING\", \"name\": \"STRING\", \"years_experience\": \"INTEGER\", \"embedding\": \"LIST\"}, \"relationships\": {\"BUILT\": \"Thing\", \"WON\": \"Thing\", \"SHIPPED\": \"Thing\", \"KNOWS\": \"Skill\", \"PUBLISHED\": \"Thing\", \"OPTIMIZED\": \"Thing\", \"LED\": \"Thing\", \"MANAGED\": \"Thing\"}}, {\"label\": \"Skill\", \"attributes\": {\"name\": \"STRING indexed\"}, \"relationships\": {}}, {\"label\": \"Thing\", \"attributes\": {\"name\": \"STRING indexed\"}, \"relationships\": {\"IN\": \"Domain\", \"OF\": \"WorkType\"}}, {\"label\": \"Domain\", \"attributes\": {\"name\": \"STRING indexed\"}, \"relationships\": {}}, {\"label\": \"WorkType\", \"attributes\": {\"name\": \"STRING indexed\"}, \"relationships\": {}}]', annotations=None)], isError=False)}\n",
      "None id='call_PxLOgrimXPTu2h0BPp9cG4mp' args={'query': 'MATCH (p:Person)-[:KNOWS]->(s:Skill) RETURN s.name AS skill, COUNT(DISTINCT p) AS person_count ORDER BY person_count DESC'} name='read_neo4j_cypher' None\n",
      "None None will_continue=None scheduling=None id='call_PxLOgrimXPTu2h0BPp9cG4mp' name='read_neo4j_cypher' response={'result': CallToolResult(meta=None, content=[TextContent(type='text', text='[{\"skill\": \"Python\", \"person_count\": 28}, {\"skill\": \"SQL\", \"person_count\": 16}, {\"skill\": \"AWS\", \"person_count\": 15}, {\"skill\": \"Team Management\", \"person_count\": 14}, {\"skill\": \"Machine Learning\", \"person_count\": 11}, {\"skill\": \"Project Management\", \"person_count\": 11}, {\"skill\": \"Docker\", \"person_count\": 10}, {\"skill\": \"Kubernetes\", \"person_count\": 9}, {\"skill\": \"Data Engineering\", \"person_count\": 8}, {\"skill\": \"Computer Vision\", \"person_count\": 7}, {\"skill\": \"Deep Learning\", \"person_count\": 6}, {\"skill\": \"Natural Language Processing\", \"person_count\": 6}, {\"skill\": \"TensorFlow\", \"person_count\": 6}, {\"skill\": \"Data Analysis\", \"person_count\": 6}, {\"skill\": \"Java\", \"person_count\": 6}, {\"skill\": \"JavaScript\", \"person_count\": 6}, {\"skill\": \"Leadership\", \"person_count\": 6}, {\"skill\": \"PyTorch\", \"person_count\": 5}, {\"skill\": \"React\", \"person_count\": 5}, {\"skill\": \"Statistics\", \"person_count\": 4}, {\"skill\": \"Google Cloud Platform\", \"person_count\": 4}, {\"skill\": \"Go\", \"person_count\": 4}, {\"skill\": \"Business Intelligence\", \"person_count\": 3}, {\"skill\": \"Product Strategy\", \"person_count\": 3}, {\"skill\": \"R Programming Language\", \"person_count\": 2}, {\"skill\": \"Product Management\", \"person_count\": 2}, {\"skill\": \"Swift\", \"person_count\": 2}, {\"skill\": \"Kotlin\", \"person_count\": 2}, {\"skill\": \"Cloud Architecture\", \"person_count\": 2}, {\"skill\": \"Node.js\", \"person_count\": 2}, {\"skill\": \"Data Science\", \"person_count\": 1}, {\"skill\": \"Scikit-learn\", \"person_count\": 1}, {\"skill\": \"Scala\", \"person_count\": 1}, {\"skill\": \"Azure\", \"person_count\": 1}, {\"skill\": \"TypeScript\", \"person_count\": 1}, {\"skill\": \"Django\", \"person_count\": 1}, {\"skill\": \"Flask\", \"person_count\": 1}]', annotations=None)], isError=False)}\n",
      "None id='call_UfNWTnCJlKiov0XOidtV0lEu' args={'query': 'MATCH (t:Thing)-[:IN]->(d:Domain) WITH d.name AS domain, COUNT(DISTINCT t) AS count RETURN domain, count ORDER BY count DESC'} name='read_neo4j_cypher' None\n",
      "None None will_continue=None scheduling=None id='call_UfNWTnCJlKiov0XOidtV0lEu' name='read_neo4j_cypher' response={'result': CallToolResult(meta=None, content=[TextContent(type='text', text='[{\"domain\": \"AI\", \"count\": 84}, {\"domain\": \"ANALYTICS\", \"count\": 24}, {\"domain\": \"DATA_ENGINEERING\", \"count\": 21}, {\"domain\": \"SECURITY\", \"count\": 20}, {\"domain\": \"DATABASE\", \"count\": 18}, {\"domain\": \"WEB\", \"count\": 18}, {\"domain\": \"CLOUD\", \"count\": 14}, {\"domain\": \"DEVOPS\", \"count\": 13}, {\"domain\": \"MOBILE\", \"count\": 11}, {\"domain\": \"MICROSERVICES\", \"count\": 10}, {\"domain\": \"PLATFORM\", \"count\": 8}]', annotations=None)], isError=False)}\n",
      "None id='call_DX6kjKRTu8j1UyQ5ad7ug0Ug' args={'query': 'MATCH (p:Person)-[:KNOWS]->(s:Skill) WITH p, COUNT(s) AS skill_count RETURN skill_count, COUNT(p) AS person_count ORDER BY skill_count DESC'} name='read_neo4j_cypher' None\n",
      "None None will_continue=None scheduling=None id='call_DX6kjKRTu8j1UyQ5ad7ug0Ug' name='read_neo4j_cypher' response={'result': CallToolResult(meta=None, content=[TextContent(type='text', text='[{\"skill_count\": 11, \"person_count\": 1}, {\"skill_count\": 10, \"person_count\": 2}, {\"skill_count\": 9, \"person_count\": 9}, {\"skill_count\": 8, \"person_count\": 2}, {\"skill_count\": 7, \"person_count\": 5}, {\"skill_count\": 6, \"person_count\": 6}, {\"skill_count\": 5, \"person_count\": 2}, {\"skill_count\": 4, \"person_count\": 1}, {\"skill_count\": 3, \"person_count\": 1}, {\"skill_count\": 2, \"person_count\": 1}]', annotations=None)], isError=False)}\n",
      "Here is a summary of Cyberdyne Systems' technical talent and skills distribution, based on an analysis of internal employee skill and domain data:\n",
      "\n",
      "1. Most Popular Technical Skills:\n",
      "   - The largest number of employees have proficiency in Python (28 people), followed by SQL (16), AWS (15), and Team Management (14).\n",
      "   - Other notable in-demand skills include Machine Learning and Project Management (11 each), Docker (10), and Kubernetes (9).\n",
      "   - Artificial Intelligence (AI) skills are widely distributed, with strong representation in Machine Learning, Deep Learning, Computer Vision, and Natural Language Processing.\n",
      "   - Additional skills with a moderate presence include Data Engineering, Data Analysis, TensorFlow, PyTorch, Java, JavaScript, Leadership, React, Statistics, and Cloud-related technologies (Google Cloud Platform, AWS, Azure).\n",
      "\n",
      "2. Distribution Across Technical Domains:\n",
      "   - Domains with the most associated activities and accomplishments (such as delivered projects or recognized work) are:\n",
      "     - AI (84 activities)\n",
      "     - Analytics (24)\n",
      "     - Data Engineering (21)\n",
      "     - Security (20)\n",
      "     - Database and Web (18 each)\n",
      "     - Cloud (14), DevOps (13), Mobile (11), Microservices (10), Platform (8)\n",
      "\n",
      "3. Breadth of Employee Skillsets:\n",
      "   - The majority of employees possess between 6 and 11 technical skills (with a few having as many as 11 skill tags).\n",
      "   - This suggests a workforce with both depth (some with extensive expertise) and versatility (many with broad, cross-domain capabilities).\n",
      "\n",
      "Retrieval logic and explanation:\n",
      "- The skills distribution and popularity were gathered by counting the number of employees connected to each skill in the database (via the Person-KNOWS-Skill relationship).\n",
      "- Domain counts represent the number of technical accomplishments or activities (Thing nodes) linked to each top-level domain.\n",
      "- The breadth of skills per employee was determined by tallying the number of unique skills each person knows.\n",
      "\n",
      "This analysis provides a clear view of both the most common technical specializations and the organizational capacity for cross-functional work. If you'd like further breakdowns (by department, by trends over time, or for a specific subset), let me know! None None\n"
     ]
    }
   ],
   "execution_count": 31
  },
  {
   "metadata": {
    "ExecuteTime": {
     "end_time": "2025-06-05T16:59:13.296290Z",
     "start_time": "2025-06-05T16:59:13.293348Z"
    }
   },
   "cell_type": "code",
   "source": "display(Markdown(res))",
   "id": "d4b57e29cd88ea26",
   "outputs": [
    {
     "data": {
      "text/plain": [
       "<IPython.core.display.Markdown object>"
      ],
      "text/markdown": "Here is a summary of Cyberdyne Systems' technical talent and skills distribution, based on an analysis of internal employee skill and domain data:\n\n1. Most Popular Technical Skills:\n   - The largest number of employees have proficiency in Python (28 people), followed by SQL (16), AWS (15), and Team Management (14).\n   - Other notable in-demand skills include Machine Learning and Project Management (11 each), Docker (10), and Kubernetes (9).\n   - Artificial Intelligence (AI) skills are widely distributed, with strong representation in Machine Learning, Deep Learning, Computer Vision, and Natural Language Processing.\n   - Additional skills with a moderate presence include Data Engineering, Data Analysis, TensorFlow, PyTorch, Java, JavaScript, Leadership, React, Statistics, and Cloud-related technologies (Google Cloud Platform, AWS, Azure).\n\n2. Distribution Across Technical Domains:\n   - Domains with the most associated activities and accomplishments (such as delivered projects or recognized work) are:\n     - AI (84 activities)\n     - Analytics (24)\n     - Data Engineering (21)\n     - Security (20)\n     - Database and Web (18 each)\n     - Cloud (14), DevOps (13), Mobile (11), Microservices (10), Platform (8)\n\n3. Breadth of Employee Skillsets:\n   - The majority of employees possess between 6 and 11 technical skills (with a few having as many as 11 skill tags).\n   - This suggests a workforce with both depth (some with extensive expertise) and versatility (many with broad, cross-domain capabilities).\n\nRetrieval logic and explanation:\n- The skills distribution and popularity were gathered by counting the number of employees connected to each skill in the database (via the Person-KNOWS-Skill relationship).\n- Domain counts represent the number of technical accomplishments or activities (Thing nodes) linked to each top-level domain.\n- The breadth of skills per employee was determined by tallying the number of unique skills each person knows.\n\nThis analysis provides a clear view of both the most common technical specializations and the organizational capacity for cross-functional work. If you'd like further breakdowns (by department, by trends over time, or for a specific subset), let me know!"
     },
     "metadata": {},
     "output_type": "display_data"
    }
   ],
   "execution_count": 32
  },
  {
   "metadata": {
    "ExecuteTime": {
     "end_time": "2025-06-05T16:59:13.308897Z",
     "start_time": "2025-06-05T16:59:13.304989Z"
    }
   },
   "cell_type": "code",
   "source": "await talent_agent_runner.end_session()",
   "id": "171e4c692a2ac513",
   "outputs": [
    {
     "name": "stdout",
     "output_type": "stream",
     "text": [
      "Session b352afb9-6998-4cd1-b5f1-abe409dc87ed ended successfully\n"
     ]
    },
    {
     "data": {
      "text/plain": [
       "True"
      ]
     },
     "execution_count": 33,
     "metadata": {},
     "output_type": "execute_result"
    }
   ],
   "execution_count": 33
  }
 ],
 "metadata": {
  "kernelspec": {
   "display_name": "Python 3",
   "language": "python",
   "name": "python3"
  },
  "language_info": {
   "codemirror_mode": {
    "name": "ipython",
    "version": 2
   },
   "file_extension": ".py",
   "mimetype": "text/x-python",
   "name": "python",
   "nbconvert_exporter": "python",
   "pygments_lexer": "ipython2",
   "version": "2.7.6"
  }
 },
 "nbformat": 4,
 "nbformat_minor": 5
}

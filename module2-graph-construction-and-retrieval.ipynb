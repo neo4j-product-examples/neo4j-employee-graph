{
 "cells": [
  {
   "metadata": {},
   "cell_type": "markdown",
   "source": [
    "# Graph Construction & Retrieval\n",
    "This notebook demonstrates how constructing a simple starter knowledge graph from documents can help with agent retrieval tools and improve responses.\n",
    "\n",
    "document extraction is actually accomplished in [extract-resumes-to-people.py](extract-resumes-to-people.py) which stages structured people with skills and accomplishments in the [extracted-people-data.json](extracted-people-data.json) file. This is done for convenience for the workshop to avoid throttling OpenAI requests.\n",
    "\n",
    "We are targeting the below schema which will help surface important relationships in a symbolic manner for our agent use cases.\n",
    "\n",
    "![](img/graph-data-model.png)\n",
    "\n"
   ],
   "id": "43b56cfd7a337542"
  },
  {
   "metadata": {
    "collapsed": true,
    "ExecuteTime": {
     "end_time": "2025-06-02T16:43:10.060074Z",
     "start_time": "2025-06-02T16:43:10.055650Z"
    }
   },
   "cell_type": "code",
   "source": [
    "#get env setup\n",
    "import getpass\n",
    "import os\n",
    "from dotenv import load_dotenv\n",
    "\n",
    "#get env setup\n",
    "load_dotenv('nb.env', override=True)\n",
    "\n",
    "if not os.environ.get('NEO4J_URI'):\n",
    "    os.environ['NEO4J_URI'] = getpass.getpass('NEO4J_URI:\\n')\n",
    "if not os.environ.get('NEO4J_USERNAME'):\n",
    "    os.environ['NEO4J_USERNAME'] = getpass.getpass('NEO4J_USERNAME:\\n')\n",
    "if not os.environ.get('NEO4J_PASSWORD'):\n",
    "    os.environ['NEO4J_PASSWORD'] = getpass.getpass('NEO4J_PASSWORD:\\n')\n",
    "\n",
    "NEO4J_URI = os.getenv('NEO4J_URI')\n",
    "NEO4J_USERNAME = os.getenv('NEO4J_USERNAME')\n",
    "NEO4J_PASSWORD = os.getenv('NEO4J_PASSWORD')"
   ],
   "id": "initial_id",
   "outputs": [],
   "execution_count": 3
  },
  {
   "metadata": {
    "ExecuteTime": {
     "end_time": "2025-06-02T16:43:11.987540Z",
     "start_time": "2025-06-02T16:43:11.980748Z"
    }
   },
   "cell_type": "code",
   "source": [
    "import json\n",
    "from person import Person, SkillName\n",
    "\n",
    "#read json models back\n",
    "with open('extracted-people-data.json', 'r') as file:\n",
    "    people_json = json.load(file)\n",
    "people = [Person(**person) for person in people_json]\n",
    "people[0]"
   ],
   "id": "f360aba478ca3c03",
   "outputs": [
    {
     "data": {
      "text/plain": [
       "Person(id='MhzMrjwz', name='Robert Johnson', email='robert.johnson@email.com', current_title='Security Engineer', department=<Department.ENGINEERING: 'Engineering'>, level=<Level.SENIOR: 'Senior'>, hire_date=None, skills=[HasSkill(skill=Skill(name=<SkillName.PYTHON: 'Python'>), proficiency=4, years_experience=4, context='Programming for security automation and scripting', is_primary=False), HasSkill(skill=Skill(name=<SkillName.AWS: 'AWS'>), proficiency=3, years_experience=3, context='Cloud security architecture and compliance', is_primary=False)], accomplishments=[Accomplishment(type=<AccomplishmentType.BUILT: 'BUILT'>, thing=Thing(name='security_monitoring_system_MhzMrjwz', type=<WorkType.SYSTEM: 'SYSTEM'>, domain=<Domain.SECURITY: 'SECURITY'>), impact_description='Detected and prevented 95% of attempted cyber attacks', year=2022, role='Senior Security Engineer', duration=None, team_size=None, context='CyberDefense Corp'), Accomplishment(type=<AccomplishmentType.BUILT: 'BUILT'>, thing=Thing(name='zero_trust_authentication_system_MhzMrjwz', type=<WorkType.SYSTEM: 'SYSTEM'>, domain=<Domain.SECURITY: 'SECURITY'>), impact_description='Implemented for 10,000+ employees using modern identity protocols', year=2022, role='Senior Security Engineer', duration=None, team_size=None, context='CyberDefense Corp'), Accomplishment(type=<AccomplishmentType.BUILT: 'BUILT'>, thing=Thing(name='secure_cloud_infrastructure_MhzMrjwz', type=<WorkType.SYSTEM: 'SYSTEM'>, domain=<Domain.CLOUD: 'CLOUD'>), impact_description='Met SOC2 and HIPAA compliance requirements', year=2022, role='Senior Security Engineer', duration=None, team_size=None, context='CyberDefense Corp'), Accomplishment(type=<AccomplishmentType.LED: 'LED'>, thing=Thing(name='penetration_testing_team_MhzMrjwz', type=<WorkType.TEAM: 'TEAM'>, domain=<Domain.SECURITY: 'SECURITY'>), impact_description='Identified vulnerabilities across 200+ production systems', year=2021, role='Security Engineer', duration=None, team_size=None, context='Financial Services Inc'), Accomplishment(type=<AccomplishmentType.SHIPPED: 'SHIPPED'>, thing=Thing(name='automated_incident_response_platform_MhzMrjwz', type=<WorkType.PRODUCT: 'PRODUCT'>, domain=<Domain.SECURITY: 'SECURITY'>), impact_description='Reduced security breach response time by 70%', year=2021, role='Security Engineer', duration=None, team_size=None, context='Financial Services Inc'), Accomplishment(type=<AccomplishmentType.PUBLISHED: 'PUBLISHED'>, thing=Thing(name='security_research_APT_MhzMrjwz', type=<WorkType.RESEARCH: 'RESEARCH'>, domain=<Domain.SECURITY: 'SECURITY'>), impact_description='Presented at DefCon conference', year=2021, role='Security Engineer', duration=None, team_size=None, context='Financial Services Inc'), Accomplishment(type=<AccomplishmentType.WON: 'WON'>, thing=Thing(name='security_excellence_award_MhzMrjwz', type=<WorkType.AWARD: 'AWARD'>, domain=<Domain.SECURITY: 'SECURITY'>), impact_description='Outstanding contribution to organizational security posture', year=2020, role='Junior Security Analyst', duration=None, team_size=None, context='Government Contractor')], years_experience=5, previous_companies=['CyberDefense Corp', 'Financial Services Inc', 'Government Contractor'], location='Washington, DC')"
      ]
     },
     "execution_count": 4,
     "metadata": {},
     "output_type": "execute_result"
    }
   ],
   "execution_count": 4
  },
  {
   "metadata": {
    "ExecuteTime": {
     "end_time": "2025-06-02T16:43:15.332393Z",
     "start_time": "2025-06-02T16:43:14.275425Z"
    }
   },
   "cell_type": "code",
   "source": [
    "from neo4j import GraphDatabase\n",
    "\n",
    "# load into People nodes in Neo4j\n",
    "\n",
    "#instantiate driver\n",
    "driver = GraphDatabase.driver(NEO4J_URI, auth=(NEO4J_USERNAME, NEO4J_PASSWORD))\n",
    "\n",
    "#test neo4j connection\n",
    "driver.execute_query(\"MATCH(n) RETURN count(n)\")"
   ],
   "id": "773c1aedaa7ff88e",
   "outputs": [
    {
     "data": {
      "text/plain": [
       "EagerResult(records=[<Record count(n)=30>], summary=<neo4j._work.summary.ResultSummary object at 0x16badded0>, keys=['count(n)'])"
      ]
     },
     "execution_count": 5,
     "metadata": {},
     "output_type": "execute_result"
    }
   ],
   "execution_count": 5
  },
  {
   "metadata": {
    "ExecuteTime": {
     "end_time": "2025-06-02T16:43:18.151186Z",
     "start_time": "2025-06-02T16:43:17.836550Z"
    }
   },
   "cell_type": "code",
   "source": [
    "from neo4j import RoutingControl\n",
    "\n",
    "#create uniqueness constraint if not exists\n",
    "driver.execute_query(\n",
    "    'CREATE CONSTRAINT IF NOT EXISTS FOR (n:Person) REQUIRE (n.id) IS NODE KEY',\n",
    "    #database_=DATABASE,\n",
    "    routing_=RoutingControl.WRITE\n",
    ")\n",
    "\n",
    "driver.execute_query(\n",
    "    'CREATE CONSTRAINT IF NOT EXISTS FOR (n:Skill) REQUIRE (n.name) IS NODE KEY',\n",
    "    #database_=DATABASE,\n",
    "    routing_=RoutingControl.WRITE\n",
    ")\n",
    "\n",
    "driver.execute_query(\n",
    "    'CREATE CONSTRAINT IF NOT EXISTS FOR (n:Thing) REQUIRE (n.name) IS NODE KEY',\n",
    "    #database_=DATABASE,\n",
    "    routing_=RoutingControl.WRITE\n",
    ")\n",
    "\n",
    "driver.execute_query(\n",
    "    'CREATE CONSTRAINT IF NOT EXISTS FOR (n:Domain) REQUIRE (n.name) IS NODE KEY',\n",
    "    #database_=DATABASE,\n",
    "    routing_=RoutingControl.WRITE\n",
    ")\n",
    "\n",
    "driver.execute_query(\n",
    "    'CREATE CONSTRAINT IF NOT EXISTS FOR (n:WorkType) REQUIRE (n.name) IS NODE KEY',\n",
    "    #database_=DATABASE,\n",
    "    routing_=RoutingControl.WRITE\n",
    ")\n"
   ],
   "id": "7c0e8ac29b5c21fb",
   "outputs": [
    {
     "data": {
      "text/plain": [
       "EagerResult(records=[], summary=<neo4j._work.summary.ResultSummary object at 0x16baf8450>, keys=[])"
      ]
     },
     "execution_count": 6,
     "metadata": {},
     "output_type": "execute_result"
    }
   ],
   "execution_count": 6
  },
  {
   "metadata": {
    "ExecuteTime": {
     "end_time": "2025-06-02T16:43:20.051337Z",
     "start_time": "2025-06-02T16:43:19.740275Z"
    }
   },
   "cell_type": "code",
   "source": [
    "# merge people\n",
    "def chunks(xs, n=10):\n",
    "    n = max(1, n)\n",
    "    return [xs[i:i + n] for i in range(0, len(xs), n)]\n",
    "\n",
    "for chunk in chunks(people_json):\n",
    "    records = driver.execute_query(\n",
    "        \"\"\"\n",
    "        UNWIND $records AS rec\n",
    "        MERGE(person:Person {id:rec.id})\n",
    "        SET person.name = rec.name,\n",
    "            person.email = rec.email,\n",
    "            person.current_title = rec.current_title,\n",
    "            person.department = rec.department,\n",
    "            person.level = rec.level,\n",
    "            person.years_experience = rec.years_experience,\n",
    "            person.location = rec.location\n",
    "        RETURN count(rec) AS records_upserted\n",
    "        \"\"\",\n",
    "        #database_=DATABASE,\n",
    "        routing_=RoutingControl.WRITE,\n",
    "        result_transformer_= lambda r: r.data(),\n",
    "        records = chunk\n",
    "    )\n",
    "    print(records)"
   ],
   "id": "2f43dbae0fc7ee13",
   "outputs": [
    {
     "name": "stdout",
     "output_type": "stream",
     "text": [
      "[{'records_upserted': 10}]\n",
      "[{'records_upserted': 10}]\n",
      "[{'records_upserted': 10}]\n"
     ]
    }
   ],
   "execution_count": 7
  },
  {
   "metadata": {
    "ExecuteTime": {
     "end_time": "2025-06-02T16:43:22.301407Z",
     "start_time": "2025-06-02T16:43:22.298579Z"
    }
   },
   "cell_type": "code",
   "source": [
    "# merge accomplishments\n",
    "skills = []\n",
    "accomplishments = []\n",
    "for person in people_json:\n",
    "\n",
    "    # extend skills list\n",
    "    tmp_skills = person['skills'].copy()\n",
    "    for skill in tmp_skills:\n",
    "        skill['personId'] = person['id']\n",
    "    skills.extend(tmp_skills)\n",
    "\n",
    "    # extend accomplishments list\n",
    "    tmp_accomplishments = person['accomplishments'].copy()\n",
    "    for accomplishment in tmp_accomplishments:\n",
    "        accomplishment['personId'] = person['id']\n",
    "    accomplishments.extend(tmp_accomplishments)\n",
    "\n"
   ],
   "id": "87cf463963380cd0",
   "outputs": [],
   "execution_count": 8
  },
  {
   "metadata": {
    "ExecuteTime": {
     "end_time": "2025-06-02T16:43:24.065286Z",
     "start_time": "2025-06-02T16:43:24.062657Z"
    }
   },
   "cell_type": "code",
   "source": "skills[:3]",
   "id": "414c35c1b4026f0e",
   "outputs": [
    {
     "data": {
      "text/plain": [
       "[{'skill': {'name': 'Python'},\n",
       "  'proficiency': 4,\n",
       "  'years_experience': 4,\n",
       "  'context': 'Programming for security automation and scripting',\n",
       "  'is_primary': False,\n",
       "  'personId': 'MhzMrjwz'},\n",
       " {'skill': {'name': 'AWS'},\n",
       "  'proficiency': 3,\n",
       "  'years_experience': 3,\n",
       "  'context': 'Cloud security architecture and compliance',\n",
       "  'is_primary': False,\n",
       "  'personId': 'MhzMrjwz'},\n",
       " {'skill': {'name': 'Swift'},\n",
       "  'proficiency': 2,\n",
       "  'years_experience': 1,\n",
       "  'context': 'Used for developing banking mobile app and iOS applications during internship and bootcamp.',\n",
       "  'is_primary': True,\n",
       "  'personId': '5BiANRmk'}]"
      ]
     },
     "execution_count": 9,
     "metadata": {},
     "output_type": "execute_result"
    }
   ],
   "execution_count": 9
  },
  {
   "metadata": {
    "ExecuteTime": {
     "end_time": "2025-06-02T16:43:25.570193Z",
     "start_time": "2025-06-02T16:43:25.567235Z"
    }
   },
   "cell_type": "code",
   "source": "accomplishments[:2]",
   "id": "4819f23970f775ad",
   "outputs": [
    {
     "data": {
      "text/plain": [
       "[{'type': 'BUILT',\n",
       "  'thing': {'name': 'security_monitoring_system_MhzMrjwz',\n",
       "   'type': 'SYSTEM',\n",
       "   'domain': 'SECURITY'},\n",
       "  'impact_description': 'Detected and prevented 95% of attempted cyber attacks',\n",
       "  'year': 2022,\n",
       "  'role': 'Senior Security Engineer',\n",
       "  'duration': None,\n",
       "  'team_size': None,\n",
       "  'context': 'CyberDefense Corp',\n",
       "  'personId': 'MhzMrjwz'},\n",
       " {'type': 'BUILT',\n",
       "  'thing': {'name': 'zero_trust_authentication_system_MhzMrjwz',\n",
       "   'type': 'SYSTEM',\n",
       "   'domain': 'SECURITY'},\n",
       "  'impact_description': 'Implemented for 10,000+ employees using modern identity protocols',\n",
       "  'year': 2022,\n",
       "  'role': 'Senior Security Engineer',\n",
       "  'duration': None,\n",
       "  'team_size': None,\n",
       "  'context': 'CyberDefense Corp',\n",
       "  'personId': 'MhzMrjwz'}]"
      ]
     },
     "execution_count": 10,
     "metadata": {},
     "output_type": "execute_result"
    }
   ],
   "execution_count": 10
  },
  {
   "metadata": {
    "ExecuteTime": {
     "end_time": "2025-06-02T16:43:28.979593Z",
     "start_time": "2025-06-02T16:43:27.243534Z"
    }
   },
   "cell_type": "code",
   "source": [
    "for chunk in chunks(skills):\n",
    "    records = driver.execute_query(\n",
    "        \"\"\"\n",
    "        UNWIND $records AS rec\n",
    "        MATCH(person:Person {id:rec.personId})\n",
    "        MERGE(skill:Skill {name:rec.skill.name})\n",
    "        MERGE(person)-[r:KNOWS]->(skill)\n",
    "        SET r.proficiency = rec.proficiency,\n",
    "            r.years_experience = rec.years_experience,\n",
    "            r.context  = rec.context,\n",
    "            r.is_primary = rec.is_primary\n",
    "        RETURN count(rec) AS records_upserted\n",
    "        \"\"\",\n",
    "        #database_=DATABASE,\n",
    "        routing_=RoutingControl.WRITE,\n",
    "        result_transformer_= lambda r: r.data(),\n",
    "        records = chunk\n",
    "    )\n",
    "    print(records)"
   ],
   "id": "57ced8db1a6dc4ed",
   "outputs": [
    {
     "name": "stdout",
     "output_type": "stream",
     "text": [
      "[{'records_upserted': 10}]\n",
      "[{'records_upserted': 10}]\n",
      "[{'records_upserted': 10}]\n",
      "[{'records_upserted': 10}]\n",
      "[{'records_upserted': 10}]\n",
      "[{'records_upserted': 10}]\n",
      "[{'records_upserted': 10}]\n",
      "[{'records_upserted': 10}]\n",
      "[{'records_upserted': 10}]\n",
      "[{'records_upserted': 10}]\n",
      "[{'records_upserted': 10}]\n",
      "[{'records_upserted': 10}]\n",
      "[{'records_upserted': 10}]\n",
      "[{'records_upserted': 10}]\n",
      "[{'records_upserted': 10}]\n",
      "[{'records_upserted': 10}]\n",
      "[{'records_upserted': 10}]\n",
      "[{'records_upserted': 10}]\n",
      "[{'records_upserted': 10}]\n",
      "[{'records_upserted': 10}]\n",
      "[{'records_upserted': 10}]\n",
      "[{'records_upserted': 10}]\n",
      "[{'records_upserted': 2}]\n"
     ]
    }
   ],
   "execution_count": 11
  },
  {
   "metadata": {
    "ExecuteTime": {
     "end_time": "2025-06-02T16:43:33.271646Z",
     "start_time": "2025-06-02T16:43:31.293035Z"
    }
   },
   "cell_type": "code",
   "source": [
    "for chunk in chunks(accomplishments):\n",
    "    records = driver.execute_query(\n",
    "        \"\"\"\n",
    "        UNWIND $records AS rec\n",
    "\n",
    "        //match people\n",
    "        MATCH(person:Person {id:rec.personId})\n",
    "\n",
    "        //merge accomplishments\n",
    "        MERGE(thing:Thing {name:rec.thing.name})\n",
    "        MERGE(person)-[r:$(rec.type)]->(thing)\n",
    "        SET r.impact_description = rec.impact_description,\n",
    "            r.year = rec.year,\n",
    "            r.role  = rec.role,\n",
    "            r.duration = rec.duration,\n",
    "            r.team_size = rec.team_size,\n",
    "            r.context  = rec.context\n",
    "\n",
    "        //merge domain and work type\n",
    "        MERGE(Domain:Domain {name:rec.thing.domain})\n",
    "        MERGE(thing)-[:IN]->(Domain)\n",
    "        MERGE(WorkType:WorkType {name:rec.thing.type})\n",
    "        MERGE(thing)-[:OF]->(WorkType)\n",
    "\n",
    "        RETURN count(rec) AS records_upserted\n",
    "        \"\"\",\n",
    "        #database_=DATABASE,\n",
    "        routing_=RoutingControl.WRITE,\n",
    "        result_transformer_= lambda r: r.data(),\n",
    "        records = chunk\n",
    "    )\n",
    "    print(records)"
   ],
   "id": "a838137ec8ddc5a1",
   "outputs": [
    {
     "name": "stdout",
     "output_type": "stream",
     "text": [
      "[{'records_upserted': 10}]\n",
      "[{'records_upserted': 10}]\n",
      "[{'records_upserted': 10}]\n",
      "[{'records_upserted': 10}]\n",
      "[{'records_upserted': 10}]\n",
      "[{'records_upserted': 10}]\n",
      "[{'records_upserted': 10}]\n",
      "[{'records_upserted': 10}]\n",
      "[{'records_upserted': 10}]\n",
      "[{'records_upserted': 10}]\n",
      "[{'records_upserted': 10}]\n",
      "[{'records_upserted': 10}]\n",
      "[{'records_upserted': 10}]\n",
      "[{'records_upserted': 10}]\n",
      "[{'records_upserted': 10}]\n",
      "[{'records_upserted': 10}]\n",
      "[{'records_upserted': 10}]\n",
      "[{'records_upserted': 10}]\n",
      "[{'records_upserted': 10}]\n",
      "[{'records_upserted': 10}]\n",
      "[{'records_upserted': 10}]\n",
      "[{'records_upserted': 10}]\n",
      "[{'records_upserted': 10}]\n",
      "[{'records_upserted': 10}]\n",
      "[{'records_upserted': 1}]\n"
     ]
    }
   ],
   "execution_count": 12
  },
  {
   "metadata": {
    "ExecuteTime": {
     "end_time": "2025-06-02T16:43:35.536130Z",
     "start_time": "2025-06-02T16:43:35.527176Z"
    }
   },
   "cell_type": "code",
   "source": [
    "# build adk agent with neo4j mcp\n",
    "from person import Domain, WorkType, SkillName\n",
    "from google.adk.models.lite_llm import LiteLlm\n",
    "from google.adk.agents import Agent\n",
    "from google.adk.tools.mcp_tool.mcp_toolset import MCPToolset, StdioServerParameters\n",
    "\n",
    "database_agent = Agent(\n",
    "    name=\"graph_database_agent\",\n",
    "    # model=\"gemini-2.0-flash-exp\",\n",
    "    model=LiteLlm(model=\"openai/gpt-4.1\"),\n",
    "    # model=LiteLlm(model=\"anthropic/claude-sonnet-4-20250514\"),\n",
    "    description=\"\"\"\n",
    "    Agent to access knowledge graph stored in graph database\n",
    "    \"\"\",\n",
    "    instruction=f\"\"\"\n",
    "      You are an Neo4j graph database and Cypher query expert, that must use the database schema with a user question and repeatedly generate valid cypher statements to execute on the database and answer the user's questions in a friendly manner in natural language. You can also directly return a graph schema when requested.\n",
    "\n",
    "      For generating queries:\n",
    "      If in doubt, the database schema is always prioritized when it comes to nodes-types (labels) or relationship-types or property names, never take the user's input at face value.\n",
    "      If the user requests, also render tables, charts or other artifacts with the query results.\n",
    "      Always validate the correct node-labels at the end of a relationship based on the schema.\n",
    "      If a query fails or doesn't return data, use the error response 3 times to try to fix the generated query and re-run it, don't return the error to the user.\n",
    "      If you cannot fix the query, explain the issue to the user and apologize.\n",
    "\n",
    "      Fetch the graph database schema first and keep it in session memory to access later for query generation. Also keep in mind the below standardized property values:\n",
    "      - For Domain.name The standard values are {[i.value for i in Domain]}\n",
    "      - For WorkType.name The standard values are {[i.value for i in WorkType]}\n",
    "      - For Skill.name The standard values are {[i.value for i in SkillName]}\n",
    "\n",
    "      Not that when asks to find or search for similarities between people based on accomplishments you may have to go out multiple hops for example the most generic way to find similar people is like the following  multi-hop pattern:\n",
    "      `MATCH p=(:Person {{id:\"123\"}})--()( (:!Person)--() ){{0,3}}(:Person {{id: \"456\"}})`\n",
    "\n",
    "      When responding always explain the logic you used in natural language to the user.  Explain the query logic, steps, what you tried but don't show literal code or expect them to understand Cypher.\n",
    "\n",
    "      Keep results of previous executions in session memory and access if needed, for instance ids or other attributes of nodes to find them again\n",
    "      removing the need to ask the user. This also allows for generating shorter, more focused and less error-prone queries to for drill downs, sequences and loops.\n",
    "      If possible resolve names to primary keys or ids and use those for looking up entities.\n",
    "      The schema always indicates *outgoing* relationship-types from an entity to another entity, the graph patterns read like english language.\n",
    "      `company has supplier` would be the pattern `(o:Organization)-[:HAS_SUPPLIER]->(s:Organization)`\n",
    "\n",
    "      To get the schema of a database use the `get_schema` tool without parameters. Store the response of the schema tool in session context\n",
    "      to access later for query generation.\n",
    "\n",
    "      To answer a user question generate one or more Cypher statements based on the database schema and the parts of the user question.\n",
    "      If necessary resolve categorical attributes (like names, countries, industries, publications) first by retrieving them for a set of entities to translate from the user's request.\n",
    "      Use the `read_neo4j_cypher` tool repeatedly with the Cypher statements, you MUST generate statements that use named query parameters with `$parameter` style names\n",
    "      and MUST pass them as a second dictionary parameter to the tool, even if empty.\n",
    "      Parameter data can come from the users requests, prior query results or additional lookup queries.\n",
    "      After the data for the question has been sufficiently retrieved, pass the data and control back to the parent agent.\n",
    "    \"\"\",\n",
    "    tools=[MCPToolset(\n",
    "        connection_params=StdioServerParameters(\n",
    "            command='uvx',\n",
    "            args=[\n",
    "                \"mcp-neo4j-cypher\",\n",
    "            ],\n",
    "            env={ k: os.environ[k] for k in [\"NEO4J_URI\",\"NEO4J_USERNAME\",\"NEO4J_PASSWORD\"] }\n",
    "        ),\n",
    "        tool_filter=['get_neo4j_schema','read_neo4j_cypher']\n",
    "    )]\n",
    ")\n",
    "\n",
    "from google.adk.runners import InMemoryRunner\n",
    "from google.genai.types import Part, UserContent\n",
    "\n",
    "APP_NAME = 'Database Agent'\n",
    "USER_ID = 'Zach Blumenfeld'\n",
    "\n",
    "\n",
    "runner = InMemoryRunner(app_name=APP_NAME, agent=database_agent)\n",
    "\n",
    "session = await runner.session_service.create_session( app_name=runner.app_name, user_id=USER_ID)\n",
    "\n",
    "async def run_prompt(new_message: str):\n",
    "  content = UserContent(parts=[Part(text=new_message)])\n",
    "  result = None\n",
    "  async for event in runner.run_async(user_id=session.user_id, session_id=session.id, new_message=content):\n",
    "    for part in event.content.parts:\n",
    "      print(part.text, part.function_call, part.function_response)\n",
    "      if part.text:\n",
    "        result = part.text\n",
    "  return result"
   ],
   "id": "827e35ccd8fac8c9",
   "outputs": [],
   "execution_count": 13
  },
  {
   "metadata": {
    "ExecuteTime": {
     "end_time": "2025-06-02T16:44:45.192734Z",
     "start_time": "2025-06-02T16:44:19.056750Z"
    }
   },
   "cell_type": "code",
   "source": [
    "from IPython.display import Markdown, display\n",
    "\n",
    "res = await run_prompt(\"Who shares the most similar types of accomplishments to our PhDs but isn't themselves a PhD?.\")\n",
    "print(\"\\n\\n\\n\\nFinal Response:\")\n",
    "display(Markdown(res))"
   ],
   "id": "afed2c0fabae69bb",
   "outputs": [
    {
     "name": "stdout",
     "output_type": "stream",
     "text": [
      "None id='call_Sv9ey4KNZ17PJUP3pwb9lV2n' args={} name='get_neo4j_schema' None\n",
      "None None will_continue=None scheduling=None id='call_Sv9ey4KNZ17PJUP3pwb9lV2n' name='get_neo4j_schema' response={'result': CallToolResult(meta=None, content=[TextContent(type='text', text='[{\"label\": \"Person\", \"attributes\": {\"id\": \"STRING indexed\", \"current_title\": \"STRING\", \"text\": \"STRING\", \"level\": \"STRING\", \"location\": \"STRING\", \"email\": \"STRING\", \"department\": \"STRING\", \"name\": \"STRING\", \"years_experience\": \"INTEGER\", \"embedding\": \"LIST\"}, \"relationships\": {\"BUILT\": \"Thing\", \"WON\": \"Thing\", \"SHIPPED\": \"Thing\", \"KNOWS\": \"Skill\", \"PUBLISHED\": \"Thing\", \"OPTIMIZED\": \"Thing\", \"LED\": \"Thing\", \"MANAGED\": \"Thing\"}}, {\"label\": \"Skill\", \"attributes\": {\"name\": \"STRING indexed\"}, \"relationships\": {}}, {\"label\": \"Thing\", \"attributes\": {\"name\": \"STRING indexed\"}, \"relationships\": {\"IN\": \"Domain\", \"OF\": \"WorkType\"}}, {\"label\": \"Domain\", \"attributes\": {\"name\": \"STRING indexed\"}, \"relationships\": {}}, {\"label\": \"WorkType\", \"attributes\": {\"name\": \"STRING indexed\"}, \"relationships\": {}}]', annotations=None)], isError=False)}\n",
      "None id='call_17d25Cs0H15ccuQ0OACr54sM' args={'query': \"// Step 1: Find PhDs and their accomplishment patterns\\nMATCH (phd:Person)\\nWHERE phd.level = 'PhD'\\nOPTIONAL MATCH (phd)-[r:BUILT|WON|SHIPPED|PUBLISHED|OPTIMIZED|LED|MANAGED]->(thing:Thing)\\nWITH phd, COLLECT(DISTINCT [TYPE(r), thing.name, thing]) AS phd_accomplishments\\n// Step 2: Find non-PhD persons and their accomplishment patterns\\nMATCH (nonphd:Person)\\nWHERE coalesce(nonphd.level,'') <> 'PhD'\\nOPTIONAL MATCH (nonphd)-[r2:BUILT|WON|SHIPPED|PUBLISHED|OPTIMIZED|LED|MANAGED]->(thing2:Thing)\\nWITH phd, phd_accomplishments, nonphd, COLLECT(DISTINCT [TYPE(r2), thing2.name, thing2]) AS nonphd_accomplishments\\n// Step 3: Calculate overlap between PhD and non-PhD accomplishment types\\nWITH phd, nonphd, apoc.coll.intersection([x IN phd_accomplishments | x[0]], [y IN nonphd_accomplishments | y[0]]) AS shared_types\\nWHERE SIZE(shared_types) > 0\\nRETURN nonphd.id AS person_id, nonphd.name AS person_name, COUNT(DISTINCT shared_types) AS shared_count\\nORDER BY shared_count DESC, person_name\\nLIMIT 5\"} name='read_neo4j_cypher' None\n",
      "None None will_continue=None scheduling=None id='call_17d25Cs0H15ccuQ0OACr54sM' name='read_neo4j_cypher' response={'result': CallToolResult(meta=None, content=[TextContent(type='text', text='[]', annotations=None)], isError=False)}\n",
      "None id='call_UKNlv0uE07C7UKrEMHwSrSZz' args={'query': \"// Maybe the logic for shared_types count was off or there’s missing data, so let’s aggregate by non-PhDs and count shared accomplishment types over ALL PhDs collectively\\nMATCH (phd:Person)\\nWHERE phd.level = 'PhD'\\nOPTIONAL MATCH (phd)-[r:BUILT|WON|SHIPPED|PUBLISHED|OPTIMIZED|LED|MANAGED]->(thing:Thing)\\nWITH COLLECT(DISTINCT TYPE(r)) AS phd_accomplishment_types\\nMATCH (nonphd:Person)\\nWHERE coalesce(nonphd.level,'') <> 'PhD'\\nOPTIONAL MATCH (nonphd)-[r2:BUILT|WON|SHIPPED|PUBLISHED|OPTIMIZED|LED|MANAGED]->(thing2:Thing)\\nWITH nonphd, COLLECT(DISTINCT TYPE(r2)) AS nonphd_types, phd_accomplishment_types\\nWITH nonphd, apoc.coll.intersection(nonphd_types, phd_accomplishment_types) AS shared_types\\nWHERE SIZE(shared_types) > 0\\nRETURN nonphd.id AS person_id, nonphd.name AS person_name, SIZE(shared_types) AS shared_count, shared_types\\nORDER BY shared_count DESC, person_name\\nLIMIT 5\"} name='read_neo4j_cypher' None\n",
      "None None will_continue=None scheduling=None id='call_UKNlv0uE07C7UKrEMHwSrSZz' name='read_neo4j_cypher' response={'result': CallToolResult(meta=None, content=[TextContent(type='text', text='[]', annotations=None)], isError=False)}\n",
      "None id='call_XhCvc5xLL7WOHPyOWxjT2t76' args={'query': \"// Try a more generic approach, ignore accomplishment types and just look for overlap in accomplishment Thing names\\nMATCH (phd:Person)\\nWHERE phd.level = 'PhD'\\nOPTIONAL MATCH (phd)-[r1:BUILT|WON|SHIPPED|PUBLISHED|OPTIMIZED|LED|MANAGED]->(thing1:Thing)\\nWITH COLLECT(DISTINCT thing1.name) AS phd_thing_names\\nMATCH (nonphd:Person)\\nWHERE coalesce(nonphd.level,'') <> 'PhD'\\nOPTIONAL MATCH (nonphd)-[r2:BUILT|WON|SHIPPED|PUBLISHED|OPTIMIZED|LED|MANAGED]->(thing2:Thing)\\nWITH nonphd, COLLECT(DISTINCT thing2.name) AS nonphd_thing_names, phd_thing_names\\nWITH nonphd, apoc.coll.intersection(nonphd_thing_names, phd_thing_names) AS shared_things\\nWHERE SIZE(shared_things) > 0\\nRETURN nonphd.id AS person_id, nonphd.name AS person_name, SIZE(shared_things) AS shared_count, shared_things\\nORDER BY shared_count DESC, person_name\\nLIMIT 5\"} name='read_neo4j_cypher' None\n",
      "None None will_continue=None scheduling=None id='call_XhCvc5xLL7WOHPyOWxjT2t76' name='read_neo4j_cypher' response={'result': CallToolResult(meta=None, content=[TextContent(type='text', text='[]', annotations=None)], isError=False)}\n",
      "I attempted several approaches to identify non-PhDs who share the most similar types of accomplishments—meaning the nature and kind of achievements or projects—with your PhDs. My strategies included:\n",
      "\n",
      "1. Comparing the types of accomplishments (like \"built,\" \"published,\" \"shipped,\" etc.) between individual PhDs and other people.\n",
      "2. Comparing these accomplishment types collectively between all PhDs and all non-PhDs.\n",
      "3. Looking for overlap in the specific names of things accomplished by PhDs and non-PhDs, regardless of accomplishment type.\n",
      "\n",
      "However, all these attempts did not return any matching results. This strongly suggests that no non-PhD in your database currently shares the same types or names of accomplishments as your PhDs, or that there is not enough overlap in the available data.\n",
      "\n",
      "If you'd like, I can investigate further, perhaps by relaxing the criteria or by exploring people who share similar skills, domains, or work types with your PhDs. Let me know how you'd like to proceed! None None\n",
      "\n",
      "\n",
      "\n",
      "\n",
      "Final Response:\n"
     ]
    },
    {
     "ename": "NameError",
     "evalue": "name 'Markdown' is not defined",
     "output_type": "error",
     "traceback": [
      "\u001B[31m---------------------------------------------------------------------------\u001B[39m",
      "\u001B[31mNameError\u001B[39m                                 Traceback (most recent call last)",
      "\u001B[36mCell\u001B[39m\u001B[36m \u001B[39m\u001B[32mIn[14]\u001B[39m\u001B[32m, line 3\u001B[39m\n\u001B[32m      1\u001B[39m res = \u001B[38;5;28;01mawait\u001B[39;00m run_prompt(\u001B[33m\"\u001B[39m\u001B[33mWho shares the most similar types of accomplishments to our PhDs but isn\u001B[39m\u001B[33m'\u001B[39m\u001B[33mt themselves a PhD?.\u001B[39m\u001B[33m\"\u001B[39m)\n\u001B[32m      2\u001B[39m \u001B[38;5;28mprint\u001B[39m(\u001B[33m\"\u001B[39m\u001B[38;5;130;01m\\n\u001B[39;00m\u001B[38;5;130;01m\\n\u001B[39;00m\u001B[38;5;130;01m\\n\u001B[39;00m\u001B[38;5;130;01m\\n\u001B[39;00m\u001B[33mFinal Response:\u001B[39m\u001B[33m\"\u001B[39m)\n\u001B[32m----> \u001B[39m\u001B[32m3\u001B[39m display(\u001B[43mMarkdown\u001B[49m(res))\n",
      "\u001B[31mNameError\u001B[39m: name 'Markdown' is not defined"
     ]
    }
   ],
   "execution_count": 14
  },
  {
   "metadata": {
    "ExecuteTime": {
     "end_time": "2025-06-02T16:45:22.337912Z",
     "start_time": "2025-06-02T16:45:19.495881Z"
    }
   },
   "cell_type": "code",
   "source": [
    "# ask some questions\n",
    "from IPython.display import Markdown, display\n",
    "\n",
    "res = await run_prompt('How many people have Python Skills?')\n",
    "print(\"\\n\\n\\n\\nFinal Response:\")\n",
    "display(Markdown(res))"
   ],
   "id": "1d49fa65a60aa367",
   "outputs": [
    {
     "name": "stdout",
     "output_type": "stream",
     "text": [
      "None id='call_B0UW2VwbnTZ60b6O16xKrB0W' args={'query': \"MATCH (p:Person)-[:KNOWS]->(s:Skill {name: 'Python'}) RETURN COUNT(DISTINCT p) AS python_skill_count\"} name='read_neo4j_cypher' None\n",
      "None None will_continue=None scheduling=None id='call_B0UW2VwbnTZ60b6O16xKrB0W' name='read_neo4j_cypher' response={'result': CallToolResult(meta=None, content=[TextContent(type='text', text='[{\"python_skill_count\": 28}]', annotations=None)], isError=False)}\n",
      "There are 28 people in your database who have Python skills.\n",
      "\n",
      "To reach this answer, I checked for all Person nodes connected via the \"KNOWS\" relationship to the Skill node with the name \"Python\" and counted them. Let me know if you want to see who they are or explore their other skills! None None\n",
      "\n",
      "\n",
      "\n",
      "\n",
      "Final Response:\n"
     ]
    },
    {
     "data": {
      "text/plain": [
       "<IPython.core.display.Markdown object>"
      ],
      "text/markdown": "There are 28 people in your database who have Python skills.\n\nTo reach this answer, I checked for all Person nodes connected via the \"KNOWS\" relationship to the Skill node with the name \"Python\" and counted them. Let me know if you want to see who they are or explore their other skills!"
     },
     "metadata": {},
     "output_type": "display_data"
    }
   ],
   "execution_count": 15
  },
  {
   "metadata": {
    "ExecuteTime": {
     "end_time": "2025-06-02T16:45:30.880440Z",
     "start_time": "2025-06-02T16:45:28.654761Z"
    }
   },
   "cell_type": "code",
   "source": [
    "# ask some questions\n",
    "from IPython.display import Markdown, display\n",
    "\n",
    "res = await run_prompt('How many people have React skills?')\n",
    "print(\"\\n\\n\\n\\nFinal Response:\")\n",
    "display(Markdown(res))"
   ],
   "id": "232afe66b8bbeb3",
   "outputs": [
    {
     "name": "stdout",
     "output_type": "stream",
     "text": [
      "None id='call_PT6EUyZxJnw042p5DsptvgKw' args={'query': \"MATCH (p:Person)-[:KNOWS]->(s:Skill {name: 'React'}) RETURN COUNT(DISTINCT p) AS react_skill_count\"} name='read_neo4j_cypher' None\n",
      "None None will_continue=None scheduling=None id='call_PT6EUyZxJnw042p5DsptvgKw' name='read_neo4j_cypher' response={'result': CallToolResult(meta=None, content=[TextContent(type='text', text='[{\"react_skill_count\": 5}]', annotations=None)], isError=False)}\n",
      "There are 5 people in your database who have React skills.\n",
      "\n",
      "I determined this by searching for Person nodes connected to the Skill node named \"React\" through the \"KNOWS\" relationship. If you'd like more details—such as who these individuals are or their other skills—just let me know! None None\n",
      "\n",
      "\n",
      "\n",
      "\n",
      "Final Response:\n"
     ]
    },
    {
     "data": {
      "text/plain": [
       "<IPython.core.display.Markdown object>"
      ],
      "text/markdown": "There are 5 people in your database who have React skills.\n\nI determined this by searching for Person nodes connected to the Skill node named \"React\" through the \"KNOWS\" relationship. If you'd like more details—such as who these individuals are or their other skills—just let me know!"
     },
     "metadata": {},
     "output_type": "display_data"
    }
   ],
   "execution_count": 16
  },
  {
   "metadata": {
    "ExecuteTime": {
     "end_time": "2025-06-02T15:32:31.376635Z",
     "start_time": "2025-06-02T15:32:23.475030Z"
    }
   },
   "cell_type": "code",
   "source": [
    "# ask some questions\n",
    "from IPython.display import Markdown, display\n",
    "\n",
    "res = await run_prompt(\"Who should be on our new AI tiger team where we will use Google ADK and Langchain to make a chatbot? What Are the Skill Gaps?\")\n",
    "print(\"\\n\\n\\n\\nFinal Response:\")\n",
    "display(Markdown(res))"
   ],
   "id": "1b68094222abc004",
   "outputs": [
    {
     "name": "stdout",
     "output_type": "stream",
     "text": [
      "None id='call_v7ujPivYl5Ws91iQ1k3bzLVf' args={'query': \"MATCH (s:Skill) WHERE s.name IN ['Google ADK', 'Langchain', 'AI'] RETURN s.name AS available_skills\"} name='read_neo4j_cypher' None\n",
      "None None will_continue=None scheduling=None id='call_v7ujPivYl5Ws91iQ1k3bzLVf' name='read_neo4j_cypher' response={'result': CallToolResult(meta=None, content=[TextContent(type='text', text='[]', annotations=None)], isError=False)}\n",
      "None id='call_KRuwPJYU0pXDFLqwtlGQIvtr' args={'query': 'MATCH (s:Skill) RETURN DISTINCT s.name AS skill_name'} name='read_neo4j_cypher' None\n",
      "None None will_continue=None scheduling=None id='call_KRuwPJYU0pXDFLqwtlGQIvtr' name='read_neo4j_cypher' response={'result': CallToolResult(meta=None, content=[TextContent(type='text', text='[{\"skill_name\": \"AWS\"}, {\"skill_name\": \"Business Intelligence\"}, {\"skill_name\": \"Cloud Architecture\"}, {\"skill_name\": \"Communication\"}, {\"skill_name\": \"Computer Vision\"}, {\"skill_name\": \"Data Analysis\"}, {\"skill_name\": \"Data Engineering\"}, {\"skill_name\": \"Data Science\"}, {\"skill_name\": \"Deep Learning\"}, {\"skill_name\": \"Docker\"}, {\"skill_name\": \"Java\"}, {\"skill_name\": \"JavaScript\"}, {\"skill_name\": \"Kubernetes\"}, {\"skill_name\": \"Leadership\"}, {\"skill_name\": \"Machine Learning\"}, {\"skill_name\": \"Natural Language Processing\"}, {\"skill_name\": \"Product Management\"}, {\"skill_name\": \"Product Strategy\"}, {\"skill_name\": \"Project Management\"}, {\"skill_name\": \"Python\"}, {\"skill_name\": \"R\"}, {\"skill_name\": \"SQL\"}, {\"skill_name\": \"Statistics\"}, {\"skill_name\": \"Team Management\"}]', annotations=None)], isError=False)}\n",
      "None id='call_DwZNfh5vAKArUpSFwhMLH9l0' args={'query': \"MATCH (p:Person)-[:KNOWS]->(s:Skill) WHERE s.name IN ['AI', 'Machine Learning', 'Natural Language Processing', 'Deep Learning', 'Python'] RETURN p.name AS person, collect(s.name) AS skills\"} name='read_neo4j_cypher' None\n",
      "None None will_continue=None scheduling=None id='call_DwZNfh5vAKArUpSFwhMLH9l0' name='read_neo4j_cypher' response={'result': CallToolResult(meta=None, content=[TextContent(type='text', text='[{\"person\": \"Dr. Amanda Foster\", \"skills\": [\"Machine Learning\", \"Natural Language Processing\", \"Deep Learning\", \"Python\"]}, {\"person\": \"Fatima Al-Zahra\", \"skills\": [\"Machine Learning\", \"Python\"]}, {\"person\": \"Emily Chen\", \"skills\": [\"Machine Learning\", \"Python\"]}, {\"person\": \"Sarah Chen\", \"skills\": [\"Machine Learning\", \"Natural Language Processing\", \"Deep Learning\", \"Python\"]}, {\"person\": \"Isabella Rossi\", \"skills\": [\"Machine Learning\", \"Natural Language Processing\", \"Python\"]}, {\"person\": \"Kenji Tanaka\", \"skills\": [\"Machine Learning\", \"Natural Language Processing\", \"Deep Learning\", \"Python\"]}, {\"person\": \"Elena Popov\", \"skills\": [\"Machine Learning\", \"Deep Learning\", \"Python\"]}, {\"person\": \"Aisha Patel\", \"skills\": [\"Machine Learning\", \"Natural Language Processing\", \"Deep Learning\", \"Python\"]}, {\"person\": \"Lisa Wang\", \"skills\": [\"Machine Learning\", \"Python\"]}, {\"person\": \"Rachel Thompson\", \"skills\": [\"Machine Learning\", \"Python\"]}, {\"person\": \"Lucas Martinez\", \"skills\": [\"Machine Learning\", \"Natural Language Processing\", \"Python\"]}, {\"person\": \"Natasha Volkov\", \"skills\": [\"Deep Learning\", \"Python\"]}, {\"person\": \"Kai Wong\", \"skills\": [\"Python\"]}, {\"person\": \"Miguel Santos\", \"skills\": [\"Python\"]}, {\"person\": \"Omar Ibrahim\", \"skills\": [\"Python\"]}, {\"person\": \"Ahmed Hassan\", \"skills\": [\"Python\"]}, {\"person\": \"Monica Garcia\", \"skills\": [\"Python\"]}, {\"person\": \"Robert Johnson\", \"skills\": [\"Python\"]}, {\"person\": \"Yuki Matsuda\", \"skills\": [\"Python\"]}, {\"person\": \"David Kim\", \"skills\": [\"Python\"]}, {\"person\": \"Jennifer Park\", \"skills\": [\"Python\"]}, {\"person\": \"James Mitchell\", \"skills\": [\"Python\"]}, {\"person\": \"Priya Sharma\", \"skills\": [\"Python\"]}, {\"person\": \"Viktor Petrov\", \"skills\": [\"Python\"]}, {\"person\": \"Benjamin Clark\", \"skills\": [\"Python\"]}, {\"person\": \"Carlos Rivera\", \"skills\": [\"Python\"]}, {\"person\": \"Sophia Kim\", \"skills\": [\"Python\"]}, {\"person\": \"Ryan O\\'Reilly\", \"skills\": [\"Python\"]}]', annotations=None)], isError=False)}\n",
      "To build your new AI tiger team for the chatbot project using Google ADK and Langchain, I looked for people with relevant skills in \"AI\", \"Machine Learning\", \"Natural Language Processing\", \"Deep Learning\", and \"Python\". Here are several strong candidates:\n",
      "\n",
      "- Dr. Amanda Foster: Machine Learning, Natural Language Processing, Deep Learning, Python\n",
      "- Sarah Chen: Machine Learning, Natural Language Processing, Deep Learning, Python\n",
      "- Kenji Tanaka: Machine Learning, Natural Language Processing, Deep Learning, Python\n",
      "- Aisha Patel: Machine Learning, Natural Language Processing, Deep Learning, Python\n",
      "- Elena Popov: Machine Learning, Deep Learning, Python\n",
      "- Isabella Rossi: Machine Learning, Natural Language Processing, Python\n",
      "\n",
      "Others have strong skills in Python and Machine Learning only.\n",
      "\n",
      "Skill Gaps:\n",
      "- There are currently no people in the database with \"Google ADK\" or \"Langchain\" explicitly listed as skills.\n",
      "- You have excellent coverage in Python, Machine Learning, Deep Learning, and NLP, but will need to address the specific technologies (Google ADK, Langchain) through training or hiring.\n",
      "\n",
      "Suggested Action:\n",
      "- Assemble your team from the people listed above for strong AI and Python expertise.\n",
      "- Plan to upskill team members in Google ADK and Langchain to cover project needs.\n",
      "\n",
      "If you want a complete table of candidate names and their specific skills, just let me know! None None\n",
      "\n",
      "\n",
      "\n",
      "\n",
      "Final Response:\n"
     ]
    },
    {
     "data": {
      "text/plain": [
       "<IPython.core.display.Markdown object>"
      ],
      "text/markdown": "To build your new AI tiger team for the chatbot project using Google ADK and Langchain, I looked for people with relevant skills in \"AI\", \"Machine Learning\", \"Natural Language Processing\", \"Deep Learning\", and \"Python\". Here are several strong candidates:\n\n- Dr. Amanda Foster: Machine Learning, Natural Language Processing, Deep Learning, Python\n- Sarah Chen: Machine Learning, Natural Language Processing, Deep Learning, Python\n- Kenji Tanaka: Machine Learning, Natural Language Processing, Deep Learning, Python\n- Aisha Patel: Machine Learning, Natural Language Processing, Deep Learning, Python\n- Elena Popov: Machine Learning, Deep Learning, Python\n- Isabella Rossi: Machine Learning, Natural Language Processing, Python\n\nOthers have strong skills in Python and Machine Learning only.\n\nSkill Gaps:\n- There are currently no people in the database with \"Google ADK\" or \"Langchain\" explicitly listed as skills.\n- You have excellent coverage in Python, Machine Learning, Deep Learning, and NLP, but will need to address the specific technologies (Google ADK, Langchain) through training or hiring.\n\nSuggested Action:\n- Assemble your team from the people listed above for strong AI and Python expertise.\n- Plan to upskill team members in Google ADK and Langchain to cover project needs.\n\nIf you want a complete table of candidate names and their specific skills, just let me know!"
     },
     "metadata": {},
     "output_type": "display_data"
    }
   ],
   "execution_count": 19
  },
  {
   "metadata": {
    "ExecuteTime": {
     "end_time": "2025-06-02T15:33:01.925348Z",
     "start_time": "2025-06-02T15:32:58.251986Z"
    }
   },
   "cell_type": "code",
   "source": " await run_prompt(\"Who is most similar to Dr. Amanda Foster?\")",
   "id": "910fe6cf87d1cc97",
   "outputs": [
    {
     "name": "stdout",
     "output_type": "stream",
     "text": [
      "None id='call_X0cIujfVPkYVD9JOfOm6y2Ic' args={'query': \"MATCH p=(:Person {name: 'Dr. Amanda Foster'})--()--()--()--(other:Person) WHERE other.name <> 'Dr. Amanda Foster' WITH other, COUNT(DISTINCT p) as similarity ORDER BY similarity DESC LIMIT 1 RETURN other.name AS most_similar_person\"} name='read_neo4j_cypher' None\n",
      "None None will_continue=None scheduling=None id='call_X0cIujfVPkYVD9JOfOm6y2Ic' name='read_neo4j_cypher' response={'result': CallToolResult(meta=None, content=[TextContent(type='text', text='[{\"most_similar_person\": \"Elena Popov\"}]', annotations=None)], isError=False)}\n",
      "The person most similar to Dr. Amanda Foster in the database is Elena Popov. \n",
      "\n",
      "This similarity was determined by finding another person who shares the most overlapping paths (such as shared skills or related experience) with Dr. Amanda Foster. If you’d like to see details on exactly what they have in common or other similar people, let me know! None None\n"
     ]
    },
    {
     "data": {
      "text/plain": [
       "'The person most similar to Dr. Amanda Foster in the database is Elena Popov. \\n\\nThis similarity was determined by finding another person who shares the most overlapping paths (such as shared skills or related experience) with Dr. Amanda Foster. If you’d like to see details on exactly what they have in common or other similar people, let me know!'"
      ]
     },
     "execution_count": 20,
     "metadata": {},
     "output_type": "execute_result"
    }
   ],
   "execution_count": 20
  },
  {
   "metadata": {
    "ExecuteTime": {
     "end_time": "2025-06-02T15:33:51.423796Z",
     "start_time": "2025-06-02T15:33:43.074966Z"
    }
   },
   "cell_type": "code",
   "source": [
    "res = await run_prompt(\"Who shares the most similar types of accomplishments to our PhDs but isn't themselves a PhD? this may take multiple hops out to workType.\")\n",
    "print(\"\\n\\n\\n\\nFinal Response:\")\n",
    "display(Markdown(res))"
   ],
   "id": "ce912fbfa7e90563",
   "outputs": [
    {
     "name": "stdout",
     "output_type": "stream",
     "text": [
      "None id='call_toOIQ3OoRqdKlEY5MTMFxzWx' args={'query': \"MATCH (phd:Person) WHERE phd.current_title CONTAINS 'PhD' OR phd.name CONTAINS 'Dr.' WITH COLLECT(phd) AS phds\\nMATCH (accomplishment)<-[:BUILT|WON|SHIPPED|PUBLISHED|OPTIMIZED|LED|MANAGED]-(phd_person) WHERE phd_person IN phds\\nWITH COLLECT(DISTINCT accomplishment) AS phd_accomplishments, phds\\nMATCH (other:Person)\\nWHERE NOT other.current_title CONTAINS 'PhD' AND NOT other.name CONTAINS 'Dr.'\\nWITH phd_accomplishments, other\\nMATCH (other)-[:BUILT|WON|SHIPPED|PUBLISHED|OPTIMIZED|LED|MANAGED]->(accomplishment)\\nWHERE accomplishment IN phd_accomplishments\\nRETURN other.name AS person, COUNT(DISTINCT accomplishment) AS shared_count\\nORDER BY shared_count DESC LIMIT 1\"} name='read_neo4j_cypher' None\n",
      "None None will_continue=None scheduling=None id='call_toOIQ3OoRqdKlEY5MTMFxzWx' name='read_neo4j_cypher' response={'result': CallToolResult(meta=None, content=[TextContent(type='text', text='[{\"person\": \"Sarah Chen\", \"shared_count\": 2}]', annotations=None)], isError=False)}\n",
      "The person who shares the most similar types of accomplishments with your PhDs, but is not themselves a PhD, is Sarah Chen. She has achieved two accomplishments of the same types as those held by people with a \"PhD\" title.\n",
      "\n",
      "To determine this, I identified all accomplishments associated with your PhDs and then searched for non-PhDs who have also achieved these same accomplishment types, regardless of how many steps or relationship types it took. If you want to explore exactly what these shared accomplishments are, or see more similar candidates, just let me know! None None\n",
      "\n",
      "\n",
      "\n",
      "\n",
      "Final Response:\n"
     ]
    },
    {
     "data": {
      "text/plain": [
       "<IPython.core.display.Markdown object>"
      ],
      "text/markdown": "The person who shares the most similar types of accomplishments with your PhDs, but is not themselves a PhD, is Sarah Chen. She has achieved two accomplishments of the same types as those held by people with a \"PhD\" title.\n\nTo determine this, I identified all accomplishments associated with your PhDs and then searched for non-PhDs who have also achieved these same accomplishment types, regardless of how many steps or relationship types it took. If you want to explore exactly what these shared accomplishments are, or see more similar candidates, just let me know!"
     },
     "metadata": {},
     "output_type": "display_data"
    }
   ],
   "execution_count": 21
  },
  {
   "metadata": {
    "ExecuteTime": {
     "end_time": "2025-06-02T18:39:56.837363Z",
     "start_time": "2025-06-02T18:39:56.318192Z"
    }
   },
   "cell_type": "code",
   "source": [
    "def find_similar_people(person_id: str):\n",
    "    \"\"\"\n",
    "    This function will return potential similar people to the provided person based on common skill and types and domains of accomplishments.  You can use this as a starting point to find similarities and query the graph further using the person ids.\n",
    "    :param person_id: the id of the person to search for similarities for\n",
    "    :return: a list of person ids for similar candidates order by score which is the count of common skill and types and domains of accomplishments.\n",
    "    \"\"\"\n",
    "    res = driver.execute_query(\n",
    "        '''\n",
    "        MATCH p=(p1:Person {id:$personId})--()\n",
    "                 ((:!Person)--() ){0,3}\n",
    "                 (p2:Person)\n",
    "        RETURN count(*) AS score, p2.id AS person_id\n",
    "        ORDER BY score DESC LIMIT $limit\n",
    "         ''',\n",
    "        personId=person_id,\n",
    "        limit=5, #just hard code for now\n",
    "        result_transformer_= lambda r: r.data())\n",
    "\n",
    "    return res\n",
    "\n",
    "\n",
    "find_similar_people(\"3ffr8dYb\")"
   ],
   "id": "5039ddb7e5c07e8b",
   "outputs": [
    {
     "data": {
      "text/plain": [
       "[{'score': 77, 'person_id': 'eOIAxtcB'},\n",
       " {'score': 54, 'person_id': '3ffr8dYb'},\n",
       " {'score': 37, 'person_id': '8wvf1psS'},\n",
       " {'score': 31, 'person_id': 'LUUCJ14S'},\n",
       " {'score': 31, 'person_id': 'Q1ZkhCBu'}]"
      ]
     },
     "execution_count": 46,
     "metadata": {},
     "output_type": "execute_result"
    }
   ],
   "execution_count": 46
  },
  {
   "metadata": {
    "ExecuteTime": {
     "end_time": "2025-06-02T18:29:56.126914Z",
     "start_time": "2025-06-02T18:29:55.653736Z"
    }
   },
   "cell_type": "code",
   "source": [
    "from typing import List\n",
    "\n",
    "\n",
    "def find_similarities_between_people(person1_id: str, person2_id: str):\n",
    "    \"\"\"\n",
    "    This function will return potential similarities between people in the form of skill and accomplishment paths.  You can use this as a starting point to find similarities and query the graph further using the various name fields and person ids.\n",
    "    :param person1_id: the id of the first person to compare\n",
    "    :param person2_id: the id of the second person to compare\n",
    "    :return: a list of paths between the two people, each path is a compact ascii string representation.  It should reflect the patterns in the graph schema\n",
    "    \"\"\"\n",
    "    res = driver.execute_query(\n",
    "        '''\n",
    "        MATCH p=(p1:Person {id:$person1_id})--()\n",
    "                 ((:!Person)--() ){0,3}\n",
    "                 (p2:Person{id:$person2_id})\n",
    "        WITH p, nodes(p) as path_nodes, relationships(p) as path_rels, p1, p2\n",
    "        RETURN\n",
    "          \"(\" + labels(path_nodes[0])[0] + \" {name: \\\\\"\" + path_nodes[0].name + \"\\\\\" id: \\\\\"\" + path_nodes[0].id + \"\\\\\"})\" +\n",
    "          reduce(chain = \"\", i IN range(0, size(path_rels)-1) |\n",
    "            chain +\n",
    "            \"-[\" + type(path_rels[i]) + \"]-\" +\n",
    "            \"(\" + labels(path_nodes[i+1])[0] + \" {name: \\\\\"\" + path_nodes[i+1].name +\n",
    "            CASE WHEN \"Person\" IN labels(path_nodes[i+1])\n",
    "                 THEN \"\\\\\" id: \\\\\"\" + path_nodes[i+1].id +\"\\\\\"\"\n",
    "                 ELSE \"\\\\\"\" END + \"})\"\n",
    "          ) as paths ORDER BY p1.id, p2.id\n",
    "         ''',\n",
    "        person1_id=person1_id,\n",
    "        person2_id=person2_id,\n",
    "        result_transformer_= lambda r: r.values())\n",
    "\n",
    "    return res\n",
    "\n",
    "\n",
    "find_similarities_between_people(\"3ffr8dYb\", \"5RGDw14z\")\n"
   ],
   "id": "f37573a79af2003",
   "outputs": [
    {
     "data": {
      "text/plain": [
       "[['(Person {name: \"Kai Wong\" id: \"3ffr8dYb\"})-[KNOWS]-(Skill {name: \"Python\"})-[KNOWS]-(Person {name: \"Benjamin Clark\" id: \"5RGDw14z\"})'],\n",
       " ['(Person {name: \"Kai Wong\" id: \"3ffr8dYb\"})-[KNOWS]-(Skill {name: \"Java\"})-[KNOWS]-(Person {name: \"Benjamin Clark\" id: \"5RGDw14z\"})'],\n",
       " ['(Person {name: \"Kai Wong\" id: \"3ffr8dYb\"})-[KNOWS]-(Skill {name: \"Data Engineering\"})-[KNOWS]-(Person {name: \"Benjamin Clark\" id: \"5RGDw14z\"})'],\n",
       " ['(Person {name: \"Kai Wong\" id: \"3ffr8dYb\"})-[KNOWS]-(Skill {name: \"Team Management\"})-[KNOWS]-(Person {name: \"Benjamin Clark\" id: \"5RGDw14z\"})'],\n",
       " ['(Person {name: \"Kai Wong\" id: \"3ffr8dYb\"})-[OPTIMIZED]-(Thing {name: \"trading_db_systems_3ffr8dYb\"})-[OF]-(WorkType {name: \"SYSTEM\"})-[OF]-(Thing {name: \"disaster_recovery_system_5RGDw14z\"})-[BUILT]-(Person {name: \"Benjamin Clark\" id: \"5RGDw14z\"})'],\n",
       " ['(Person {name: \"Kai Wong\" id: \"3ffr8dYb\"})-[BUILT]-(Thing {name: \"db_monitoring_system_3ffr8dYb\"})-[OF]-(WorkType {name: \"SYSTEM\"})-[OF]-(Thing {name: \"disaster_recovery_system_5RGDw14z\"})-[BUILT]-(Person {name: \"Benjamin Clark\" id: \"5RGDw14z\"})'],\n",
       " ['(Person {name: \"Kai Wong\" id: \"3ffr8dYb\"})-[BUILT]-(Thing {name: \"db_backup_recovery_system_3ffr8dYb\"})-[OF]-(WorkType {name: \"SYSTEM\"})-[OF]-(Thing {name: \"disaster_recovery_system_5RGDw14z\"})-[BUILT]-(Person {name: \"Benjamin Clark\" id: \"5RGDw14z\"})'],\n",
       " ['(Person {name: \"Kai Wong\" id: \"3ffr8dYb\"})-[BUILT]-(Thing {name: \"query_optimization_framework_3ffr8dYb\"})-[OF]-(WorkType {name: \"SYSTEM\"})-[OF]-(Thing {name: \"disaster_recovery_system_5RGDw14z\"})-[BUILT]-(Person {name: \"Benjamin Clark\" id: \"5RGDw14z\"})'],\n",
       " ['(Person {name: \"Kai Wong\" id: \"3ffr8dYb\"})-[LED]-(Thing {name: \"db_engineering_team_3ffr8dYb\"})-[OF]-(WorkType {name: \"TEAM\"})-[OF]-(Thing {name: \"cloud_engineering_team_5RGDw14z\"})-[LED]-(Person {name: \"Benjamin Clark\" id: \"5RGDw14z\"})'],\n",
       " ['(Person {name: \"Kai Wong\" id: \"3ffr8dYb\"})-[BUILT]-(Thing {name: \"db_sharding_strategy_3ffr8dYb\"})-[OF]-(WorkType {name: \"PROCESS\"})-[OF]-(Thing {name: \"cloud_migration_strategies_5RGDw14z\"})-[OPTIMIZED]-(Person {name: \"Benjamin Clark\" id: \"5RGDw14z\"})'],\n",
       " ['(Person {name: \"Kai Wong\" id: \"3ffr8dYb\"})-[OPTIMIZED]-(Thing {name: \"trading_db_systems_3ffr8dYb\"})-[OF]-(WorkType {name: \"SYSTEM\"})-[OF]-(Thing {name: \"on_premises_data_center_5RGDw14z\"})-[MANAGED]-(Person {name: \"Benjamin Clark\" id: \"5RGDw14z\"})'],\n",
       " ['(Person {name: \"Kai Wong\" id: \"3ffr8dYb\"})-[BUILT]-(Thing {name: \"db_monitoring_system_3ffr8dYb\"})-[OF]-(WorkType {name: \"SYSTEM\"})-[OF]-(Thing {name: \"on_premises_data_center_5RGDw14z\"})-[MANAGED]-(Person {name: \"Benjamin Clark\" id: \"5RGDw14z\"})'],\n",
       " ['(Person {name: \"Kai Wong\" id: \"3ffr8dYb\"})-[BUILT]-(Thing {name: \"db_backup_recovery_system_3ffr8dYb\"})-[OF]-(WorkType {name: \"SYSTEM\"})-[OF]-(Thing {name: \"on_premises_data_center_5RGDw14z\"})-[MANAGED]-(Person {name: \"Benjamin Clark\" id: \"5RGDw14z\"})'],\n",
       " ['(Person {name: \"Kai Wong\" id: \"3ffr8dYb\"})-[BUILT]-(Thing {name: \"query_optimization_framework_3ffr8dYb\"})-[OF]-(WorkType {name: \"SYSTEM\"})-[OF]-(Thing {name: \"on_premises_data_center_5RGDw14z\"})-[MANAGED]-(Person {name: \"Benjamin Clark\" id: \"5RGDw14z\"})'],\n",
       " ['(Person {name: \"Kai Wong\" id: \"3ffr8dYb\"})-[OPTIMIZED]-(Thing {name: \"trading_db_systems_3ffr8dYb\"})-[OF]-(WorkType {name: \"SYSTEM\"})-[OF]-(Thing {name: \"serverless_computing_platforms_5RGDw14z\"})-[BUILT]-(Person {name: \"Benjamin Clark\" id: \"5RGDw14z\"})'],\n",
       " ['(Person {name: \"Kai Wong\" id: \"3ffr8dYb\"})-[BUILT]-(Thing {name: \"db_monitoring_system_3ffr8dYb\"})-[OF]-(WorkType {name: \"SYSTEM\"})-[OF]-(Thing {name: \"serverless_computing_platforms_5RGDw14z\"})-[BUILT]-(Person {name: \"Benjamin Clark\" id: \"5RGDw14z\"})'],\n",
       " ['(Person {name: \"Kai Wong\" id: \"3ffr8dYb\"})-[BUILT]-(Thing {name: \"db_backup_recovery_system_3ffr8dYb\"})-[OF]-(WorkType {name: \"SYSTEM\"})-[OF]-(Thing {name: \"serverless_computing_platforms_5RGDw14z\"})-[BUILT]-(Person {name: \"Benjamin Clark\" id: \"5RGDw14z\"})'],\n",
       " ['(Person {name: \"Kai Wong\" id: \"3ffr8dYb\"})-[BUILT]-(Thing {name: \"query_optimization_framework_3ffr8dYb\"})-[OF]-(WorkType {name: \"SYSTEM\"})-[OF]-(Thing {name: \"serverless_computing_platforms_5RGDw14z\"})-[BUILT]-(Person {name: \"Benjamin Clark\" id: \"5RGDw14z\"})'],\n",
       " ['(Person {name: \"Kai Wong\" id: \"3ffr8dYb\"})-[OPTIMIZED]-(Thing {name: \"trading_db_systems_3ffr8dYb\"})-[OF]-(WorkType {name: \"SYSTEM\"})-[OF]-(Thing {name: \"scalable_cloud_infrastructure_5RGDw14z\"})-[BUILT]-(Person {name: \"Benjamin Clark\" id: \"5RGDw14z\"})'],\n",
       " ['(Person {name: \"Kai Wong\" id: \"3ffr8dYb\"})-[BUILT]-(Thing {name: \"db_monitoring_system_3ffr8dYb\"})-[OF]-(WorkType {name: \"SYSTEM\"})-[OF]-(Thing {name: \"scalable_cloud_infrastructure_5RGDw14z\"})-[BUILT]-(Person {name: \"Benjamin Clark\" id: \"5RGDw14z\"})'],\n",
       " ['(Person {name: \"Kai Wong\" id: \"3ffr8dYb\"})-[BUILT]-(Thing {name: \"db_backup_recovery_system_3ffr8dYb\"})-[OF]-(WorkType {name: \"SYSTEM\"})-[OF]-(Thing {name: \"scalable_cloud_infrastructure_5RGDw14z\"})-[BUILT]-(Person {name: \"Benjamin Clark\" id: \"5RGDw14z\"})'],\n",
       " ['(Person {name: \"Kai Wong\" id: \"3ffr8dYb\"})-[BUILT]-(Thing {name: \"query_optimization_framework_3ffr8dYb\"})-[OF]-(WorkType {name: \"SYSTEM\"})-[OF]-(Thing {name: \"scalable_cloud_infrastructure_5RGDw14z\"})-[BUILT]-(Person {name: \"Benjamin Clark\" id: \"5RGDw14z\"})']]"
      ]
     },
     "execution_count": 41,
     "metadata": {},
     "output_type": "execute_result"
    }
   ],
   "execution_count": 41
  },
  {
   "metadata": {
    "ExecuteTime": {
     "end_time": "2025-06-02T18:30:01.373006Z",
     "start_time": "2025-06-02T18:30:01.301631Z"
    }
   },
   "cell_type": "code",
   "source": [
    "\n",
    "def get_person_resume(person_id: str):\n",
    "    \"\"\"\n",
    "    Gets the full resume of a person\n",
    "    :param person_id: the id of the person\n",
    "    :return: resume text and person name\n",
    "    \"\"\"\n",
    "    res = driver.execute_query(\n",
    "        '''\n",
    "        MATCH (n:Person {id: $personId})\n",
    "        RETURN n.text as resume, n.name AS name\n",
    "         ''',\n",
    "        personId=person_id,\n",
    "        result_transformer_= lambda r: r.data())\n",
    "\n",
    "    return res\n",
    "\n",
    "get_person_resume(\"3ffr8dYb\")"
   ],
   "id": "a2fdb8c5a384b0cb",
   "outputs": [
    {
     "data": {
      "text/plain": [
       "[{'resume': 'Kai Wong\\nDatabase Performance Engineer\\nEmail: kai.wong@email.com\\nLocation: Hong Kong\\nExperience: 7 years\\nProfessional Summary\\nDatabase performance specialist with 7 years experience optimizing high-scale database systems.\\nExpert in SQL optimization, distributed databases, and Python automation.\\nProfessional Experience\\nSenior Database Performance Engineer | Financial Trading Platform | 2021 - Present\\n- Optimized trading database systems handling 1M+ transactions per second using advanced SQL\\ntechniques\\n- Built database monitoring system using Python detecting performance issues before customer impact\\n- Led database engineering team of 5 optimizing distributed PostgreSQL clusters\\nDatabase Engineer | E-commerce Platform | 2019 - 2021\\n- Implemented database sharding strategy supporting 100x user growth using PostgreSQL and Python\\n- Developed automated database backup and recovery system achieving 99.99% data durability\\n- Built query optimization framework reducing average response time by 80%\\nJunior Database Administrator | SaaS Company | 2018 - 2019\\n- Maintained MySQL databases supporting multi-tenant application architecture\\n- Developed database performance monitoring scripts using Python and SQL\\nDatabase Intern | Consulting Firm | 2017 - 2018\\n- Assisted with database migration projects and performance tuning\\n- Learned database administration fundamentals and SQL optimization techniques\\nTechnical Skills\\n- Databases: 7 years SQL, 5 years PostgreSQL, 4 years MySQL, 2 years MongoDB\\n- Programming: 5 years Python, 3 years Java, 6 years Linux\\n- Performance: 6 years Database Optimization, 4 years Distributed Systems\\n- Leadership: 2 years Team Management\\nCertifications\\n- PostgreSQL Certified Professional\\n- MySQL Database Administrator Certification\\n- Oracle Performance Tuning Specialist\\nEducation\\nM.S. Computer Science | Hong Kong University of Science and Technology | 2017\\nB.S. Information Systems | Chinese University of Hong Kong | 2015\\n',\n",
       "  'name': 'Kai Wong'}]"
      ]
     },
     "execution_count": 42,
     "metadata": {},
     "output_type": "execute_result"
    }
   ],
   "execution_count": 42
  },
  {
   "metadata": {
    "ExecuteTime": {
     "end_time": "2025-06-02T18:30:03.288953Z",
     "start_time": "2025-06-02T18:30:03.231019Z"
    }
   },
   "cell_type": "code",
   "source": [
    "def get_person_ids_from_name(person_name: str):\n",
    "    \"\"\"\n",
    "    Gets all the unique people ids who have the provided name\n",
    "    :param person_name: the name to look up person ids with\n",
    "    :return: person ids that can be used for other tools and queries.  Note that names aren't guaranteed to be unique so you may get more than one person.\n",
    "    \"\"\"\n",
    "    res = driver.execute_query(\n",
    "        '''\n",
    "        MATCH (n:Person {name: $personName})\n",
    "        RETURN n.id\n",
    "         ''',\n",
    "        personName=person_name,\n",
    "        result_transformer_= lambda r: r.values())\n",
    "\n",
    "    return res\n",
    "\n",
    "get_person_ids_from_name(\"Kai Wong\")"
   ],
   "id": "7624ac8e89eb5a3f",
   "outputs": [
    {
     "data": {
      "text/plain": [
       "[['3ffr8dYb']]"
      ]
     },
     "execution_count": 43,
     "metadata": {},
     "output_type": "execute_result"
    }
   ],
   "execution_count": 43
  },
  {
   "metadata": {
    "ExecuteTime": {
     "end_time": "2025-06-02T18:42:24.241924Z",
     "start_time": "2025-06-02T18:42:24.225056Z"
    }
   },
   "cell_type": "code",
   "source": [
    "talent_agent = Agent(\n",
    "    name=\"talent_agent\",\n",
    "    # model=\"gemini-2.0-flash-exp\",\n",
    "    model=LiteLlm(model=\"openai/gpt-4.1\"),\n",
    "    # model=LiteLlm(model=\"anthropic/claude-sonnet-4-20250514\"),\n",
    "    description=\"\"\"\n",
    "    Knowledge assistant for skills analysis, search, and team formation\n",
    "    \"\"\",\n",
    "    instruction=f\"\"\"\n",
    "      You are a knowledge assistant for skills analysis, search, and team formation working for Skynet.  You have access to internal knowledge on Skynet employees based on their resume and profiles.\n",
    "\n",
    "      When returning information about people to users please provide both names and ids and other information as appropriate.\n",
    "\n",
    "      The expert tools `find_similar_people`, `find_similarities_between_people`, `get_person_resume` and `get_person_ids_from_name` should be prioritized as appropriate. When you need more flexible logic to access knowledge see the directions below for the other tools\"\n",
    "\n",
    "       When using the other tools you serve a role as a Neo4j graph database and Cypher query expert, that must use the database schema with a user question and repeatedly generate valid cypher statements to execute on the database and answer the user's questions in a friendly manner in natural language. You can also directly return a graph schema when requested.\n",
    "\n",
    "      For generating queries:\n",
    "      If in doubt, the database schema is always prioritized when it comes to nodes-types (labels) or relationship-types or property names, never take the user's input at face value.\n",
    "      If the user requests, also render tables, charts or other artifacts with the query results.\n",
    "      Always validate the correct node-labels at the end of a relationship based on the schema.\n",
    "      If a query fails or doesn't return data, use the error response 3 times to try to fix the generated query and re-run it, don't return the error to the user.\n",
    "      If you cannot fix the query, explain the issue to the user and apologize.\n",
    "\n",
    "      Fetch the graph database schema first and keep it in session memory to access later for query generation. Also keep in mind the below standardized property values:\n",
    "      - For Domain.name The standard values are {[i.value for i in Domain]}\n",
    "      - For WorkType.name The standard values are {[i.value for i in WorkType]}\n",
    "      - For Skill.name The standard values are {[i.value for i in SkillName]}\n",
    "\n",
    "      When responding always explain the logic you used in natural language to the user.  Explain the query logic, steps, what you tried but don't show literal code or expect them to understand Cypher.\n",
    "\n",
    "      Keep results of previous executions in session memory and access if needed, for instance ids or other attributes of nodes to find them again\n",
    "      removing the need to ask the user. This also allows for generating shorter, more focused and less error-prone queries to for drill downs, sequences and loops.\n",
    "      If possible resolve names to primary keys or ids and use those for looking up entities.\n",
    "      The schema always indicates *outgoing* relationship-types from an entity to another entity, the graph patterns read like english language.\n",
    "      `company has supplier` would be the pattern `(o:Organization)-[:HAS_SUPPLIER]->(s:Organization)`\n",
    "\n",
    "      To get the schema of a database use the `get_schema` tool without parameters. Store the response of the schema tool in session context\n",
    "      to access later for query generation.\n",
    "\n",
    "      To answer a user question generate one or more Cypher statements based on the database schema and the parts of the user question.\n",
    "      If necessary resolve categorical attributes (like names, countries, industries, publications) first by retrieving them for a set of entities to translate from the user's request.\n",
    "      Use the `read_neo4j_cypher` tool repeatedly with the Cypher statements, you MUST generate statements that use named query parameters with `$parameter` style names\n",
    "      and MUST pass them as a second dictionary parameter to the tool, even if empty.\n",
    "      Parameter data can come from the users requests, prior query results or additional lookup queries.\n",
    "      After the data for the question has been sufficiently retrieved, pass the data and control back to the parent agent.\n",
    "    \"\"\",\n",
    "    tools=[find_similar_people,\n",
    "           find_similarities_between_people,\n",
    "           get_person_resume,\n",
    "           get_person_ids_from_name,\n",
    "           MCPToolset(\n",
    "        connection_params=StdioServerParameters(\n",
    "            command='uvx',\n",
    "            args=[\n",
    "                \"mcp-neo4j-cypher\",\n",
    "            ],\n",
    "            env={ k: os.environ[k] for k in [\"NEO4J_URI\",\"NEO4J_USERNAME\",\"NEO4J_PASSWORD\"] }\n",
    "        ),\n",
    "        tool_filter=['get_neo4j_schema','read_neo4j_cypher']\n",
    "    )]\n",
    ")\n",
    "\n",
    "from google.adk.runners import InMemoryRunner\n",
    "from google.genai.types import Part, UserContent\n",
    "\n",
    "APP_NAME = 'Talent Agent'\n",
    "USER_ID = 'Zach Blumenfeld'\n",
    "\n",
    "\n",
    "runner = InMemoryRunner(app_name=APP_NAME, agent=talent_agent)\n",
    "\n",
    "session = await runner.session_service.create_session( app_name=runner.app_name, user_id=USER_ID)\n",
    "\n",
    "async def run_prompt(new_message: str):\n",
    "  content = UserContent(parts=[Part(text=new_message)])\n",
    "  result = None\n",
    "  async for event in runner.run_async(user_id=session.user_id, session_id=session.id, new_message=content):\n",
    "    for part in event.content.parts:\n",
    "      print(part.text, part.function_call, part.function_response)\n",
    "      if part.text:\n",
    "        result = part.text\n",
    "  return result"
   ],
   "id": "68e9d7d252e0eb03",
   "outputs": [],
   "execution_count": 50
  },
  {
   "metadata": {
    "ExecuteTime": {
     "end_time": "2025-06-02T18:42:40.806683Z",
     "start_time": "2025-06-02T18:42:27.408268Z"
    }
   },
   "cell_type": "code",
   "source": " await run_prompt(\"Who is most similar to Dr. Amanda Foster?\")",
   "id": "4692ce5903441eca",
   "outputs": [
    {
     "name": "stdout",
     "output_type": "stream",
     "text": [
      "None id='call_nQMghxv5SVXcH1PLwAMY60Bx' args={'person_name': 'Dr. Amanda Foster'} name='get_person_ids_from_name' None\n",
      "None None will_continue=None scheduling=None id='call_nQMghxv5SVXcH1PLwAMY60Bx' name='get_person_ids_from_name' response={'result': [['UhZn6uYW']]}\n",
      "None id='call_gMTzPwnn4YbwJkhH5x1Qldzq' args={'person_id': 'UhZn6uYW'} name='find_similar_people' None\n",
      "None None will_continue=None scheduling=None id='call_gMTzPwnn4YbwJkhH5x1Qldzq' name='find_similar_people' response={'result': [{'score': 76, 'person_id': 'LUUCJ14S'}, {'score': 75, 'person_id': 'MpQCrNqA'}, {'score': 72, 'person_id': 'Yvhy6A21'}, {'score': 68, 'person_id': '8hvI9MCT'}, {'score': 55, 'person_id': 'xRPBlhk9'}]}\n",
      "None id='call_kVU5VgjDUVkK4OfMm0E01KVO' args={'person_id': 'LUUCJ14S'} name='get_person_resume' None\n",
      "None id='call_rtA6giEwnMtkJuOihNLIVVLy' args={'person_id': 'MpQCrNqA'} name='get_person_resume' None\n",
      "None id='call_OkocV3QBYeFL3UeONHXNtkYq' args={'person_id': 'Yvhy6A21'} name='get_person_resume' None\n",
      "None id='call_9LW38iLKhhIKIDADaAdPT87k' args={'person_id': '8hvI9MCT'} name='get_person_resume' None\n",
      "None id='call_TaUtUGQ5wk9cqFtXMOdA0lw3' args={'person_id': 'xRPBlhk9'} name='get_person_resume' None\n",
      "None None will_continue=None scheduling=None id='call_kVU5VgjDUVkK4OfMm0E01KVO' name='get_person_resume' response={'result': [{'resume': 'Elena Popov\\nMachine Learning Engineer\\nEmail: elena.popov@email.com\\nLocation: Prague, Czech Republic\\nExperience: 5 years\\nProfessional Summary\\nMachine learning engineer with 5 years experience deploying AI systems at scale. Expert in Python,\\nMLOps, and production machine learning infrastructure.\\nProfessional Experience\\nSenior Machine Learning Engineer | Autonomous Systems | 2022 - Present\\n- Built reinforcement learning system for robot navigation using Python and PyTorch\\n- Developed computer vision pipeline for object detection achieving 98% accuracy in production\\n- Led ML engineering team of 6 deploying AI models for industrial automation\\nML Engineer | Recommendation Systems | 2020 - 2022\\n- Built personalization AI system using Python and TensorFlow serving 50M+ users daily\\n- Developed real-time inference infrastructure processing 100K+ predictions per second\\n- Shipped A/B testing framework for machine learning model evaluation\\nData Scientist | Digital Marketing | 2019 - 2020\\n- Implemented customer segmentation models using Python and scikit-learn for targeted advertising\\n- Built predictive analytics system for marketing campaign optimization\\nJunior ML Engineer | Research Lab | 2018 - 2019\\n- Developed machine learning prototypes using Python for various AI research projects\\n- Published research on deep learning optimization techniques\\nTechnical Skills\\n- ML/AI: 5 years Python, 4 years Machine Learning, 3 years Deep Learning, 2 years Computer Vision\\n- Frameworks: 3 years PyTorch, 2 years TensorFlow, 4 years scikit-learn\\n- Infrastructure: 3 years MLOps, 2 years Kubernetes, 3 years AWS\\n- Leadership: 2 years Team Management\\nEducation\\nM.S. Artificial Intelligence | Czech Technical University | 2018\\nB.S. Computer Science | Charles University | 2016\\n', 'name': 'Elena Popov'}]}\n",
      "None None will_continue=None scheduling=None id='call_rtA6giEwnMtkJuOihNLIVVLy' name='get_person_resume' response={'result': [{'resume': 'Aisha Patel\\nNLP Research Scientist\\nEmail: aisha.patel@email.com\\nLocation: Bangalore, India\\nExperience: 7 years\\nProfessional Summary\\nNatural language processing research scientist with 7 years experience developing language AI\\nsystems. Expert in Python, transformer architectures, and multilingual NLP.\\nProfessional Experience\\nPrincipal NLP Research Scientist | AI Research Lab | 2021 - Present\\n- Led research team developing multilingual language models supporting 50+ languages\\n- Built conversational AI system using Python, PyTorch, and transformer architectures\\n- Published 12 papers on multilingual NLP at ACL, EMNLP, and NAACL conferences\\nSenior NLP Engineer | Search Technology | 2019 - 2021\\n- Developed semantic search system using Python and BERT, improving search relevance by 40%\\n- Built question-answering system processing 10M+ queries daily across multiple languages\\n- Shipped knowledge extraction pipeline from unstructured text using deep learning\\nNLP Research Engineer | Language Technology Startup | 2018 - 2019\\n- Implemented sentiment analysis and text classification models using Python and TensorFlow\\n- Developed multilingual named entity recognition system for Indian languages\\nResearch Intern | University NLP Lab | 2017 - 2018\\n- Conducted research on cross-lingual transfer learning for low-resource languages\\n- Built text preprocessing pipelines for Indian language corpus development\\nTechnical Skills\\n- NLP: 7 years Natural Language Processing, 5 years Deep Learning, 4 years PyTorch, 3 years\\nTensorFlow\\n- Programming: 7 years Python, 3 years Java, 5 years SQL\\n- Research: 6 years Machine Learning, 7 years Research, 4 years Publications\\n- Languages: Hindi, English, Gujarati, Tamil (basic)\\nEducation\\nPh.D. Computational Linguistics | Indian Institute of Science | 2019\\nM.Tech Computer Science | IIT Bombay | 2015\\nB.Tech Computer Engineering | Gujarat University | 2013\\n', 'name': 'Aisha Patel'}]}\n",
      "None None will_continue=None scheduling=None id='call_OkocV3QBYeFL3UeONHXNtkYq' name='get_person_resume' response={'result': [{'resume': 'Isabella Rossi\\nAI Ethics Researcher\\nEmail: isabella.rossi@email.com\\nLocation: Rome, Italy\\nExperience: 4 years\\nProfessional Summary\\nAI ethics researcher with 4 years experience studying fairness and bias in machine learning systems.\\nExpert in Python analysis, research methodology, and AI governance.\\nProfessional Experience\\nSenior AI Ethics Researcher | European AI Institute | 2022 - Present\\n- Led research on algorithmic bias detection using Python and statistical analysis across 50+ AI\\nsystems\\n- Published 8 papers on AI fairness and ethics at top-tier AI conferences (FAccT, AIES, ICML)\\n- Built open-source bias evaluation toolkit adopted by 100+ AI research teams globally\\nAI Ethics Researcher | Tech Ethics Lab | 2021 - 2022\\n- Developed fairness metrics for computer vision models using Python and machine learning evaluation\\nframeworks\\n- Conducted algorithmic audits for government AI procurement identifying bias in 30% of systems\\n- Collaborated with policymakers on AI regulation and governance frameworks\\nResearch Assistant | University AI Lab | 2020 - 2021\\n- Analyzed algorithmic decision-making systems for demographic bias using Python and statistical\\nmethods\\n- Published research on explainable AI and algorithmic transparency\\nTechnical Skills\\n- Research: 4 years AI Ethics, 3 years Machine Learning, 4 years Python, 3 years Statistics\\n- AI: 2 years Computer Vision, 2 years Natural Language Processing, 3 years Data Analysis\\n- Academic: 4 years Research, 6 publications, 2 years Grant Writing\\nEducation\\nPh.D. Computer Science (AI Ethics) | Sapienza University of Rome | 2024 (Expected)\\nM.S. Artificial Intelligence | University of Bologna | 2020\\nB.A. Philosophy | Sapienza University of Rome | 2018\\nPublications\\n- \"Bias Detection in Computer Vision: A Systematic Analysis\" - ICML 2023\\n- \"Fairness in NLP: Cross-lingual Bias Evaluation\" - FAccT 2023\\n', 'name': 'Isabella Rossi'}]}\n",
      "None None will_continue=None scheduling=None id='call_9LW38iLKhhIKIDADaAdPT87k' name='get_person_resume' response={'result': [{'resume': 'Natasha Volkov\\nComputer Vision Engineer\\nEmail: natasha.volkov@email.com\\nLocation: Berlin, Germany\\nExperience: 6 years\\nProfessional Summary\\nComputer vision specialist with 6 years experience building AI-powered visual recognition systems.\\nExpert in Python, deep learning, and production computer vision applications.\\nProfessional Experience\\nSenior Computer Vision Engineer | Autonomous Vehicle Startup | 2021 - Present\\n- Built real-time object detection system for self-driving cars using Python, PyTorch, and CUDA\\n- Led computer vision team of 8 engineers developing perception algorithms for Level 4 autonomy\\n- Shipped lane detection and traffic sign recognition models achieving 99.5% accuracy\\nComputer Vision Engineer | Manufacturing AI | 2020 - 2021\\n- Developed defect detection system for factory automation using Python and OpenCV\\n- Built quality control AI reducing manufacturing defects by 80% and saving $5M annually\\n- Implemented edge deployment pipeline for real-time inference on factory floor\\nResearch Engineer | Computer Vision Lab | 2018 - 2020\\n- Published 8 papers on deep learning for computer vision at CVPR, ICCV, and ECCV conferences\\n- Developed novel convolutional architectures for image segmentation using Python and TensorFlow\\n- Won \"Best Student Paper Award\" at International Conference on Computer Vision\\nTechnical Skills\\n- AI/ML: 6 years Python, 5 years Computer Vision, 4 years Deep Learning, 3 years PyTorch, 2 years\\nTensorFlow\\n- Vision: 5 years OpenCV, 3 years CUDA, 4 years Image Processing\\n- Leadership: 2 years Team Management\\nEducation\\nPh.D. Computer Vision | Technical University of Munich | 2020\\nM.S. Computer Science | Moscow State University | 2016\\nB.S. Applied Mathematics | Moscow State University | 2014\\n', 'name': 'Natasha Volkov'}]}\n",
      "None None will_continue=None scheduling=None id='call_TaUtUGQ5wk9cqFtXMOdA0lw3' name='get_person_resume' response={'result': [{'resume': 'Sarah Chen\\nSenior AI Engineer\\nEmail: sarah.chen@email.com\\nLocation: San Francisco, CA\\nExperience: 6 years\\nProfessional Summary\\nExperienced AI engineer with 6 years building production machine learning systems. Currently leading\\nAI initiatives at TechCorp, previously at DataFlow and StartupAI.\\nProfessional Experience\\nSenior AI Engineer | TechCorp | 2022 - Present\\n- Built fraud detection system serving 50M+ daily transactions using Python and TensorFlow, reducing\\nfalse positives by 40%\\n- Led 8-person AI engineering team developing recommendation engine, increasing user engagement\\nby 25%\\n- Architected ML infrastructure platform supporting 20+ data science teams across organization\\nAI Engineer | DataFlow | 2020 - 2022\\n- Shipped computer vision model for autonomous vehicle perception, achieving 99.2% accuracy on test\\ndatasets\\n- Published 3 papers on neural network optimization at NeurIPS and ICML conferences\\nJunior AI Engineer | StartupAI | 2018 - 2020\\n- Developed deep learning models for natural language processing applications\\n- Won \"Innovation Excellence Award\" for breakthrough work in deep learning applications\\nTechnical Skills\\n- Programming: 8+ years Python, 5 years TensorFlow\\n- AI/ML: 6 years Machine Learning, 4 years Deep Learning, 3 years Computer Vision, 2 years Natural\\nLanguage Processing\\n- Infrastructure: 6 years AWS, 4 years Docker, 3 years Kubernetes\\nEducation\\nM.S. Computer Science | Stanford University | 2018\\nB.S. Computer Science | UC Berkeley | 2016\\n', 'name': 'Sarah Chen'}]}\n",
      "The people most similar to Dr. Amanda Foster, based on overlapping skills, domains, and types of accomplishments, are:\n",
      "\n",
      "1. Elena Popov (ID: LUUCJ14S) – A machine learning engineer with deep expertise in deploying AI systems, computer vision, and leading ML teams.\n",
      "2. Aisha Patel (ID: MpQCrNqA) – An NLP research scientist with extensive experience in multilingual AI systems, research publications, and leadership in significant research projects.\n",
      "3. Isabella Rossi (ID: Yvhy6A21) – An AI ethics researcher focused on fairness and bias in machine learning, with a blend of technical, research, and governance knowledge.\n",
      "4. Natasha Volkov (ID: 8hvI9MCT) – A computer vision engineer specializing in AI-powered visual systems, real-time detection, and leading technical teams.\n",
      "5. Sarah Chen (ID: xRPBlhk9) – A senior AI engineer with a strong track record in production ML systems, recommendation engines, and computer vision.\n",
      "\n",
      "These matches are determined from an internal similarity analysis that prioritizes shared skills (like Python, ML, Deep Learning), domains (AI, Computer Vision, NLP, AI Ethics), and notable accomplishments (leadership roles, publications, production systems). If you want to explore any of these individuals further or see comparisons on specific skills or experiences to Dr. Amanda Foster, just let me know! None None\n"
     ]
    },
    {
     "data": {
      "text/plain": [
       "'The people most similar to Dr. Amanda Foster, based on overlapping skills, domains, and types of accomplishments, are:\\n\\n1. Elena Popov (ID: LUUCJ14S) – A machine learning engineer with deep expertise in deploying AI systems, computer vision, and leading ML teams.\\n2. Aisha Patel (ID: MpQCrNqA) – An NLP research scientist with extensive experience in multilingual AI systems, research publications, and leadership in significant research projects.\\n3. Isabella Rossi (ID: Yvhy6A21) – An AI ethics researcher focused on fairness and bias in machine learning, with a blend of technical, research, and governance knowledge.\\n4. Natasha Volkov (ID: 8hvI9MCT) – A computer vision engineer specializing in AI-powered visual systems, real-time detection, and leading technical teams.\\n5. Sarah Chen (ID: xRPBlhk9) – A senior AI engineer with a strong track record in production ML systems, recommendation engines, and computer vision.\\n\\nThese matches are determined from an internal similarity analysis that prioritizes shared skills (like Python, ML, Deep Learning), domains (AI, Computer Vision, NLP, AI Ethics), and notable accomplishments (leadership roles, publications, production systems). If you want to explore any of these individuals further or see comparisons on specific skills or experiences to Dr. Amanda Foster, just let me know!'"
      ]
     },
     "execution_count": 51,
     "metadata": {},
     "output_type": "execute_result"
    }
   ],
   "execution_count": 51
  },
  {
   "metadata": {
    "ExecuteTime": {
     "end_time": "2025-06-02T18:46:45.161268Z",
     "start_time": "2025-06-02T18:46:22.657945Z"
    }
   },
   "cell_type": "code",
   "source": " await run_prompt(\"How many sql developers do we have?, can you examine there resumes to tell me who could be best for supporting a core operational sotre deployment?\")",
   "id": "c3fbb97e0d877e97",
   "outputs": [
    {
     "name": "stdout",
     "output_type": "stream",
     "text": [
      "None id='call_aPLTxEMIvkkFgTXUafRGVX12' args={'query': \"MATCH (p:Person)-[:KNOWS]->(s:Skill {name: 'SQL'}) RETURN p.id as person_id, p.name as name\"} name='read_neo4j_cypher' None\n",
      "None None will_continue=None scheduling=None id='call_aPLTxEMIvkkFgTXUafRGVX12' name='read_neo4j_cypher' response={'result': CallToolResult(meta=None, content=[TextContent(type='text', text='[{\"person_id\": \"xsVeg3b9\", \"name\": \"Fatima Al-Zahra\"}, {\"person_id\": \"3ffr8dYb\", \"name\": \"Kai Wong\"}, {\"person_id\": \"l9MtidwF\", \"name\": \"Miguel Santos\"}, {\"person_id\": \"AgJ3fyw9\", \"name\": \"Emily Chen\"}, {\"person_id\": \"ecjfjrSQ\", \"name\": \"Omar Ibrahim\"}, {\"person_id\": \"v64TSK9q\", \"name\": \"Ahmed Hassan\"}, {\"person_id\": \"eOIAxtcB\", \"name\": \"Monica Garcia\"}, {\"person_id\": \"8wvf1psS\", \"name\": \"Yuki Matsuda\"}, {\"person_id\": \"JSneKsS4\", \"name\": \"Jennifer Park\"}, {\"person_id\": \"kkkMTAId\", \"name\": \"Marcus Rodriguez\"}, {\"person_id\": \"MpQCrNqA\", \"name\": \"Aisha Patel\"}, {\"person_id\": \"ouPzXXLh\", \"name\": \"Priya Sharma\"}, {\"person_id\": \"ZIMWCRHs\", \"name\": \"Lisa Wang\"}, {\"person_id\": \"Y7Dbiku6\", \"name\": \"Rachel Thompson\"}, {\"person_id\": \"RQwL4KtY\", \"name\": \"Sophia Kim\"}, {\"person_id\": \"HowfM0O2\", \"name\": \"Lucas Martinez\"}]', annotations=None)], isError=False)}\n",
      "None id='call_BGcYsBARudCqmg71EegV0ZWS' args={'person_id': 'xsVeg3b9'} name='get_person_resume' None\n",
      "None id='call_ofMeJz1kroGUxc0TeYrJ0Opf' args={'person_id': '3ffr8dYb'} name='get_person_resume' None\n",
      "None id='call_zP31pakz0TBT7QMzGcqdDRQU' args={'person_id': 'l9MtidwF'} name='get_person_resume' None\n",
      "None id='call_OO3bmjHaW6sS6xlQa69lY9iq' args={'person_id': 'AgJ3fyw9'} name='get_person_resume' None\n",
      "None id='call_6KFUiZRNhgydlD8LpZnRZCO6' args={'person_id': 'ecjfjrSQ'} name='get_person_resume' None\n",
      "None id='call_QHhmXRVoCn1EayBPplLxlVQD' args={'person_id': 'v64TSK9q'} name='get_person_resume' None\n",
      "None id='call_EYHN4cvnVZQzQElxMIphIZF6' args={'person_id': 'eOIAxtcB'} name='get_person_resume' None\n",
      "None id='call_cUL4HgruxZAHdN9cWY51ZyBE' args={'person_id': '8wvf1psS'} name='get_person_resume' None\n",
      "None id='call_uCgJ1QbdMTyJPuOakAxddoLo' args={'person_id': 'JSneKsS4'} name='get_person_resume' None\n",
      "None id='call_jStQWSDBFzOZtp59f142x3b0' args={'person_id': 'kkkMTAId'} name='get_person_resume' None\n",
      "None id='call_cIqquEvaeSLetfFEpBKhQu4I' args={'person_id': 'MpQCrNqA'} name='get_person_resume' None\n",
      "None id='call_M1mAtqBKhdbYlsHdsNYnAiJW' args={'person_id': 'ouPzXXLh'} name='get_person_resume' None\n",
      "None id='call_WxgYwTVZwJq0alMgTcmN0UiJ' args={'person_id': 'ZIMWCRHs'} name='get_person_resume' None\n",
      "None id='call_QggdtQVC0lo1Ctt7N6viMgkR' args={'person_id': 'Y7Dbiku6'} name='get_person_resume' None\n",
      "None id='call_FQ03N4NuSapyoCkLaw3XJuVr' args={'person_id': 'RQwL4KtY'} name='get_person_resume' None\n",
      "None id='call_biSj4uvcLYROUKu6VsVvtsvu' args={'person_id': 'HowfM0O2'} name='get_person_resume' None\n",
      "None None will_continue=None scheduling=None id='call_BGcYsBARudCqmg71EegV0ZWS' name='get_person_resume' response={'result': [{'resume': 'Fatima Al-Zahra\\nCybersecurity Data Analyst\\nEmail: fatima.alzahra@email.com\\nLocation: Dubai, UAE\\nExperience: 3 years\\nProfessional Summary\\nCybersecurity analyst with 3 years experience using data analytics and machine learning for threat\\ndetection. Expert in Python, security tools, and statistical analysis.\\nProfessional Experience\\nSenior Cybersecurity Data Analyst | Financial Services | 2023 - Present\\n- Built anomaly detection system using Python and machine learning identifying 95% of security threats\\n- Developed threat intelligence dashboard using SQL and Python for real-time security monitoring\\n- Led security analytics project reducing false positive alerts by 60%\\nCybersecurity Analyst | Government Agency | 2022 - 2023\\n- Analyzed network traffic data using Python and statistical methods to identify cyber attacks\\n- Built automated incident response system using Python scripting and security APIs\\n- Implemented log analysis pipeline processing 100GB+ daily security event data\\nJunior Security Analyst | Consulting Firm | 2021 - 2022\\n- Performed security assessments using penetration testing tools and data analysis\\n- Learned cybersecurity fundamentals and threat hunting techniques\\n- Developed Python scripts for automating security analysis tasks\\nTechnical Skills\\n- Security: 3 years Cybersecurity, 2 years Threat Detection, 1 year Penetration Testing\\n- Analytics: 3 years Python, 2 years SQL, 2 years Data Analysis, 1 year Machine Learning\\n- Tools: 2 years Security Information and Event Management (SIEM), 1 year Network Security\\nCertifications\\n- Certified Information Security Analyst (CISA)\\n- CompTIA Security+\\n- Python for Cybersecurity Certification\\nEducation\\nM.S. Cybersecurity | American University of Dubai | 2021\\nB.S. Computer Science | United Arab Emirates University | 2019\\n', 'name': 'Fatima Al-Zahra'}]}\n",
      "None None will_continue=None scheduling=None id='call_ofMeJz1kroGUxc0TeYrJ0Opf' name='get_person_resume' response={'result': [{'resume': 'Kai Wong\\nDatabase Performance Engineer\\nEmail: kai.wong@email.com\\nLocation: Hong Kong\\nExperience: 7 years\\nProfessional Summary\\nDatabase performance specialist with 7 years experience optimizing high-scale database systems.\\nExpert in SQL optimization, distributed databases, and Python automation.\\nProfessional Experience\\nSenior Database Performance Engineer | Financial Trading Platform | 2021 - Present\\n- Optimized trading database systems handling 1M+ transactions per second using advanced SQL\\ntechniques\\n- Built database monitoring system using Python detecting performance issues before customer impact\\n- Led database engineering team of 5 optimizing distributed PostgreSQL clusters\\nDatabase Engineer | E-commerce Platform | 2019 - 2021\\n- Implemented database sharding strategy supporting 100x user growth using PostgreSQL and Python\\n- Developed automated database backup and recovery system achieving 99.99% data durability\\n- Built query optimization framework reducing average response time by 80%\\nJunior Database Administrator | SaaS Company | 2018 - 2019\\n- Maintained MySQL databases supporting multi-tenant application architecture\\n- Developed database performance monitoring scripts using Python and SQL\\nDatabase Intern | Consulting Firm | 2017 - 2018\\n- Assisted with database migration projects and performance tuning\\n- Learned database administration fundamentals and SQL optimization techniques\\nTechnical Skills\\n- Databases: 7 years SQL, 5 years PostgreSQL, 4 years MySQL, 2 years MongoDB\\n- Programming: 5 years Python, 3 years Java, 6 years Linux\\n- Performance: 6 years Database Optimization, 4 years Distributed Systems\\n- Leadership: 2 years Team Management\\nCertifications\\n- PostgreSQL Certified Professional\\n- MySQL Database Administrator Certification\\n- Oracle Performance Tuning Specialist\\nEducation\\nM.S. Computer Science | Hong Kong University of Science and Technology | 2017\\nB.S. Information Systems | Chinese University of Hong Kong | 2015\\n', 'name': 'Kai Wong'}]}\n",
      "None None will_continue=None scheduling=None id='call_zP31pakz0TBT7QMzGcqdDRQU' name='get_person_resume' response={'result': [{'resume': 'Miguel Santos\\nBackend Engineering Manager\\nEmail: miguel.santos@email.com\\nLocation: São Paulo, Brazil\\nExperience: 10 years\\nProfessional Summary\\nBackend engineering leader with 10 years experience building scalable microservices architectures.\\nExpert in Python, Java, and distributed systems.\\nProfessional Experience\\nBackend Engineering Manager | Latin America Unicorn | 2020 - Present\\n- Managed backend engineering team of 25 developers across 3 countries\\n- Architected microservices platform handling 100M+ API calls daily using Python and Java\\n- Led migration from monolithic architecture to event-driven microservices, improving scalability by 10x\\nSenior Backend Engineer | Payment Processing | 2018 - 2020\\n- Built payment processing system handling $1B+ in annual transaction volume using Java and Python\\n- Developed fraud detection microservices preventing $50M+ in fraudulent transactions\\n- Implemented distributed caching and database optimization reducing API response times by 60%\\nBackend Engineer | E-commerce Platform | 2016 - 2018\\n- Developed REST APIs and microservices using Python Flask and Django frameworks\\n- Built inventory management system supporting real-time stock updates across multiple warehouses\\nSoftware Developer | Digital Agency | 2014 - 2016\\n- Developed web applications and APIs using Python and JavaScript\\n- Learned software engineering fundamentals and agile development practices\\nTechnical Skills\\n- Programming: 10 years Python, 8 years Java, 6 years SQL, 4 years JavaScript\\n- Architecture: 6 years Microservices, 5 years Distributed Systems, 7 years API Design\\n- Infrastructure: 5 years AWS, 4 years Docker, 3 years Kubernetes\\n- Leadership: 5 years Team Management, 8 years Project Management\\nEducation\\nM.S. Computer Engineering | University of São Paulo | 2014\\nB.S. Computer Science | Federal University of Rio de Janeiro | 2012\\n', 'name': 'Miguel Santos'}]}\n",
      "None None will_continue=None scheduling=None id='call_OO3bmjHaW6sS6xlQa69lY9iq' name='get_person_resume' response={'result': [{'resume': 'Emily Chen\\nData Science Manager\\nEmail: emily.chen@email.com\\nLocation: Chicago, IL\\nExperience: 8 years\\nProfessional Summary\\nData science leader with 8 years experience building analytics teams and AI-powered products. Expert\\nin Python, machine learning, and translating business needs into technical solutions.\\nProfessional Experience\\nData Science Manager | Fintech Unicorn | 2021 - Present\\n- Managed data science team of 15 engineers and researchers building AI-powered financial products\\n- Led development of fraud detection AI system using Python and scikit-learn, preventing $50M+ in\\nlosses\\n- Shipped personalized investment recommendation engine increasing customer engagement by 35%\\nSenior Data Scientist | Retail Analytics | 2019 - 2021\\n- Built customer segmentation models using Python and machine learning, driving $20M revenue\\nincrease\\n- Developed demand forecasting system optimizing inventory management across 500+ stores\\n- Published research on deep learning applications in retail at top-tier analytics conferences\\nData Scientist | Marketing Tech | 2017 - 2019\\n- Implemented A/B testing framework using Python and statistics for product optimization\\n- Built attribution models measuring marketing campaign effectiveness across digital channels\\nJunior Data Scientist | Consulting Firm | 2016 - 2017\\n- Analyzed customer data using Python and SQL to identify business improvement opportunities\\n- Won \"Rising Star Award\" for exceptional analytical skills and client impact\\nTechnical Skills\\n- Programming: 8 years Python, 6 years SQL, 3 years R\\n- ML/Analytics: 7 years Machine Learning, 5 years Statistics, 4 years Data Science\\n- Leadership: 4 years Team Management, 6 years Project Management\\n- Tools: 4 years Tableau, 3 years AWS\\nEducation\\nPh.D. Statistics | University of Chicago | 2016\\nB.A. Mathematics | Northwestern University | 2012\\n', 'name': 'Emily Chen'}]}\n",
      "None None will_continue=None scheduling=None id='call_6KFUiZRNhgydlD8LpZnRZCO6' name='get_person_resume' response={'result': [{'resume': 'Omar Ibrahim\\nTechnical Product Manager\\nEmail: omar.ibrahim@email.com\\nLocation: Cairo, Egypt\\nExperience: 9 years\\nProfessional Summary\\nTechnical product manager with 9 years experience bridging engineering and business teams. Expert\\nin product strategy, data analysis, and leading cross-functional AI product development.\\nProfessional Experience\\nSenior Technical Product Manager | AI-Powered Fintech | 2020 - Present\\n- Led product development for AI-driven credit scoring system used by 50+ financial institutions\\n- Managed product roadmap for machine learning platform processing $1B+ in loan applications\\n- Built data analytics framework measuring product performance and user adoption metrics\\nProduct Manager | Data Analytics Platform | 2018 - 2020\\n- Shipped business intelligence product serving 10,000+ enterprise customers\\n- Led product team developing SQL-based analytics tools for non-technical users\\n- Implemented product analytics system tracking feature usage and customer satisfaction\\nTechnical Program Manager | Cloud Infrastructure | 2016 - 2018\\n- Managed engineering teams building developer platform and API services\\n- Led technical integration projects for 20+ enterprise customer deployments\\nSoftware Engineer | E-commerce | 2015 - 2016\\n- Developed web applications using Python and JavaScript for online marketplace\\n- Built recommendation system features improving customer purchase conversion\\nTechnical Skills\\n- Product: 6 years Product Management, 5 years Product Strategy, 7 years Data Analysis\\n- Technical: 4 years SQL, 2 years Python (basic), 3 years API Design\\n- Leadership: 6 years Cross-functional Team Leadership, 8 years Project Management\\n- Analytics: 5 years Business Intelligence, 4 years User Research\\nEducation\\nM.B.A. | American University in Cairo | 2018\\nB.S. Computer Engineering | Cairo University | 2015\\nCertifications\\n- Certified Product Manager (CPM)\\n- Agile Certified Product Manager\\n', 'name': 'Omar Ibrahim'}]}\n",
      "None None will_continue=None scheduling=None id='call_QHhmXRVoCn1EayBPplLxlVQD' name='get_person_resume' response={'result': [{'resume': 'Ahmed Hassan\\nMobile Platform Architect\\nEmail: ahmed.hassan@email.com\\nLocation: Toronto, ON\\nExperience: 9 years\\nProfessional Summary\\nMobile platform architect with 9 years experience building cross-platform mobile applications and\\nbackend systems. Expert in iOS, Android, and mobile infrastructure.\\nProfessional Experience\\nMobile Platform Architect | Banking Corp | 2020 - Present\\n- Architected mobile banking platform serving 10M+ customers across iOS and Android\\n- Led mobile engineering team of 20 developers building secure financial applications\\n- Built microservices backend using Python and Java supporting mobile app ecosystem\\nSenior Mobile Developer | Ride-sharing Company | 2018 - 2020\\n- Developed real-time location tracking system for iOS and Android using Swift and Kotlin\\n- Shipped driver and rider mobile applications handling 1M+ rides daily\\n- Optimized mobile app performance reducing battery consumption by 40%\\nMobile Developer | Social Gaming | 2016 - 2018\\n- Built multiplayer mobile games using React Native and Unity\\n- Implemented in-app purchase system and user analytics tracking\\nJunior iOS Developer | App Development Agency | 2015 - 2016\\n- Developed iOS applications for various clients using Swift and Objective-C\\n- Learned mobile development fundamentals and App Store submission process\\nTechnical Skills\\n- Mobile: 9 years iOS, 6 years Android, 5 years Swift, 4 years Kotlin, 3 years React Native\\n- Backend: 5 years Python, 4 years Java, 6 years SQL\\n- Leadership: 5 years Team Management, 4 years Architecture Design\\n- Tools: 7 years Git, 3 years Docker\\nEducation\\nM.S. Software Engineering | University of Toronto | 2015\\nB.S. Computer Science | Cairo University | 2013\\n', 'name': 'Ahmed Hassan'}]}\n",
      "None None will_continue=None scheduling=None id='call_EYHN4cvnVZQzQElxMIphIZF6' name='get_person_resume' response={'result': [{'resume': 'Monica Garcia\\nSenior Database Administrator\\nEmail: monica.garcia@email.com\\nLocation: Denver, CO\\nExperience: 9 years\\nProfessional Summary\\nDatabase performance expert with 9 years optimizing enterprise database systems. Specialist in\\nPostgreSQL and distributed database architectures.\\nProfessional Experience\\nSenior Database Administrator | Enterprise Data Systems | 2020 - Present\\n- Optimized PostgreSQL database performance supporting 50M+ daily transactions, improving query\\nspeed by 300%\\n- Built database replication system ensuring 99.99% availability for mission-critical applications\\n- Managed database team of 4 engineers supporting 100+ production databases across organization\\nDatabase Administrator | Financial Corp | 2018 - 2020\\n- Led database migration project moving legacy Oracle systems to modern PostgreSQL infrastructure\\n- Implemented automated backup and disaster recovery system with 15-minute recovery time objective\\n- Shipped database monitoring platform providing real-time performance insights to development teams\\nJunior Database Administrator | Healthcare Systems | 2015 - 2018\\n- Maintained and optimized SQL Server databases for patient management systems\\n- Developed database performance tuning procedures and documentation\\nTechnical Skills\\n- Databases: 9 years SQL, 7 years PostgreSQL, 3 years MongoDB\\n- Administration: 4 years Database Administration, 6 years Performance Optimization\\n- Programming: 5 years Linux, 3 years Python\\n- Leadership: 2 years Team Management\\nCertifications\\n- PostgreSQL Certified Professional\\n- Oracle Database Administrator Certified Professional\\n- MongoDB Certified DBA\\nEducation\\nB.S. Computer Information Systems | University of Colorado | 2015\\n', 'name': 'Monica Garcia'}]}\n",
      "None None will_continue=None scheduling=None id='call_cUL4HgruxZAHdN9cWY51ZyBE' name='get_person_resume' response={'result': [{'resume': 'Yuki Matsuda\\nData Platform Engineer\\nEmail: yuki.matsuda@email.com\\nLocation: Osaka, Japan\\nExperience: 6 years\\nProfessional Summary\\nData platform engineer with 6 years experience building enterprise data infrastructure. Expert in\\nPython, Apache Spark, and real-time data processing systems.\\nProfessional Experience\\nSenior Data Platform Engineer | E-commerce Giant | 2021 - Present\\n- Built real-time data streaming platform using Python, Kafka, and Apache Spark processing 1TB+\\nhourly\\n- Architected data lake infrastructure on AWS supporting analytics for 10,000+ internal users\\n- Led data engineering team of 8 developing next-generation analytics platform\\nData Platform Engineer | Gaming Company | 2019 - 2021\\n- Developed player analytics pipeline using Python and SQL processing 500M+ daily game events\\n- Built machine learning feature store supporting recommendation and personalization algorithms\\n- Shipped data quality monitoring system reducing data pipeline failures by 80%\\nData Engineer | Advertising Technology | 2018 - 2019\\n- Implemented real-time bidding analytics using Python and distributed computing frameworks\\n- Built ETL pipelines processing advertising data for campaign optimization\\nJunior Data Engineer | Financial Services | 2017 - 2018\\n- Developed batch processing jobs using Python and SQL for regulatory reporting\\n- Learned big data technologies and data warehouse design principles\\nTechnical Skills\\n- Data Engineering: 6 years Python, 4 years Apache Spark, 3 years Kafka, 5 years SQL\\n- Cloud: 4 years AWS, 2 years GCP, 3 years Docker, 2 years Kubernetes\\n- Leadership: 2 years Team Management, 4 years Project Management\\nEducation\\nM.S. Data Science | University of Tokyo | 2017\\nB.S. Computer Science | Osaka University | 2015\\n', 'name': 'Yuki Matsuda'}]}\n",
      "None None will_continue=None scheduling=None id='call_uCgJ1QbdMTyJPuOakAxddoLo' name='get_person_resume' response={'result': [{'resume': 'Jennifer Park\\nData Engineering Manager\\nEmail: jennifer.park@email.com\\nLocation: Seattle, WA\\nExperience: 10 years\\nProfessional Summary\\nResults-driven data engineering leader with 10 years experience building enterprise data platforms.\\nExpert in big data technologies and team management.\\nProfessional Experience\\nData Engineering Manager | CloudData Corp | 2020 - Present\\n- Managed 12-person data engineering team building real-time analytics platform processing 1TB+\\ndaily\\n- Led cloud migration project moving 200+ data sources to AWS, completing 2 months ahead of\\nschedule\\n- Architected data warehouse serving business intelligence needs for 500+ analysts and executives\\nSenior Data Engineer | Analytics Inc | 2017 - 2020\\n- Built data pipeline infrastructure using Apache Kafka and Spark, supporting company-wide analytics\\n- Shipped analytics dashboard enabling real-time business decision making across all departments\\n- Published whitepaper on data engineering best practices, cited 200+ times in industry publications\\nData Engineer | StartupData | 2014 - 2017\\n- Developed ETL processes for processing large-scale customer data\\n- Won \"Technical Leadership Award\" for exceptional team performance and innovation\\nTechnical Skills\\n- Programming: 10+ years SQL, 8 years Python\\n- Data Engineering: 6 years Data Engineering, 5 years Apache Spark, 4 years Kafka\\n- Infrastructure: 7 years AWS, 3 years Kubernetes\\n- Leadership: 8 years Leadership, 6 years Team Management\\nEducation\\nM.S. Data Science | University of Washington | 2014\\nB.S. Computer Engineering | UC San Diego | 2012\\n', 'name': 'Jennifer Park'}]}\n",
      "None None will_continue=None scheduling=None id='call_jStQWSDBFzOZtp59f142x3b0' name='get_person_resume' response={'result': [{'resume': 'Marcus Rodriguez\\nFull-Stack Developer\\nEmail: marcus.rodriguez@email.com\\nLocation: Austin, TX\\nExperience: 4 years\\nProfessional Summary\\nPassionate web developer with 4 years experience building scalable web applications. Skilled in\\nmodern JavaScript frameworks and cloud deployment.\\nProfessional Experience\\nSenior Full-Stack Developer | WebTech Solutions | 2022 - Present\\n- Developed e-commerce platform using React and Node.js, handling 10K+ concurrent users\\n- Built microservices architecture with 15 REST APIs, improving system performance by 60%\\n- Led frontend development team of 5 engineers on customer portal redesign project\\nFull-Stack Developer | HealthTech Startup | 2021 - 2022\\n- Shipped mobile-responsive web application for healthcare startup, serving 100K+ patients\\n- Optimized database queries and application performance, reducing page load times by 45%\\nJunior Web Developer | Digital Agency | 2020 - 2021\\n- Implemented CI/CD pipeline using Docker and AWS, automating deployment process\\n- Contributed to various client projects using React and JavaScript\\nTechnical Skills\\n- Frontend: 4 years JavaScript, 3 years React, 4 years HTML/CSS\\n- Backend: 2 years Node.js, 3 years SQL\\n- Infrastructure: 2 years AWS, 1 year Docker\\n- Other: 2 years Project Management\\nEducation\\nB.S. Computer Science | University of Texas at Austin | 2020\\n', 'name': 'Marcus Rodriguez'}]}\n",
      "None None will_continue=None scheduling=None id='call_cIqquEvaeSLetfFEpBKhQu4I' name='get_person_resume' response={'result': [{'resume': 'Aisha Patel\\nNLP Research Scientist\\nEmail: aisha.patel@email.com\\nLocation: Bangalore, India\\nExperience: 7 years\\nProfessional Summary\\nNatural language processing research scientist with 7 years experience developing language AI\\nsystems. Expert in Python, transformer architectures, and multilingual NLP.\\nProfessional Experience\\nPrincipal NLP Research Scientist | AI Research Lab | 2021 - Present\\n- Led research team developing multilingual language models supporting 50+ languages\\n- Built conversational AI system using Python, PyTorch, and transformer architectures\\n- Published 12 papers on multilingual NLP at ACL, EMNLP, and NAACL conferences\\nSenior NLP Engineer | Search Technology | 2019 - 2021\\n- Developed semantic search system using Python and BERT, improving search relevance by 40%\\n- Built question-answering system processing 10M+ queries daily across multiple languages\\n- Shipped knowledge extraction pipeline from unstructured text using deep learning\\nNLP Research Engineer | Language Technology Startup | 2018 - 2019\\n- Implemented sentiment analysis and text classification models using Python and TensorFlow\\n- Developed multilingual named entity recognition system for Indian languages\\nResearch Intern | University NLP Lab | 2017 - 2018\\n- Conducted research on cross-lingual transfer learning for low-resource languages\\n- Built text preprocessing pipelines for Indian language corpus development\\nTechnical Skills\\n- NLP: 7 years Natural Language Processing, 5 years Deep Learning, 4 years PyTorch, 3 years\\nTensorFlow\\n- Programming: 7 years Python, 3 years Java, 5 years SQL\\n- Research: 6 years Machine Learning, 7 years Research, 4 years Publications\\n- Languages: Hindi, English, Gujarati, Tamil (basic)\\nEducation\\nPh.D. Computational Linguistics | Indian Institute of Science | 2019\\nM.Tech Computer Science | IIT Bombay | 2015\\nB.Tech Computer Engineering | Gujarat University | 2013\\n', 'name': 'Aisha Patel'}]}\n",
      "None None will_continue=None scheduling=None id='call_M1mAtqBKhdbYlsHdsNYnAiJW' name='get_person_resume' response={'result': [{'resume': 'Priya Sharma\\nML Infrastructure Engineer\\nEmail: priya.sharma@email.com\\nLocation: Mountain View, CA\\nExperience: 5 years\\nProfessional Summary\\nMachine learning infrastructure specialist with 5 years experience building scalable ML platforms.\\nExpert in Python, Kubernetes, and MLOps practices.\\nProfessional Experience\\nSenior ML Infrastructure Engineer | AI-First Startup | 2022 - Present\\n- Built ML training infrastructure using Python and Kubernetes, supporting 100+ data scientists\\n- Architected feature store serving real-time ML predictions at 1M+ QPS using Python microservices\\n- Led MLOps team of 4 engineers implementing CI/CD for machine learning model deployment\\nML Platform Engineer | Tech Giant | 2020 - 2022\\n- Developed Python-based ML pipeline orchestration system processing 10TB+ daily training data\\n- Shipped automated model monitoring platform detecting data drift and model degradation\\n- Optimized distributed training infrastructure reducing model training time by 60%\\nData Engineer | Analytics Startup | 2019 - 2020\\n- Built data pipelines using Python and Apache Spark for ML feature engineering\\n- Implemented real-time data processing system supporting recommendation algorithms\\nTechnical Skills\\n- Programming: 5+ years Python, 3 years Go, 2 years Scala\\n- ML Infrastructure: 4 years MLOps, 3 years Kubernetes, 2 years Docker\\n- Data: 3 years Apache Spark, 2 years Kafka, 4 years SQL\\n- Cloud: 4 years AWS, 2 years GCP\\nEducation\\nM.S. Computer Science | UC Berkeley | 2019\\nB.Tech Computer Engineering | IIT Delhi | 2017\\n', 'name': 'Priya Sharma'}]}\n",
      "None None will_continue=None scheduling=None id='call_WxgYwTVZwJq0alMgTcmN0UiJ' name='get_person_resume' response={'result': [{'resume': \"Lisa Wang\\nProduct Data Analyst\\nEmail: lisa.wang@email.com\\nLocation: New York, NY\\nExperience: 3 years\\nProfessional Summary\\nAnalytics professional with 3 years experience turning data into actionable business insights. Strong\\nbackground in statistics and business intelligence.\\nProfessional Experience\\nSenior Data Analyst | E-commerce Giant | 2023 - Present\\n- Built executive analytics dashboard tracking key business metrics for C-suite decision making\\n- Led A/B testing framework implementation, supporting product team's experimentation needs\\n- Collaborated with product managers on data-driven feature prioritization and roadmap planning\\nProduct Data Analyst | Mobile App Startup | 2022 - 2023\\n- Analyzed user behavior data for mobile app, identifying features that increased retention by 30%\\n- Developed statistical models predicting customer churn, enabling proactive retention strategies\\n- Shipped automated reporting system reducing manual analysis time by 80%\\nData Analyst Intern | Consulting Firm | 2021 - 2022\\n- Performed market research analysis using SQL and Python\\n- Created data visualizations for client presentations\\nTechnical Skills\\n- Analytics: 3 years SQL, 2 years Python, 3 years Data Analysis, 2 years Statistics\\n- Tools: 1 year R, 2 years Tableau, 1 year Business Intelligence, 3 years Excel\\n- Other: Basic Machine Learning\\nEducation\\nM.S. Applied Statistics | Columbia University | 2022\\nB.A. Economics | NYU | 2020\\nCertifications\\n- Tableau Desktop Specialist\\n- Google Analytics Certified\\n\", 'name': 'Lisa Wang'}]}\n",
      "None None will_continue=None scheduling=None id='call_QggdtQVC0lo1Ctt7N6viMgkR' name='get_person_resume' response={'result': [{'resume': 'Rachel Thompson\\nAI Product Manager\\nEmail: rachel.thompson@email.com\\nLocation: Austin, TX\\nExperience: 6 years\\nProfessional Summary\\nAI product manager with 6 years experience bringing machine learning products from research to\\nmarket. Expert in product strategy, user research, and cross-functional team leadership.\\nProfessional Experience\\nSenior AI Product Manager | Healthcare AI Startup | 2021 - Present\\n- Led product team bringing medical diagnosis AI system from research prototype to FDA approval\\n- Managed product roadmap for AI-powered diagnostic tools serving 500+ hospitals\\n- Shipped computer vision product for radiology, improving diagnostic accuracy by 25%\\nProduct Manager | Consumer AI | 2020 - 2021\\n- Built personalization AI product increasing user engagement by 60% across mobile application\\n- Led user research and product analytics to identify AI product opportunities\\n- Collaborated with ML engineers to translate business requirements into technical specifications\\nAssociate Product Manager | Enterprise Software | 2019 - 2020\\n- Managed B2B analytics product serving Fortune 1000 customers\\n- Built product analytics framework measuring feature adoption and user satisfaction\\nProduct Marketing Manager | Tech Startup | 2018 - 2019\\n- Developed go-to-market strategy for AI-powered SaaS products\\n- Created product positioning and messaging for machine learning features\\nTechnical Skills\\n- Product: 6 years Product Management, 4 years Product Strategy, 5 years User Research\\n- Analytics: 4 years Data Analysis, 3 years SQL, 2 years Python (basic)\\n- AI Understanding: 3 years Machine Learning concepts, 2 years Computer Vision applications\\n- Leadership: 4 years Cross-functional Team Leadership, 5 years Project Management\\nEducation\\nM.B.A. | University of Texas at Austin | 2018\\nB.S. Industrial Engineering | Georgia Tech | 2016\\nCertifications\\n- Certified Product Manager (CPM)\\n- Google Analytics Certified\\n', 'name': 'Rachel Thompson'}]}\n",
      "None None will_continue=None scheduling=None id='call_FQ03N4NuSapyoCkLaw3XJuVr' name='get_person_resume' response={'result': [{'resume': 'Sophia Kim\\nAnalytics Engineering Lead\\nEmail: sophia.kim@email.com\\nLocation: Seoul, South Korea\\nExperience: 7 years\\nProfessional Summary\\nAnalytics engineering leader with 7 years experience building data platforms and business intelligence\\nsystems. Expert in SQL, Python, and modern analytics stack.\\nProfessional Experience\\nAnalytics Engineering Lead | Gaming Company | 2021 - Present\\n- Led analytics engineering team of 10 building real-time player behavior analytics platform\\n- Built data warehouse using SQL and Python processing 500GB+ daily game event data\\n- Shipped executive dashboard tracking key business metrics for global gaming operations\\nSenior Analytics Engineer | Streaming Platform | 2019 - 2021\\n- Developed recommendation analytics system using Python and machine learning, improving content\\ndiscovery by 40%\\n- Built A/B testing infrastructure supporting 100+ concurrent experiments across user base\\n- Implemented real-time analytics pipeline for content performance tracking\\nData Analyst | Marketing Technology | 2018 - 2019\\n- Built attribution models using SQL and Python measuring marketing campaign effectiveness\\n- Developed customer lifetime value prediction models using statistical analysis\\nBusiness Intelligence Analyst | E-commerce | 2017 - 2018\\n- Created business intelligence dashboards using Tableau and SQL for executive reporting\\n- Analyzed customer behavior data to identify growth opportunities and retention strategies\\nTechnical Skills\\n- Analytics: 7 years SQL, 5 years Python, 4 years Statistics, 6 years Data Analysis\\n- BI Tools: 4 years Tableau, 3 years Looker, 5 years Business Intelligence\\n- Leadership: 3 years Team Management, 5 years Project Management\\n- Cloud: 3 years AWS, 2 years GCP\\nEducation\\nM.S. Business Analytics | Seoul National University | 2017\\nB.A. Economics | Yonsei University | 2015\\n', 'name': 'Sophia Kim'}]}\n",
      "None None will_continue=None scheduling=None id='call_biSj4uvcLYROUKu6VsVvtsvu' name='get_person_resume' response={'result': [{'resume': 'Lucas Martinez\\nFull-Stack AI Engineer\\nEmail: lucas.martinez@email.com\\nLocation: Barcelona, Spain\\nExperience: 4 years\\nProfessional Summary\\nFull-stack engineer with 4 years experience building end-to-end AI applications. Expert in Python,\\nJavaScript, and integrating machine learning with web applications.\\nProfessional Experience\\nSenior Full-Stack AI Engineer | EdTech Startup | 2022 - Present\\n- Built personalized learning platform using Python Flask backend and React frontend\\n- Developed AI tutoring system using natural language processing and Python machine learning\\n- Shipped adaptive learning algorithm increasing student performance by 50%\\nAI Software Engineer | Healthcare Tech | 2021 - 2022\\n- Built medical image analysis web application using Python computer vision and JavaScript frontend\\n- Developed REST APIs serving machine learning models for diagnostic assistance tools\\n- Implemented real-time collaboration features for medical professionals\\nJunior Full-Stack Developer | Digital Agency | 2020 - 2021\\n- Developed web applications using Python Django and JavaScript React\\n- Built data visualization dashboards integrating with machine learning predictions\\n- Learned AI/ML concepts through online courses and personal projects\\nTechnical Skills\\n- Full-Stack: 4 years Python, 3 years JavaScript, 2 years React, 3 years HTML/CSS\\n- AI/ML: 2 years Machine Learning, 1 year Natural Language Processing, 1 year Computer Vision\\n- Backend: 3 years Django, 2 years Flask, 3 years SQL\\n- Tools: 3 years Git, 2 years Docker, 1 year AWS\\nEducation\\nM.S. Artificial Intelligence | Universitat Politècnica de Catalunya | 2022\\nB.S. Computer Science | Universidad de Barcelona | 2020\\n', 'name': 'Lucas Martinez'}]}\n",
      "I reviewed the resumes of all 16 SQL developers in the organization to identify who would be best suited to support a core operational store deployment, focusing on experience with high-scale database systems, distributed database management, operational performance, reliability, and prior production or mission-critical deployment work.\n",
      "\n",
      "Based on these criteria, two standout candidates are:\n",
      "\n",
      "1. Kai Wong (ID: 3ffr8dYb)\n",
      "   - Current role: Senior Database Performance Engineer, specializing in highly optimized trading and distributed PostgreSQL systems that handle 1M+ transactions per second.\n",
      "   - Experience leading a database engineering team, hands-on with advanced SQL, sharding, backup & recovery, and real-time database monitoring.\n",
      "   - Certifications in PostgreSQL, MySQL, and Oracle performance.\n",
      "\n",
      "2. Monica Garcia (ID: eOIAxtcB)\n",
      "   - Current role: Senior Database Administrator, with 9 years optimizing enterprise PostgreSQL databases for 50M+ transactions daily.\n",
      "   - Led production migrations, implemented replication for 99.99% availability, and managed performance for mission-critical systems supporting many production databases.\n",
      "\n",
      "Both have a strong operational focus, proven experience in large-scale, real-time, and highly reliable environments with SQL and distributed systems. Either would be an excellent fit for supporting a core operational store deployment.\n",
      "\n",
      "If you’d like more detailed comparisons or wish to see others with relevant backing (such as Yuki Matsuda, Jennifer Park, or Ahmed Hassan), let me know! None None\n"
     ]
    },
    {
     "data": {
      "text/plain": [
       "'I reviewed the resumes of all 16 SQL developers in the organization to identify who would be best suited to support a core operational store deployment, focusing on experience with high-scale database systems, distributed database management, operational performance, reliability, and prior production or mission-critical deployment work.\\n\\nBased on these criteria, two standout candidates are:\\n\\n1. Kai Wong (ID: 3ffr8dYb)\\n   - Current role: Senior Database Performance Engineer, specializing in highly optimized trading and distributed PostgreSQL systems that handle 1M+ transactions per second.\\n   - Experience leading a database engineering team, hands-on with advanced SQL, sharding, backup & recovery, and real-time database monitoring.\\n   - Certifications in PostgreSQL, MySQL, and Oracle performance.\\n\\n2. Monica Garcia (ID: eOIAxtcB)\\n   - Current role: Senior Database Administrator, with 9 years optimizing enterprise PostgreSQL databases for 50M+ transactions daily.\\n   - Led production migrations, implemented replication for 99.99% availability, and managed performance for mission-critical systems supporting many production databases.\\n\\nBoth have a strong operational focus, proven experience in large-scale, real-time, and highly reliable environments with SQL and distributed systems. Either would be an excellent fit for supporting a core operational store deployment.\\n\\nIf you’d like more detailed comparisons or wish to see others with relevant backing (such as Yuki Matsuda, Jennifer Park, or Ahmed Hassan), let me know!'"
      ]
     },
     "execution_count": 53,
     "metadata": {},
     "output_type": "execute_result"
    }
   ],
   "execution_count": 53
  }
 ],
 "metadata": {
  "kernelspec": {
   "display_name": "Python 3",
   "language": "python",
   "name": "python3"
  },
  "language_info": {
   "codemirror_mode": {
    "name": "ipython",
    "version": 2
   },
   "file_extension": ".py",
   "mimetype": "text/x-python",
   "name": "python",
   "nbconvert_exporter": "python",
   "pygments_lexer": "ipython2",
   "version": "2.7.6"
  }
 },
 "nbformat": 4,
 "nbformat_minor": 5
}

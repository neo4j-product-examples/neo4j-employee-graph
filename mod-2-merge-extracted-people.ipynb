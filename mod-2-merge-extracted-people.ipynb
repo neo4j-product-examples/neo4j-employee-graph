{
 "cells": [
  {
   "cell_type": "code",
   "id": "initial_id",
   "metadata": {
    "collapsed": true,
    "ExecuteTime": {
     "end_time": "2025-06-01T18:06:50.028394Z",
     "start_time": "2025-06-01T18:06:50.006077Z"
    }
   },
   "source": [
    "#get env setup\n",
    "import getpass\n",
    "import os\n",
    "from dotenv import load_dotenv\n",
    "\n",
    "#get env setup\n",
    "load_dotenv('nb.env', override=True)\n",
    "\n",
    "if not os.environ.get('NEO4J_URI'):\n",
    "    os.environ['NEO4J_URI'] = getpass.getpass('NEO4J_URI:\\n')\n",
    "if not os.environ.get('NEO4J_USERNAME'):\n",
    "    os.environ['NEO4J_USERNAME'] = getpass.getpass('NEO4J_USERNAME:\\n')\n",
    "if not os.environ.get('NEO4J_PASSWORD'):\n",
    "    os.environ['NEO4J_PASSWORD'] = getpass.getpass('NEO4J_PASSWORD:\\n')\n",
    "\n",
    "NEO4J_URI = os.getenv('NEO4J_URI')\n",
    "NEO4J_USERNAME = os.getenv('NEO4J_USERNAME')\n",
    "NEO4J_PASSWORD = os.getenv('NEO4J_PASSWORD')"
   ],
   "outputs": [],
   "execution_count": 38
  },
  {
   "metadata": {
    "ExecuteTime": {
     "end_time": "2025-06-01T18:34:18.208017Z",
     "start_time": "2025-06-01T18:34:18.192140Z"
    }
   },
   "cell_type": "code",
   "source": [
    "import json\n",
    "from person import Person\n",
    "\n",
    "#read json models back\n",
    "with open('extracted-people-data.json', 'r') as file:\n",
    "    people_json = json.load(file)\n",
    "people = [Person(**person) for person in people_json]\n",
    "people[0]"
   ],
   "id": "f360aba478ca3c03",
   "outputs": [
    {
     "data": {
      "text/plain": [
       "Person(id='5BiANRmk', name='Alex Thompson', email='alex.thompson@email.com', current_title='Junior Mobile Developer', department=<Department.ENGINEERING: 'Engineering'>, level=<Level.JUNIOR: 'Junior'>, hire_date=None, skills=[HasSkill(skill=Skill(name=<SkillName.JAVASCRIPT: 'JavaScript'>), proficiency=3, years_experience=2, context='Used in personal projects and during mobile development internship.', is_primary=False), HasSkill(skill=Skill(name=<SkillName.PYTHON: 'Python'>), proficiency=None, years_experience=None, context=None, is_primary=False), HasSkill(skill=Skill(name=<SkillName.JAVA: 'Java'>), proficiency=1, years_experience=None, context='Basic familiarity from coursework.', is_primary=False), HasSkill(skill=Skill(name=<SkillName.DATA_ENGINEERING: 'Data Engineering'>), proficiency=None, years_experience=None, context=None, is_primary=False), HasSkill(skill=Skill(name=<SkillName.PRODUCT_MANAGEMENT: 'Product Management'>), proficiency=None, years_experience=None, context=None, is_primary=False), HasSkill(skill=Skill(name=<SkillName.COMMUNICATION: 'Communication'>), proficiency=3, years_experience=1, context='Collaborated with senior developers and team members during internships.', is_primary=False)], accomplishments=[Accomplishment(type=<AccomplishmentType.BUILT: 'BUILT'>, thing=Thing(type=<WorkType.PRODUCT: 'PRODUCT'>, domain=<Domain.MOBILE: 'MOBILE'>), impact_description='Developed a secure banking mobile app using Swift during a 6-month internship, implemented secure authentication.', year=2024, role='Junior Mobile Developer', duration='6 months', team_size=None, context='FinTech Mobile internship'), Accomplishment(type=<AccomplishmentType.BUILT: 'BUILT'>, thing=Thing(type=<WorkType.PRODUCT: 'PRODUCT'>, domain=<Domain.MOBILE: 'MOBILE'>), impact_description='Built a social media iOS application as a capstone project, supporting photo sharing and messaging.', year=2023, role='Mobile Development Intern', duration='3 months', team_size=None, context='Social Media Startup internship'), Accomplishment(type=<AccomplishmentType.BUILT: 'BUILT'>, thing=Thing(type=<WorkType.PROJECT: 'PROJECT'>, domain=<Domain.MOBILE: 'MOBILE'>), impact_description='Built 5 iOS applications including a weather app, to-do list, and photo gallery as part of an iOS development bootcamp.', year=2023, role='Student', duration='3 months', team_size=None, context='CodePath iOS Development Bootcamp'), Accomplishment(type=<AccomplishmentType.BUILT: 'BUILT'>, thing=Thing(type=<WorkType.PRODUCT: 'PRODUCT'>, domain=<Domain.MOBILE: 'MOBILE'>), impact_description='Contributed to a React Native cross-platform app, learning mobile development best practices.', year=2023, role='Mobile Development Intern', duration='3 months', team_size=None, context='Social Media Startup internship')], years_experience=1, previous_companies=['FinTech Mobile', 'Social Media Startup'], location='Boston, MA')"
      ]
     },
     "execution_count": 63,
     "metadata": {},
     "output_type": "execute_result"
    }
   ],
   "execution_count": 63
  },
  {
   "metadata": {
    "ExecuteTime": {
     "end_time": "2025-06-01T18:34:21.374912Z",
     "start_time": "2025-06-01T18:34:20.880611Z"
    }
   },
   "cell_type": "code",
   "source": [
    "from neo4j import GraphDatabase\n",
    "\n",
    "# load into People nodes in Neo4j\n",
    "\n",
    "#instantiate driver\n",
    "driver = GraphDatabase.driver(NEO4J_URI, auth=(NEO4J_USERNAME, NEO4J_PASSWORD))\n",
    "\n",
    "#test neo4j connection\n",
    "driver.execute_query(\"MATCH(n) RETURN count(n)\")"
   ],
   "id": "773c1aedaa7ff88e",
   "outputs": [
    {
     "data": {
      "text/plain": [
       "EagerResult(records=[<Record count(n)=10>], summary=<neo4j._work.summary.ResultSummary object at 0x10dc02bd0>, keys=['count(n)'])"
      ]
     },
     "execution_count": 64,
     "metadata": {},
     "output_type": "execute_result"
    }
   ],
   "execution_count": 64
  },
  {
   "metadata": {
    "ExecuteTime": {
     "end_time": "2025-06-01T18:34:23.178315Z",
     "start_time": "2025-06-01T18:34:22.855871Z"
    }
   },
   "cell_type": "code",
   "source": [
    "from neo4j import RoutingControl\n",
    "\n",
    "#create uniqueness constraint if not exists\n",
    "driver.execute_query(\n",
    "    'CREATE CONSTRAINT IF NOT EXISTS FOR (n:Person) REQUIRE (n.id) IS NODE KEY',\n",
    "    #database_=DATABASE,\n",
    "    routing_=RoutingControl.WRITE\n",
    ")\n",
    "\n",
    "driver.execute_query(\n",
    "    'CREATE CONSTRAINT IF NOT EXISTS FOR (n:Skill) REQUIRE (n.name) IS NODE KEY',\n",
    "    #database_=DATABASE,\n",
    "    routing_=RoutingControl.WRITE\n",
    ")\n",
    "\n",
    "driver.execute_query(\n",
    "    'CREATE CONSTRAINT IF NOT EXISTS FOR (n:Thing) REQUIRE (n.name) IS NODE KEY',\n",
    "    #database_=DATABASE,\n",
    "    routing_=RoutingControl.WRITE\n",
    ")\n",
    "\n",
    "driver.execute_query(\n",
    "    'CREATE CONSTRAINT IF NOT EXISTS FOR (n:Domain) REQUIRE (n.name) IS NODE KEY',\n",
    "    #database_=DATABASE,\n",
    "    routing_=RoutingControl.WRITE\n",
    ")\n",
    "\n",
    "driver.execute_query(\n",
    "    'CREATE CONSTRAINT IF NOT EXISTS FOR (n:WorkType) REQUIRE (n.name) IS NODE KEY',\n",
    "    #database_=DATABASE,\n",
    "    routing_=RoutingControl.WRITE\n",
    ")\n"
   ],
   "id": "7c0e8ac29b5c21fb",
   "outputs": [
    {
     "data": {
      "text/plain": [
       "EagerResult(records=[], summary=<neo4j._work.summary.ResultSummary object at 0x10dbba290>, keys=[])"
      ]
     },
     "execution_count": 65,
     "metadata": {},
     "output_type": "execute_result"
    }
   ],
   "execution_count": 65
  },
  {
   "metadata": {
    "ExecuteTime": {
     "end_time": "2025-06-01T18:40:12.035638Z",
     "start_time": "2025-06-01T18:40:11.734711Z"
    }
   },
   "cell_type": "code",
   "source": [
    "# merge people\n",
    "def chunks(xs, n=10):\n",
    "    n = max(1, n)\n",
    "    return [xs[i:i + n] for i in range(0, len(xs), n)]\n",
    "\n",
    "for chunk in chunks(people_json):\n",
    "    records = driver.execute_query(\n",
    "        \"\"\"\n",
    "        UNWIND $records AS rec\n",
    "        MERGE(person:Person {id:rec.id})\n",
    "        SET person.name = rec.name,\n",
    "            person.email = rec.email,\n",
    "            person.current_title = rec.current_title,\n",
    "            person.department = rec.department,\n",
    "            person.level = rec.level,\n",
    "            person.years_experience = rec.years_experience,\n",
    "            person.location = rec.location\n",
    "        RETURN count(rec) AS records_upserted\n",
    "        \"\"\",\n",
    "        #database_=DATABASE,\n",
    "        routing_=RoutingControl.WRITE,\n",
    "        result_transformer_= lambda r: r.data(),\n",
    "        records = chunk\n",
    "    )\n",
    "    print(records)"
   ],
   "id": "2f43dbae0fc7ee13",
   "outputs": [
    {
     "name": "stdout",
     "output_type": "stream",
     "text": [
      "[{'records_upserted': 10}]\n"
     ]
    }
   ],
   "execution_count": 76
  },
  {
   "metadata": {
    "ExecuteTime": {
     "end_time": "2025-06-01T18:40:14.304315Z",
     "start_time": "2025-06-01T18:40:14.300355Z"
    }
   },
   "cell_type": "code",
   "source": [
    "# merge accomplishments\n",
    "skills = []\n",
    "accomplishments = []\n",
    "for person in people_json:\n",
    "\n",
    "    # extend skills list\n",
    "    tmp_skills = person['skills'].copy()\n",
    "    for skill in tmp_skills:\n",
    "        skill['personId'] = person['id']\n",
    "    skills.extend(tmp_skills)\n",
    "\n",
    "    # extend accomplishments list\n",
    "    tmp_accomplishments = person['accomplishments'].copy()\n",
    "    for accomplishment in tmp_accomplishments:\n",
    "        accomplishment['personId'] = person['id']\n",
    "    accomplishments.extend(tmp_accomplishments)\n",
    "\n"
   ],
   "id": "87cf463963380cd0",
   "outputs": [],
   "execution_count": 77
  },
  {
   "metadata": {
    "ExecuteTime": {
     "end_time": "2025-06-01T18:34:42.795358Z",
     "start_time": "2025-06-01T18:34:42.791377Z"
    }
   },
   "cell_type": "code",
   "source": "skills[:3]",
   "id": "414c35c1b4026f0e",
   "outputs": [
    {
     "data": {
      "text/plain": [
       "[{'skill': {'name': 'JavaScript'},\n",
       "  'proficiency': 3,\n",
       "  'years_experience': 2,\n",
       "  'context': 'Used in personal projects and during mobile development internship.',\n",
       "  'is_primary': False,\n",
       "  'personId': '5BiANRmk'},\n",
       " {'skill': {'name': 'Python'},\n",
       "  'proficiency': None,\n",
       "  'years_experience': None,\n",
       "  'context': None,\n",
       "  'is_primary': False,\n",
       "  'personId': '5BiANRmk'},\n",
       " {'skill': {'name': 'Java'},\n",
       "  'proficiency': 1,\n",
       "  'years_experience': None,\n",
       "  'context': 'Basic familiarity from coursework.',\n",
       "  'is_primary': False,\n",
       "  'personId': '5BiANRmk'}]"
      ]
     },
     "execution_count": 68,
     "metadata": {},
     "output_type": "execute_result"
    }
   ],
   "execution_count": 68
  },
  {
   "metadata": {
    "ExecuteTime": {
     "end_time": "2025-06-01T18:34:44.645487Z",
     "start_time": "2025-06-01T18:34:44.642580Z"
    }
   },
   "cell_type": "code",
   "source": "accomplishments[:2]",
   "id": "4819f23970f775ad",
   "outputs": [
    {
     "data": {
      "text/plain": [
       "[{'type': 'BUILT',\n",
       "  'thing': {'name': 'banking_app_5BiANRmk',\n",
       "   'type': 'PRODUCT',\n",
       "   'domain': 'MOBILE'},\n",
       "  'impact_description': 'Developed a secure banking mobile app using Swift during a 6-month internship, implemented secure authentication.',\n",
       "  'year': 2024,\n",
       "  'role': 'Junior Mobile Developer',\n",
       "  'duration': '6 months',\n",
       "  'team_size': None,\n",
       "  'context': 'FinTech Mobile internship',\n",
       "  'personId': '5BiANRmk'},\n",
       " {'type': 'BUILT',\n",
       "  'thing': {'name': 'social_media_ios_app_5BiANRmk',\n",
       "   'type': 'PRODUCT',\n",
       "   'domain': 'MOBILE'},\n",
       "  'impact_description': 'Built a social media iOS application as a capstone project, supporting photo sharing and messaging.',\n",
       "  'year': 2023,\n",
       "  'role': 'Mobile Development Intern',\n",
       "  'duration': '3 months',\n",
       "  'team_size': None,\n",
       "  'context': 'Social Media Startup internship',\n",
       "  'personId': '5BiANRmk'}]"
      ]
     },
     "execution_count": 69,
     "metadata": {},
     "output_type": "execute_result"
    }
   ],
   "execution_count": 69
  },
  {
   "metadata": {
    "ExecuteTime": {
     "end_time": "2025-06-01T18:40:18.716708Z",
     "start_time": "2025-06-01T18:40:18.156948Z"
    }
   },
   "cell_type": "code",
   "source": [
    "for chunk in chunks(skills):\n",
    "    records = driver.execute_query(\n",
    "        \"\"\"\n",
    "        UNWIND $records AS rec\n",
    "        MATCH(person:Person {id:rec.personId})\n",
    "        MERGE(skill:Skill {name:rec.skill.name})\n",
    "        MERGE(person)-[r:KNOWS]->(skill)\n",
    "        SET r.proficiency = rec.proficiency,\n",
    "            r.years_experience = rec.years_experience,\n",
    "            r.context  = rec.context,\n",
    "            r.is_primary = rec.is_primary\n",
    "        RETURN count(rec) AS records_upserted\n",
    "        \"\"\",\n",
    "        #database_=DATABASE,\n",
    "        routing_=RoutingControl.WRITE,\n",
    "        result_transformer_= lambda r: r.data(),\n",
    "        records = chunk\n",
    "    )\n",
    "    print(records)"
   ],
   "id": "57ced8db1a6dc4ed",
   "outputs": [
    {
     "name": "stdout",
     "output_type": "stream",
     "text": [
      "[{'records_upserted': 10}]\n",
      "[{'records_upserted': 10}]\n",
      "[{'records_upserted': 10}]\n",
      "[{'records_upserted': 10}]\n",
      "[{'records_upserted': 10}]\n",
      "[{'records_upserted': 10}]\n",
      "[{'records_upserted': 10}]\n",
      "[{'records_upserted': 10}]\n",
      "[{'records_upserted': 4}]\n"
     ]
    }
   ],
   "execution_count": 78
  },
  {
   "metadata": {
    "ExecuteTime": {
     "end_time": "2025-06-01T18:40:21.224946Z",
     "start_time": "2025-06-01T18:40:20.630598Z"
    }
   },
   "cell_type": "code",
   "source": [
    "for chunk in chunks(accomplishments):\n",
    "    records = driver.execute_query(\n",
    "        \"\"\"\n",
    "        UNWIND $records AS rec\n",
    "\n",
    "        //match people\n",
    "        MATCH(person:Person {id:rec.personId})\n",
    "\n",
    "        //merge accomplishments\n",
    "        MERGE(thing:Thing {name:rec.thing.name})\n",
    "        MERGE(person)-[r:$(rec.type)]->(thing)\n",
    "        SET r.impact_description = rec.impact_description,\n",
    "            r.year = rec.year,\n",
    "            r.role  = rec.role,\n",
    "            r.duration = rec.duration,\n",
    "            r.team_size = rec.team_size,\n",
    "            r.context  = rec.context\n",
    "\n",
    "        //merge domain and work type\n",
    "        MERGE(Domain:Domain {name:rec.thing.domain})\n",
    "        MERGE(thing)-[:IN]->(Domain)\n",
    "        MERGE(WorkType:WorkType {name:rec.thing.type})\n",
    "        MERGE(thing)-[:OF]->(WorkType)\n",
    "\n",
    "        RETURN count(rec) AS records_upserted\n",
    "        \"\"\",\n",
    "        #database_=DATABASE,\n",
    "        routing_=RoutingControl.WRITE,\n",
    "        result_transformer_= lambda r: r.data(),\n",
    "        records = chunk\n",
    "    )\n",
    "    print(records)"
   ],
   "id": "ef4b2dc330281821",
   "outputs": [
    {
     "name": "stdout",
     "output_type": "stream",
     "text": [
      "[{'records_upserted': 10}]\n",
      "[{'records_upserted': 10}]\n",
      "[{'records_upserted': 10}]\n",
      "[{'records_upserted': 10}]\n",
      "[{'records_upserted': 10}]\n",
      "[{'records_upserted': 10}]\n",
      "[{'records_upserted': 10}]\n"
     ]
    }
   ],
   "execution_count": 79
  },
  {
   "metadata": {},
   "cell_type": "code",
   "outputs": [],
   "execution_count": null,
   "source": "# build adk agent with neo4j mcp",
   "id": "827e35ccd8fac8c9"
  },
  {
   "metadata": {},
   "cell_type": "code",
   "outputs": [],
   "execution_count": null,
   "source": "# ask some questions",
   "id": "1d49fa65a60aa367"
  },
  {
   "metadata": {},
   "cell_type": "code",
   "outputs": [],
   "execution_count": null,
   "source": "",
   "id": "1b68094222abc004"
  },
  {
   "metadata": {},
   "cell_type": "code",
   "outputs": [],
   "execution_count": null,
   "source": "",
   "id": "ce912fbfa7e90563"
  }
 ],
 "metadata": {
  "kernelspec": {
   "display_name": "Python 3",
   "language": "python",
   "name": "python3"
  },
  "language_info": {
   "codemirror_mode": {
    "name": "ipython",
    "version": 2
   },
   "file_extension": ".py",
   "mimetype": "text/x-python",
   "name": "python",
   "nbconvert_exporter": "python",
   "pygments_lexer": "ipython2",
   "version": "2.7.6"
  }
 },
 "nbformat": 4,
 "nbformat_minor": 5
}

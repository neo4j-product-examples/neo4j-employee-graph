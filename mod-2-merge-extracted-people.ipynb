{
 "cells": [
  {
   "cell_type": "code",
   "id": "initial_id",
   "metadata": {
    "collapsed": true,
    "ExecuteTime": {
     "end_time": "2025-06-01T18:06:50.028394Z",
     "start_time": "2025-06-01T18:06:50.006077Z"
    }
   },
   "source": [
    "#get env setup\n",
    "import getpass\n",
    "import os\n",
    "from dotenv import load_dotenv\n",
    "\n",
    "#get env setup\n",
    "load_dotenv('nb.env', override=True)\n",
    "\n",
    "if not os.environ.get('NEO4J_URI'):\n",
    "    os.environ['NEO4J_URI'] = getpass.getpass('NEO4J_URI:\\n')\n",
    "if not os.environ.get('NEO4J_USERNAME'):\n",
    "    os.environ['NEO4J_USERNAME'] = getpass.getpass('NEO4J_USERNAME:\\n')\n",
    "if not os.environ.get('NEO4J_PASSWORD'):\n",
    "    os.environ['NEO4J_PASSWORD'] = getpass.getpass('NEO4J_PASSWORD:\\n')\n",
    "\n",
    "NEO4J_URI = os.getenv('NEO4J_URI')\n",
    "NEO4J_USERNAME = os.getenv('NEO4J_USERNAME')\n",
    "NEO4J_PASSWORD = os.getenv('NEO4J_PASSWORD')"
   ],
   "outputs": [],
   "execution_count": 38
  },
  {
   "metadata": {
    "ExecuteTime": {
     "end_time": "2025-06-01T19:16:26.592637Z",
     "start_time": "2025-06-01T19:16:26.565038Z"
    }
   },
   "cell_type": "code",
   "source": [
    "import json\n",
    "from person import Person, SkillName\n",
    "\n",
    "#read json models back\n",
    "with open('extracted-people-data.json', 'r') as file:\n",
    "    people_json = json.load(file)\n",
    "people = [Person(**person) for person in people_json]\n",
    "people[0]"
   ],
   "id": "f360aba478ca3c03",
   "outputs": [
    {
     "data": {
      "text/plain": [
       "Person(id='5BiANRmk', name='Alex Thompson', email='alex.thompson@email.com', current_title='Junior Mobile Developer', department=<Department.ENGINEERING: 'Engineering'>, level=<Level.JUNIOR: 'Junior'>, hire_date=None, skills=[HasSkill(skill=Skill(name=<SkillName.JAVASCRIPT: 'JavaScript'>), proficiency=2, years_experience=2, context='Used in mobile app development and personal projects', is_primary=False)], accomplishments=[Accomplishment(type=<AccomplishmentType.BUILT: 'BUILT'>, thing=Thing(type=<WorkType.PRODUCT: 'PRODUCT'>, domain=<Domain.MOBILE: 'MOBILE'>), impact_description='Developed a banking mobile app using Swift during a 6-month internship, implemented secure authentication.', year=2024, role='Junior Mobile Developer', duration='6 months', team_size=None, context='FinTech Mobile internship'), Accomplishment(type=<AccomplishmentType.BUILT: 'BUILT'>, thing=Thing(type=<WorkType.PRODUCT: 'PRODUCT'>, domain=<Domain.MOBILE: 'MOBILE'>), impact_description='Built a social media iOS application as a capstone project, supporting photo sharing and messaging.', year=2023, role='Mobile Development Intern', duration='Summer 2023', team_size=None, context='Social Media Startup internship'), Accomplishment(type=<AccomplishmentType.BUILT: 'BUILT'>, thing=Thing(type=<WorkType.PRODUCT: 'PRODUCT'>, domain=<Domain.MOBILE: 'MOBILE'>), impact_description='Contributed to React Native cross-platform app, learning mobile development best practices.', year=2023, role='Mobile Development Intern', duration='Summer 2023', team_size=None, context='Social Media Startup internship'), Accomplishment(type=<AccomplishmentType.BUILT: 'BUILT'>, thing=Thing(type=<WorkType.PRODUCT: 'PRODUCT'>, domain=<Domain.MOBILE: 'MOBILE'>), impact_description='Built 5 iOS applications including weather app, to-do list, and photo gallery as part of iOS bootcamp.', year=2023, role='Student', duration=None, team_size=None, context='CodePath iOS Development Bootcamp')], years_experience=1, previous_companies=['FinTech Mobile', 'Social Media Startup'], location='Boston, MA')"
      ]
     },
     "execution_count": 87,
     "metadata": {},
     "output_type": "execute_result"
    }
   ],
   "execution_count": 87
  },
  {
   "metadata": {
    "ExecuteTime": {
     "end_time": "2025-06-01T19:16:28.916876Z",
     "start_time": "2025-06-01T19:16:28.556506Z"
    }
   },
   "cell_type": "code",
   "source": [
    "from neo4j import GraphDatabase\n",
    "\n",
    "# load into People nodes in Neo4j\n",
    "\n",
    "#instantiate driver\n",
    "driver = GraphDatabase.driver(NEO4J_URI, auth=(NEO4J_USERNAME, NEO4J_PASSWORD))\n",
    "\n",
    "#test neo4j connection\n",
    "driver.execute_query(\"MATCH(n) RETURN count(n)\")"
   ],
   "id": "773c1aedaa7ff88e",
   "outputs": [
    {
     "data": {
      "text/plain": [
       "EagerResult(records=[<Record count(n)=10>], summary=<neo4j._work.summary.ResultSummary object at 0x10dbc5010>, keys=['count(n)'])"
      ]
     },
     "execution_count": 88,
     "metadata": {},
     "output_type": "execute_result"
    }
   ],
   "execution_count": 88
  },
  {
   "metadata": {
    "ExecuteTime": {
     "end_time": "2025-06-01T19:16:31.010224Z",
     "start_time": "2025-06-01T19:16:30.602248Z"
    }
   },
   "cell_type": "code",
   "source": [
    "from neo4j import RoutingControl\n",
    "\n",
    "#create uniqueness constraint if not exists\n",
    "driver.execute_query(\n",
    "    'CREATE CONSTRAINT IF NOT EXISTS FOR (n:Person) REQUIRE (n.id) IS NODE KEY',\n",
    "    #database_=DATABASE,\n",
    "    routing_=RoutingControl.WRITE\n",
    ")\n",
    "\n",
    "driver.execute_query(\n",
    "    'CREATE CONSTRAINT IF NOT EXISTS FOR (n:Skill) REQUIRE (n.name) IS NODE KEY',\n",
    "    #database_=DATABASE,\n",
    "    routing_=RoutingControl.WRITE\n",
    ")\n",
    "\n",
    "driver.execute_query(\n",
    "    'CREATE CONSTRAINT IF NOT EXISTS FOR (n:Thing) REQUIRE (n.name) IS NODE KEY',\n",
    "    #database_=DATABASE,\n",
    "    routing_=RoutingControl.WRITE\n",
    ")\n",
    "\n",
    "driver.execute_query(\n",
    "    'CREATE CONSTRAINT IF NOT EXISTS FOR (n:Domain) REQUIRE (n.name) IS NODE KEY',\n",
    "    #database_=DATABASE,\n",
    "    routing_=RoutingControl.WRITE\n",
    ")\n",
    "\n",
    "driver.execute_query(\n",
    "    'CREATE CONSTRAINT IF NOT EXISTS FOR (n:WorkType) REQUIRE (n.name) IS NODE KEY',\n",
    "    #database_=DATABASE,\n",
    "    routing_=RoutingControl.WRITE\n",
    ")\n"
   ],
   "id": "7c0e8ac29b5c21fb",
   "outputs": [
    {
     "data": {
      "text/plain": [
       "EagerResult(records=[], summary=<neo4j._work.summary.ResultSummary object at 0x10d71d390>, keys=[])"
      ]
     },
     "execution_count": 89,
     "metadata": {},
     "output_type": "execute_result"
    }
   ],
   "execution_count": 89
  },
  {
   "metadata": {
    "ExecuteTime": {
     "end_time": "2025-06-01T19:16:33.239573Z",
     "start_time": "2025-06-01T19:16:33.073570Z"
    }
   },
   "cell_type": "code",
   "source": [
    "# merge people\n",
    "def chunks(xs, n=10):\n",
    "    n = max(1, n)\n",
    "    return [xs[i:i + n] for i in range(0, len(xs), n)]\n",
    "\n",
    "for chunk in chunks(people_json):\n",
    "    records = driver.execute_query(\n",
    "        \"\"\"\n",
    "        UNWIND $records AS rec\n",
    "        MERGE(person:Person {id:rec.id})\n",
    "        SET person.name = rec.name,\n",
    "            person.email = rec.email,\n",
    "            person.current_title = rec.current_title,\n",
    "            person.department = rec.department,\n",
    "            person.level = rec.level,\n",
    "            person.years_experience = rec.years_experience,\n",
    "            person.location = rec.location\n",
    "        RETURN count(rec) AS records_upserted\n",
    "        \"\"\",\n",
    "        #database_=DATABASE,\n",
    "        routing_=RoutingControl.WRITE,\n",
    "        result_transformer_= lambda r: r.data(),\n",
    "        records = chunk\n",
    "    )\n",
    "    print(records)"
   ],
   "id": "2f43dbae0fc7ee13",
   "outputs": [
    {
     "name": "stdout",
     "output_type": "stream",
     "text": [
      "[{'records_upserted': 10}]\n"
     ]
    }
   ],
   "execution_count": 90
  },
  {
   "metadata": {
    "ExecuteTime": {
     "end_time": "2025-06-01T19:16:35.191378Z",
     "start_time": "2025-06-01T19:16:35.185100Z"
    }
   },
   "cell_type": "code",
   "source": [
    "# merge accomplishments\n",
    "skills = []\n",
    "accomplishments = []\n",
    "for person in people_json:\n",
    "\n",
    "    # extend skills list\n",
    "    tmp_skills = person['skills'].copy()\n",
    "    for skill in tmp_skills:\n",
    "        skill['personId'] = person['id']\n",
    "    skills.extend(tmp_skills)\n",
    "\n",
    "    # extend accomplishments list\n",
    "    tmp_accomplishments = person['accomplishments'].copy()\n",
    "    for accomplishment in tmp_accomplishments:\n",
    "        accomplishment['personId'] = person['id']\n",
    "    accomplishments.extend(tmp_accomplishments)\n",
    "\n"
   ],
   "id": "87cf463963380cd0",
   "outputs": [],
   "execution_count": 91
  },
  {
   "metadata": {
    "ExecuteTime": {
     "end_time": "2025-06-01T19:16:37.846224Z",
     "start_time": "2025-06-01T19:16:37.836Z"
    }
   },
   "cell_type": "code",
   "source": "skills[:3]",
   "id": "414c35c1b4026f0e",
   "outputs": [
    {
     "data": {
      "text/plain": [
       "[{'skill': {'name': 'JavaScript'},\n",
       "  'proficiency': 2,\n",
       "  'years_experience': 2,\n",
       "  'context': 'Used in mobile app development and personal projects',\n",
       "  'is_primary': False,\n",
       "  'personId': '5BiANRmk'},\n",
       " {'skill': {'name': 'Python'},\n",
       "  'proficiency': 4,\n",
       "  'years_experience': 4,\n",
       "  'context': 'Used for security automation and scripting',\n",
       "  'is_primary': False,\n",
       "  'personId': 'MhzMrjwz'},\n",
       " {'skill': {'name': 'SQL'},\n",
       "  'proficiency': 3,\n",
       "  'years_experience': 3,\n",
       "  'context': 'Used for analytics and market research analysis',\n",
       "  'is_primary': True,\n",
       "  'personId': 'ZIMWCRHs'}]"
      ]
     },
     "execution_count": 92,
     "metadata": {},
     "output_type": "execute_result"
    }
   ],
   "execution_count": 92
  },
  {
   "metadata": {
    "ExecuteTime": {
     "end_time": "2025-06-01T19:16:40.073122Z",
     "start_time": "2025-06-01T19:16:40.070056Z"
    }
   },
   "cell_type": "code",
   "source": "accomplishments[:2]",
   "id": "4819f23970f775ad",
   "outputs": [
    {
     "data": {
      "text/plain": [
       "[{'type': 'BUILT',\n",
       "  'thing': {'name': 'banking_app_5BiANRmk',\n",
       "   'type': 'PRODUCT',\n",
       "   'domain': 'MOBILE'},\n",
       "  'impact_description': 'Developed a banking mobile app using Swift during a 6-month internship, implemented secure authentication.',\n",
       "  'year': 2024,\n",
       "  'role': 'Junior Mobile Developer',\n",
       "  'duration': '6 months',\n",
       "  'team_size': None,\n",
       "  'context': 'FinTech Mobile internship',\n",
       "  'personId': '5BiANRmk'},\n",
       " {'type': 'BUILT',\n",
       "  'thing': {'name': 'social_media_ios_app_5BiANRmk',\n",
       "   'type': 'PRODUCT',\n",
       "   'domain': 'MOBILE'},\n",
       "  'impact_description': 'Built a social media iOS application as a capstone project, supporting photo sharing and messaging.',\n",
       "  'year': 2023,\n",
       "  'role': 'Mobile Development Intern',\n",
       "  'duration': 'Summer 2023',\n",
       "  'team_size': None,\n",
       "  'context': 'Social Media Startup internship',\n",
       "  'personId': '5BiANRmk'}]"
      ]
     },
     "execution_count": 93,
     "metadata": {},
     "output_type": "execute_result"
    }
   ],
   "execution_count": 93
  },
  {
   "metadata": {
    "ExecuteTime": {
     "end_time": "2025-06-01T19:16:43.671317Z",
     "start_time": "2025-06-01T19:16:43.153441Z"
    }
   },
   "cell_type": "code",
   "source": [
    "for chunk in chunks(skills):\n",
    "    records = driver.execute_query(\n",
    "        \"\"\"\n",
    "        UNWIND $records AS rec\n",
    "        MATCH(person:Person {id:rec.personId})\n",
    "        MERGE(skill:Skill {name:rec.skill.name})\n",
    "        MERGE(person)-[r:KNOWS]->(skill)\n",
    "        SET r.proficiency = rec.proficiency,\n",
    "            r.years_experience = rec.years_experience,\n",
    "            r.context  = rec.context,\n",
    "            r.is_primary = rec.is_primary\n",
    "        RETURN count(rec) AS records_upserted\n",
    "        \"\"\",\n",
    "        #database_=DATABASE,\n",
    "        routing_=RoutingControl.WRITE,\n",
    "        result_transformer_= lambda r: r.data(),\n",
    "        records = chunk\n",
    "    )\n",
    "    print(records)"
   ],
   "id": "57ced8db1a6dc4ed",
   "outputs": [
    {
     "name": "stdout",
     "output_type": "stream",
     "text": [
      "[{'records_upserted': 10}]\n",
      "[{'records_upserted': 10}]\n",
      "[{'records_upserted': 10}]\n",
      "[{'records_upserted': 10}]\n",
      "[{'records_upserted': 10}]\n",
      "[{'records_upserted': 2}]\n"
     ]
    }
   ],
   "execution_count": 94
  },
  {
   "metadata": {
    "ExecuteTime": {
     "end_time": "2025-06-01T19:16:49.344343Z",
     "start_time": "2025-06-01T19:16:48.647997Z"
    }
   },
   "cell_type": "code",
   "source": [
    "for chunk in chunks(accomplishments):\n",
    "    records = driver.execute_query(\n",
    "        \"\"\"\n",
    "        UNWIND $records AS rec\n",
    "\n",
    "        //match people\n",
    "        MATCH(person:Person {id:rec.personId})\n",
    "\n",
    "        //merge accomplishments\n",
    "        MERGE(thing:Thing {name:rec.thing.name})\n",
    "        MERGE(person)-[r:$(rec.type)]->(thing)\n",
    "        SET r.impact_description = rec.impact_description,\n",
    "            r.year = rec.year,\n",
    "            r.role  = rec.role,\n",
    "            r.duration = rec.duration,\n",
    "            r.team_size = rec.team_size,\n",
    "            r.context  = rec.context\n",
    "\n",
    "        //merge domain and work type\n",
    "        MERGE(Domain:Domain {name:rec.thing.domain})\n",
    "        MERGE(thing)-[:IN]->(Domain)\n",
    "        MERGE(WorkType:WorkType {name:rec.thing.type})\n",
    "        MERGE(thing)-[:OF]->(WorkType)\n",
    "\n",
    "        RETURN count(rec) AS records_upserted\n",
    "        \"\"\",\n",
    "        #database_=DATABASE,\n",
    "        routing_=RoutingControl.WRITE,\n",
    "        result_transformer_= lambda r: r.data(),\n",
    "        records = chunk\n",
    "    )\n",
    "    print(records)"
   ],
   "id": "ef4b2dc330281821",
   "outputs": [
    {
     "name": "stdout",
     "output_type": "stream",
     "text": [
      "[{'records_upserted': 10}]\n",
      "[{'records_upserted': 10}]\n",
      "[{'records_upserted': 10}]\n",
      "[{'records_upserted': 10}]\n",
      "[{'records_upserted': 10}]\n",
      "[{'records_upserted': 10}]\n",
      "[{'records_upserted': 6}]\n"
     ]
    }
   ],
   "execution_count": 95
  },
  {
   "metadata": {
    "ExecuteTime": {
     "end_time": "2025-06-01T19:01:20.582275Z",
     "start_time": "2025-06-01T19:01:20.575974Z"
    }
   },
   "cell_type": "code",
   "source": [
    "from person import Domain, WorkType, SkillName\n",
    "\n",
    "#Addotional Scvhema Info\n",
    "[i.value for i in Domain]\n",
    "[i.value for i in WorkType]\n",
    "[i.value for i in SkillName]\n"
   ],
   "id": "af7fb2ac9eddc28",
   "outputs": [
    {
     "data": {
      "text/plain": [
       "['Machine Learning',\n",
       " 'Deep Learning',\n",
       " 'Natural Language Processing',\n",
       " 'Computer Vision',\n",
       " 'Data Science',\n",
       " 'Statistics',\n",
       " 'Python',\n",
       " 'JavaScript',\n",
       " 'Java',\n",
       " 'C++',\n",
       " 'R',\n",
       " 'SQL',\n",
       " 'Data Engineering',\n",
       " 'Cloud Architecture',\n",
       " 'AWS',\n",
       " 'Docker',\n",
       " 'Kubernetes',\n",
       " 'Product Strategy',\n",
       " 'Product Management',\n",
       " 'Data Analysis',\n",
       " 'Business Intelligence',\n",
       " 'Leadership',\n",
       " 'Team Management',\n",
       " 'Communication',\n",
       " 'Project Management',\n",
       " 'Adobe Photoshop',\n",
       " 'Social Media Marketing',\n",
       " 'Accounting',\n",
       " 'Legal Research']"
      ]
     },
     "execution_count": 82,
     "metadata": {},
     "output_type": "execute_result"
    }
   ],
   "execution_count": 82
  },
  {
   "metadata": {
    "ExecuteTime": {
     "end_time": "2025-06-01T19:17:54.447810Z",
     "start_time": "2025-06-01T19:17:54.443475Z"
    }
   },
   "cell_type": "code",
   "source": [
    "# build adk agent with neo4j mcp\n",
    "from google.adk.models.lite_llm import LiteLlm\n",
    "from google.adk.agents import Agent\n",
    "from google.adk.tools.mcp_tool.mcp_toolset import MCPToolset, StdioServerParameters\n",
    "\n",
    "database_agent = Agent(\n",
    "    name=\"graph_database_agent\",\n",
    "    # model=\"gemini-2.0-flash-exp\",\n",
    "    model=LiteLlm(model=\"openai/gpt-4.1\"),\n",
    "    # model=LiteLlm(model=\"anthropic/claude-sonnet-4-20250514\"),\n",
    "    description=\"\"\"\n",
    "    Agent to access knowledge graph stored in graph database\n",
    "    \"\"\",\n",
    "    instruction=f\"\"\"\n",
    "      You are an Neo4j graph database and Cypher query expert, that must use the database schema with a user question and repeatedly generate valid cypher statements\n",
    "      to execute on the database and answer the user's questions in a friendly manner in natural language. You can also directly return a graph schema when requested.\n",
    "\n",
    "      For generating queries:\n",
    "      If in doubt the database schema is always prioritized when it comes to nodes-types (labels) or relationship-types or property names, never take the user's input at face value.\n",
    "      If the user requests also render tables, charts or other artifacts with the query results.\n",
    "      Always validate the correct node-labels at the end of a relationship based on the schema.\n",
    "\n",
    "      If a query fails or doesn't return data, use the error response 3 times to try to fix the generated query and re-run it, don't return the error to the user.\n",
    "      If you cannot fix the query, explain the issue to the user and apologize.\n",
    "\n",
    "      Fetch the graph database schema first and keep it in session memory to access later for query generation. Also keep in mind the below standardized property values:\n",
    "      - For Domain.name The standard values are {[i.value for i in Domain]}\n",
    "      - For WorkType.name The standard values are {[i.value for i in WorkType]}\n",
    "      - For Skill.name The standard values are {[i.value for i in SkillName]}\n",
    "\n",
    "      Keep results of previous executions in session memory and access if needed, for instance ids or other attributes of nodes to find them again\n",
    "      removing the need to ask the user. This also allows for generating shorter, more focused and less error-prone queries\n",
    "      to for drill downs, sequences and loops.\n",
    "      If possible resolve names to primary keys or ids and use those for looking up entities.\n",
    "      The schema always indicates *outgoing* relationship-types from an entity to another entity, the graph patterns read like english language.\n",
    "      `company has supplier` would be the pattern `(o:Organization)-[:HAS_SUPPLIER]->(s:Organization)`\n",
    "\n",
    "      To get the schema of a database use the `get_schema` tool without parameters. Store the response of the schema tool in session context\n",
    "      to access later for query generation.\n",
    "\n",
    "      To answer a user question generate one or more Cypher statements based on the database schema and the parts of the user question.\n",
    "      If necessary resolve categorical attributes (like names, countries, industries, publications) first by retrieving them for a set of entities to translate from the user's request.\n",
    "      Use the `read_neo4j_cypher` tool repeatedly with the Cypher statements, you MUST generate statements that use named query parameters with `$parameter` style names\n",
    "      and MUST pass them as a second dictionary parameter to the tool, even if empty.\n",
    "      Parameter data can come from the users requests, prior query results or additional lookup queries.\n",
    "      After the data for the question has been sufficiently retrieved, pass the data and control back to the parent agent.\n",
    "    \"\"\",\n",
    "    tools=[MCPToolset(\n",
    "        connection_params=StdioServerParameters(\n",
    "            command='uvx',\n",
    "            args=[\n",
    "                \"mcp-neo4j-cypher\",\n",
    "            ],\n",
    "            env={ k: os.environ[k] for k in [\"NEO4J_URI\",\"NEO4J_USERNAME\",\"NEO4J_PASSWORD\"] }\n",
    "        ),\n",
    "        tool_filter=['get_neo4j_schema','read_neo4j_cypher']\n",
    "    )]\n",
    ")\n",
    "\n",
    "from google.adk.runners import InMemoryRunner\n",
    "from google.genai.types import Part, UserContent\n",
    "\n",
    "APP_NAME = 'Database Agent'\n",
    "USER_ID = 'Zach Blumenfeld'\n",
    "\n",
    "\n",
    "runner = InMemoryRunner(app_name=APP_NAME, agent=database_agent)\n",
    "\n",
    "session = await runner.session_service.create_session( app_name=runner.app_name, user_id=USER_ID)\n",
    "\n",
    "async def run_prompt(new_message: str):\n",
    "  content = UserContent(parts=[Part(text=new_message)])\n",
    "  result = None\n",
    "  async for event in runner.run_async(user_id=session.user_id, session_id=session.id, new_message=content):\n",
    "    for part in event.content.parts:\n",
    "      print(part.text, part.function_call, part.function_response)\n",
    "      if part.text:\n",
    "        result = part.text\n",
    "  return result"
   ],
   "id": "827e35ccd8fac8c9",
   "outputs": [],
   "execution_count": 99
  },
  {
   "metadata": {
    "ExecuteTime": {
     "end_time": "2025-06-01T19:18:05.375783Z",
     "start_time": "2025-06-01T19:17:57.023938Z"
    }
   },
   "cell_type": "code",
   "source": [
    "# ask some questions\n",
    "from IPython.display import Markdown, display\n",
    "\n",
    "res = await run_prompt('How many people have Python Skills?')\n",
    "print(\"\\n\\n\\n\\nFinal Response:\")\n",
    "display(Markdown(res))"
   ],
   "id": "1d49fa65a60aa367",
   "outputs": [
    {
     "name": "stdout",
     "output_type": "stream",
     "text": [
      "None id='call_7us8bB1ETdVlQMzjWtKOLJCp' args={} name='get_neo4j_schema' None\n",
      "None None will_continue=None scheduling=None id='call_7us8bB1ETdVlQMzjWtKOLJCp' name='get_neo4j_schema' response={'result': CallToolResult(meta=None, content=[TextContent(type='text', text='[{\"label\": \"Person\", \"attributes\": {\"id\": \"STRING indexed\", \"current_title\": \"STRING\", \"text\": \"STRING\", \"level\": \"STRING\", \"location\": \"STRING\", \"email\": \"STRING\", \"department\": \"STRING\", \"name\": \"STRING\", \"years_experience\": \"INTEGER\", \"embedding\": \"LIST\"}, \"relationships\": {\"BUILT\": \"Thing\", \"WON\": \"Thing\", \"SHIPPED\": \"Thing\", \"KNOWS\": \"Skill\", \"PUBLISHED\": \"Thing\", \"OPTIMIZED\": \"Thing\", \"LED\": \"Thing\", \"MANAGED\": \"Thing\"}}, {\"label\": \"Skill\", \"attributes\": {\"name\": \"STRING indexed\"}, \"relationships\": {}}, {\"label\": \"Thing\", \"attributes\": {\"name\": \"STRING indexed\"}, \"relationships\": {\"IN\": \"Domain\", \"OF\": \"WorkType\"}}, {\"label\": \"Domain\", \"attributes\": {\"name\": \"STRING indexed\"}, \"relationships\": {}}, {\"label\": \"WorkType\", \"attributes\": {\"name\": \"STRING indexed\"}, \"relationships\": {}}]', annotations=None)], isError=False)}\n",
      "None id='call_SBukRkAx1qayb8sv5N4Qjnzy' args={'query': \"MATCH (p:Person)-[:KNOWS]->(s:Skill {name: 'Python'}) RETURN count(DISTINCT p) AS python_skill_count\"} name='read_neo4j_cypher' None\n",
      "None None will_continue=None scheduling=None id='call_SBukRkAx1qayb8sv5N4Qjnzy' name='read_neo4j_cypher' response={'result': CallToolResult(meta=None, content=[TextContent(type='text', text='[{\"python_skill_count\": 8}]', annotations=None)], isError=False)}\n",
      "There are 8 people who have Python skills in the database. If you need more details or want to know who they are, let me know! None None\n",
      "\n",
      "\n",
      "\n",
      "\n",
      "Final Response:\n"
     ]
    },
    {
     "data": {
      "text/plain": [
       "<IPython.core.display.Markdown object>"
      ],
      "text/markdown": "There are 8 people who have Python skills in the database. If you need more details or want to know who they are, let me know!"
     },
     "metadata": {},
     "output_type": "display_data"
    }
   ],
   "execution_count": 100
  },
  {
   "metadata": {
    "ExecuteTime": {
     "end_time": "2025-06-01T19:22:21.861842Z",
     "start_time": "2025-06-01T19:22:12.406522Z"
    }
   },
   "cell_type": "code",
   "source": [
    "# ask some questions\n",
    "from IPython.display import Markdown, display\n",
    "\n",
    "res = await run_prompt(\"Who should be on our new AI tiger team where we will use Google ADK and Langchain to make a chatbot? What Are the Skill Gaps?\")\n",
    "print(\"\\n\\n\\n\\nFinal Response:\")\n",
    "display(Markdown(res))"
   ],
   "id": "1b68094222abc004",
   "outputs": [
    {
     "name": "stdout",
     "output_type": "stream",
     "text": [
      "None id='call_KXGvti7S8JJQcx262QFNAxBo' args={'query': \"MATCH (p:Person)-[:KNOWS]->(s:Skill) \\nWHERE s.name IN ['Machine Learning','Deep Learning','Natural Language Processing','Computer Vision','Data Science','Statistics','Python', 'JavaScript', 'SQL'] \\nRETURN p.name AS person, collect(s.name) AS relevant_skills \\nORDER BY size(relevant_skills) DESC\"} name='read_neo4j_cypher' None\n",
      "None None will_continue=None scheduling=None id='call_KXGvti7S8JJQcx262QFNAxBo' name='read_neo4j_cypher' response={'result': CallToolResult(meta=None, content=[TextContent(type='text', text='[{\"person\": \"Dr. Amanda Foster\", \"relevant_skills\": [\"Machine Learning\", \"Deep Learning\", \"Natural Language Processing\", \"Computer Vision\", \"Python\"]}, {\"person\": \"Sarah Chen\", \"relevant_skills\": [\"Machine Learning\", \"Deep Learning\", \"Natural Language Processing\", \"Computer Vision\", \"Python\"]}, {\"person\": \"Lisa Wang\", \"relevant_skills\": [\"Machine Learning\", \"Statistics\", \"Python\", \"SQL\"]}, {\"person\": \"Monica Garcia\", \"relevant_skills\": [\"Python\", \"SQL\"]}, {\"person\": \"Jennifer Park\", \"relevant_skills\": [\"Python\", \"SQL\"]}, {\"person\": \"James Mitchell\", \"relevant_skills\": [\"Python\", \"JavaScript\"]}, {\"person\": \"Marcus Rodriguez\", \"relevant_skills\": [\"JavaScript\", \"SQL\"]}, {\"person\": \"Robert Johnson\", \"relevant_skills\": [\"Python\"]}, {\"person\": \"David Kim\", \"relevant_skills\": [\"Python\"]}, {\"person\": \"Alex Thompson\", \"relevant_skills\": [\"JavaScript\"]}]', annotations=None)], isError=False)}\n",
      "To assemble an AI tiger team for a chatbot project using Google ADK and Langchain, here are the best candidates based on your team's current skills:\n",
      "\n",
      "Best Candidates:\n",
      "- Dr. Amanda Foster: Machine Learning, Deep Learning, Natural Language Processing, Computer Vision, Python\n",
      "- Sarah Chen: Machine Learning, Deep Learning, Natural Language Processing, Computer Vision, Python\n",
      "- Lisa Wang: Machine Learning, Statistics, Python, SQL\n",
      "- Monica Garcia: Python, SQL\n",
      "- Jennifer Park: Python, SQL\n",
      "- James Mitchell: Python, JavaScript\n",
      "- Marcus Rodriguez: JavaScript, SQL\n",
      "\n",
      "Additional Skills Useful for This Project:\n",
      "- Python: Highly relevant for Langchain, Chatbot building, and Google ADK.\n",
      "- Natural Language Processing: Essential for chatbot logic and AI understanding.\n",
      "- JavaScript: Useful for integrating chatbots into web platforms.\n",
      "- SQL: Helps with backend and data storage aspects.\n",
      "\n",
      "Skill Gaps:\n",
      "- None of the current team members have explicit experience with \"Data Science\" (which could help with analytics and model optimization).\n",
      "- Only two people have both “Natural Language Processing” and strong Python skills (Dr. Amanda Foster and Sarah Chen).\n",
      "- Deep Learning, Computer Vision, and NLP are limited to just those two (Amanda & Sarah).\n",
      "- Some web stack experience (JavaScript) is present but spread between very few people, and only Marcus Rodriguez and James Mitchell have this skill (James also has Python).\n",
      "- No one specifically covers “Google ADK” or “Langchain” as named skills—but related expertise is present.\n",
      "\n",
      "Core Recommendations:\n",
      "- Core AI/ML/NLP: Dr. Amanda Foster, Sarah Chen (strong for chatbot and AI logic)\n",
      "- Backend/data: Lisa Wang, Monica Garcia, Jennifer Park (Python, SQL)\n",
      "- Frontend/integration: James Mitchell, Marcus Rodriguez (JavaScript; James also has Python)\n",
      "\n",
      "To round out your AI tiger team, focus on:\n",
      "- Closing knowledge gaps in Data Science, as well as training/experience in Google ADK and Langchain tools.\n",
      "- Strengthening JavaScript and SQL expertise for seamless integration and data operations.\n",
      "- Possibly recruiting or upskilling someone with explicit chatbot platform and cloud architecture experience.\n",
      "\n",
      "Let me know if you’d like a breakdown table or skill chart for a clearer view! None None\n",
      "\n",
      "\n",
      "\n",
      "\n",
      "Final Response:\n"
     ]
    },
    {
     "data": {
      "text/plain": [
       "<IPython.core.display.Markdown object>"
      ],
      "text/markdown": "To assemble an AI tiger team for a chatbot project using Google ADK and Langchain, here are the best candidates based on your team's current skills:\n\nBest Candidates:\n- Dr. Amanda Foster: Machine Learning, Deep Learning, Natural Language Processing, Computer Vision, Python\n- Sarah Chen: Machine Learning, Deep Learning, Natural Language Processing, Computer Vision, Python\n- Lisa Wang: Machine Learning, Statistics, Python, SQL\n- Monica Garcia: Python, SQL\n- Jennifer Park: Python, SQL\n- James Mitchell: Python, JavaScript\n- Marcus Rodriguez: JavaScript, SQL\n\nAdditional Skills Useful for This Project:\n- Python: Highly relevant for Langchain, Chatbot building, and Google ADK.\n- Natural Language Processing: Essential for chatbot logic and AI understanding.\n- JavaScript: Useful for integrating chatbots into web platforms.\n- SQL: Helps with backend and data storage aspects.\n\nSkill Gaps:\n- None of the current team members have explicit experience with \"Data Science\" (which could help with analytics and model optimization).\n- Only two people have both “Natural Language Processing” and strong Python skills (Dr. Amanda Foster and Sarah Chen).\n- Deep Learning, Computer Vision, and NLP are limited to just those two (Amanda & Sarah).\n- Some web stack experience (JavaScript) is present but spread between very few people, and only Marcus Rodriguez and James Mitchell have this skill (James also has Python).\n- No one specifically covers “Google ADK” or “Langchain” as named skills—but related expertise is present.\n\nCore Recommendations:\n- Core AI/ML/NLP: Dr. Amanda Foster, Sarah Chen (strong for chatbot and AI logic)\n- Backend/data: Lisa Wang, Monica Garcia, Jennifer Park (Python, SQL)\n- Frontend/integration: James Mitchell, Marcus Rodriguez (JavaScript; James also has Python)\n\nTo round out your AI tiger team, focus on:\n- Closing knowledge gaps in Data Science, as well as training/experience in Google ADK and Langchain tools.\n- Strengthening JavaScript and SQL expertise for seamless integration and data operations.\n- Possibly recruiting or upskilling someone with explicit chatbot platform and cloud architecture experience.\n\nLet me know if you’d like a breakdown table or skill chart for a clearer view!"
     },
     "metadata": {},
     "output_type": "display_data"
    }
   ],
   "execution_count": 102
  },
  {
   "metadata": {
    "ExecuteTime": {
     "end_time": "2025-06-01T19:26:28.620627Z",
     "start_time": "2025-06-01T19:26:16.180349Z"
    }
   },
   "cell_type": "code",
   "source": [
    "res = await run_prompt(\"Who shares the m ost similar types of accomplishments to our PhDs but isn't themselves a PhD? this may take multiple hops out to workType.  You didn't see work type before or Domain how can I make that clearer fgor you in the schema so you get it on first try?\")\n",
    "print(\"\\n\\n\\n\\nFinal Response:\")\n",
    "display(Markdown(res))"
   ],
   "id": "ce912fbfa7e90563",
   "outputs": [
    {
     "name": "stdout",
     "output_type": "stream",
     "text": [
      "Thank you for your feedback! Your question makes perfect sense, and you’re absolutely right to highlight WorkType and Domain as key dimensions for categorizing accomplishments—sometimes relationships across several hops are critical for deeper similarity analysis.\n",
      "\n",
      "### How to Make WorkType and Domain More Apparent in the Schema\n",
      "To help agents and users (like myself) immediately see that accomplishments should be compared across their type/category (WorkType) and field (Domain), you can:\n",
      "\n",
      "1. **Explicitly highlight relationships in the schema output.**  \n",
      "   Show patterns such as:\n",
      "   - `(Person)-[:SHIPPED]->(Thing)-[:OF]->(WorkType)`\n",
      "   - `(Person)-[:PUBLISHED]->(Thing)-[:IN]->(Domain)`\n",
      "\n",
      "2. **Annotate “accomplishment” nodes with their context.**  \n",
      "   For example, have documentation/legend in the schema clarifying that \"Thing\" nodes represent accomplishments (papers, inventions, awards, etc.), and always clarify that each “Thing” has an “OF” (WorkType) and “IN” (Domain) relationship.\n",
      "\n",
      "3. **Group edge descriptions by context.**  \n",
      "   When listing relationships, explicitly group them as:\n",
      "   ```\n",
      "   Person:\n",
      "   - ...standard attributes...\n",
      "   - Relationships:\n",
      "     - BUILT, WON, SHIPPED, PUBLISHED, OPTIMIZED, LED, MANAGED -> Thing (Accomplishments)\n",
      "   \n",
      "   Thing (Accomplishment):\n",
      "     - name\n",
      "     - IN -> Domain\n",
      "     - OF -> WorkType\n",
      "   ```\n",
      "   (Where \"Thing\" is always associated with both a WorkType and Domain.)\n",
      "\n",
      "4. **Include inline pattern examples.**  \n",
      "   Add a schema comment like:\n",
      "   ```\n",
      "   // Typical accomplishment path:\n",
      "   // (Person)-[:PUBLISHED]->(Thing)-[:OF]->(WorkType)-[:IN]->(Domain)\n",
      "   ```\n",
      "\n",
      "### Example of Clearer Schema Documentation:\n",
      "\n",
      "Here’s how you might clarify the intended traversals and structure:\n",
      "\n",
      "```\n",
      "Person:\n",
      "  - id, name, ...\n",
      "  - Relationships:\n",
      "    - ... (various verb relationships) ... -> Thing\n",
      "\n",
      "Thing:\n",
      "  - name\n",
      "  - Relationships:\n",
      "    - IN -> Domain      // e.g., \"AI\", \"DATABASE\"\n",
      "    - OF -> WorkType    // e.g., \"RESEARCH\", \"PRODUCT\"\n",
      "\n",
      "Domain:\n",
      "  - name\n",
      "\n",
      "WorkType:\n",
      "  - name\n",
      "\n",
      "// Typical accomplishment traversal example:\n",
      "// (Person)-[:PUBLISHED]->(Thing)-[:OF]->(WorkType {name: \"RESEARCH\"})\n",
      "```\n",
      "\n",
      "---\n",
      "\n",
      "Would you like me to now try to answer your original question, taking WorkType and Domain into account by traversing from Person to Thing to WorkType and Domain? If so, I’ll proceed with a more sophisticated query for you! None None\n",
      "\n",
      "\n",
      "\n",
      "\n",
      "Final Response:\n"
     ]
    },
    {
     "data": {
      "text/plain": [
       "<IPython.core.display.Markdown object>"
      ],
      "text/markdown": "Thank you for your feedback! Your question makes perfect sense, and you’re absolutely right to highlight WorkType and Domain as key dimensions for categorizing accomplishments—sometimes relationships across several hops are critical for deeper similarity analysis.\n\n### How to Make WorkType and Domain More Apparent in the Schema\nTo help agents and users (like myself) immediately see that accomplishments should be compared across their type/category (WorkType) and field (Domain), you can:\n\n1. **Explicitly highlight relationships in the schema output.**  \n   Show patterns such as:\n   - `(Person)-[:SHIPPED]->(Thing)-[:OF]->(WorkType)`\n   - `(Person)-[:PUBLISHED]->(Thing)-[:IN]->(Domain)`\n\n2. **Annotate “accomplishment” nodes with their context.**  \n   For example, have documentation/legend in the schema clarifying that \"Thing\" nodes represent accomplishments (papers, inventions, awards, etc.), and always clarify that each “Thing” has an “OF” (WorkType) and “IN” (Domain) relationship.\n\n3. **Group edge descriptions by context.**  \n   When listing relationships, explicitly group them as:\n   ```\n   Person:\n   - ...standard attributes...\n   - Relationships:\n     - BUILT, WON, SHIPPED, PUBLISHED, OPTIMIZED, LED, MANAGED -> Thing (Accomplishments)\n   \n   Thing (Accomplishment):\n     - name\n     - IN -> Domain\n     - OF -> WorkType\n   ```\n   (Where \"Thing\" is always associated with both a WorkType and Domain.)\n\n4. **Include inline pattern examples.**  \n   Add a schema comment like:\n   ```\n   // Typical accomplishment path:\n   // (Person)-[:PUBLISHED]->(Thing)-[:OF]->(WorkType)-[:IN]->(Domain)\n   ```\n\n### Example of Clearer Schema Documentation:\n\nHere’s how you might clarify the intended traversals and structure:\n\n```\nPerson:\n  - id, name, ...\n  - Relationships:\n    - ... (various verb relationships) ... -> Thing\n\nThing:\n  - name\n  - Relationships:\n    - IN -> Domain      // e.g., \"AI\", \"DATABASE\"\n    - OF -> WorkType    // e.g., \"RESEARCH\", \"PRODUCT\"\n\nDomain:\n  - name\n\nWorkType:\n  - name\n\n// Typical accomplishment traversal example:\n// (Person)-[:PUBLISHED]->(Thing)-[:OF]->(WorkType {name: \"RESEARCH\"})\n```\n\n---\n\nWould you like me to now try to answer your original question, taking WorkType and Domain into account by traversing from Person to Thing to WorkType and Domain? If so, I’ll proceed with a more sophisticated query for you!"
     },
     "metadata": {},
     "output_type": "display_data"
    }
   ],
   "execution_count": 104
  },
  {
   "metadata": {
    "ExecuteTime": {
     "end_time": "2025-06-01T19:27:50.745919Z",
     "start_time": "2025-06-01T19:27:41.783892Z"
    }
   },
   "cell_type": "code",
   "source": [
    "res = await run_prompt(\"Yes please try answering the question now\")\n",
    "print(\"\\n\\n\\n\\nFinal Response:\")\n",
    "display(Markdown(res))"
   ],
   "id": "8f92d73780ec40bf",
   "outputs": [
    {
     "name": "stdout",
     "output_type": "stream",
     "text": [
      "None id='call_rTDY7ZP076FaM30MfNa6JsmI' args={'query': \"// Step 1: Find Dr./PhD accomplishments' work types and domains\\nMATCH (phd:Person) \\nWHERE toLower(phd.name) STARTS WITH 'dr.' OR toLower(phd.current_title) CONTAINS 'phd'\\nMATCH (phd)-[:BUILT|:WON|:SHIPPED|:PUBLISHED|:OPTIMIZED|:LED|:MANAGED]->(t:Thing)\\nOPTIONAL MATCH (t)-[:OF]->(wt:WorkType)\\nOPTIONAL MATCH (t)-[:IN]->(d:Domain)\\nWITH phd, collect(DISTINCT {workType: wt.name, domain: d.name}) AS phd_accomplishment_types\\nRETURN phd.name AS phd_name, phd_accomplishment_types\"} name='read_neo4j_cypher' None\n",
      "None None will_continue=None scheduling=None id='call_rTDY7ZP076FaM30MfNa6JsmI' name='read_neo4j_cypher' response={'result': CallToolResult(meta=None, content=[TextContent(type='text', text='[{\"phd_name\": \"Dr. Amanda Foster\", \"phd_accomplishment_types\": [{\"domain\": \"AI\", \"workType\": \"CODE\"}, {\"domain\": \"AI\", \"workType\": \"TEAM\"}, {\"domain\": \"AI\", \"workType\": \"PRODUCT\"}, {\"domain\": \"AI\", \"workType\": \"RESEARCH\"}, {\"domain\": \"AI\", \"workType\": \"AWARD\"}]}]', annotations=None)], isError=False)}\n",
      "None id='call_pjalqnDe6SYj4GKpbrbpIcwV' args={'query': \"// Step 2: For each non-PhD, collect their accomplishment work types/domains and compute overlap\\nWITH [{workType:'CODE',domain:'AI'}, {workType:'TEAM',domain:'AI'}, {workType:'PRODUCT',domain:'AI'}, {workType:'RESEARCH',domain:'AI'}, {workType:'AWARD',domain:'AI'}] AS phd_types\\nMATCH (p:Person)\\nWHERE NOT (toLower(p.name) STARTS WITH 'dr.' OR toLower(p.current_title) CONTAINS 'phd')\\nMATCH (p)-[:BUILT|:WON|:SHIPPED|:PUBLISHED|:OPTIMIZED|:LED|:MANAGED]->(t:Thing)\\nOPTIONAL MATCH (t)-[:OF]->(wt:WorkType)\\nOPTIONAL MATCH (t)-[:IN]->(d:Domain)\\nWITH p, collect(DISTINCT {workType: wt.name, domain: d.name}) AS person_types, phd_types\\nWITH p, apoc.coll.intersection(person_types, phd_types) AS overlap, person_types\\nWHERE size(overlap) > 0\\nRETURN p.name AS person, size(overlap) AS similarity_score, overlap, person_types\\nORDER BY similarity_score DESC LIMIT 3\"} name='read_neo4j_cypher' None\n",
      "None None will_continue=None scheduling=None id='call_pjalqnDe6SYj4GKpbrbpIcwV' name='read_neo4j_cypher' response={'result': CallToolResult(meta=None, content=[TextContent(type='text', text='[{\"person\": \"Sarah Chen\", \"similarity_score\": 5, \"overlap\": [{\"domain\": \"AI\", \"workType\": \"CODE\"}, {\"domain\": \"AI\", \"workType\": \"AWARD\"}, {\"domain\": \"AI\", \"workType\": \"RESEARCH\"}, {\"domain\": \"AI\", \"workType\": \"TEAM\"}, {\"domain\": \"AI\", \"workType\": \"PRODUCT\"}], \"person_types\": [{\"domain\": \"AI\", \"workType\": \"SYSTEM\"}, {\"domain\": \"AI\", \"workType\": \"CODE\"}, {\"domain\": \"AI\", \"workType\": \"TEAM\"}, {\"domain\": \"AI\", \"workType\": \"PRODUCT\"}, {\"domain\": \"AI\", \"workType\": \"RESEARCH\"}, {\"domain\": \"AI\", \"workType\": \"AWARD\"}]}]', annotations=None)], isError=False)}\n",
      "Sarah Chen shares the most similar types of accomplishments to your PhDs (specifically Dr. Amanda Foster) but does not appear to be a PhD herself.\n",
      "\n",
      "Sarah Chen's tracked accomplishments match all the main work types and AI domain areas found with Dr. Amanda Foster, including:\n",
      "- CODE (AI)\n",
      "- TEAM (AI)\n",
      "- PRODUCT (AI)\n",
      "- RESEARCH (AI)\n",
      "- AWARD (AI)\n",
      "\n",
      "Additionally, Sarah also has unique experience with SYSTEM (AI) type accomplishments.\n",
      "\n",
      "This makes Sarah Chen the closest peer to your PhDs in terms of the kinds of achievements and impact areas demonstrated.\n",
      "\n",
      "If you’d like to see a full side-by-side table or see who comes next after Sarah, just let me know! None None\n",
      "\n",
      "\n",
      "\n",
      "\n",
      "Final Response:\n"
     ]
    },
    {
     "data": {
      "text/plain": [
       "<IPython.core.display.Markdown object>"
      ],
      "text/markdown": "Sarah Chen shares the most similar types of accomplishments to your PhDs (specifically Dr. Amanda Foster) but does not appear to be a PhD herself.\n\nSarah Chen's tracked accomplishments match all the main work types and AI domain areas found with Dr. Amanda Foster, including:\n- CODE (AI)\n- TEAM (AI)\n- PRODUCT (AI)\n- RESEARCH (AI)\n- AWARD (AI)\n\nAdditionally, Sarah also has unique experience with SYSTEM (AI) type accomplishments.\n\nThis makes Sarah Chen the closest peer to your PhDs in terms of the kinds of achievements and impact areas demonstrated.\n\nIf you’d like to see a full side-by-side table or see who comes next after Sarah, just let me know!"
     },
     "metadata": {},
     "output_type": "display_data"
    }
   ],
   "execution_count": 105
  }
 ],
 "metadata": {
  "kernelspec": {
   "display_name": "Python 3",
   "language": "python",
   "name": "python3"
  },
  "language_info": {
   "codemirror_mode": {
    "name": "ipython",
    "version": 2
   },
   "file_extension": ".py",
   "mimetype": "text/x-python",
   "name": "python",
   "nbconvert_exporter": "python",
   "pygments_lexer": "ipython2",
   "version": "2.7.6"
  }
 },
 "nbformat": 4,
 "nbformat_minor": 5
}

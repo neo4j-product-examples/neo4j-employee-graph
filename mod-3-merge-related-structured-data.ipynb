{
 "cells": [
  {
   "cell_type": "code",
   "id": "initial_id",
   "metadata": {
    "collapsed": true,
    "ExecuteTime": {
     "end_time": "2025-06-01T21:41:41.111323Z",
     "start_time": "2025-06-01T21:41:41.101143Z"
    }
   },
   "source": [
    "import getpass\n",
    "import os\n",
    "from dotenv import load_dotenv\n",
    "\n",
    "#get env setup\n",
    "load_dotenv('nb.env', override=True)\n",
    "\n",
    "if not os.environ.get('NEO4J_URI'):\n",
    "    os.environ['NEO4J_URI'] = getpass.getpass('NEO4J_URI:\\n')\n",
    "if not os.environ.get('NEO4J_USERNAME'):\n",
    "    os.environ['NEO4J_USERNAME'] = getpass.getpass('NEO4J_USERNAME:\\n')\n",
    "if not os.environ.get('NEO4J_PASSWORD'):\n",
    "    os.environ['NEO4J_PASSWORD'] = getpass.getpass('NEO4J_PASSWORD:\\n')\n",
    "\n",
    "NEO4J_URI = os.getenv('NEO4J_URI')\n",
    "NEO4J_USERNAME = os.getenv('NEO4J_USERNAME')\n",
    "NEO4J_PASSWORD = os.getenv('NEO4J_PASSWORD')"
   ],
   "outputs": [],
   "execution_count": 1
  },
  {
   "metadata": {
    "ExecuteTime": {
     "end_time": "2025-06-01T22:06:43.295771Z",
     "start_time": "2025-06-01T22:06:43.271734Z"
    }
   },
   "cell_type": "code",
   "source": [
    "import pandas as pd\n",
    "\n",
    "# read structured hris data\n",
    "df = pd.read_csv('hris-tables/project-assignments.csv')\n",
    "# Some minor formatting\n",
    "df['in_progress'] = df['end_date'].isna()\n",
    "df['end_date'] = df['end_date'].fillna(\"present\")\n",
    "df['duration'] = df['start_date'] + \" - \" + df['end_date']\n",
    "df['year'] = df['end_date'].apply(lambda x: x[:4] if x.lower() != \"present\" else None)\n",
    "df.head()"
   ],
   "id": "f360aba478ca3c03",
   "outputs": [
    {
     "data": {
      "text/plain": [
       "                        project_name            role_title  \\\n",
       "0   Supply Chain Optimization Engine         AI Consultant   \n",
       "1       Automated Content Moderation    Senior ML Engineer   \n",
       "2         Edge Computing AI Platform   Principal Architect   \n",
       "3  Quantum-Classical Hybrid Research         Research Lead   \n",
       "4       Employee Self-Service Portal  Full-Stack Developer   \n",
       "\n",
       "   allocation_percentage  start_date    end_date project_domain  \\\n",
       "0                   30.0  2018-03-01  2018-11-30             AI   \n",
       "1                   60.0  2020-02-01  2021-08-31             AI   \n",
       "2                   80.0  2022-01-01  2023-12-31             AI   \n",
       "3                   40.0  2024-01-01     present             AI   \n",
       "4                   90.0  2020-06-01  2021-12-31            WEB   \n",
       "\n",
       "     project_type accomplishment_type person_id  in_progress  \\\n",
       "0         PRODUCT               BUILT  xRPBlhk9        False   \n",
       "1         PRODUCT               BUILT  xRPBlhk9        False   \n",
       "2  INFRASTRUCTURE               BUILT  xRPBlhk9        False   \n",
       "3        RESEARCH                 LED  xRPBlhk9         True   \n",
       "4         PRODUCT               BUILT  kkkMTAId        False   \n",
       "\n",
       "                  duration  year  \n",
       "0  2018-03-01 - 2018-11-30  2018  \n",
       "1  2020-02-01 - 2021-08-31  2021  \n",
       "2  2022-01-01 - 2023-12-31  2023  \n",
       "3     2024-01-01 - present  None  \n",
       "4  2020-06-01 - 2021-12-31  2021  "
      ],
      "text/html": [
       "<div>\n",
       "<style scoped>\n",
       "    .dataframe tbody tr th:only-of-type {\n",
       "        vertical-align: middle;\n",
       "    }\n",
       "\n",
       "    .dataframe tbody tr th {\n",
       "        vertical-align: top;\n",
       "    }\n",
       "\n",
       "    .dataframe thead th {\n",
       "        text-align: right;\n",
       "    }\n",
       "</style>\n",
       "<table border=\"1\" class=\"dataframe\">\n",
       "  <thead>\n",
       "    <tr style=\"text-align: right;\">\n",
       "      <th></th>\n",
       "      <th>project_name</th>\n",
       "      <th>role_title</th>\n",
       "      <th>allocation_percentage</th>\n",
       "      <th>start_date</th>\n",
       "      <th>end_date</th>\n",
       "      <th>project_domain</th>\n",
       "      <th>project_type</th>\n",
       "      <th>accomplishment_type</th>\n",
       "      <th>person_id</th>\n",
       "      <th>in_progress</th>\n",
       "      <th>duration</th>\n",
       "      <th>year</th>\n",
       "    </tr>\n",
       "  </thead>\n",
       "  <tbody>\n",
       "    <tr>\n",
       "      <th>0</th>\n",
       "      <td>Supply Chain Optimization Engine</td>\n",
       "      <td>AI Consultant</td>\n",
       "      <td>30.0</td>\n",
       "      <td>2018-03-01</td>\n",
       "      <td>2018-11-30</td>\n",
       "      <td>AI</td>\n",
       "      <td>PRODUCT</td>\n",
       "      <td>BUILT</td>\n",
       "      <td>xRPBlhk9</td>\n",
       "      <td>False</td>\n",
       "      <td>2018-03-01 - 2018-11-30</td>\n",
       "      <td>2018</td>\n",
       "    </tr>\n",
       "    <tr>\n",
       "      <th>1</th>\n",
       "      <td>Automated Content Moderation</td>\n",
       "      <td>Senior ML Engineer</td>\n",
       "      <td>60.0</td>\n",
       "      <td>2020-02-01</td>\n",
       "      <td>2021-08-31</td>\n",
       "      <td>AI</td>\n",
       "      <td>PRODUCT</td>\n",
       "      <td>BUILT</td>\n",
       "      <td>xRPBlhk9</td>\n",
       "      <td>False</td>\n",
       "      <td>2020-02-01 - 2021-08-31</td>\n",
       "      <td>2021</td>\n",
       "    </tr>\n",
       "    <tr>\n",
       "      <th>2</th>\n",
       "      <td>Edge Computing AI Platform</td>\n",
       "      <td>Principal Architect</td>\n",
       "      <td>80.0</td>\n",
       "      <td>2022-01-01</td>\n",
       "      <td>2023-12-31</td>\n",
       "      <td>AI</td>\n",
       "      <td>INFRASTRUCTURE</td>\n",
       "      <td>BUILT</td>\n",
       "      <td>xRPBlhk9</td>\n",
       "      <td>False</td>\n",
       "      <td>2022-01-01 - 2023-12-31</td>\n",
       "      <td>2023</td>\n",
       "    </tr>\n",
       "    <tr>\n",
       "      <th>3</th>\n",
       "      <td>Quantum-Classical Hybrid Research</td>\n",
       "      <td>Research Lead</td>\n",
       "      <td>40.0</td>\n",
       "      <td>2024-01-01</td>\n",
       "      <td>present</td>\n",
       "      <td>AI</td>\n",
       "      <td>RESEARCH</td>\n",
       "      <td>LED</td>\n",
       "      <td>xRPBlhk9</td>\n",
       "      <td>True</td>\n",
       "      <td>2024-01-01 - present</td>\n",
       "      <td>None</td>\n",
       "    </tr>\n",
       "    <tr>\n",
       "      <th>4</th>\n",
       "      <td>Employee Self-Service Portal</td>\n",
       "      <td>Full-Stack Developer</td>\n",
       "      <td>90.0</td>\n",
       "      <td>2020-06-01</td>\n",
       "      <td>2021-12-31</td>\n",
       "      <td>WEB</td>\n",
       "      <td>PRODUCT</td>\n",
       "      <td>BUILT</td>\n",
       "      <td>kkkMTAId</td>\n",
       "      <td>False</td>\n",
       "      <td>2020-06-01 - 2021-12-31</td>\n",
       "      <td>2021</td>\n",
       "    </tr>\n",
       "  </tbody>\n",
       "</table>\n",
       "</div>"
      ]
     },
     "execution_count": 19,
     "metadata": {},
     "output_type": "execute_result"
    }
   ],
   "execution_count": 19
  },
  {
   "metadata": {
    "ExecuteTime": {
     "end_time": "2025-06-01T22:06:46.723728Z",
     "start_time": "2025-06-01T22:06:46.248025Z"
    }
   },
   "cell_type": "code",
   "source": [
    "from neo4j import GraphDatabase\n",
    "\n",
    "# load into People nodes in Neo4j\n",
    "\n",
    "#instantiate driver\n",
    "driver = GraphDatabase.driver(NEO4J_URI, auth=(NEO4J_USERNAME, NEO4J_PASSWORD))\n",
    "\n",
    "#test neo4j connection\n",
    "driver.execute_query(\"MATCH(n) RETURN count(n)\")"
   ],
   "id": "c0f98ede54ac6185",
   "outputs": [
    {
     "data": {
      "text/plain": [
       "EagerResult(records=[<Record count(n)=115>], summary=<neo4j._work.summary.ResultSummary object at 0x10b7d3e90>, keys=['count(n)'])"
      ]
     },
     "execution_count": 20,
     "metadata": {},
     "output_type": "execute_result"
    }
   ],
   "execution_count": 20
  },
  {
   "metadata": {
    "ExecuteTime": {
     "end_time": "2025-06-01T22:07:41.993772Z",
     "start_time": "2025-06-01T22:07:41.034407Z"
    }
   },
   "cell_type": "code",
   "source": [
    "from neo4j import RoutingControl\n",
    "\n",
    "\n",
    "#load structured data\n",
    "def chunks(xs, n=10):\n",
    "    n = max(1, n)\n",
    "    return [xs[i:i + n] for i in range(0, len(xs), n)]\n",
    "\n",
    "for chunk in chunks(df.to_dict(orient='records')):\n",
    "    records = driver.execute_query(\n",
    "        \"\"\"\n",
    "        UNWIND $records AS rec\n",
    "\n",
    "        //match people\n",
    "        MATCH(person:Person {id:rec.person_id})\n",
    "\n",
    "        //merge accomplishments\n",
    "        MERGE(thing:Thing {name:rec.project_name})\n",
    "        MERGE(person)-[r:$(rec.accomplishment_type)]->(thing)\n",
    "        SET r.year = rec.year,\n",
    "            r.role  = rec.role_title,\n",
    "            r.duration = rec.duration,\n",
    "            thing.in_progress = rec.in_progress,\n",
    "            thing.internal_project=true\n",
    "\n",
    "        //merge domain and work type\n",
    "        MERGE(Domain:Domain {name:rec.project_domain})\n",
    "        MERGE(thing)-[:IN]->(Domain)\n",
    "        MERGE(WorkType:WorkType {name:rec.project_type})\n",
    "        MERGE(thing)-[:OF]->(WorkType)\n",
    "\n",
    "        RETURN count(rec) AS records_upserted\n",
    "        \"\"\",\n",
    "        #database_=DATABASE,\n",
    "        routing_=RoutingControl.WRITE,\n",
    "        result_transformer_= lambda r: r.data(),\n",
    "        records = chunk\n",
    "    )\n",
    "    print(records)"
   ],
   "id": "6cdddc8657585976",
   "outputs": [
    {
     "name": "stdout",
     "output_type": "stream",
     "text": [
      "[{'records_upserted': 10}]\n",
      "[{'records_upserted': 10}]\n",
      "[{'records_upserted': 10}]\n",
      "[{'records_upserted': 10}]\n",
      "[{'records_upserted': 10}]\n"
     ]
    }
   ],
   "execution_count": 22
  }
 ],
 "metadata": {
  "kernelspec": {
   "display_name": "Python 3",
   "language": "python",
   "name": "python3"
  },
  "language_info": {
   "codemirror_mode": {
    "name": "ipython",
    "version": 2
   },
   "file_extension": ".py",
   "mimetype": "text/x-python",
   "name": "python",
   "nbconvert_exporter": "python",
   "pygments_lexer": "ipython2",
   "version": "2.7.6"
  }
 },
 "nbformat": 4,
 "nbformat_minor": 5
}

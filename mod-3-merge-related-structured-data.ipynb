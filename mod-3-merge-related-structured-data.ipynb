{
 "cells": [
  {
   "cell_type": "code",
   "id": "initial_id",
   "metadata": {
    "collapsed": true,
    "ExecuteTime": {
     "end_time": "2025-06-02T00:33:39.301933Z",
     "start_time": "2025-06-02T00:33:39.284358Z"
    }
   },
   "source": [
    "import getpass\n",
    "import os\n",
    "from dotenv import load_dotenv\n",
    "\n",
    "#get env setup\n",
    "load_dotenv('nb.env', override=True)\n",
    "\n",
    "if not os.environ.get('NEO4J_URI'):\n",
    "    os.environ['NEO4J_URI'] = getpass.getpass('NEO4J_URI:\\n')\n",
    "if not os.environ.get('NEO4J_USERNAME'):\n",
    "    os.environ['NEO4J_USERNAME'] = getpass.getpass('NEO4J_USERNAME:\\n')\n",
    "if not os.environ.get('NEO4J_PASSWORD'):\n",
    "    os.environ['NEO4J_PASSWORD'] = getpass.getpass('NEO4J_PASSWORD:\\n')\n",
    "\n",
    "NEO4J_URI = os.getenv('NEO4J_URI')\n",
    "NEO4J_USERNAME = os.getenv('NEO4J_USERNAME')\n",
    "NEO4J_PASSWORD = os.getenv('NEO4J_PASSWORD')"
   ],
   "outputs": [],
   "execution_count": 4
  },
  {
   "metadata": {
    "ExecuteTime": {
     "end_time": "2025-06-02T00:33:40.359306Z",
     "start_time": "2025-06-02T00:33:40.337341Z"
    }
   },
   "cell_type": "code",
   "source": [
    "import pandas as pd\n",
    "\n",
    "# read structured hris data\n",
    "df = pd.read_csv('hris-tables/project-assignments.csv')\n",
    "# Some minor formatting\n",
    "df['in_progress'] = df['end_date'].isna()\n",
    "df['end_date'] = df['end_date'].fillna(\"present\")\n",
    "df['duration'] = df['start_date'] + \" - \" + df['end_date']\n",
    "df['year'] = df['end_date'].apply(lambda x: x[:4] if x.lower() != \"present\" else None)\n",
    "df.head()"
   ],
   "id": "f360aba478ca3c03",
   "outputs": [
    {
     "data": {
      "text/plain": [
       "                        project_name            role_title  \\\n",
       "0   Supply Chain Optimization Engine         AI Consultant   \n",
       "1       Automated Content Moderation    Senior ML Engineer   \n",
       "2         Edge Computing AI Platform   Principal Architect   \n",
       "3  Quantum-Classical Hybrid Research         Research Lead   \n",
       "4       Employee Self-Service Portal  Full-Stack Developer   \n",
       "\n",
       "   allocation_percentage  start_date    end_date project_domain  \\\n",
       "0                   30.0  2018-03-01  2018-11-30             AI   \n",
       "1                   60.0  2020-02-01  2021-08-31             AI   \n",
       "2                   80.0  2022-01-01  2023-12-31             AI   \n",
       "3                   40.0  2024-01-01     present             AI   \n",
       "4                   90.0  2020-06-01  2021-12-31            WEB   \n",
       "\n",
       "     project_type accomplishment_type person_id  in_progress  \\\n",
       "0         PRODUCT               BUILT  xRPBlhk9        False   \n",
       "1         PRODUCT               BUILT  xRPBlhk9        False   \n",
       "2  INFRASTRUCTURE               BUILT  xRPBlhk9        False   \n",
       "3        RESEARCH                 LED  xRPBlhk9         True   \n",
       "4         PRODUCT               BUILT  kkkMTAId        False   \n",
       "\n",
       "                  duration  year  \n",
       "0  2018-03-01 - 2018-11-30  2018  \n",
       "1  2020-02-01 - 2021-08-31  2021  \n",
       "2  2022-01-01 - 2023-12-31  2023  \n",
       "3     2024-01-01 - present  None  \n",
       "4  2020-06-01 - 2021-12-31  2021  "
      ],
      "text/html": [
       "<div>\n",
       "<style scoped>\n",
       "    .dataframe tbody tr th:only-of-type {\n",
       "        vertical-align: middle;\n",
       "    }\n",
       "\n",
       "    .dataframe tbody tr th {\n",
       "        vertical-align: top;\n",
       "    }\n",
       "\n",
       "    .dataframe thead th {\n",
       "        text-align: right;\n",
       "    }\n",
       "</style>\n",
       "<table border=\"1\" class=\"dataframe\">\n",
       "  <thead>\n",
       "    <tr style=\"text-align: right;\">\n",
       "      <th></th>\n",
       "      <th>project_name</th>\n",
       "      <th>role_title</th>\n",
       "      <th>allocation_percentage</th>\n",
       "      <th>start_date</th>\n",
       "      <th>end_date</th>\n",
       "      <th>project_domain</th>\n",
       "      <th>project_type</th>\n",
       "      <th>accomplishment_type</th>\n",
       "      <th>person_id</th>\n",
       "      <th>in_progress</th>\n",
       "      <th>duration</th>\n",
       "      <th>year</th>\n",
       "    </tr>\n",
       "  </thead>\n",
       "  <tbody>\n",
       "    <tr>\n",
       "      <th>0</th>\n",
       "      <td>Supply Chain Optimization Engine</td>\n",
       "      <td>AI Consultant</td>\n",
       "      <td>30.0</td>\n",
       "      <td>2018-03-01</td>\n",
       "      <td>2018-11-30</td>\n",
       "      <td>AI</td>\n",
       "      <td>PRODUCT</td>\n",
       "      <td>BUILT</td>\n",
       "      <td>xRPBlhk9</td>\n",
       "      <td>False</td>\n",
       "      <td>2018-03-01 - 2018-11-30</td>\n",
       "      <td>2018</td>\n",
       "    </tr>\n",
       "    <tr>\n",
       "      <th>1</th>\n",
       "      <td>Automated Content Moderation</td>\n",
       "      <td>Senior ML Engineer</td>\n",
       "      <td>60.0</td>\n",
       "      <td>2020-02-01</td>\n",
       "      <td>2021-08-31</td>\n",
       "      <td>AI</td>\n",
       "      <td>PRODUCT</td>\n",
       "      <td>BUILT</td>\n",
       "      <td>xRPBlhk9</td>\n",
       "      <td>False</td>\n",
       "      <td>2020-02-01 - 2021-08-31</td>\n",
       "      <td>2021</td>\n",
       "    </tr>\n",
       "    <tr>\n",
       "      <th>2</th>\n",
       "      <td>Edge Computing AI Platform</td>\n",
       "      <td>Principal Architect</td>\n",
       "      <td>80.0</td>\n",
       "      <td>2022-01-01</td>\n",
       "      <td>2023-12-31</td>\n",
       "      <td>AI</td>\n",
       "      <td>INFRASTRUCTURE</td>\n",
       "      <td>BUILT</td>\n",
       "      <td>xRPBlhk9</td>\n",
       "      <td>False</td>\n",
       "      <td>2022-01-01 - 2023-12-31</td>\n",
       "      <td>2023</td>\n",
       "    </tr>\n",
       "    <tr>\n",
       "      <th>3</th>\n",
       "      <td>Quantum-Classical Hybrid Research</td>\n",
       "      <td>Research Lead</td>\n",
       "      <td>40.0</td>\n",
       "      <td>2024-01-01</td>\n",
       "      <td>present</td>\n",
       "      <td>AI</td>\n",
       "      <td>RESEARCH</td>\n",
       "      <td>LED</td>\n",
       "      <td>xRPBlhk9</td>\n",
       "      <td>True</td>\n",
       "      <td>2024-01-01 - present</td>\n",
       "      <td>None</td>\n",
       "    </tr>\n",
       "    <tr>\n",
       "      <th>4</th>\n",
       "      <td>Employee Self-Service Portal</td>\n",
       "      <td>Full-Stack Developer</td>\n",
       "      <td>90.0</td>\n",
       "      <td>2020-06-01</td>\n",
       "      <td>2021-12-31</td>\n",
       "      <td>WEB</td>\n",
       "      <td>PRODUCT</td>\n",
       "      <td>BUILT</td>\n",
       "      <td>kkkMTAId</td>\n",
       "      <td>False</td>\n",
       "      <td>2020-06-01 - 2021-12-31</td>\n",
       "      <td>2021</td>\n",
       "    </tr>\n",
       "  </tbody>\n",
       "</table>\n",
       "</div>"
      ]
     },
     "execution_count": 5,
     "metadata": {},
     "output_type": "execute_result"
    }
   ],
   "execution_count": 5
  },
  {
   "metadata": {
    "ExecuteTime": {
     "end_time": "2025-06-02T00:33:43.501911Z",
     "start_time": "2025-06-02T00:33:43.039428Z"
    }
   },
   "cell_type": "code",
   "source": [
    "from neo4j import GraphDatabase\n",
    "\n",
    "# load into People nodes in Neo4j\n",
    "\n",
    "#instantiate driver\n",
    "driver = GraphDatabase.driver(NEO4J_URI, auth=(NEO4J_USERNAME, NEO4J_PASSWORD))\n",
    "\n",
    "#test neo4j connection\n",
    "driver.execute_query(\"MATCH(n) RETURN count(n)\")"
   ],
   "id": "c0f98ede54ac6185",
   "outputs": [
    {
     "data": {
      "text/plain": [
       "EagerResult(records=[<Record count(n)=312>], summary=<neo4j._work.summary.ResultSummary object at 0x117436110>, keys=['count(n)'])"
      ]
     },
     "execution_count": 6,
     "metadata": {},
     "output_type": "execute_result"
    }
   ],
   "execution_count": 6
  },
  {
   "metadata": {
    "ExecuteTime": {
     "end_time": "2025-06-02T00:34:25.624905Z",
     "start_time": "2025-06-02T00:34:25.098066Z"
    }
   },
   "cell_type": "code",
   "source": [
    "from neo4j import RoutingControl\n",
    "\n",
    "\n",
    "#load structured data\n",
    "def chunks(xs, n=10):\n",
    "    n = max(1, n)\n",
    "    return [xs[i:i + n] for i in range(0, len(xs), n)]\n",
    "\n",
    "for chunk in chunks(df.to_dict(orient='records')):\n",
    "    records = driver.execute_query(\n",
    "        \"\"\"\n",
    "        UNWIND $records AS rec\n",
    "\n",
    "        //match people\n",
    "        MATCH(person:Person {id:rec.person_id})\n",
    "\n",
    "        //merge accomplishments\n",
    "        MERGE(thing:Thing {name:rec.project_name})\n",
    "        MERGE(person)-[r:$(rec.accomplishment_type)]->(thing)\n",
    "        SET r.year = rec.year,\n",
    "            r.role  = rec.role_title,\n",
    "            r.duration = rec.duration,\n",
    "            thing.in_progress = rec.in_progress,\n",
    "            thing.internal_project=true\n",
    "\n",
    "        //merge domain and work type\n",
    "        MERGE(Domain:Domain {name:rec.project_domain})\n",
    "        MERGE(thing)-[:IN]->(Domain)\n",
    "        MERGE(WorkType:WorkType {name:rec.project_type})\n",
    "        MERGE(thing)-[:OF]->(WorkType)\n",
    "\n",
    "        RETURN count(rec) AS records_upserted\n",
    "        \"\"\",\n",
    "        #database_=DATABASE,\n",
    "        routing_=RoutingControl.WRITE,\n",
    "        result_transformer_= lambda r: r.data(),\n",
    "        records = chunk\n",
    "    )\n",
    "    print(records)"
   ],
   "id": "6cdddc8657585976",
   "outputs": [
    {
     "name": "stdout",
     "output_type": "stream",
     "text": [
      "[{'records_upserted': 10}]\n",
      "[{'records_upserted': 10}]\n",
      "[{'records_upserted': 10}]\n",
      "[{'records_upserted': 10}]\n",
      "[{'records_upserted': 10}]\n"
     ]
    }
   ],
   "execution_count": 7
  },
  {
   "metadata": {
    "ExecuteTime": {
     "end_time": "2025-06-02T00:38:28.148117Z",
     "start_time": "2025-06-02T00:38:23.455621Z"
    }
   },
   "cell_type": "code",
   "source": [
    "# build adk agent with neo4j mcp\n",
    "from person import Domain, WorkType, SkillName\n",
    "from google.adk.models.lite_llm import LiteLlm\n",
    "from google.adk.agents import Agent\n",
    "from google.adk.tools.mcp_tool.mcp_toolset import MCPToolset, StdioServerParameters\n",
    "\n",
    "database_agent = Agent(\n",
    "    name=\"graph_database_agent\",\n",
    "    # model=\"gemini-2.0-flash-exp\",\n",
    "    model=LiteLlm(model=\"openai/gpt-4.1\"),\n",
    "    # model=LiteLlm(model=\"anthropic/claude-sonnet-4-20250514\"),\n",
    "    description=\"\"\"\n",
    "    Agent to access knowledge graph stored in graph database\n",
    "    \"\"\",\n",
    "    instruction=f\"\"\"\n",
    "      You are an Neo4j graph database and Cypher query expert, that must use the database schema with a user question and repeatedly generate valid cypher statements\n",
    "      to execute on the database and answer the user's questions in a friendly manner in natural language. You can also directly return a graph schema when requested.\n",
    "\n",
    "      For generating queries:\n",
    "      If in doubt the database schema is always prioritized when it comes to nodes-types (labels) or relationship-types or property names, never take the user's input at face value.\n",
    "      If the user requests also render tables, charts or other artifacts with the query results.\n",
    "      Always validate the correct node-labels at the end of a relationship based on the schema.\n",
    "\n",
    "      If a query fails or doesn't return data, use the error response 3 times to try to fix the generated query and re-run it, don't return the error to the user.\n",
    "      If you cannot fix the query, explain the issue to the user and apologize.\n",
    "\n",
    "      Fetch the graph database schema first and keep it in session memory to access later for query generation. Also keep in mind the below standardized property values:\n",
    "      - For Domain.name The standard values are {[i.value for i in Domain]}\n",
    "      - For WorkType.name The standard values are {[i.value for i in WorkType]}\n",
    "      - For Skill.name The standard values are {[i.value for i in SkillName]}\n",
    "\n",
    "      Keep results of previous executions in session memory and access if needed, for instance ids or other attributes of nodes to find them again\n",
    "      removing the need to ask the user. This also allows for generating shorter, more focused and less error-prone queries\n",
    "      to for drill downs, sequences and loops.\n",
    "      If possible resolve names to primary keys or ids and use those for looking up entities.\n",
    "      The schema always indicates *outgoing* relationship-types from an entity to another entity, the graph patterns read like english language.\n",
    "      `company has supplier` would be the pattern `(o:Organization)-[:HAS_SUPPLIER]->(s:Organization)`\n",
    "\n",
    "      To get the schema of a database use the `get_schema` tool without parameters. Store the response of the schema tool in session context\n",
    "      to access later for query generation.\n",
    "\n",
    "      To answer a user question generate one or more Cypher statements based on the database schema and the parts of the user question.\n",
    "      If necessary resolve categorical attributes (like names, countries, industries, publications) first by retrieving them for a set of entities to translate from the user's request.\n",
    "      Use the `read_neo4j_cypher` tool repeatedly with the Cypher statements, you MUST generate statements that use named query parameters with `$parameter` style names\n",
    "      and MUST pass them as a second dictionary parameter to the tool, even if empty.\n",
    "      Parameter data can come from the users requests, prior query results or additional lookup queries.\n",
    "      After the data for the question has been sufficiently retrieved, pass the data and control back to the parent agent.\n",
    "    \"\"\",\n",
    "    tools=[MCPToolset(\n",
    "        connection_params=StdioServerParameters(\n",
    "            command='uvx',\n",
    "            args=[\n",
    "                \"mcp-neo4j-cypher\",\n",
    "            ],\n",
    "            env={ k: os.environ[k] for k in [\"NEO4J_URI\",\"NEO4J_USERNAME\",\"NEO4J_PASSWORD\"] }\n",
    "        ),\n",
    "        tool_filter=['get_neo4j_schema','read_neo4j_cypher']\n",
    "    )]\n",
    ")\n",
    "\n",
    "from google.adk.runners import InMemoryRunner\n",
    "from google.genai.types import Part, UserContent\n",
    "\n",
    "APP_NAME = 'Database Agent'\n",
    "USER_ID = 'Zach Blumenfeld'\n",
    "\n",
    "\n",
    "runner = InMemoryRunner(app_name=APP_NAME, agent=database_agent)\n",
    "\n",
    "session = await runner.session_service.create_session( app_name=runner.app_name, user_id=USER_ID)\n",
    "\n",
    "async def run_prompt(new_message: str):\n",
    "  content = UserContent(parts=[Part(text=new_message)])\n",
    "  result = None\n",
    "  async for event in runner.run_async(user_id=session.user_id, session_id=session.id, new_message=content):\n",
    "    for part in event.content.parts:\n",
    "      print(part.text, part.function_call, part.function_response)\n",
    "      if part.text:\n",
    "        result = part.text\n",
    "  return result"
   ],
   "id": "18c9b4a241666992",
   "outputs": [],
   "execution_count": 9
  },
  {
   "metadata": {
    "ExecuteTime": {
     "end_time": "2025-06-02T00:38:55.822005Z",
     "start_time": "2025-06-02T00:38:29.511496Z"
    }
   },
   "cell_type": "code",
   "source": [
    "# ask some questions\n",
    "from IPython.display import Markdown, display\n",
    "\n",
    "res = await run_prompt(\"Who should be on our new AI tiger team where we will use Google ADK and Langchain to make a chatbot? What Are the Skill Gaps? Take into account who has successfully delivered other AI/Data Projects together\")\n",
    "print(\"\\n\\n\\n\\nFinal Response:\")\n",
    "display(Markdown(res))"
   ],
   "id": "a0f9b9b71c935dbc",
   "outputs": [
    {
     "name": "stdout",
     "output_type": "stream",
     "text": [
      "None id='call_9rSVk7MQrQKNp1t0dnLuXLrc' args={} name='get_neo4j_schema' None\n",
      "None None will_continue=None scheduling=None id='call_9rSVk7MQrQKNp1t0dnLuXLrc' name='get_neo4j_schema' response={'result': CallToolResult(meta=None, content=[TextContent(type='text', text='[{\"label\": \"Person\", \"attributes\": {\"id\": \"STRING indexed\", \"current_title\": \"STRING\", \"text\": \"STRING\", \"level\": \"STRING\", \"location\": \"STRING\", \"email\": \"STRING\", \"department\": \"STRING\", \"name\": \"STRING\", \"years_experience\": \"INTEGER\", \"embedding\": \"LIST\"}, \"relationships\": {\"BUILT\": \"Thing\", \"WON\": \"Thing\", \"SHIPPED\": \"Thing\", \"KNOWS\": \"Skill\", \"PUBLISHED\": \"Thing\", \"OPTIMIZED\": \"Thing\", \"LED\": \"Thing\", \"MANAGED\": \"Thing\"}}, {\"label\": \"Skill\", \"attributes\": {\"name\": \"STRING indexed\"}, \"relationships\": {}}, {\"label\": \"Thing\", \"attributes\": {\"in_progress\": \"BOOLEAN\", \"name\": \"STRING indexed\", \"internal_project\": \"BOOLEAN\"}, \"relationships\": {\"IN\": \"Domain\", \"OF\": \"WorkType\"}}, {\"label\": \"Domain\", \"attributes\": {\"name\": \"STRING indexed\"}, \"relationships\": {}}, {\"label\": \"WorkType\", \"attributes\": {\"name\": \"STRING indexed\"}, \"relationships\": {}}]', annotations=None)], isError=False)}\n",
      "None id='call_pLv3AHKuyvem9Y5ns0ebII9R' args={'query': \"MATCH (p:Person)-[:KNOWS]->(s:Skill) WHERE s.name IN ['Machine Learning', 'Deep Learning', 'Natural Language Processing', 'Data Engineering', 'Python', 'Cloud Architecture'] OR s.name CONTAINS 'Google' OR s.name CONTAINS 'Langchain'\\nWITH p, COLLECT(DISTINCT s.name) AS skills\\nMATCH (p)-[:BUILT|:SHIPPED|:LED|:MANAGED]->(t:Thing)-[:IN]->(d:Domain)\\nWHERE d.name IN ['AI', 'DATA_ENGINEERING']\\nWITH p, skills, COLLECT(DISTINCT t.name) AS ai_data_projects\\nMATCH (p)-[:BUILT|:SHIPPED|:LED|:MANAGED]->(t2:Thing)-[:IN]->(dom:Domain)\\nWITH p, skills, ai_data_projects, COLLECT(DISTINCT dom.name) AS domains\\nRETURN p.id AS personId, p.name AS personName, p.current_title AS title, skills, ai_data_projects, domains\"} name='read_neo4j_cypher' None\n",
      "None None will_continue=None scheduling=None id='call_pLv3AHKuyvem9Y5ns0ebII9R' name='read_neo4j_cypher' response={'result': CallToolResult(meta=None, content=[TextContent(type='text', text='[{\"personId\": \"l9MtidwF\", \"personName\": \"Miguel Santos\", \"title\": \"Backend Engineering Manager\", \"skills\": [\"Cloud Architecture\", \"Data Engineering\", \"Python\"], \"ai_data_projects\": [\"l9MtidwF_inventory_management_system_ecommerce_platform\"], \"domains\": [\"MICROSERVICES\", \"WEB\", \"DATA_ENGINEERING\"]}, {\"personId\": \"WWdJ3ABQ\", \"personName\": \"David Kim\", \"title\": \"DevOps Platform Engineer\", \"skills\": [\"Cloud Architecture\", \"Data Engineering\", \"Python\"], \"ai_data_projects\": [\"Edge Computing AI Platform\"], \"domains\": [\"PLATFORM\", \"CLOUD\", \"DEVOPS\", \"AI\"]}, {\"personId\": \"ouPzXXLh\", \"personName\": \"Priya Sharma\", \"title\": \"Senior ML Infrastructure Engineer\", \"skills\": [\"Cloud Architecture\", \"Data Engineering\", \"Python\"], \"ai_data_projects\": [\"ml_training_infra_ouPzXXLh\", \"feature_store_ouPzXXLh\", \"ml_pipeline_orchestration_ouPzXXLh\", \"data_pipelines_ouPzXXLh\", \"realtime_data_processing_ouPzXXLh\", \"mlops_team_ouPzXXLh\", \"model_monitoring_platform_ouPzXXLh\"], \"domains\": [\"AI\", \"DATA_ENGINEERING\"]}, {\"personId\": \"eOIAxtcB\", \"personName\": \"Monica Garcia\", \"title\": \"Senior Database Administrator\", \"skills\": [\"Data Engineering\", \"Python\"], \"ai_data_projects\": [\"Customer 360 Platform\", \"Data Warehouse Migration\"], \"domains\": [\"DATABASE\", \"DATA_ENGINEERING\", \"ANALYTICS\", \"CLOUD\"]}, {\"personId\": \"8wvf1psS\", \"personName\": \"Yuki Matsuda\", \"title\": \"Data Platform Engineer\", \"skills\": [\"Data Engineering\", \"Python\"], \"ai_data_projects\": [\"real_time_streaming_platform_8wvf1psS\", \"data_lake_infrastructure_8wvf1psS\", \"player_analytics_pipeline_8wvf1psS\", \"ml_feature_store_8wvf1psS\", \"real_time_bidding_analytics_8wvf1psS\", \"etl_pipelines_adtech_8wvf1psS\", \"batch_processing_jobs_finance_8wvf1psS\", \"data_engineering_team_8wvf1psS\", \"data_quality_monitoring_system_8wvf1psS\"], \"domains\": [\"DATA_ENGINEERING\", \"AI\"]}, {\"personId\": \"JSneKsS4\", \"personName\": \"Jennifer Park\", \"title\": \"Data Engineering Manager\", \"skills\": [\"Data Engineering\", \"Python\"], \"ai_data_projects\": [\"data_pipeline_infrastructure_JSneKsS4\", \"etl_processes_JSneKsS4\", \"Supply Chain Optimization Engine\", \"Data Warehouse Migration\", \"Customer 360 Platform\", \"data_eng_team_JSneKsS4\"], \"domains\": [\"DATABASE\", \"DATA_ENGINEERING\", \"CLOUD\", \"AI\", \"PLATFORM\", \"ANALYTICS\"]}, {\"personId\": \"QFSb6H3g\", \"personName\": \"Viktor Petrov\", \"title\": \"Site Reliability Engineer\", \"skills\": [\"Data Engineering\", \"Python\"], \"ai_data_projects\": [\"capacity_planning_system_QFSb6H3g\"], \"domains\": [\"DEVOPS\", \"CLOUD\", \"DATA_ENGINEERING\"]}, {\"personId\": \"UhZn6uYW\", \"personName\": \"Dr. Amanda Foster\", \"title\": \"Principal Research Scientist\", \"skills\": [\"Deep Learning\", \"Machine Learning\", \"Natural Language Processing\", \"Python\"], \"ai_data_projects\": [\"imagenet_model_UhZn6uYW\", \"novel_nlp_architecture_UhZn6uYW\", \"Edge Computing AI Platform\", \"Quantum-Classical Hybrid Research\", \"Reinforcement Learning Simulator\", \"Multimodal Search Engine\", \"multimodal_ai_team_UhZn6uYW\", \"AI Ethics Governance Framework\", \"image_analysis_prototype_UhZn6uYW\"], \"domains\": [\"AI\"]}, {\"personId\": \"xRPBlhk9\", \"personName\": \"Sarah Chen\", \"title\": \"Senior AI Engineer\", \"skills\": [\"Deep Learning\", \"Machine Learning\", \"Natural Language Processing\", \"Python\"], \"ai_data_projects\": [\"fraud_detection_system_xRPBlhk9\", \"ml_infrastructure_platform_xRPBlhk9\", \"deep_learning_nlp_models_xRPBlhk9\", \"Supply Chain Optimization Engine\", \"Automated Content Moderation\", \"Edge Computing AI Platform\", \"ai_engineering_team_xRPBlhk9\", \"Quantum-Classical Hybrid Research\", \"autonomous_vehicle_cv_model_xRPBlhk9\"], \"domains\": [\"AI\", \"SECURITY\"]}, {\"personId\": \"E4hfDSU3\", \"personName\": \"Kenji Tanaka\", \"title\": \"AI Research Engineer\", \"skills\": [\"Deep Learning\", \"Machine Learning\", \"Natural Language Processing\", \"Python\"], \"ai_data_projects\": [\"conversational_ai_system_E4hfDSU3\", \"attention_mechanisms_E4hfDSU3\", \"cv_deep_learning_models_E4hfDSU3\", \"data_preprocessing_pipeline_E4hfDSU3\", \"cross_lingual_transfer_learning_project_E4hfDSU3\", \"production_nlp_system_E4hfDSU3\"], \"domains\": [\"AI\", \"DATA_ENGINEERING\"]}, {\"personId\": \"LUUCJ14S\", \"personName\": \"Elena Popov\", \"title\": \"Senior Machine Learning Engineer\", \"skills\": [\"Deep Learning\", \"Machine Learning\", \"Python\"], \"ai_data_projects\": [\"reinforcement_learning_robot_navigation_LUUCJ14S\", \"computer_vision_object_detection_pipeline_LUUCJ14S\", \"personalization_ai_system_recommendation_LUUCJ14S\", \"real_time_inference_infrastructure_LUUCJ14S\", \"customer_segmentation_models_LUUCJ14S\", \"predictive_analytics_marketing_campaign_LUUCJ14S\", \"ml_prototypes_research_lab_LUUCJ14S\", \"ml_engineering_team_industrial_automation_LUUCJ14S\", \"ab_testing_framework_ml_evaluation_LUUCJ14S\"], \"domains\": [\"AI\"]}, {\"personId\": \"MpQCrNqA\", \"personName\": \"Aisha Patel\", \"title\": \"NLP Research Scientist\", \"skills\": [\"Deep Learning\", \"Machine Learning\", \"Natural Language Processing\", \"Python\"], \"ai_data_projects\": [\"conversational_ai_system_MpQCrNqA\", \"semantic_search_system_MpQCrNqA\", \"question_answering_system_MpQCrNqA\", \"sentiment_text_classification_models_MpQCrNqA\", \"multilingual_ner_system_MpQCrNqA\", \"text_preprocessing_pipelines_MpQCrNqA\", \"multilingual_language_model_team_MpQCrNqA\", \"knowledge_extraction_pipeline_MpQCrNqA\"], \"domains\": [\"AI\"]}, {\"personId\": \"8hvI9MCT\", \"personName\": \"Natasha Volkov\", \"title\": \"Senior Computer Vision Engineer\", \"skills\": [\"Deep Learning\", \"Python\"], \"ai_data_projects\": [\"object_detection_system_8hvI9MCT\", \"defect_detection_system_8hvI9MCT\", \"quality_control_ai_8hvI9MCT\", \"novel_conv_architectures_8hvI9MCT\", \"cv_team_level4_8hvI9MCT\", \"lane_traffic_sign_models_8hvI9MCT\"], \"domains\": [\"AI\"]}, {\"personId\": \"xsVeg3b9\", \"personName\": \"Fatima Al-Zahra\", \"title\": \"Senior Cybersecurity Data Analyst\", \"skills\": [\"Machine Learning\", \"Python\"], \"ai_data_projects\": [\"anomaly_detection_system_xsVeg3b9\", \"log_analysis_pipeline_xsVeg3b9\"], \"domains\": [\"AI\", \"SECURITY\", \"DATA_ENGINEERING\"]}, {\"personId\": \"AgJ3fyw9\", \"personName\": \"Emily Chen\", \"title\": \"Data Science Manager\", \"skills\": [\"Machine Learning\", \"Python\"], \"ai_data_projects\": [\"customer_segmentation_models_AgJ3fyw9\", \"fraud_detection_system_AgJ3fyw9\", \"investment_recommendation_engine_AgJ3fyw9\", \"fintech_team_AgJ3fyw9\"], \"domains\": [\"AI\", \"ANALYTICS\"]}, {\"personId\": \"Yvhy6A21\", \"personName\": \"Isabella Rossi\", \"title\": \"Senior AI Ethics Researcher\", \"skills\": [\"Machine Learning\", \"Natural Language Processing\", \"Python\"], \"ai_data_projects\": [\"bias_evaluation_toolkit_Yvhy6A21\", \"fairness_metrics_computer_vision_Yvhy6A21\", \"algorithmic_bias_detection_research_Yvhy6A21\"], \"domains\": [\"AI\"]}, {\"personId\": \"ZIMWCRHs\", \"personName\": \"Lisa Wang\", \"title\": \"Senior Data Analyst\", \"skills\": [\"Machine Learning\", \"Python\"], \"ai_data_projects\": [\"AI Ethics Governance Framework\"], \"domains\": [\"ANALYTICS\", \"WEB\", \"AI\"]}, {\"personId\": \"Y7Dbiku6\", \"personName\": \"Rachel Thompson\", \"title\": \"AI Product Manager\", \"skills\": [\"Machine Learning\", \"Python\"], \"ai_data_projects\": [\"personalization_ai_product_Y7Dbiku6\", \"medical_diagnosis_ai_system_Y7Dbiku6\", \"radiology_computer_vision_product_Y7Dbiku6\", \"ai_diagnostic_tools_roadmap_Y7Dbiku6\", \"go_to_market_strategy_ai_saas_Y7Dbiku6\", \"product_positioning_ml_features_Y7Dbiku6\"], \"domains\": [\"AI\", \"ANALYTICS\"]}, {\"personId\": \"HowfM0O2\", \"personName\": \"Lucas Martinez\", \"title\": \"Full-Stack AI Engineer\", \"skills\": [\"Machine Learning\", \"Natural Language Processing\", \"Python\"], \"ai_data_projects\": [\"personalized_learning_platform_HowfM0O2\", \"ai_tutoring_system_HowfM0O2\", \"medical_image_analysis_webapp_HowfM0O2\", \"rest_apis_ml_models_HowfM0O2\", \"adaptive_learning_algorithm_HowfM0O2\"], \"domains\": [\"AI\", \"WEB\", \"ANALYTICS\"]}, {\"personId\": \"ecjfjrSQ\", \"personName\": \"Omar Ibrahim\", \"title\": \"Technical Product Manager\", \"skills\": [\"Python\"], \"ai_data_projects\": [\"recommendation_system_features_ecjfjrSQ\", \"ai_credit_scoring_system_ecjfjrSQ\", \"ml_platform_loan_applications_ecjfjrSQ\"], \"domains\": [\"ANALYTICS\", \"WEB\", \"AI\", \"DATABASE\", \"CLOUD\"]}, {\"personId\": \"MhzMrjwz\", \"personName\": \"Robert Johnson\", \"title\": \"Security Engineer\", \"skills\": [\"Python\"], \"ai_data_projects\": [\"Supply Chain Optimization Engine\"], \"domains\": [\"SECURITY\", \"CLOUD\", \"AI\"]}, {\"personId\": \"RQwL4KtY\", \"personName\": \"Sophia Kim\", \"title\": \"Analytics Engineering Lead\", \"skills\": [\"Python\"], \"ai_data_projects\": [\"data_warehouse_gaming_RQwL4KtY\", \"recommendation_analytics_streaming_RQwL4KtY\", \"ab_testing_infrastructure_streaming_RQwL4KtY\", \"realtime_analytics_pipeline_streaming_RQwL4KtY\"], \"domains\": [\"DATA_ENGINEERING\", \"AI\", \"ANALYTICS\"]}]', annotations=None)], isError=False)}\n",
      "None id='call_3PfDeZm7BcToMRHhTbcZfVe6' args={'query': \"MATCH (p1:Person)-[:BUILT|:SHIPPED|:LED|:MANAGED]->(t:Thing)<-[:BUILT|:SHIPPED|:LED|:MANAGED]-(p2:Person)\\nWHERE t.in_progress = false AND ANY(domain IN ['AI', 'DATA_ENGINEERING'] WHERE (t)-[:IN]->(:Domain {name: domain})) AND p1 <> p2\\nRETURN DISTINCT p1.id AS person1, p2.id AS person2, t.name AS common_project\"} name='read_neo4j_cypher' None\n",
      "None None will_continue=None scheduling=None id='call_3PfDeZm7BcToMRHhTbcZfVe6' name='read_neo4j_cypher' response={'result': CallToolResult(meta=None, content=[TextContent(type='text', text='[{\"person1\": \"xRPBlhk9\", \"person2\": \"JSneKsS4\", \"common_project\": \"Supply Chain Optimization Engine\"}, {\"person1\": \"MhzMrjwz\", \"person2\": \"JSneKsS4\", \"common_project\": \"Supply Chain Optimization Engine\"}, {\"person1\": \"eOIAxtcB\", \"person2\": \"JSneKsS4\", \"common_project\": \"Data Warehouse Migration\"}, {\"person1\": \"eOIAxtcB\", \"person2\": \"JSneKsS4\", \"common_project\": \"Customer 360 Platform\"}, {\"person1\": \"xRPBlhk9\", \"person2\": \"MhzMrjwz\", \"common_project\": \"Supply Chain Optimization Engine\"}, {\"person1\": \"JSneKsS4\", \"person2\": \"MhzMrjwz\", \"common_project\": \"Supply Chain Optimization Engine\"}, {\"person1\": \"xRPBlhk9\", \"person2\": \"UhZn6uYW\", \"common_project\": \"Edge Computing AI Platform\"}, {\"person1\": \"WWdJ3ABQ\", \"person2\": \"UhZn6uYW\", \"common_project\": \"Edge Computing AI Platform\"}, {\"person1\": \"UhZn6uYW\", \"person2\": \"WWdJ3ABQ\", \"common_project\": \"Edge Computing AI Platform\"}, {\"person1\": \"xRPBlhk9\", \"person2\": \"WWdJ3ABQ\", \"common_project\": \"Edge Computing AI Platform\"}, {\"person1\": \"JSneKsS4\", \"person2\": \"eOIAxtcB\", \"common_project\": \"Customer 360 Platform\"}, {\"person1\": \"JSneKsS4\", \"person2\": \"eOIAxtcB\", \"common_project\": \"Data Warehouse Migration\"}, {\"person1\": \"MhzMrjwz\", \"person2\": \"xRPBlhk9\", \"common_project\": \"Supply Chain Optimization Engine\"}, {\"person1\": \"JSneKsS4\", \"person2\": \"xRPBlhk9\", \"common_project\": \"Supply Chain Optimization Engine\"}, {\"person1\": \"UhZn6uYW\", \"person2\": \"xRPBlhk9\", \"common_project\": \"Edge Computing AI Platform\"}, {\"person1\": \"WWdJ3ABQ\", \"person2\": \"xRPBlhk9\", \"common_project\": \"Edge Computing AI Platform\"}]', annotations=None)], isError=False)}\n",
      "None id='call_MjSbkQnodSqkjEsnsc6q6mvL' args={'query': \"MATCH (s:Skill) WHERE s.name =~ '(?i).*Google.*' OR s.name =~ '(?i).*Langchain.*' RETURN s.name LIMIT 5\"} name='read_neo4j_cypher' None\n",
      "None None will_continue=None scheduling=None id='call_MjSbkQnodSqkjEsnsc6q6mvL' name='read_neo4j_cypher' response={'result': CallToolResult(meta=None, content=[TextContent(type='text', text='[]', annotations=None)], isError=False)}\n",
      "None id='call_j2mO7tff4qDjojSxJKAUlw6r' args={'query': 'MATCH (s:Skill) RETURN DISTINCT s.name LIMIT 50'} name='read_neo4j_cypher' None\n",
      "None None will_continue=None scheduling=None id='call_j2mO7tff4qDjojSxJKAUlw6r' name='read_neo4j_cypher' response={'result': CallToolResult(meta=None, content=[TextContent(type='text', text='[{\"s.name\": \"AWS\"}, {\"s.name\": \"Business Intelligence\"}, {\"s.name\": \"Cloud Architecture\"}, {\"s.name\": \"Communication\"}, {\"s.name\": \"Computer Vision\"}, {\"s.name\": \"Data Analysis\"}, {\"s.name\": \"Data Engineering\"}, {\"s.name\": \"Data Science\"}, {\"s.name\": \"Deep Learning\"}, {\"s.name\": \"Docker\"}, {\"s.name\": \"Java\"}, {\"s.name\": \"JavaScript\"}, {\"s.name\": \"Kubernetes\"}, {\"s.name\": \"Leadership\"}, {\"s.name\": \"Machine Learning\"}, {\"s.name\": \"Natural Language Processing\"}, {\"s.name\": \"Product Management\"}, {\"s.name\": \"Product Strategy\"}, {\"s.name\": \"Project Management\"}, {\"s.name\": \"Python\"}, {\"s.name\": \"R\"}, {\"s.name\": \"SQL\"}, {\"s.name\": \"Statistics\"}, {\"s.name\": \"Team Management\"}]', annotations=None)], isError=False)}\n",
      "None id='call_Lejk5SlZpiLowptTacfXVaph' args={'query': \"MATCH (p:Person) WHERE p.id IN ['xRPBlhk9', 'JSneKsS4', 'MhzMrjwz', 'eOIAxtcB', 'UhZn6uYW', 'WWdJ3ABQ']\\nOPTIONAL MATCH (p)-[:KNOWS]->(s:Skill)\\nRETURN p.id, p.name, p.current_title, COLLECT(s.name) AS skills\"} name='read_neo4j_cypher' None\n",
      "None None will_continue=None scheduling=None id='call_Lejk5SlZpiLowptTacfXVaph' name='read_neo4j_cypher' response={'result': CallToolResult(meta=None, content=[TextContent(type='text', text='[{\"p.id\": \"JSneKsS4\", \"p.name\": \"Jennifer Park\", \"p.current_title\": \"Data Engineering Manager\", \"skills\": [\"Python\", \"SQL\", \"AWS\", \"Data Engineering\", \"Team Management\", \"Kubernetes\", \"Leadership\"]}, {\"p.id\": \"MhzMrjwz\", \"p.name\": \"Robert Johnson\", \"p.current_title\": \"Security Engineer\", \"skills\": [\"Python\"]}, {\"p.id\": \"UhZn6uYW\", \"p.name\": \"Dr. Amanda Foster\", \"p.current_title\": \"Principal Research Scientist\", \"skills\": [\"Python\", \"Machine Learning\", \"Computer Vision\", \"Natural Language Processing\", \"Deep Learning\"]}, {\"p.id\": \"WWdJ3ABQ\", \"p.name\": \"David Kim\", \"p.current_title\": \"DevOps Platform Engineer\", \"skills\": [\"Python\", \"AWS\", \"Docker\", \"Project Management\", \"Data Engineering\", \"Team Management\", \"Kubernetes\", \"Cloud Architecture\", \"Leadership\"]}, {\"p.id\": \"eOIAxtcB\", \"p.name\": \"Monica Garcia\", \"p.current_title\": \"Senior Database Administrator\", \"skills\": [\"Python\", \"SQL\", \"Data Engineering\", \"Team Management\"]}, {\"p.id\": \"xRPBlhk9\", \"p.name\": \"Sarah Chen\", \"p.current_title\": \"Senior AI Engineer\", \"skills\": [\"Python\", \"Machine Learning\", \"AWS\", \"Docker\", \"Computer Vision\", \"Natural Language Processing\", \"Kubernetes\", \"Deep Learning\"]}]', annotations=None)], isError=False)}\n",
      "Here's an initial answer based on your request and current skill coverage:\n",
      "\n",
      "## Top Candidates for the AI Tiger Team\n",
      "Based on previous successful collaboration on AI/Data projects and relevant skills (including Python, Data Engineering, ML/DL/NLP, plus DevOps/Cloud expertise partial for running on Google ADK), these people have worked together delivering projects:\n",
      "\n",
      "| Name                | Title                       | Key AI Skills                                         | Delivered Projects w/ Each Other                                      |\n",
      "|---------------------|----------------------------|-------------------------------------------------------|-----------------------------------------------------------------------|\n",
      "| Jennifer Park       | Data Engineering Manager    | Python, SQL, AWS, Data Engineering, Mgmt, Leadership  | \"Supply Chain Optimization Engine\", \"Customer 360 Platform\", \"Data Warehouse Migration\" (with Monica, Sarah, Robert) |\n",
      "| Sarah Chen          | Senior AI Engineer          | Python, ML, NLP, Deep Learning, Docker, CV, AWS       | \"Supply Chain Optimization Engine\", \"Edge Computing AI Platform\"      |\n",
      "| Robert Johnson      | Security Engineer           | Python                                                | \"Supply Chain Optimization Engine\"                                    |\n",
      "| Monica Garcia       | Senior Database Admin       | Python, SQL, Data Engineering, Team Management         | \"Customer 360 Platform\", \"Data Warehouse Migration\"                  |\n",
      "| Dr. Amanda Foster   | Principal Research Scientist| Python, ML, DL, NLP, Computer Vision                  | \"Edge Computing AI Platform\"                                         |\n",
      "| David Kim           | DevOps Platform Engineer    | Python, AWS, Docker, Data Eng, Cloud Architecture     | \"Edge Computing AI Platform\"                                         |\n",
      "\n",
      "These individuals have repeatedly shipped AI/Data projects together, increasing your likelihood of speedy effective teaming.\n",
      "\n",
      "## Skill Gaps for Google ADK and Langchain\n",
      "- There are **no explicit \"Google ADK\" or \"Langchain\" skills** among the current skills database. The closest matches are strong backgrounds in Python, Cloud Architecture (esp. AWS), Data Engineering, Machine Learning, and NLP.\n",
      "- If your chatbot project involves new Google ADK APIs/environments or requires intensive Langchain knowledge, you should plan **upskilling** or onboarding **external specialists** for those specific tools/frameworks.\n",
      "\n",
      "## Recommendations\n",
      "- Form your core tiger team with people above for best collaboration/productivity.\n",
      "- Invest in rapid training/enablement for Google ADK and Langchain for the team.\n",
      "- Consider short-term consultancy or pairing with experts in those frameworks until in-house expertise ramps up.\n",
      "\n",
      "---\n",
      "\n",
      "**Let me know if you want a detailed social/project network graph, skill charts, or tailored training plans for closing the skill gap!** None None\n",
      "\n",
      "\n",
      "\n",
      "\n",
      "Final Response:\n"
     ]
    },
    {
     "data": {
      "text/plain": [
       "<IPython.core.display.Markdown object>"
      ],
      "text/markdown": "Here's an initial answer based on your request and current skill coverage:\n\n## Top Candidates for the AI Tiger Team\nBased on previous successful collaboration on AI/Data projects and relevant skills (including Python, Data Engineering, ML/DL/NLP, plus DevOps/Cloud expertise partial for running on Google ADK), these people have worked together delivering projects:\n\n| Name                | Title                       | Key AI Skills                                         | Delivered Projects w/ Each Other                                      |\n|---------------------|----------------------------|-------------------------------------------------------|-----------------------------------------------------------------------|\n| Jennifer Park       | Data Engineering Manager    | Python, SQL, AWS, Data Engineering, Mgmt, Leadership  | \"Supply Chain Optimization Engine\", \"Customer 360 Platform\", \"Data Warehouse Migration\" (with Monica, Sarah, Robert) |\n| Sarah Chen          | Senior AI Engineer          | Python, ML, NLP, Deep Learning, Docker, CV, AWS       | \"Supply Chain Optimization Engine\", \"Edge Computing AI Platform\"      |\n| Robert Johnson      | Security Engineer           | Python                                                | \"Supply Chain Optimization Engine\"                                    |\n| Monica Garcia       | Senior Database Admin       | Python, SQL, Data Engineering, Team Management         | \"Customer 360 Platform\", \"Data Warehouse Migration\"                  |\n| Dr. Amanda Foster   | Principal Research Scientist| Python, ML, DL, NLP, Computer Vision                  | \"Edge Computing AI Platform\"                                         |\n| David Kim           | DevOps Platform Engineer    | Python, AWS, Docker, Data Eng, Cloud Architecture     | \"Edge Computing AI Platform\"                                         |\n\nThese individuals have repeatedly shipped AI/Data projects together, increasing your likelihood of speedy effective teaming.\n\n## Skill Gaps for Google ADK and Langchain\n- There are **no explicit \"Google ADK\" or \"Langchain\" skills** among the current skills database. The closest matches are strong backgrounds in Python, Cloud Architecture (esp. AWS), Data Engineering, Machine Learning, and NLP.\n- If your chatbot project involves new Google ADK APIs/environments or requires intensive Langchain knowledge, you should plan **upskilling** or onboarding **external specialists** for those specific tools/frameworks.\n\n## Recommendations\n- Form your core tiger team with people above for best collaboration/productivity.\n- Invest in rapid training/enablement for Google ADK and Langchain for the team.\n- Consider short-term consultancy or pairing with experts in those frameworks until in-house expertise ramps up.\n\n---\n\n**Let me know if you want a detailed social/project network graph, skill charts, or tailored training plans for closing the skill gap!**"
     },
     "metadata": {},
     "output_type": "display_data"
    }
   ],
   "execution_count": 10
  },
  {
   "metadata": {
    "ExecuteTime": {
     "end_time": "2025-06-02T00:40:37.584559Z",
     "start_time": "2025-06-02T00:40:31.063635Z"
    }
   },
   "cell_type": "code",
   "source": [
    "res = await run_prompt(\"Do we have any product managers to help scope maybe?\")\n",
    "print(\"\\n\\n\\n\\nFinal Response:\")\n",
    "display(Markdown(res))"
   ],
   "id": "d5ffe438e4665fa2",
   "outputs": [
    {
     "name": "stdout",
     "output_type": "stream",
     "text": [
      "None id='call_NELwnrPFLv7IYTJxhiJMKKzd' args={'query': \"MATCH (p:Person) WHERE toLower(p.current_title) CONTAINS 'product manager'\\nOPTIONAL MATCH (p)-[:KNOWS]->(s:Skill)\\nRETURN p.id, p.name, p.current_title, COLLECT(s.name) AS skills\"} name='read_neo4j_cypher' None\n",
      "None None will_continue=None scheduling=None id='call_NELwnrPFLv7IYTJxhiJMKKzd' name='read_neo4j_cypher' response={'result': CallToolResult(meta=None, content=[TextContent(type='text', text='[{\"p.id\": \"Y7Dbiku6\", \"p.name\": \"Rachel Thompson\", \"p.current_title\": \"AI Product Manager\", \"skills\": [\"Python\", \"Data Analysis\", \"Machine Learning\", \"SQL\", \"Project Management\", \"Computer Vision\", \"Leadership\", \"Product Strategy\", \"Product Management\"]}, {\"p.id\": \"ecjfjrSQ\", \"p.name\": \"Omar Ibrahim\", \"p.current_title\": \"Technical Product Manager\", \"skills\": [\"Python\", \"Data Analysis\", \"SQL\", \"JavaScript\", \"Project Management\", \"Team Management\", \"Business Intelligence\", \"Product Strategy\", \"Product Management\"]}]', annotations=None)], isError=False)}\n",
      "Yes, you have product managers who can help with project scoping:\n",
      "\n",
      "1. **Rachel Thompson** — AI Product Manager\n",
      "   - Skills: Python, Data Analysis, Machine Learning, Product Management, Product Strategy, Project Management, SQL, Leadership, Computer Vision\n",
      "\n",
      "2. **Omar Ibrahim** — Technical Product Manager\n",
      "   - Skills: Python, Data Analysis, Product Management, Product Strategy, Business Intelligence, Project Management, SQL, JavaScript, Team Management\n",
      "\n",
      "Both Rachel and Omar have a strong background in product management as well as technical understanding. Their skills in AI, Data Analysis, and leadership make them well-suited to help define and scope your chatbot project.\n",
      "\n",
      "Would you like to see which projects they’ve delivered, or identify who of the core tiger team has already worked with them before? None None\n",
      "\n",
      "\n",
      "\n",
      "\n",
      "Final Response:\n"
     ]
    },
    {
     "data": {
      "text/plain": [
       "<IPython.core.display.Markdown object>"
      ],
      "text/markdown": "Yes, you have product managers who can help with project scoping:\n\n1. **Rachel Thompson** — AI Product Manager\n   - Skills: Python, Data Analysis, Machine Learning, Product Management, Product Strategy, Project Management, SQL, Leadership, Computer Vision\n\n2. **Omar Ibrahim** — Technical Product Manager\n   - Skills: Python, Data Analysis, Product Management, Product Strategy, Business Intelligence, Project Management, SQL, JavaScript, Team Management\n\nBoth Rachel and Omar have a strong background in product management as well as technical understanding. Their skills in AI, Data Analysis, and leadership make them well-suited to help define and scope your chatbot project.\n\nWould you like to see which projects they’ve delivered, or identify who of the core tiger team has already worked with them before?"
     },
     "metadata": {},
     "output_type": "display_data"
    }
   ],
   "execution_count": 11
  }
 ],
 "metadata": {
  "kernelspec": {
   "display_name": "Python 3",
   "language": "python",
   "name": "python3"
  },
  "language_info": {
   "codemirror_mode": {
    "name": "ipython",
    "version": 2
   },
   "file_extension": ".py",
   "mimetype": "text/x-python",
   "name": "python",
   "nbconvert_exporter": "python",
   "pygments_lexer": "ipython2",
   "version": "2.7.6"
  }
 },
 "nbformat": 4,
 "nbformat_minor": 5
}

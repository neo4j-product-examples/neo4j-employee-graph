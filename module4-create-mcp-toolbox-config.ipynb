{
 "cells": [
  {
   "cell_type": "markdown",
   "id": "c62a7ef3752ba216",
   "metadata": {},
   "source": [
    "# Create MCP Toolbox Configuration\n",
    "This notebook creates the necessary tools and resources such that this workflow can be replicated in other clients via MCP.\n",
    "\n",
    "Specifically, this will create the YAML configuration for an [MCP Toolbox server](https://neo4j.com/blog/developer/ai-agents-gen-ai-toolbox/).\n",
    "\n",
    "Think of these as expert tools - pre-defined query templates with descriptions that can take in optional query parameters. We can later combine this with more generic MCP servers such as [mcp-neo4j-cypher](https://github.com/neo4j-contrib/mcp-neo4j/tree/main/servers/mcp-neo4j-cypher) that allow agents to write and execute their own Cypher queries based on the graph schema and user input."
   ]
  },
  {
   "cell_type": "code",
   "execution_count": 1,
   "id": "initial_id",
   "metadata": {
    "ExecuteTime": {
     "end_time": "2025-07-14T15:32:58.470897Z",
     "start_time": "2025-07-14T15:32:58.460581Z"
    },
    "collapsed": true,
    "jupyter": {
     "outputs_hidden": true
    }
   },
   "outputs": [],
   "source": [
    "import getpass\n",
    "import os\n",
    "from dotenv import load_dotenv\n",
    "\n",
    "#get env setup\n",
    "load_dotenv('nb.env', override=True)\n",
    "\n",
    "if not os.environ.get('NEO4J_URI'):\n",
    "    os.environ['NEO4J_URI'] = getpass.getpass('NEO4J_URI:\\n')\n",
    "if not os.environ.get('NEO4J_USERNAME'):\n",
    "    os.environ['NEO4J_USERNAME'] = getpass.getpass('NEO4J_USERNAME:\\n')\n",
    "if not os.environ.get('NEO4J_PASSWORD'):\n",
    "    os.environ['NEO4J_PASSWORD'] = getpass.getpass('NEO4J_PASSWORD:\\n')\n",
    "\n",
    "NEO4J_URI = os.getenv('NEO4J_URI')\n",
    "NEO4J_USERNAME = os.getenv('NEO4J_USERNAME')\n",
    "NEO4J_PASSWORD = os.getenv('NEO4J_PASSWORD')"
   ]
  },
  {
   "cell_type": "markdown",
   "id": "cd79045f5bead632",
   "metadata": {},
   "source": [
    "## Create Mata Context Node\n",
    "We are actually going to save our former system prompt in the form of a \"MetaContext\" node.  This allows us to pull and manage source of truth inside our database"
   ]
  },
  {
   "cell_type": "code",
   "execution_count": 3,
   "id": "b177dd0fb27fd38f",
   "metadata": {
    "ExecuteTime": {
     "end_time": "2025-07-14T15:33:21.563606Z",
     "start_time": "2025-07-14T15:33:21.333774Z"
    }
   },
   "outputs": [],
   "source": [
    "from person import Domain, WorkType, SkillName\n",
    "\n",
    "meta_context = f\"\"\"\n",
    "This knowledge graph, and corresponding tools, provide all the information you need to act as a human resources assistant who helps with skills analysis, talent search, and team formation at Cyberdyne Systems.\n",
    "\n",
    "Corresponding tools retrieve data from internal knowledge on Cyberdyne System employees based on their resume and profiles.\n",
    "\n",
    "Try to prioritize expert tools (those other than `read_neo4j_cypher`) as appropriate since they have expert approved logic for access data. Though you may need to directly access data afterwards to pull more details.\n",
    "\n",
    "\n",
    "When you need more flexible logic for aggregations, follow-up or anything else, you can access the knowledge (in a graph database) directly. ALWAYS get the schema first with `get_schema` and keep it in memory. Only use node labels, relationship types, and property names, and patterns in that schema to generate valid Cypher queries using the `read_neo4j_cypher` tool with proper parameter syntax ($parameter). If you get errors or empty results check the schema and try again at least up to 3 times.\n",
    "\n",
    "For domain knowledge, use these standard values:\n",
    "- Domains: {[i.value for i in Domain]}\n",
    "- Work Types: {[i.value for i in WorkType]}\n",
    "- Skills: {[i.value for i in SkillName]}\n",
    "\n",
    "Also never return embedding properties in Cypher queries. This will result in delays and errors.\n",
    "\n",
    "When responding to the user:\n",
    "- if your response includes people, include there names and IDs. Never just there Ids.\n",
    "- You must explain your retrieval logic and where the data came from. You must say exactly how relevance, similarity, etc. was inferred during search\n",
    "\n",
    "Use information from previous queries when possible instead of asking the user again.\n",
    "\"\"\""
   ]
  },
  {
   "cell_type": "code",
   "execution_count": 7,
   "id": "c0f98ede54ac6185",
   "metadata": {
    "ExecuteTime": {
     "end_time": "2025-07-14T15:36:40.850719Z",
     "start_time": "2025-07-14T15:36:39.669778Z"
    }
   },
   "outputs": [
    {
     "data": {
      "text/plain": [
       "EagerResult(records=[<Record n=<Node element_id='4:d1805f9b-885c-4575-8474-fe3c00609e7a:357' labels=frozenset({'__MetaContext__'}) properties={'useCase': 'talentAssistant', 'context': \"\\nThis knowledge graph, and corresponding tools, provide all the information you need to act as a human resources assistant who helps with skills analysis, talent search, and team formation at Cyberdyne Systems.\\n\\nCorresponding tools retrieve data from internal knowledge on Cyberdyne System employees based on their resume and profiles.\\n\\nTry to prioritize expert tools (those other than `read_neo4j_cypher`) as appropriate since they have expert approved logic for access data. Though you may need to directly access data afterwards to pull more details.\\n\\n\\nWhen you need more flexible logic for aggregations, follow-up or anything else, you can access the knowledge (in a graph database) directly. ALWAYS get the schema first with `get_schema` and keep it in memory. Only use node labels, relationship types, and property names, and patterns in that schema to generate valid Cypher queries using the `read_neo4j_cypher` tool with proper parameter syntax ($parameter). If you get errors or empty results check the schema and try again at least up to 3 times.\\n\\nFor domain knowledge, use these standard values:\\n- Domains: ['AI', 'DATA_ENGINEERING', 'ANALYTICS', 'DATABASE', 'WEB', 'MOBILE', 'CLOUD', 'DEVOPS', 'SECURITY', 'MICROSERVICES', 'PLATFORM']\\n- Work Types: ['SYSTEM', 'RESEARCH', 'PRODUCT', 'TEAM', 'PROJECT', 'PROCESS', 'AWARD', 'CODE']\\n- Skills: ['Machine Learning', 'Deep Learning', 'Natural Language Processing', 'Computer Vision', 'Data Science', 'Statistics', 'TensorFlow', 'PyTorch', 'Keras', 'Scikit-learn', 'Pandas', 'NumPy', 'Matplotlib', 'Python', 'JavaScript', 'TypeScript', 'Java', 'C++', 'C', 'C#', 'Go', 'Rust', 'Ruby', 'Swift', 'Kotlin', 'R Programming Language', 'SQL', 'Scala', 'React', 'Angular', 'Vue.js', 'Svelte', 'Next.js', 'Nuxt.js', 'Node.js', 'Express.js', 'Django', 'Flask', 'Spring', 'Ruby on Rails', 'Laravel', 'ASP.NET', 'Nest.js', 'Data Engineering', 'Cloud Architecture', 'AWS', 'Azure', 'Google Cloud Platform', 'Docker', 'Kubernetes', 'Product Strategy', 'Product Management', 'Data Analysis', 'Business Intelligence', 'Leadership', 'Team Management', 'Communication', 'Project Management', 'Adobe Photoshop', 'Social Media Marketing', 'Accounting', 'Legal Research']\\n\\nAlso never return embedding properties in Cypher queries. This will result in delays and errors.\\n\\nWhen responding to the user:\\n- if your response includes people, include there names and IDs. Never just there Ids.\\n- You must explain your retrieval logic and where the data came from. You must say exactly how relevance, similarity, etc. was inferred during search\\n\\nUse information from previous queries when possible instead of asking the user again.\\n\", 'version': 1}>>], summary=<neo4j._work.summary.ResultSummary object at 0x10b012890>, keys=['n'])"
      ]
     },
     "execution_count": 7,
     "metadata": {},
     "output_type": "execute_result"
    }
   ],
   "source": [
    "from neo4j import GraphDatabase\n",
    "\n",
    "#instantiate driver\n",
    "driver = GraphDatabase.driver(NEO4J_URI, auth=(NEO4J_USERNAME, NEO4J_PASSWORD))\n",
    "\n",
    "#test neo4j connection\n",
    "driver.execute_query(\"\"\"\n",
    "MERGE(n:__MetaContext__ {version:1, useCase:'talentAssistant'})\n",
    "SET n.context = $context\n",
    "RETURN n\n",
    "\"\"\", context=meta_context)"
   ]
  },
  {
   "cell_type": "markdown",
   "id": "9ce263a4-1655-445b-af8c-6987a846d183",
   "metadata": {},
   "source": [
    "## Create MCP ToolBox Definitions\n",
    "This will create the YAML configuration for an [MCP Toolbox server](https://neo4j.com/blog/developer/ai-agents-gen-ai-toolbox/) so we can expose the tools from previous modules to any MCP client."
   ]
  },
  {
   "cell_type": "code",
   "execution_count": 14,
   "id": "9588dca4c6f99025",
   "metadata": {
    "ExecuteTime": {
     "end_time": "2025-07-14T17:24:43.678493Z",
     "start_time": "2025-07-14T17:24:43.658275Z"
    }
   },
   "outputs": [
    {
     "name": "stdout",
     "output_type": "stream",
     "text": [
      "tools.yaml file created successfully.\n"
     ]
    }
   ],
   "source": [
    "# same tools from notebooks 2 & 3\n",
    "tool_yaml = f\"\"\"\n",
    "sources:\n",
    "    employee-graph:\n",
    "        kind: \"neo4j\"\n",
    "        uri: \"{NEO4J_URI}\"\n",
    "        user: \"{NEO4J_USERNAME}\"\n",
    "        password: \"{NEO4J_PASSWORD}\"\n",
    "tools:\n",
    "\n",
    "  get_context:\n",
    "    kind: neo4j-cypher\n",
    "    source: employee-graph\n",
    "    statement: |\n",
    "        MATCH(n:__MetaContext__ {{version:1, useCase:'talentAssistant'}})\n",
    "        RETURN n.context AS context\n",
    "    description: |\n",
    "        Gets the context for how to use & access employee data. Always run this first and store in your memory.\n",
    "\n",
    "  find_similar_people:\n",
    "    kind: neo4j-cypher\n",
    "    source: employee-graph\n",
    "    statement: |\n",
    "        MATCH p=(p1:Person {{id:$personId}})--()\n",
    "                 ((:!Person)--() ){{0,3}}\n",
    "                 (p2:Person)\n",
    "        RETURN count(*) AS score, p2.id AS person_id\n",
    "        ORDER BY score DESC LIMIT 5 //fixing limit at 5 for now\n",
    "    description: |\n",
    "        This function will return potential similar people to the provided person based on common skill and types and domains of accomplishments.  You can use this as a starting point to find similarities scores. But should use follow up tools and queries to collect more info. Returns a list of person ids for similar candidates order by score which is the count of common skill and types and domains of accomplishments\n",
    "    parameters:\n",
    "      - name: personId\n",
    "        type: string\n",
    "        description: the id of the person to search for similarities for\n",
    "\n",
    "  find_similarities_between_people:\n",
    "    kind: neo4j-cypher\n",
    "    source: employee-graph\n",
    "    statement: |\n",
    "        MATCH p=(p1:Person {{id:$person1_id}})--()\n",
    "                 ((:!Person)--() ){{0,3}}\n",
    "                 (p2:Person{{id:$person2_id}})\n",
    "        WITH p, nodes(p) as path_nodes, relationships(p) as path_rels, p1, p2\n",
    "        RETURN\n",
    "          \"(\" + labels(path_nodes[0])[0] + \" {{name: \\\\\"\" + path_nodes[0].name + \"\\\\\" id: \\\\\"\" + path_nodes[0].id + \"\\\\\"}})\" +\n",
    "          reduce(chain = \"\", i IN range(0, size(path_rels)-1) |\n",
    "            chain +\n",
    "            \"-[\" + type(path_rels[i]) + \"]-\" +\n",
    "            \"(\" + labels(path_nodes[i+1])[0] + \" {{name: \\\\\"\" + path_nodes[i+1].name +\n",
    "            CASE WHEN \"Person\" IN labels(path_nodes[i+1])\n",
    "                 THEN \"\\\\\" id: \\\\\"\" + path_nodes[i+1].id +\"\\\\\"\"\n",
    "                 ELSE \"\\\\\"\" END + \"}})\"\n",
    "          ) as paths ORDER BY p1.id, p2.id\n",
    "    description: |\n",
    "        This function will return potential similarities between people in the form of skill and accomplishment paths.  You can use this as a starting point to find similarities and query the graph further using the various name fields and person ids. Returns a list of paths between the two people, each path is a compact ascii string representation.  It should reflect the patterns in the graph schema.\n",
    "    parameters:\n",
    "      - name:  person1_id\n",
    "        type: string\n",
    "        description: the id of the first person to compare\n",
    "      - name:  person2_id\n",
    "        type: string\n",
    "        description: the id of the second person to compare\n",
    "\n",
    "  get_person_resume:\n",
    "    kind: neo4j-cypher\n",
    "    source: employee-graph\n",
    "    statement: |\n",
    "        MATCH (n:Person {{id: $personId}})\n",
    "        RETURN n.text as resume, n.name AS name\n",
    "    description: Gets the full resume of a person and their name.\n",
    "    parameters:\n",
    "      - name: personId\n",
    "        type: string\n",
    "        description: the id of the person\n",
    "\n",
    "  get_person_name:\n",
    "    kind: neo4j-cypher\n",
    "    source: employee-graph\n",
    "    statement: |\n",
    "        MATCH (n:Person {{id: $personId}})\n",
    "        RETURN n.name\n",
    "    description: Gets a person name given their id\n",
    "    parameters:\n",
    "      - name: personId\n",
    "        type: string\n",
    "        description: the id of the person\n",
    "\n",
    "  get_person_ids_from_name:\n",
    "    kind: neo4j-cypher\n",
    "    source: employee-graph\n",
    "    statement: |\n",
    "        MATCH (n:Person {{name: $personName}})\n",
    "        RETURN n.id\n",
    "    description: |\n",
    "        Gets all the unique person ids who have the provided name. Note that names aren't guaranteed to be unique so you may get more than one person.\n",
    "    parameters:\n",
    "      - name: personName\n",
    "        type: string\n",
    "        description: the name to look up person ids with\n",
    "\n",
    "  find_collaborators_in_domain:\n",
    "    kind: neo4j-cypher\n",
    "    source: employee-graph\n",
    "    statement: |\n",
    "        // graph pattern: get collaborates in set of domains\n",
    "        MATCH (p:Person)-[r]->(t:Thing)<-[]-(:Person)\n",
    "        MATCH (t)-[:IN]->(d)\n",
    "        MATCH (t)-[:OF]->(w)\n",
    "        WHERE d.name IN $domains\n",
    "        //format for response\n",
    "        WITH t, d, w, p,\n",
    "        collect({{contribution: type(r) + \" IT\", roleDetails: r.role, duration:r.duration}}) AS contributions\n",
    "        WITH t.name AS projectName, t.internal_project AS is_internal, d.name AS domain, w.name AS workType, collect({{name: p.name, id: p.id, contributions: contributions}}) AS people\n",
    "        //return\n",
    "        RETURN projectName, domain, workType, people\n",
    "    description: |\n",
    "        Finds projects within a given set of domains where multiple people collaborated\n",
    "        along with project details and individual contributions.\n",
    "        It returns detailed information about each project, including the project name,\n",
    "        domain, work type, and the list of collaborators (their names, IDs, and their contributions).\n",
    "    parameters:\n",
    "      - name: domains\n",
    "        type: array\n",
    "        description: |\n",
    "            A list of domains (from the `Domain` enum) to filter projects where collaborations occurred.\n",
    "        items:\n",
    "          name: name\n",
    "          type: string\n",
    "          description: Domain name. Valid values are {', '.join([i.value for i in Domain])}.\n",
    "\"\"\"\n",
    "with open('tools.yaml', 'w') as file:\n",
    "    file.write(tool_yaml)\n",
    "print(\"tools.yaml file created successfully.\")"
   ]
  },
  {
   "metadata": {},
   "cell_type": "markdown",
   "source": [
    "## Deploy MCP Toolbox\n",
    "You can do this locally or, if you have a GCP account, deploy remotely via Cloud Run.\n",
    "\n",
    "For local deployment see `deploy-toolbox-local.sh`. For remote GCP see `deploy-toolbox-gcp.sh`.\n",
    "\n",
    "Optional: Once the Toolbox MCP server is running you can test with [MCP Inspector](https://modelcontextprotocol.io/legacy/tools/inspector)."
   ],
   "id": "64cf1dbbee571af8"
  }
 ],
 "metadata": {
  "kernelspec": {
   "display_name": "Python 3 (ipykernel)",
   "language": "python",
   "name": "python3"
  },
  "language_info": {
   "codemirror_mode": {
    "name": "ipython",
    "version": 3
   },
   "file_extension": ".py",
   "mimetype": "text/x-python",
   "name": "python",
   "nbconvert_exporter": "python",
   "pygments_lexer": "ipython3",
   "version": "3.11.6"
  }
 },
 "nbformat": 4,
 "nbformat_minor": 5
}

{
 "cells": [
  {
   "metadata": {},
   "cell_type": "markdown",
   "source": [
    "# Expand Data Sources & Grow Knowledge\n",
    "This notebook demonstrates how you can easily expand to include new sources in a knowledge graph backed by a graph database.  we show how you can add structured data from a Human Resource Information System (HRIS) and connect it to people extracted from the previous unstructured resume docs from module 2.\n",
    "\n",
    "This data source makes some different assumptions around people being able to contribute to the same things with their accomplishments since the data is internal we can see collaboration on projects.  These sorts of data model updates can cause the need to refactor in RDBMS systems but with a graph database it poses no issues.\n",
    "\n",
    "![](img/data-model-updates-with-tables.png)\n",
    "![](img/data-model-updates-with-graph.png)"
   ],
   "id": "c62a7ef3752ba216"
  },
  {
   "metadata": {
    "collapsed": true,
    "ExecuteTime": {
     "end_time": "2025-06-05T17:14:23.247685Z",
     "start_time": "2025-06-05T17:14:23.239046Z"
    }
   },
   "cell_type": "code",
   "source": [
    "import getpass\n",
    "import os\n",
    "from dotenv import load_dotenv\n",
    "\n",
    "#get env setup\n",
    "load_dotenv('nb.env', override=True)\n",
    "\n",
    "if not os.environ.get('NEO4J_URI'):\n",
    "    os.environ['NEO4J_URI'] = getpass.getpass('NEO4J_URI:\\n')\n",
    "if not os.environ.get('NEO4J_USERNAME'):\n",
    "    os.environ['NEO4J_USERNAME'] = getpass.getpass('NEO4J_USERNAME:\\n')\n",
    "if not os.environ.get('NEO4J_PASSWORD'):\n",
    "    os.environ['NEO4J_PASSWORD'] = getpass.getpass('NEO4J_PASSWORD:\\n')\n",
    "\n",
    "NEO4J_URI = os.getenv('NEO4J_URI')\n",
    "NEO4J_USERNAME = os.getenv('NEO4J_USERNAME')\n",
    "NEO4J_PASSWORD = os.getenv('NEO4J_PASSWORD')"
   ],
   "id": "initial_id",
   "outputs": [],
   "execution_count": 1
  },
  {
   "metadata": {},
   "cell_type": "markdown",
   "source": "## Graph Construction",
   "id": "cd79045f5bead632"
  },
  {
   "metadata": {
    "ExecuteTime": {
     "end_time": "2025-06-05T17:14:23.703415Z",
     "start_time": "2025-06-05T17:14:23.358723Z"
    }
   },
   "cell_type": "code",
   "source": [
    "import pandas as pd\n",
    "\n",
    "# read structured hris data\n",
    "df = pd.read_csv('hris-tables/project-assignments.csv')\n",
    "# Some minor formatting\n",
    "df['in_progress'] = df['end_date'].isna()\n",
    "df['end_date'] = df['end_date'].fillna(\"present\")\n",
    "df['duration'] = df['start_date'] + \" - \" + df['end_date']\n",
    "df['year'] = df['end_date'].apply(lambda x: x[:4] if x.lower() != \"present\" else None)\n",
    "df.head()"
   ],
   "id": "f360aba478ca3c03",
   "outputs": [
    {
     "data": {
      "text/plain": [
       "                        project_name            role_title  \\\n",
       "0   Supply Chain Optimization Engine         AI Consultant   \n",
       "1       Automated Content Moderation    Senior ML Engineer   \n",
       "2         Edge Computing AI Platform   Principal Architect   \n",
       "3  Quantum-Classical Hybrid Research         Research Lead   \n",
       "4       Employee Self-Service Portal  Full-Stack Developer   \n",
       "\n",
       "   allocation_percentage  start_date    end_date project_domain  \\\n",
       "0                   30.0  2018-03-01  2018-11-30             AI   \n",
       "1                   60.0  2020-02-01  2021-08-31             AI   \n",
       "2                   80.0  2022-01-01  2023-12-31             AI   \n",
       "3                   40.0  2024-01-01     present             AI   \n",
       "4                   90.0  2020-06-01  2021-12-31            WEB   \n",
       "\n",
       "     project_type accomplishment_type person_id  in_progress  \\\n",
       "0         PRODUCT               BUILT  xRPBlhk9        False   \n",
       "1         PRODUCT               BUILT  xRPBlhk9        False   \n",
       "2  INFRASTRUCTURE               BUILT  xRPBlhk9        False   \n",
       "3        RESEARCH                 LED  xRPBlhk9         True   \n",
       "4         PRODUCT               BUILT  kkkMTAId        False   \n",
       "\n",
       "                  duration  year  \n",
       "0  2018-03-01 - 2018-11-30  2018  \n",
       "1  2020-02-01 - 2021-08-31  2021  \n",
       "2  2022-01-01 - 2023-12-31  2023  \n",
       "3     2024-01-01 - present  None  \n",
       "4  2020-06-01 - 2021-12-31  2021  "
      ],
      "text/html": [
       "<div>\n",
       "<style scoped>\n",
       "    .dataframe tbody tr th:only-of-type {\n",
       "        vertical-align: middle;\n",
       "    }\n",
       "\n",
       "    .dataframe tbody tr th {\n",
       "        vertical-align: top;\n",
       "    }\n",
       "\n",
       "    .dataframe thead th {\n",
       "        text-align: right;\n",
       "    }\n",
       "</style>\n",
       "<table border=\"1\" class=\"dataframe\">\n",
       "  <thead>\n",
       "    <tr style=\"text-align: right;\">\n",
       "      <th></th>\n",
       "      <th>project_name</th>\n",
       "      <th>role_title</th>\n",
       "      <th>allocation_percentage</th>\n",
       "      <th>start_date</th>\n",
       "      <th>end_date</th>\n",
       "      <th>project_domain</th>\n",
       "      <th>project_type</th>\n",
       "      <th>accomplishment_type</th>\n",
       "      <th>person_id</th>\n",
       "      <th>in_progress</th>\n",
       "      <th>duration</th>\n",
       "      <th>year</th>\n",
       "    </tr>\n",
       "  </thead>\n",
       "  <tbody>\n",
       "    <tr>\n",
       "      <th>0</th>\n",
       "      <td>Supply Chain Optimization Engine</td>\n",
       "      <td>AI Consultant</td>\n",
       "      <td>30.0</td>\n",
       "      <td>2018-03-01</td>\n",
       "      <td>2018-11-30</td>\n",
       "      <td>AI</td>\n",
       "      <td>PRODUCT</td>\n",
       "      <td>BUILT</td>\n",
       "      <td>xRPBlhk9</td>\n",
       "      <td>False</td>\n",
       "      <td>2018-03-01 - 2018-11-30</td>\n",
       "      <td>2018</td>\n",
       "    </tr>\n",
       "    <tr>\n",
       "      <th>1</th>\n",
       "      <td>Automated Content Moderation</td>\n",
       "      <td>Senior ML Engineer</td>\n",
       "      <td>60.0</td>\n",
       "      <td>2020-02-01</td>\n",
       "      <td>2021-08-31</td>\n",
       "      <td>AI</td>\n",
       "      <td>PRODUCT</td>\n",
       "      <td>BUILT</td>\n",
       "      <td>xRPBlhk9</td>\n",
       "      <td>False</td>\n",
       "      <td>2020-02-01 - 2021-08-31</td>\n",
       "      <td>2021</td>\n",
       "    </tr>\n",
       "    <tr>\n",
       "      <th>2</th>\n",
       "      <td>Edge Computing AI Platform</td>\n",
       "      <td>Principal Architect</td>\n",
       "      <td>80.0</td>\n",
       "      <td>2022-01-01</td>\n",
       "      <td>2023-12-31</td>\n",
       "      <td>AI</td>\n",
       "      <td>INFRASTRUCTURE</td>\n",
       "      <td>BUILT</td>\n",
       "      <td>xRPBlhk9</td>\n",
       "      <td>False</td>\n",
       "      <td>2022-01-01 - 2023-12-31</td>\n",
       "      <td>2023</td>\n",
       "    </tr>\n",
       "    <tr>\n",
       "      <th>3</th>\n",
       "      <td>Quantum-Classical Hybrid Research</td>\n",
       "      <td>Research Lead</td>\n",
       "      <td>40.0</td>\n",
       "      <td>2024-01-01</td>\n",
       "      <td>present</td>\n",
       "      <td>AI</td>\n",
       "      <td>RESEARCH</td>\n",
       "      <td>LED</td>\n",
       "      <td>xRPBlhk9</td>\n",
       "      <td>True</td>\n",
       "      <td>2024-01-01 - present</td>\n",
       "      <td>None</td>\n",
       "    </tr>\n",
       "    <tr>\n",
       "      <th>4</th>\n",
       "      <td>Employee Self-Service Portal</td>\n",
       "      <td>Full-Stack Developer</td>\n",
       "      <td>90.0</td>\n",
       "      <td>2020-06-01</td>\n",
       "      <td>2021-12-31</td>\n",
       "      <td>WEB</td>\n",
       "      <td>PRODUCT</td>\n",
       "      <td>BUILT</td>\n",
       "      <td>kkkMTAId</td>\n",
       "      <td>False</td>\n",
       "      <td>2020-06-01 - 2021-12-31</td>\n",
       "      <td>2021</td>\n",
       "    </tr>\n",
       "  </tbody>\n",
       "</table>\n",
       "</div>"
      ]
     },
     "execution_count": 2,
     "metadata": {},
     "output_type": "execute_result"
    }
   ],
   "execution_count": 2
  },
  {
   "metadata": {
    "ExecuteTime": {
     "end_time": "2025-06-05T17:14:25.710417Z",
     "start_time": "2025-06-05T17:14:23.737466Z"
    }
   },
   "cell_type": "code",
   "source": [
    "from neo4j import GraphDatabase\n",
    "\n",
    "# load into People nodes in Neo4j\n",
    "\n",
    "#instantiate driver\n",
    "driver = GraphDatabase.driver(NEO4J_URI, auth=(NEO4J_USERNAME, NEO4J_PASSWORD))\n",
    "\n",
    "#test neo4j connection\n",
    "driver.execute_query(\"MATCH(n) RETURN count(n)\")"
   ],
   "id": "c0f98ede54ac6185",
   "outputs": [
    {
     "data": {
      "text/plain": [
       "EagerResult(records=[<Record count(n)=327>], summary=<neo4j._work.summary.ResultSummary object at 0x10bec4910>, keys=['count(n)'])"
      ]
     },
     "execution_count": 3,
     "metadata": {},
     "output_type": "execute_result"
    }
   ],
   "execution_count": 3
  },
  {
   "metadata": {
    "ExecuteTime": {
     "end_time": "2025-06-05T17:14:26.353352Z",
     "start_time": "2025-06-05T17:14:25.778884Z"
    }
   },
   "cell_type": "code",
   "source": [
    "from neo4j import RoutingControl\n",
    "\n",
    "\n",
    "#load structured data\n",
    "def chunks(xs, n=10):\n",
    "    n = max(1, n)\n",
    "    return [xs[i:i + n] for i in range(0, len(xs), n)]\n",
    "\n",
    "for chunk in chunks(df.to_dict(orient='records')):\n",
    "    records = driver.execute_query(\n",
    "        \"\"\"\n",
    "        UNWIND $records AS rec\n",
    "\n",
    "        //match people\n",
    "        MATCH(person:Person {id:rec.person_id})\n",
    "\n",
    "        //merge accomplishments\n",
    "        MERGE(thing:Thing {name:rec.project_name})\n",
    "        MERGE(person)-[r:$(rec.accomplishment_type)]->(thing)\n",
    "        SET r.year = rec.year,\n",
    "            r.role  = rec.role_title,\n",
    "            r.duration = rec.duration,\n",
    "            thing.in_progress = rec.in_progress,\n",
    "            thing.internal_project=true\n",
    "\n",
    "        //merge domain and work type\n",
    "        MERGE(Domain:Domain {name:rec.project_domain})\n",
    "        MERGE(thing)-[:IN]->(Domain)\n",
    "        MERGE(WorkType:WorkType {name:rec.project_type})\n",
    "        MERGE(thing)-[:OF]->(WorkType)\n",
    "\n",
    "        RETURN count(rec) AS records_upserted\n",
    "        \"\"\",\n",
    "        #database_=DATABASE,\n",
    "        routing_=RoutingControl.WRITE,\n",
    "        result_transformer_= lambda r: r.data(),\n",
    "        records = chunk\n",
    "    )\n",
    "    print(records)"
   ],
   "id": "6cdddc8657585976",
   "outputs": [
    {
     "name": "stdout",
     "output_type": "stream",
     "text": [
      "[{'records_upserted': 10}]\n",
      "[{'records_upserted': 10}]\n",
      "[{'records_upserted': 10}]\n",
      "[{'records_upserted': 10}]\n",
      "[{'records_upserted': 10}]\n"
     ]
    }
   ],
   "execution_count": 4
  },
  {
   "metadata": {},
   "cell_type": "markdown",
   "source": "## Agents and Retrieval",
   "id": "c80d2e7e6b3e165e"
  },
  {
   "metadata": {
    "ExecuteTime": {
     "end_time": "2025-06-05T17:14:26.360252Z",
     "start_time": "2025-06-05T17:14:26.356468Z"
    }
   },
   "cell_type": "code",
   "source": [
    "# same tools from notebook 2\n",
    "\n",
    "def find_similar_people(person_id: str):\n",
    "    \"\"\"\n",
    "    This function will return potential similar people to the provided person based on common skill and types and domains of accomplishments.  You can use this as a starting point to find similarities scores. But should use follow up tools and queries to collect more info.\n",
    "    :param person_id: the id of the person to search for similarities for\n",
    "    :return: a list of person ids for similar candidates order by score which is the count of common skill and types and domains of accomplishments.\n",
    "    \"\"\"\n",
    "    res = driver.execute_query(\n",
    "        '''\n",
    "        MATCH p=(p1:Person {id:$personId})--()\n",
    "                 ((:!Person)--() ){0,3}\n",
    "                 (p2:Person)\n",
    "        RETURN count(*) AS score, p2.id AS person_id\n",
    "        ORDER BY score DESC LIMIT $limit\n",
    "         ''',\n",
    "        personId=person_id,\n",
    "        limit=5, #just hard code for now\n",
    "        result_transformer_= lambda r: r.data())\n",
    "\n",
    "    return res\n",
    "\n",
    "def find_similarities_between_people(person1_id: str, person2_id: str):\n",
    "    \"\"\"\n",
    "    This function will return potential similarities between people in the form of skill and accomplishment paths.  You can use this as a starting point to find similarities and query the graph further using the various name fields and person ids.\n",
    "    :param person1_id: the id of the first person to compare\n",
    "    :param person2_id: the id of the second person to compare\n",
    "    :return: a list of paths between the two people, each path is a compact ascii string representation.  It should reflect the patterns in the graph schema\n",
    "    \"\"\"\n",
    "    res = driver.execute_query(\n",
    "        '''\n",
    "        MATCH p=(p1:Person {id:$person1_id})--()\n",
    "                 ((:!Person)--() ){0,3}\n",
    "                 (p2:Person{id:$person2_id})\n",
    "        WITH p, nodes(p) as path_nodes, relationships(p) as path_rels, p1, p2\n",
    "        RETURN\n",
    "          \"(\" + labels(path_nodes[0])[0] + \" {name: \\\\\"\" + path_nodes[0].name + \"\\\\\" id: \\\\\"\" + path_nodes[0].id + \"\\\\\"})\" +\n",
    "          reduce(chain = \"\", i IN range(0, size(path_rels)-1) |\n",
    "            chain +\n",
    "            \"-[\" + type(path_rels[i]) + \"]-\" +\n",
    "            \"(\" + labels(path_nodes[i+1])[0] + \" {name: \\\\\"\" + path_nodes[i+1].name +\n",
    "            CASE WHEN \"Person\" IN labels(path_nodes[i+1])\n",
    "                 THEN \"\\\\\" id: \\\\\"\" + path_nodes[i+1].id +\"\\\\\"\"\n",
    "                 ELSE \"\\\\\"\" END + \"})\"\n",
    "          ) as paths ORDER BY p1.id, p2.id\n",
    "         ''',\n",
    "        person1_id=person1_id,\n",
    "        person2_id=person2_id,\n",
    "        result_transformer_= lambda r: r.values())\n",
    "\n",
    "    return res\n",
    "\n",
    "def get_person_resume(person_id: str):\n",
    "    \"\"\"\n",
    "    Gets the full resume of a person\n",
    "    :param person_id: the id of the person\n",
    "    :return: resume text and person name\n",
    "    \"\"\"\n",
    "    res = driver.execute_query(\n",
    "        '''\n",
    "        MATCH (n:Person {id: $personId})\n",
    "        RETURN n.text as resume, n.name AS name\n",
    "         ''',\n",
    "        personId=person_id,\n",
    "        result_transformer_= lambda r: r.data())\n",
    "\n",
    "    return res\n",
    "\n",
    "def get_person_name(person_id: str):\n",
    "    \"\"\"\n",
    "    Gets a person name given their id\n",
    "    :param person_id: the unique id of the person\n",
    "    :return: person name\n",
    "    \"\"\"\n",
    "    res = driver.execute_query(\n",
    "        '''\n",
    "        MATCH (n:Person {id: $personId})\n",
    "        RETURN n.name\n",
    "         ''',\n",
    "        personId=person_id,\n",
    "        result_transformer_= lambda r: r.values())\n",
    "\n",
    "    return res\n",
    "\n",
    "def get_person_ids_from_name(person_name: str):\n",
    "    \"\"\"\n",
    "    Gets all the unique people ids who have the provided name\n",
    "    :param person_name: the name to look up person ids with\n",
    "    :return: person ids that can be used for other tools and queries.  Note that names aren't guaranteed to be unique so you may get more than one person.\n",
    "    \"\"\"\n",
    "    res = driver.execute_query(\n",
    "        '''\n",
    "        MATCH (n:Person {name: $personName})\n",
    "        RETURN n.id\n",
    "         ''',\n",
    "        personName=person_name,\n",
    "        result_transformer_= lambda r: r.values())\n",
    "\n",
    "    return res"
   ],
   "id": "6cc679021165a69e",
   "outputs": [],
   "execution_count": 5
  },
  {
   "metadata": {},
   "cell_type": "markdown",
   "source": [
    "### Tool - Finding Collaborators\n",
    "![](img/collaborators.png)"
   ],
   "id": "f1784764eff11883"
  },
  {
   "metadata": {
    "ExecuteTime": {
     "end_time": "2025-06-05T17:14:26.605795Z",
     "start_time": "2025-06-05T17:14:26.370946Z"
    }
   },
   "cell_type": "code",
   "source": [
    "from person import Domain\n",
    "from typing import List\n",
    "\n",
    "# Additional tool for finding collaborators\n",
    "def find_collaborators_in_domain(domains: List[str]):\n",
    "    f\"\"\"\n",
    "    Finds projects within a given set of domains where multiple people collaborated\n",
    "    along with project details and individual contributions.\n",
    "\n",
    "    It returns detailed information about each project, including the project name,\n",
    "    domain, work type, and the list of collaborators (their names, IDs, and their contributions).\n",
    "\n",
    "    Parameters:\n",
    "        domains (List[Domain]): A list of domains (from the `Domain` enum) to filter\n",
    "                                projects where collaborations occurred. Valid values are: {[i.value for i in Domain]}\n",
    "\n",
    "    Returns:\n",
    "        List[dict]: A list of dictionaries containing project and collaboration details.\n",
    "        Each dictionary has the following structure:\n",
    "        - `projectName` (str): Name of the project.\n",
    "        - `domain` (str): The domain of the project (e.g., \"AI\").\n",
    "        - `workType` (str): The type of work associated with the project (e.g., \"PRODUCT\").\n",
    "        - `people` (List[dict]): A list of collaborators with:\n",
    "            - `name` (str): Name of the person.\n",
    "            - `id` (str): Unique ID of the person.\n",
    "            - `contributions` (List[dict]): Contribution details, including:\n",
    "                - `contribution` (str): The type of contribution (e.g., \"BUILT IT\").\n",
    "                - `roleDetails` (str): Role of the person on the project (e.g., \"AI Consultant\").\n",
    "                - `duration` (str): Time period of the contribution (e.g., \"2022-01-01 - 2023-12-31\").\n",
    "\n",
    "    Example output:\n",
    "        [\n",
    "            {{\n",
    "                \"projectName\": \"Supply Chain Optimization Engine\",\n",
    "                \"domain\": \"AI\",\n",
    "                \"workType\": \"PRODUCT\",\n",
    "                \"people\": [\n",
    "                    {{\n",
    "                        \"name\": \"John Doe\",\n",
    "                        \"id\": \"xRPBlhk9\",\n",
    "                        \"contributions\": [\n",
    "                            {{\n",
    "                                \"contribution\": \"BUILT IT\",\n",
    "                                \"roleDetails\": \"AI Consultant\",\n",
    "                                \"duration\": \"2018-03-01 - 2018-11-30\"\n",
    "                            }}\n",
    "                        ]\n",
    "                    }},\n",
    "                    {{\n",
    "                        \"name\": \"Jane Smith\",\n",
    "                        \"id\": \"kkkMTAId\",\n",
    "                        \"contributions\": [\n",
    "                            {{\n",
    "                                \"contribution\": \"BUILT IT\",\n",
    "                                \"roleDetails\": \"Full-Stack Developer\",\n",
    "                                \"duration\": \"2020-06-01 - 2021-12-31\"\n",
    "                            }}\n",
    "                        ]\n",
    "                    }}\n",
    "                ]\n",
    "            }}\n",
    "        ]\n",
    "\n",
    "    \"\"\"\n",
    "    res = driver.execute_query(\n",
    "        '''\n",
    "        // graph pattern: get collaborates in set of domains\n",
    "        MATCH (p:Person)-[r]->(t:Thing)<-[]-(:Person)\n",
    "        MATCH (t)-[:IN]->(d)\n",
    "        MATCH (t)-[:OF]->(w)\n",
    "        WHERE d.name IN $domains\n",
    "\n",
    "        //format for response\n",
    "        WITH t, d, w, p,\n",
    "        collect({contribution: type(r) + \" IT\", roleDetails: r.role, duration:r.duration}) AS contributions\n",
    "        WITH t.name AS projectName, t.internal_project AS is_internal, d.name AS domain, w.name AS workType, collect({name: p.name, id: p.id, contributions: contributions}) AS people\n",
    "\n",
    "        //return\n",
    "        RETURN projectName, domain, workType, people\n",
    "        ''',\n",
    "        domains=domains,\n",
    "        result_transformer_= lambda r: r.data())\n",
    "\n",
    "    return res\n",
    "\n",
    "find_collaborators_in_domain([Domain.AI])"
   ],
   "id": "fbc0102991dc8493",
   "outputs": [
    {
     "data": {
      "text/plain": [
       "[{'projectName': 'Supply Chain Optimization Engine',\n",
       "  'domain': 'AI',\n",
       "  'workType': 'PRODUCT',\n",
       "  'people': [{'id': 'MhzMrjwz',\n",
       "    'name': 'Robert Johnson',\n",
       "    'contributions': [{'duration': '2018-03-01 - 2018-11-30',\n",
       "      'roleDetails': 'Security Consultant',\n",
       "      'contribution': 'BUILT IT'},\n",
       "     {'duration': '2018-03-01 - 2018-11-30',\n",
       "      'roleDetails': 'Security Consultant',\n",
       "      'contribution': 'BUILT IT'}]},\n",
       "   {'id': 'JSneKsS4',\n",
       "    'name': 'Jennifer Park',\n",
       "    'contributions': [{'duration': '2018-03-01 - 2018-11-30',\n",
       "      'roleDetails': 'Data Engineering Lead',\n",
       "      'contribution': 'LED IT'},\n",
       "     {'duration': '2018-03-01 - 2018-11-30',\n",
       "      'roleDetails': 'Data Engineering Lead',\n",
       "      'contribution': 'LED IT'}]},\n",
       "   {'id': 'xRPBlhk9',\n",
       "    'name': 'Sarah Chen',\n",
       "    'contributions': [{'duration': '2018-03-01 - 2018-11-30',\n",
       "      'roleDetails': 'AI Consultant',\n",
       "      'contribution': 'BUILT IT'},\n",
       "     {'duration': '2018-03-01 - 2018-11-30',\n",
       "      'roleDetails': 'AI Consultant',\n",
       "      'contribution': 'BUILT IT'}]}]},\n",
       " {'projectName': 'Edge Computing AI Platform',\n",
       "  'domain': 'AI',\n",
       "  'workType': 'INFRASTRUCTURE',\n",
       "  'people': [{'id': 'xRPBlhk9',\n",
       "    'name': 'Sarah Chen',\n",
       "    'contributions': [{'duration': '2022-01-01 - 2023-12-31',\n",
       "      'roleDetails': 'Principal Architect',\n",
       "      'contribution': 'BUILT IT'},\n",
       "     {'duration': '2022-01-01 - 2023-12-31',\n",
       "      'roleDetails': 'Principal Architect',\n",
       "      'contribution': 'BUILT IT'}]},\n",
       "   {'id': 'WWdJ3ABQ',\n",
       "    'name': 'David Kim',\n",
       "    'contributions': [{'duration': '2022-01-01 - 2023-12-31',\n",
       "      'roleDetails': 'Infrastructure Lead',\n",
       "      'contribution': 'LED IT'},\n",
       "     {'duration': '2022-01-01 - 2023-12-31',\n",
       "      'roleDetails': 'Infrastructure Lead',\n",
       "      'contribution': 'LED IT'}]},\n",
       "   {'id': 'UhZn6uYW',\n",
       "    'name': 'Dr. Amanda Foster',\n",
       "    'contributions': [{'duration': '2022-01-01 - 2023-12-31',\n",
       "      'roleDetails': 'Research Advisor',\n",
       "      'contribution': 'BUILT IT'},\n",
       "     {'duration': '2022-01-01 - 2023-12-31',\n",
       "      'roleDetails': 'Research Advisor',\n",
       "      'contribution': 'BUILT IT'}]}]},\n",
       " {'projectName': 'Quantum-Classical Hybrid Research',\n",
       "  'domain': 'AI',\n",
       "  'workType': 'RESEARCH',\n",
       "  'people': [{'id': 'xRPBlhk9',\n",
       "    'name': 'Sarah Chen',\n",
       "    'contributions': [{'duration': '2024-01-01 - present',\n",
       "      'roleDetails': 'Research Lead',\n",
       "      'contribution': 'LED IT'}]},\n",
       "   {'id': 'UhZn6uYW',\n",
       "    'name': 'Dr. Amanda Foster',\n",
       "    'contributions': [{'duration': '2024-01-01 - present',\n",
       "      'roleDetails': 'Research Collaborator',\n",
       "      'contribution': 'BUILT IT'}]}]},\n",
       " {'projectName': 'AI Ethics Governance Framework',\n",
       "  'domain': 'AI',\n",
       "  'workType': 'RESEARCH',\n",
       "  'people': [{'id': 'UhZn6uYW',\n",
       "    'name': 'Dr. Amanda Foster',\n",
       "    'contributions': [{'duration': '2021-01-01 - present',\n",
       "      'roleDetails': 'Research Director',\n",
       "      'contribution': 'LED IT'}]},\n",
       "   {'id': 'ZIMWCRHs',\n",
       "    'name': 'Lisa Wang',\n",
       "    'contributions': [{'duration': '2021-01-01 - present',\n",
       "      'roleDetails': 'Data Ethics Collaborator',\n",
       "      'contribution': 'BUILT IT'}]}]}]"
      ]
     },
     "execution_count": 6,
     "metadata": {},
     "output_type": "execute_result"
    }
   ],
   "execution_count": 6
  },
  {
   "metadata": {
    "ExecuteTime": {
     "end_time": "2025-06-05T17:14:30.661643Z",
     "start_time": "2025-06-05T17:14:26.612776Z"
    }
   },
   "cell_type": "code",
   "source": [
    "from AgentRunner import AgentRunner\n",
    "# build adk agent with neo4j mcp\n",
    "from person import Domain, WorkType, SkillName\n",
    "from google.adk.models.lite_llm import LiteLlm\n",
    "from google.adk.agents import Agent\n",
    "from google.adk.tools.mcp_tool.mcp_toolset import MCPToolset, StdioServerParameters\n",
    "\n",
    "talent_agent = Agent(\n",
    "    name=\"talent_agent\",\n",
    "    # model=\"gemini-2.0-flash-exp\",\n",
    "    model=LiteLlm(model=\"openai/gpt-4.1\"),\n",
    "    # model=LiteLlm(model=\"anthropic/claude-sonnet-4-20250514\"),\n",
    "    description=\"\"\"\n",
    "    Knowledge assistant for skills analysis, search, and team formation\n",
    "    \"\"\",\n",
    "    instruction=f\"\"\"\n",
    "    You are a human resources assistant who helps with skills analysis, talent search, and team formation at Cyberdyne Systems.\n",
    "\n",
    "    Your tools retrieve data from internal knowledge on Cyberdyne System employees based on their resume and profiles.\n",
    "\n",
    "    Try to prioritize expert tools (those other than `read_neo4j_cypher`) as appropriate since they have expert approved logic for access data. Though you may need to directly access data afterwards to pull more details.\n",
    "\n",
    "\n",
    "    When you need more flexible logic for aggregations, follow-up or anything else, you can access the knowledge (in a graph database) directly. ALWAYS get the schema first with `get_schema` and keep it in memory. Only use node labels, relationship types, and property names, and patterns in that schema to generate valid Cypher queries using the `read_neo4j_cypher` tool with proper parameter syntax ($parameter). If you get errors or empty results check the schema and try again at least up to 3 times.\n",
    "\n",
    "    For domain knowledge, use these standard values:\n",
    "    - Domains: {[i.value for i in Domain]}\n",
    "    - Work Types: {[i.value for i in WorkType]}\n",
    "    - Skills: {[i.value for i in SkillName]}\n",
    "\n",
    "    Also never return embedding properties in Cypher queries. This will result in delays and errors.\n",
    "\n",
    "    When responding to the user:\n",
    "    - if your response includes people, include there names and IDs. Never just there Ids.\n",
    "    - You must explain your retrieval logic and where the data came from. You must say exactly how relevance, similarity, etc. was inferred during search\n",
    "\n",
    "    Use information from previous queries when possible instead of asking the user again.\n",
    "    \"\"\",\n",
    "    tools=[find_similar_people,\n",
    "           find_similarities_between_people,\n",
    "           get_person_name,\n",
    "           get_person_resume,\n",
    "           get_person_ids_from_name,\n",
    "           find_collaborators_in_domain,\n",
    "           MCPToolset(\n",
    "        connection_params=StdioServerParameters(\n",
    "            command='uvx',\n",
    "            args=[\n",
    "                \"mcp-neo4j-cypher\",\n",
    "            ],\n",
    "            env={ k: os.environ[k] for k in [\"NEO4J_URI\",\"NEO4J_USERNAME\",\"NEO4J_PASSWORD\"] }\n",
    "        ),\n",
    "        tool_filter=['get_neo4j_schema','read_neo4j_cypher']\n",
    "    )]\n",
    ")\n",
    "\n",
    "talent_agent_runner = AgentRunner(app_name='talent_agent', user_id='Mr. Ed', agent=talent_agent)\n",
    "await talent_agent_runner.start_session()"
   ],
   "id": "18c9b4a241666992",
   "outputs": [
    {
     "name": "stdout",
     "output_type": "stream",
     "text": [
      "Session started successfully with ID: 1f14633c-432d-457c-a1fa-4495891790c3\n"
     ]
    },
    {
     "data": {
      "text/plain": [
       "True"
      ]
     },
     "execution_count": 7,
     "metadata": {},
     "output_type": "execute_result"
    }
   ],
   "execution_count": 7
  },
  {
   "metadata": {
    "ExecuteTime": {
     "end_time": "2025-06-05T17:14:42.949621Z",
     "start_time": "2025-06-05T17:14:30.672774Z"
    }
   },
   "cell_type": "code",
   "source": "res = await talent_agent_runner.run(\"Which individuals have collaborated with each other to deliver the most AI Things?\")",
   "id": "386cb9fc68dd5ecc",
   "outputs": [
    {
     "name": "stdout",
     "output_type": "stream",
     "text": [
      "None id='call_xmp0Y9NgmrlfUEzp62vwgErw' args={'domains': ['AI']} name='find_collaborators_in_domain' None\n",
      "None None will_continue=None scheduling=None id='call_xmp0Y9NgmrlfUEzp62vwgErw' name='find_collaborators_in_domain' response={'result': [{'projectName': 'Supply Chain Optimization Engine', 'domain': 'AI', 'workType': 'PRODUCT', 'people': [{'id': 'MhzMrjwz', 'name': 'Robert Johnson', 'contributions': [{'duration': '2018-03-01 - 2018-11-30', 'roleDetails': 'Security Consultant', 'contribution': 'BUILT IT'}, {'duration': '2018-03-01 - 2018-11-30', 'roleDetails': 'Security Consultant', 'contribution': 'BUILT IT'}]}, {'id': 'JSneKsS4', 'name': 'Jennifer Park', 'contributions': [{'duration': '2018-03-01 - 2018-11-30', 'roleDetails': 'Data Engineering Lead', 'contribution': 'LED IT'}, {'duration': '2018-03-01 - 2018-11-30', 'roleDetails': 'Data Engineering Lead', 'contribution': 'LED IT'}]}, {'id': 'xRPBlhk9', 'name': 'Sarah Chen', 'contributions': [{'duration': '2018-03-01 - 2018-11-30', 'roleDetails': 'AI Consultant', 'contribution': 'BUILT IT'}, {'duration': '2018-03-01 - 2018-11-30', 'roleDetails': 'AI Consultant', 'contribution': 'BUILT IT'}]}]}, {'projectName': 'Edge Computing AI Platform', 'domain': 'AI', 'workType': 'INFRASTRUCTURE', 'people': [{'id': 'xRPBlhk9', 'name': 'Sarah Chen', 'contributions': [{'duration': '2022-01-01 - 2023-12-31', 'roleDetails': 'Principal Architect', 'contribution': 'BUILT IT'}, {'duration': '2022-01-01 - 2023-12-31', 'roleDetails': 'Principal Architect', 'contribution': 'BUILT IT'}]}, {'id': 'WWdJ3ABQ', 'name': 'David Kim', 'contributions': [{'duration': '2022-01-01 - 2023-12-31', 'roleDetails': 'Infrastructure Lead', 'contribution': 'LED IT'}, {'duration': '2022-01-01 - 2023-12-31', 'roleDetails': 'Infrastructure Lead', 'contribution': 'LED IT'}]}, {'id': 'UhZn6uYW', 'name': 'Dr. Amanda Foster', 'contributions': [{'duration': '2022-01-01 - 2023-12-31', 'roleDetails': 'Research Advisor', 'contribution': 'BUILT IT'}, {'duration': '2022-01-01 - 2023-12-31', 'roleDetails': 'Research Advisor', 'contribution': 'BUILT IT'}]}]}, {'projectName': 'Quantum-Classical Hybrid Research', 'domain': 'AI', 'workType': 'RESEARCH', 'people': [{'id': 'xRPBlhk9', 'name': 'Sarah Chen', 'contributions': [{'duration': '2024-01-01 - present', 'roleDetails': 'Research Lead', 'contribution': 'LED IT'}]}, {'id': 'UhZn6uYW', 'name': 'Dr. Amanda Foster', 'contributions': [{'duration': '2024-01-01 - present', 'roleDetails': 'Research Collaborator', 'contribution': 'BUILT IT'}]}]}, {'projectName': 'AI Ethics Governance Framework', 'domain': 'AI', 'workType': 'RESEARCH', 'people': [{'id': 'UhZn6uYW', 'name': 'Dr. Amanda Foster', 'contributions': [{'duration': '2021-01-01 - present', 'roleDetails': 'Research Director', 'contribution': 'LED IT'}]}, {'id': 'ZIMWCRHs', 'name': 'Lisa Wang', 'contributions': [{'duration': '2021-01-01 - present', 'roleDetails': 'Data Ethics Collaborator', 'contribution': 'BUILT IT'}]}]}]}\n",
      "To determine which individuals have collaborated most often to deliver AI-related projects (\"AI Things\"), I investigated collaborations within the \"AI\" domain using expert-driven internal logic that identifies project team compositions.\n",
      "\n",
      "Here’s what the data reveals:\n",
      "\n",
      "Most Frequent Collaborators on AI Projects:\n",
      "- Sarah Chen (ID: xRPBlhk9) and Dr. Amanda Foster (ID: UhZn6uYW) have collaborated together on two major AI projects:\n",
      "   1. Edge Computing AI Platform (Sarah as Principal Architect, Dr. Foster as Research Advisor, 2022–2023)\n",
      "   2. Quantum-Classical Hybrid Research (Sarah as Research Lead, Dr. Foster as Research Collaborator, 2024–present)\n",
      "\n",
      "Other Notable Collaborations:\n",
      "- The Supply Chain Optimization Engine was delivered by Robert Johnson (ID: MhzMrjwz), Jennifer Park (ID: JSneKsS4), and Sarah Chen (ID: xRPBlhk9) working as a team.\n",
      "- The AI Ethics Governance Framework involved Dr. Amanda Foster (ID: UhZn6uYW) and Lisa Wang (ID: ZIMWCRHs) working together.\n",
      "\n",
      "Summary:\n",
      "Sarah Chen and Dr. Amanda Foster are the top pair, having repeatedly teamed up for prominent AI projects across several years.\n",
      "\n",
      "This conclusion was drawn by extracting project contributor data tied to the AI domain, tallying repeated collaborations, and prioritizing pairs with the most frequent shared project delivery records. The information comes directly from Cyberdyne System’s internal project and contributor relationship data. None None\n"
     ]
    }
   ],
   "execution_count": 8
  },
  {
   "metadata": {
    "ExecuteTime": {
     "end_time": "2025-06-05T17:14:42.955663Z",
     "start_time": "2025-06-05T17:14:42.952923Z"
    }
   },
   "cell_type": "code",
   "source": [
    "from IPython.core.display import Markdown\n",
    "\n",
    "display(Markdown(res))"
   ],
   "id": "116e0c8867e633d5",
   "outputs": [
    {
     "data": {
      "text/plain": [
       "<IPython.core.display.Markdown object>"
      ],
      "text/markdown": "To determine which individuals have collaborated most often to deliver AI-related projects (\"AI Things\"), I investigated collaborations within the \"AI\" domain using expert-driven internal logic that identifies project team compositions.\n\nHere’s what the data reveals:\n\nMost Frequent Collaborators on AI Projects:\n- Sarah Chen (ID: xRPBlhk9) and Dr. Amanda Foster (ID: UhZn6uYW) have collaborated together on two major AI projects:\n   1. Edge Computing AI Platform (Sarah as Principal Architect, Dr. Foster as Research Advisor, 2022–2023)\n   2. Quantum-Classical Hybrid Research (Sarah as Research Lead, Dr. Foster as Research Collaborator, 2024–present)\n\nOther Notable Collaborations:\n- The Supply Chain Optimization Engine was delivered by Robert Johnson (ID: MhzMrjwz), Jennifer Park (ID: JSneKsS4), and Sarah Chen (ID: xRPBlhk9) working as a team.\n- The AI Ethics Governance Framework involved Dr. Amanda Foster (ID: UhZn6uYW) and Lisa Wang (ID: ZIMWCRHs) working together.\n\nSummary:\nSarah Chen and Dr. Amanda Foster are the top pair, having repeatedly teamed up for prominent AI projects across several years.\n\nThis conclusion was drawn by extracting project contributor data tied to the AI domain, tallying repeated collaborations, and prioritizing pairs with the most frequent shared project delivery records. The information comes directly from Cyberdyne System’s internal project and contributor relationship data."
     },
     "metadata": {},
     "output_type": "display_data"
    }
   ],
   "execution_count": 9
  },
  {
   "metadata": {
    "ExecuteTime": {
     "end_time": "2025-06-05T17:14:42.972839Z",
     "start_time": "2025-06-05T17:14:42.968775Z"
    }
   },
   "cell_type": "code",
   "source": "await talent_agent_runner.end_session()",
   "id": "632519d385e827a",
   "outputs": [
    {
     "name": "stdout",
     "output_type": "stream",
     "text": [
      "Session 1f14633c-432d-457c-a1fa-4495891790c3 ended successfully\n"
     ]
    },
    {
     "data": {
      "text/plain": [
       "True"
      ]
     },
     "execution_count": 10,
     "metadata": {},
     "output_type": "execute_result"
    }
   ],
   "execution_count": 10
  }
 ],
 "metadata": {
  "kernelspec": {
   "display_name": "Python 3",
   "language": "python",
   "name": "python3"
  },
  "language_info": {
   "codemirror_mode": {
    "name": "ipython",
    "version": 2
   },
   "file_extension": ".py",
   "mimetype": "text/x-python",
   "name": "python",
   "nbconvert_exporter": "python",
   "pygments_lexer": "ipython2",
   "version": "2.7.6"
  }
 },
 "nbformat": 4,
 "nbformat_minor": 5
}
